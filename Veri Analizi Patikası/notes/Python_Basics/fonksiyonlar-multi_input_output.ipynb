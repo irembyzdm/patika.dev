{
 "cells": [
  {
   "cell_type": "markdown",
   "id": "3492f2ab-236f-40cc-9a0c-a22dac9a046a",
   "metadata": {},
   "source": [
    "# Birden Çok Input"
   ]
  },
  {
   "cell_type": "code",
   "execution_count": 1,
   "id": "5f2e4f23-a20a-4e7a-aee7-db31e217cd22",
   "metadata": {},
   "outputs": [],
   "source": [
    "def power(x, y):\n",
    "\n",
    "    return x ** y"
   ]
  },
  {
   "cell_type": "code",
   "execution_count": 2,
   "id": "2312f3e1-67e7-44ce-9a9d-eadafa0097bd",
   "metadata": {},
   "outputs": [
    {
     "data": {
      "text/plain": [
       "8"
      ]
     },
     "execution_count": 2,
     "metadata": {},
     "output_type": "execute_result"
    }
   ],
   "source": [
    "power(2,3)"
   ]
  },
  {
   "cell_type": "markdown",
   "id": "6b9244d8-a0c7-4d5a-9367-fdfdc247be1a",
   "metadata": {},
   "source": [
    "# Birden Çok Değer Döndüren Fonksiyonlar"
   ]
  },
  {
   "cell_type": "code",
   "execution_count": 3,
   "id": "e982eff5-43d1-46b5-83da-e238ef3db255",
   "metadata": {},
   "outputs": [],
   "source": [
    "def f(x):\n",
    "\n",
    "    return 2*x, 10*x"
   ]
  },
  {
   "cell_type": "code",
   "execution_count": 4,
   "id": "776a999f-0c66-4ab0-9bc2-c799cab70255",
   "metadata": {},
   "outputs": [
    {
     "data": {
      "text/plain": [
       "(20, 100)"
      ]
     },
     "execution_count": 4,
     "metadata": {},
     "output_type": "execute_result"
    }
   ],
   "source": [
    "f(10)"
   ]
  },
  {
   "cell_type": "markdown",
   "id": "e543b522-aec7-4b7e-9464-5a997a8b3335",
   "metadata": {},
   "source": [
    "* Bana sonucu tuple olarak döndürdü.\n",
    "\n",
    "* Variable unpacking kısımda gördüğümüz gibi bu iki değeri farklı değişkenlere eşitleyebilirim."
   ]
  },
  {
   "cell_type": "code",
   "execution_count": 5,
   "id": "acaa33b6-803a-429f-9e3d-386638cb1383",
   "metadata": {},
   "outputs": [],
   "source": [
    "a, b = f(10)"
   ]
  },
  {
   "cell_type": "code",
   "execution_count": 6,
   "id": "1bf6093c-623b-4dfd-8d9e-c3f625ba5781",
   "metadata": {},
   "outputs": [
    {
     "data": {
      "text/plain": [
       "20"
      ]
     },
     "execution_count": 6,
     "metadata": {},
     "output_type": "execute_result"
    }
   ],
   "source": [
    "a"
   ]
  },
  {
   "cell_type": "code",
   "execution_count": 7,
   "id": "70acc253-fe15-43c4-bb7d-fea2c80496ba",
   "metadata": {},
   "outputs": [
    {
     "data": {
      "text/plain": [
       "100"
      ]
     },
     "execution_count": 7,
     "metadata": {},
     "output_type": "execute_result"
    }
   ],
   "source": [
    "b"
   ]
  },
  {
   "cell_type": "code",
   "execution_count": 8,
   "id": "3c09327e-a4fc-4218-b36b-b15c31c3872e",
   "metadata": {},
   "outputs": [],
   "source": [
    "def f(x, y):\n",
    "    return 2*x*y, (10*x)**y"
   ]
  },
  {
   "cell_type": "code",
   "execution_count": 9,
   "id": "5c88097d-e4f9-4b41-bf67-a9bfe25a8069",
   "metadata": {},
   "outputs": [
    {
     "data": {
      "text/plain": [
       "(40, 10000)"
      ]
     },
     "execution_count": 9,
     "metadata": {},
     "output_type": "execute_result"
    }
   ],
   "source": [
    "f(10,2)"
   ]
  },
  {
   "cell_type": "code",
   "execution_count": 10,
   "id": "0087116f-1c3a-4ab8-ab88-320160012fcd",
   "metadata": {},
   "outputs": [],
   "source": [
    "def f(x,y):\n",
    "    w=x+2\n",
    "    b=y+3\n",
    "    return w,b"
   ]
  },
  {
   "cell_type": "code",
   "execution_count": 11,
   "id": "b6510bfe-04b4-406d-b55c-91a09d071d92",
   "metadata": {},
   "outputs": [
    {
     "data": {
      "text/plain": [
       "(16, 20)"
      ]
     },
     "execution_count": 11,
     "metadata": {},
     "output_type": "execute_result"
    }
   ],
   "source": [
    "f(14,17)"
   ]
  },
  {
   "cell_type": "code",
   "execution_count": null,
   "id": "abeacd77-c0b8-45b0-b8c2-5480b4ae3d3c",
   "metadata": {},
   "outputs": [],
   "source": []
  }
 ],
 "metadata": {
  "kernelspec": {
   "display_name": "Python 3 (ipykernel)",
   "language": "python",
   "name": "python3"
  },
  "language_info": {
   "codemirror_mode": {
    "name": "ipython",
    "version": 3
   },
   "file_extension": ".py",
   "mimetype": "text/x-python",
   "name": "python",
   "nbconvert_exporter": "python",
   "pygments_lexer": "ipython3",
   "version": "3.11.4"
  }
 },
 "nbformat": 4,
 "nbformat_minor": 5
}
