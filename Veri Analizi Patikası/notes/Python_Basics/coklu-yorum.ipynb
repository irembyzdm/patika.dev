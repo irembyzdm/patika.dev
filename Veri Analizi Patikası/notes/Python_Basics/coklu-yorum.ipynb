{
 "cells": [
  {
   "cell_type": "markdown",
   "id": "acd0838b-5c9f-4e3a-b117-96aca2b148bf",
   "metadata": {},
   "source": [
    "#  Çok Satırı Kapsayan Yorum Yazmak"
   ]
  },
  {
   "cell_type": "code",
   "execution_count": 3,
   "id": "2f57eda3-d44b-44bd-b170-8bbf9123d19e",
   "metadata": {},
   "outputs": [
    {
     "name": "stdout",
     "output_type": "stream",
     "text": [
      "14\n"
     ]
    }
   ],
   "source": [
    "\"\"\"\n",
    "limon değişkeni satılan limmonları ifade ediyor\n",
    "\n",
    "sonuc değişkeni bir haftada kaç limon satıldığını belirtiyor.\n",
    "\"\"\"\n",
    "\n",
    "limon = 2\n",
    "sonuc = limon * 7\n",
    "print(sonuc)"
   ]
  },
  {
   "cell_type": "code",
   "execution_count": null,
   "id": "8f1b77a5-73b8-4f1f-bc8f-0e2e2ac4a938",
   "metadata": {},
   "outputs": [],
   "source": []
  }
 ],
 "metadata": {
  "kernelspec": {
   "display_name": "Python 3 (ipykernel)",
   "language": "python",
   "name": "python3"
  },
  "language_info": {
   "codemirror_mode": {
    "name": "ipython",
    "version": 3
   },
   "file_extension": ".py",
   "mimetype": "text/x-python",
   "name": "python",
   "nbconvert_exporter": "python",
   "pygments_lexer": "ipython3",
   "version": "3.11.4"
  }
 },
 "nbformat": 4,
 "nbformat_minor": 5
}
