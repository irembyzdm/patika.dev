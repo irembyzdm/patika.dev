{
 "cells": [
  {
   "cell_type": "markdown",
   "id": "60176fb9-de06-4a4c-91da-cd1ca087da82",
   "metadata": {},
   "source": [
    "# Magic Methods"
   ]
  },
  {
   "cell_type": "markdown",
   "id": "9c2269b4-6eaf-4dfa-a8a0-3b94ca76c067",
   "metadata": {},
   "source": [
    "* *Magic Method*'ları kullanarak bazı built-in davranışları değiştirebiliriz. Magic Method'lar ___ ile çevrilidir. Bunlara dunder method da denir."
   ]
  },
  {
   "cell_type": "code",
   "execution_count": 3,
   "id": "c8436be8-5b18-4ba4-9145-69c837a9f823",
   "metadata": {},
   "outputs": [],
   "source": [
    "class Employee:\n",
    "\n",
    "    raise_percent = 1.05\n",
    "    num_emp = 0\n",
    "\n",
    "    def __init__(self, name, last, age, pay):\n",
    "        self.name = name\n",
    "        self.last = last\n",
    "        self.age = age\n",
    "        self.pay = pay\n",
    "        Employee.num_emp += 1\n",
    "\n",
    "    def apply_raise(self):\n",
    "        self.pay = self.pay * self.raise_percent"
   ]
  },
  {
   "cell_type": "code",
   "execution_count": 4,
   "id": "9efe0c86-15da-4ac5-8c82-9598c21ef25d",
   "metadata": {},
   "outputs": [],
   "source": [
    "emp_1 = Employee(\"James\", \"Hughes\", \"32\", 5000)"
   ]
  },
  {
   "cell_type": "code",
   "execution_count": 5,
   "id": "7ed9d777-b37f-46ef-bbe5-b22911e4aea0",
   "metadata": {},
   "outputs": [],
   "source": [
    "emp_2 = Employee(\"Charlie\", \"Brown\", \"22\", 3000)"
   ]
  },
  {
   "cell_type": "markdown",
   "id": "12f7e393-6f0b-4f56-b717-259f54244302",
   "metadata": {},
   "source": [
    "# ____init____()"
   ]
  },
  {
   "cell_type": "markdown",
   "id": "59504c0b-a6bd-4ecf-9106-36876619d0a9",
   "metadata": {},
   "source": [
    "emp_1 = Employee(\"James\",...) gibi class'dan obje oluşturma kısmında çağrılır. Class(...) formatında input olarak verilenleri argüman olarak kendine alır."
   ]
  },
  {
   "cell_type": "markdown",
   "id": "f67c1823-2824-42c2-afee-16b6edaec84d",
   "metadata": {},
   "source": [
    "# __str__()"
   ]
  },
  {
   "cell_type": "markdown",
   "id": "5e44dc02-a977-42a7-9f61-d554a4c63406",
   "metadata": {},
   "source": [
    "* Objenin okunabilir bir tanımını oluştururuz."
   ]
  },
  {
   "cell_type": "code",
   "execution_count": 1,
   "id": "79ab8a69-cc61-4564-8bf9-e9022f84faa4",
   "metadata": {},
   "outputs": [],
   "source": [
    "class Employee:\n",
    "\n",
    "    raise_percent = 1.05\n",
    "    num_emp = 0\n",
    "\n",
    "    def __init__(self, name, last, age, pay):\n",
    "        self.name = name\n",
    "        self.last = last\n",
    "        self.age = age\n",
    "        self.pay = pay\n",
    "        Employee.num_emp += 1\n",
    "\n",
    "    def apply_raise(self):\n",
    "        self.pay = self.pay * self.raise_percent\n",
    "\n",
    "    def __str__(self):\n",
    "        return f\"Employee(name={self.name}, last={self.last}, age={self.age}, pay={self.pay})\""
   ]
  },
  {
   "cell_type": "code",
   "execution_count": 2,
   "id": "102545c7-9984-4bee-b64a-064cb406c4a5",
   "metadata": {},
   "outputs": [],
   "source": [
    "emp_1 = Employee(\"James\", \"Hughes\", \"32\", 5000)"
   ]
  },
  {
   "cell_type": "code",
   "execution_count": 3,
   "id": "4d06498e-149e-47c9-87b6-a498cdf112e1",
   "metadata": {},
   "outputs": [
    {
     "name": "stdout",
     "output_type": "stream",
     "text": [
      "Employee(name=James, last=Hughes, age=32, pay=5000)\n"
     ]
    }
   ],
   "source": [
    "print(emp_1)"
   ]
  },
  {
   "cell_type": "markdown",
   "id": "7d65fc30-aa7c-43f2-a5bb-1cb47366ba01",
   "metadata": {},
   "source": [
    "# __add__()"
   ]
  },
  {
   "cell_type": "code",
   "execution_count": 4,
   "id": "1ab6d509-871f-4995-9804-97ab15dc01aa",
   "metadata": {},
   "outputs": [],
   "source": [
    "class Employee:\n",
    "\n",
    "    raise_percent = 1.05\n",
    "    num_emp = 0\n",
    "\n",
    "    def __init__(self, name, last, age, pay):\n",
    "        self.name = name\n",
    "        self.last = last\n",
    "        self.age = age\n",
    "        self.pay = pay\n",
    "        Employee.num_emp += 1\n",
    "\n",
    "    def apply_raise(self):\n",
    "        self.pay = self.pay * self.raise_percent\n",
    "\n",
    "    def __str__(self):\n",
    "        return f\"Employee(name={self.name}, last={self.last}, age={self.age}, pay={self.pay})\"\n",
    "\n",
    "    def __add__(self, other):\n",
    "        return self.pay + other.pay"
   ]
  },
  {
   "cell_type": "code",
   "execution_count": 5,
   "id": "85c875f4-4429-4d17-b60a-56246287cb58",
   "metadata": {},
   "outputs": [],
   "source": [
    "emp_1 = Employee(\"James\", \"Hughes\", \"32\", 5000)"
   ]
  },
  {
   "cell_type": "code",
   "execution_count": 6,
   "id": "9faa3624-dd1c-444e-93d2-1a7a8f970540",
   "metadata": {},
   "outputs": [],
   "source": [
    "emp_2 = Employee(\"Charlie\", \"Brown\", \"22\", 3000)"
   ]
  },
  {
   "cell_type": "code",
   "execution_count": 7,
   "id": "3be78871-88f8-40e6-873b-be98e7f22ee2",
   "metadata": {},
   "outputs": [
    {
     "data": {
      "text/plain": [
       "8000"
      ]
     },
     "execution_count": 7,
     "metadata": {},
     "output_type": "execute_result"
    }
   ],
   "source": [
    "emp_1 + emp_2"
   ]
  },
  {
   "cell_type": "markdown",
   "id": "db85d270-b565-45de-8bb3-0c4e3fedf105",
   "metadata": {},
   "source": [
    "# __len__()"
   ]
  },
  {
   "cell_type": "code",
   "execution_count": 9,
   "id": "9ee490a7-44c2-4a3c-8d21-13f793af0872",
   "metadata": {},
   "outputs": [],
   "source": [
    "class Employee:\n",
    "\n",
    "    raise_percent = 1.05\n",
    "    num_emp = 0\n",
    "\n",
    "    def __init__(self, name, last, age, pay):\n",
    "        self.name = name\n",
    "        self.last = last\n",
    "        self.age = age\n",
    "        self.pay = pay\n",
    "        Employee.num_emp += 1\n",
    "\n",
    "    def apply_raise(self):\n",
    "        self.pay = self.pay * self.raise_percent\n",
    "\n",
    "    def __str__(self):\n",
    "        return f\"Employee(name={self.name}, last={self.last}, age={self.age}, pay={self.pay})\"\n",
    "\n",
    "    def __add__(self, other):\n",
    "        return self.pay + other.pay\n",
    "\n",
    "    def __len__(self):\n",
    "        return len(self.name)"
   ]
  },
  {
   "cell_type": "code",
   "execution_count": 10,
   "id": "f841125c-c120-4981-a502-0c93ae275fbf",
   "metadata": {},
   "outputs": [],
   "source": [
    "emp_1 = Employee(\"James\", \"Hughes\", \"32\", 5000)"
   ]
  },
  {
   "cell_type": "code",
   "execution_count": 11,
   "id": "f7afa16a-fa46-40f3-a7e4-dbef76e0fc17",
   "metadata": {},
   "outputs": [],
   "source": [
    "emp_2 = Employee(\"Charlie\", \"Brown\", \"22\", 3000)"
   ]
  },
  {
   "cell_type": "code",
   "execution_count": 12,
   "id": "b9a7e1f6-1366-4d9a-904a-071a0664ef78",
   "metadata": {},
   "outputs": [
    {
     "data": {
      "text/plain": [
       "5"
      ]
     },
     "execution_count": 12,
     "metadata": {},
     "output_type": "execute_result"
    }
   ],
   "source": [
    "len(emp_1)"
   ]
  },
  {
   "cell_type": "code",
   "execution_count": 13,
   "id": "bc51560f-70aa-4b9f-9ff1-32154b6d8975",
   "metadata": {},
   "outputs": [
    {
     "data": {
      "text/plain": [
       "7"
      ]
     },
     "execution_count": 13,
     "metadata": {},
     "output_type": "execute_result"
    }
   ],
   "source": [
    "len(emp_2)"
   ]
  },
  {
   "cell_type": "code",
   "execution_count": null,
   "id": "6cc18739-122f-4daa-ab07-5b93e309480f",
   "metadata": {},
   "outputs": [],
   "source": []
  }
 ],
 "metadata": {
  "kernelspec": {
   "display_name": "Python 3 (ipykernel)",
   "language": "python",
   "name": "python3"
  },
  "language_info": {
   "codemirror_mode": {
    "name": "ipython",
    "version": 3
   },
   "file_extension": ".py",
   "mimetype": "text/x-python",
   "name": "python",
   "nbconvert_exporter": "python",
   "pygments_lexer": "ipython3",
   "version": "3.11.4"
  }
 },
 "nbformat": 4,
 "nbformat_minor": 5
}
