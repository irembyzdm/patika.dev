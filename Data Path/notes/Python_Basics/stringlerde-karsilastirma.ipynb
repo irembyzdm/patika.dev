{
 "cells": [
  {
   "cell_type": "markdown",
   "id": "6cd28a75-3a33-4667-88e1-84c850976691",
   "metadata": {},
   "source": [
    "# Stringlerde Karşılaştırma"
   ]
  },
  {
   "cell_type": "code",
   "execution_count": 1,
   "id": "c18d3f02-5020-4b6e-b969-33bf44ee71a4",
   "metadata": {},
   "outputs": [
    {
     "data": {
      "text/plain": [
       "False"
      ]
     },
     "execution_count": 1,
     "metadata": {},
     "output_type": "execute_result"
    }
   ],
   "source": [
    "\"Elma\" == \"elma\""
   ]
  },
  {
   "cell_type": "code",
   "execution_count": 2,
   "id": "87d7779e-bd5f-45a4-97fb-3c458089ed50",
   "metadata": {},
   "outputs": [
    {
     "data": {
      "text/plain": [
       "True"
      ]
     },
     "execution_count": 2,
     "metadata": {},
     "output_type": "execute_result"
    }
   ],
   "source": [
    "\"Elma\" != \"elma\""
   ]
  },
  {
   "cell_type": "code",
   "execution_count": 3,
   "id": "4091c7e4-5746-4c92-8876-19ce759ba751",
   "metadata": {},
   "outputs": [
    {
     "data": {
      "text/plain": [
       "True"
      ]
     },
     "execution_count": 3,
     "metadata": {},
     "output_type": "execute_result"
    }
   ],
   "source": [
    "\"elma\" == \"elma\""
   ]
  },
  {
   "cell_type": "code",
   "execution_count": 4,
   "id": "70c6b2b5-c34e-43b0-b57d-e5eb6f3a7074",
   "metadata": {},
   "outputs": [],
   "source": [
    "a = \"elma\""
   ]
  },
  {
   "cell_type": "code",
   "execution_count": 5,
   "id": "3415ab65-9831-4e70-9dc8-b4925d69989c",
   "metadata": {},
   "outputs": [],
   "source": [
    "b = \"elma\""
   ]
  },
  {
   "cell_type": "code",
   "execution_count": 6,
   "id": "53bced39-93b0-4dd6-a295-881228749df5",
   "metadata": {},
   "outputs": [
    {
     "data": {
      "text/plain": [
       "True"
      ]
     },
     "execution_count": 6,
     "metadata": {},
     "output_type": "execute_result"
    }
   ],
   "source": [
    "a == b"
   ]
  },
  {
   "cell_type": "code",
   "execution_count": 7,
   "id": "90bda2b9-4b55-4a92-bc0d-65d2d1e86240",
   "metadata": {},
   "outputs": [
    {
     "data": {
      "text/plain": [
       "True"
      ]
     },
     "execution_count": 7,
     "metadata": {},
     "output_type": "execute_result"
    }
   ],
   "source": [
    "\"a\" < \"b\""
   ]
  },
  {
   "cell_type": "code",
   "execution_count": 8,
   "id": "ddde1956-219d-4cc9-8871-3395885c0663",
   "metadata": {},
   "outputs": [
    {
     "data": {
      "text/plain": [
       "True"
      ]
     },
     "execution_count": 8,
     "metadata": {},
     "output_type": "execute_result"
    }
   ],
   "source": [
    "\"ab\" < \"b\""
   ]
  },
  {
   "cell_type": "code",
   "execution_count": 9,
   "id": "9b602b9b-1f73-4d2b-829b-6c7e54a864c7",
   "metadata": {},
   "outputs": [
    {
     "data": {
      "text/plain": [
       "True"
      ]
     },
     "execution_count": 9,
     "metadata": {},
     "output_type": "execute_result"
    }
   ],
   "source": [
    "\"ab\" < \"badsfadsf\""
   ]
  },
  {
   "cell_type": "code",
   "execution_count": 10,
   "id": "592b40c0-58aa-4e03-b8cb-5d106580b3a1",
   "metadata": {},
   "outputs": [
    {
     "data": {
      "text/plain": [
       "True"
      ]
     },
     "execution_count": 10,
     "metadata": {},
     "output_type": "execute_result"
    }
   ],
   "source": [
    "\"ab\" < \"ac\""
   ]
  },
  {
   "cell_type": "code",
   "execution_count": 11,
   "id": "5b9c6efe-b910-4822-889a-bdcf3ec87236",
   "metadata": {},
   "outputs": [
    {
     "data": {
      "text/plain": [
       "False"
      ]
     },
     "execution_count": 11,
     "metadata": {},
     "output_type": "execute_result"
    }
   ],
   "source": [
    "\"ac\" < \"ab\""
   ]
  },
  {
   "cell_type": "code",
   "execution_count": 12,
   "id": "cc2f042e-856b-4890-8d8e-e5d5a7adb33b",
   "metadata": {},
   "outputs": [
    {
     "data": {
      "text/plain": [
       "False"
      ]
     },
     "execution_count": 12,
     "metadata": {},
     "output_type": "execute_result"
    }
   ],
   "source": [
    "\"abc\" < \"abb\""
   ]
  },
  {
   "cell_type": "code",
   "execution_count": null,
   "id": "6ecb924e-4dab-4c88-86e5-118851022ce0",
   "metadata": {},
   "outputs": [],
   "source": []
  }
 ],
 "metadata": {
  "kernelspec": {
   "display_name": "Python 3 (ipykernel)",
   "language": "python",
   "name": "python3"
  },
  "language_info": {
   "codemirror_mode": {
    "name": "ipython",
    "version": 3
   },
   "file_extension": ".py",
   "mimetype": "text/x-python",
   "name": "python",
   "nbconvert_exporter": "python",
   "pygments_lexer": "ipython3",
   "version": "3.11.4"
  }
 },
 "nbformat": 4,
 "nbformat_minor": 5
}
