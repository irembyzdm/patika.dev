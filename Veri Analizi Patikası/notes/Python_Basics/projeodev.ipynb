{
 "cells": [
  {
   "cell_type": "markdown",
   "id": "80a6d1ad-b29d-4715-9fd1-665d9ddd41b4",
   "metadata": {},
   "source": [
    "# Question-1\n",
    "1- Write a function that flattens a list. Its elements can consist of multi-layered lists (such as [[3],2]) or non-scalar data. \n",
    "\n",
    "For example:\n",
    "sample input: [[1,'a',['cat'],2],[[[3]],'dog'],4,5]\n",
    "sample output: [1,'a','cat',2,3,'dog',4,5]"
   ]
  },
  {
   "cell_type": "code",
   "execution_count": 2,
   "id": "5c645e1c-689d-424f-9191-aef3477e1350",
   "metadata": {},
   "outputs": [
    {
     "name": "stdout",
     "output_type": "stream",
     "text": [
      "[1, 'a', 'cat', 2, 3, 'dog', 4, 5]\n"
     ]
    }
   ],
   "source": [
    "ornek_liste = [[1,'a',['cat'],2],[[[3]],'dog'],4,5]\n",
    "\n",
    "def flatten_list(ornek_liste):\n",
    "    flattened = []\n",
    "    for item in ornek_liste:\n",
    "        if isinstance(item, list):\n",
    "            flattened.extend(flatten_list(item))\n",
    "        else:\n",
    "            flattened.append(item)\n",
    "    return flattened\n",
    "\n",
    "output_1 = flatten_list(ornek_liste)\n",
    "print(output_1)"
   ]
  },
  {
   "cell_type": "markdown",
   "id": "560c6356-cc9d-45a9-ab3d-78984001e1b3",
   "metadata": {},
   "source": [
    "# Question-2\n",
    " 2- Write a function that reverses the elements in the given list. If the elements inside the list also contain the list, reverse their elements as well.\n",
    " \n",
    " For example:\n",
    "sample input: [[1, 2], [3, 4], [5, 6, 7]]\n",
    "sample output: [[[7, 6, 5], [4, 3], [2, 1]]"
   ]
  },
  {
   "cell_type": "code",
   "execution_count": 3,
   "id": "9ad4ae36-7363-4796-9a25-bc33ef368aff",
   "metadata": {},
   "outputs": [
    {
     "name": "stdout",
     "output_type": "stream",
     "text": [
      "[[7, 6, 5], [4, 3], [2, 1]]\n"
     ]
    }
   ],
   "source": [
    "ornek_liste_2 = [[1, 2], [3, 4], [5, 6, 7]]\n",
    "\n",
    "def reverse_list(ornek_liste_2):\n",
    "    reversed_list = []\n",
    "    for item in ornek_liste_2[::-1]:\n",
    "        if isinstance(item, list):\n",
    "            reversed_list.append(reverse_list(item))\n",
    "        else:\n",
    "            reversed_list.append(item)\n",
    "    return reversed_list\n",
    "\n",
    "output_2 = reverse_list(ornek_liste_2)\n",
    "print(output_2)"
   ]
  },
  {
   "cell_type": "code",
   "execution_count": null,
   "id": "939d4053-039e-4411-bb2f-d5827862b504",
   "metadata": {},
   "outputs": [],
   "source": []
  }
 ],
 "metadata": {
  "kernelspec": {
   "display_name": "Python 3 (ipykernel)",
   "language": "python",
   "name": "python3"
  },
  "language_info": {
   "codemirror_mode": {
    "name": "ipython",
    "version": 3
   },
   "file_extension": ".py",
   "mimetype": "text/x-python",
   "name": "python",
   "nbconvert_exporter": "python",
   "pygments_lexer": "ipython3",
   "version": "3.11.4"
  }
 },
 "nbformat": 4,
 "nbformat_minor": 5
}
