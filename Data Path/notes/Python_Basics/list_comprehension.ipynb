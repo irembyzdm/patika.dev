{
 "cells": [
  {
   "cell_type": "markdown",
   "id": "9471caca-1916-45eb-bf5f-896f75d76955",
   "metadata": {},
   "source": [
    "# List comprehension"
   ]
  },
  {
   "cell_type": "markdown",
   "id": "00981e59-5cbe-42a7-bc1a-e896911d012c",
   "metadata": {},
   "source": [
    "* Diyelim ki 1'den 10'a kadar olan sayıların karelerinden bir liste oluşturmak istiyorum:"
   ]
  },
  {
   "cell_type": "code",
   "execution_count": 2,
   "id": "c43132bb-61e5-47ab-97d2-d29ac6ec5c29",
   "metadata": {},
   "outputs": [],
   "source": [
    "squares = []\n",
    "\n",
    "for i in range(1,11):\n",
    "    squares.append(i*i)"
   ]
  },
  {
   "cell_type": "code",
   "execution_count": 3,
   "id": "afb0ae45-1018-466b-9753-78fe84531cea",
   "metadata": {},
   "outputs": [
    {
     "data": {
      "text/plain": [
       "[1, 4, 9, 16, 25, 36, 49, 64, 81, 100]"
      ]
     },
     "execution_count": 3,
     "metadata": {},
     "output_type": "execute_result"
    }
   ],
   "source": [
    "squares"
   ]
  },
  {
   "cell_type": "markdown",
   "id": "82e3892e-81e5-4b11-897e-242455bc44be",
   "metadata": {},
   "source": [
    "* Bunun aynısını *list comprehension* kullanarak da yapabiliriz."
   ]
  },
  {
   "cell_type": "code",
   "execution_count": 4,
   "id": "e42c0c07-4d38-420b-9116-f2a107a689a5",
   "metadata": {},
   "outputs": [],
   "source": [
    "squares = [i * i for i in range(1,11)]"
   ]
  },
  {
   "cell_type": "code",
   "execution_count": 5,
   "id": "4a738f1a-506f-4b15-b20e-b05c5fb9831d",
   "metadata": {},
   "outputs": [
    {
     "data": {
      "text/plain": [
       "[1, 4, 9, 16, 25, 36, 49, 64, 81, 100]"
      ]
     },
     "execution_count": 5,
     "metadata": {},
     "output_type": "execute_result"
    }
   ],
   "source": [
    "squares"
   ]
  },
  {
   "cell_type": "code",
   "execution_count": 6,
   "id": "b1621d23-fe87-4d59-9754-56c7c87504b3",
   "metadata": {},
   "outputs": [],
   "source": [
    "# list comprehension ve fonksiyon mantığını birleştirme\n",
    "\n",
    "def cube(x):\n",
    "    return x * x * x # x**3"
   ]
  },
  {
   "cell_type": "code",
   "execution_count": 7,
   "id": "a775808f-573f-4baf-9f42-4f15169d30c3",
   "metadata": {},
   "outputs": [],
   "source": [
    "cubes = [cube(x) for x in range(1,11)]"
   ]
  },
  {
   "cell_type": "code",
   "execution_count": 8,
   "id": "6a8386a9-f6a7-4e06-aa80-fcd3e6b5060f",
   "metadata": {},
   "outputs": [
    {
     "data": {
      "text/plain": [
       "[1, 8, 27, 64, 125, 216, 343, 512, 729, 1000]"
      ]
     },
     "execution_count": 8,
     "metadata": {},
     "output_type": "execute_result"
    }
   ],
   "source": [
    "cubes"
   ]
  },
  {
   "cell_type": "code",
   "execution_count": 9,
   "id": "295737b6-0449-4b72-b9d3-02efcebd1d63",
   "metadata": {},
   "outputs": [
    {
     "name": "stdout",
     "output_type": "stream",
     "text": [
      "[1, 4, 9, 16, 25, 36, 49, 64, 81, 100]\n"
     ]
    }
   ],
   "source": [
    "squares = [1, 4, 9, 16, 25, 36, 49, 64, 81, 100]\n",
    "\n",
    "print(squares)"
   ]
  },
  {
   "cell_type": "code",
   "execution_count": 10,
   "id": "0cb0b290-6438-433e-a00b-506530917c0b",
   "metadata": {},
   "outputs": [],
   "source": [
    "# squares listindeki tek elemanlardan bir liste:\n",
    "odd_squares = [e for e in squares if e % 2 == 1]"
   ]
  },
  {
   "cell_type": "code",
   "execution_count": 11,
   "id": "6707d497-fc95-47d6-b769-fdefb4cb6dee",
   "metadata": {},
   "outputs": [
    {
     "data": {
      "text/plain": [
       "[1, 9, 25, 49, 81]"
      ]
     },
     "execution_count": 11,
     "metadata": {},
     "output_type": "execute_result"
    }
   ],
   "source": [
    "odd_squares"
   ]
  },
  {
   "cell_type": "code",
   "execution_count": 12,
   "id": "709bad77-a25d-4674-9e87-1919d408bbd6",
   "metadata": {},
   "outputs": [],
   "source": [
    "# ayrıca yapımı\n",
    "odd_squares = []\n",
    "\n",
    "for e in squares:\n",
    "    if e % 2 == 1:\n",
    "        odd_squares.append(e)"
   ]
  },
  {
   "cell_type": "code",
   "execution_count": 13,
   "id": "3c8a536e-4f92-4347-8f4c-7701585030c3",
   "metadata": {},
   "outputs": [
    {
     "data": {
      "text/plain": [
       "[1, 9, 25, 49, 81]"
      ]
     },
     "execution_count": 13,
     "metadata": {},
     "output_type": "execute_result"
    }
   ],
   "source": [
    "odd_squares"
   ]
  },
  {
   "cell_type": "code",
   "execution_count": 14,
   "id": "87d3d1da-89ff-462e-952b-0b704e821798",
   "metadata": {},
   "outputs": [],
   "source": [
    "# bu test mantığını fonksiyonla da sağlayabilirdik\n",
    "\n",
    "def is_odd(x):\n",
    "\n",
    "    if x % 2 == 0:\n",
    "        return False\n",
    "\n",
    "    if x  % 2 == 1:\n",
    "        return True\n",
    "        "
   ]
  },
  {
   "cell_type": "code",
   "execution_count": 15,
   "id": "83efdbcf-0496-4602-8a02-429dfd332730",
   "metadata": {},
   "outputs": [],
   "source": [
    "odd_squares = [e for e in squares if is_odd(e)]"
   ]
  },
  {
   "cell_type": "code",
   "execution_count": 16,
   "id": "2991167f-6509-4092-9192-23b6267775d1",
   "metadata": {},
   "outputs": [
    {
     "data": {
      "text/plain": [
       "[1, 9, 25, 49, 81]"
      ]
     },
     "execution_count": 16,
     "metadata": {},
     "output_type": "execute_result"
    }
   ],
   "source": [
    "odd_squares"
   ]
  },
  {
   "cell_type": "code",
   "execution_count": 17,
   "id": "b66e0178-e310-46b0-98a7-62234cd0d2a2",
   "metadata": {},
   "outputs": [],
   "source": [
    "def empty(x):\n",
    "\n",
    "    if x % 2 == 0:\n",
    "        return False\n",
    "    if x % 2 == 1:\n",
    "        return False"
   ]
  },
  {
   "cell_type": "code",
   "execution_count": 18,
   "id": "fda1e4ba-6b23-4937-b770-b204fd0c2329",
   "metadata": {},
   "outputs": [],
   "source": [
    "empty_squares = [e for e in squares if empty(e)]"
   ]
  },
  {
   "cell_type": "code",
   "execution_count": 19,
   "id": "3cb4a66a-de1a-41c2-8c06-7d53c4bde226",
   "metadata": {},
   "outputs": [
    {
     "data": {
      "text/plain": [
       "[]"
      ]
     },
     "execution_count": 19,
     "metadata": {},
     "output_type": "execute_result"
    }
   ],
   "source": [
    "empty_squares"
   ]
  },
  {
   "cell_type": "code",
   "execution_count": 20,
   "id": "bb1fa69c-7472-40a0-a42f-ac3b41b49cfc",
   "metadata": {},
   "outputs": [],
   "source": [
    "def is_even(x):\n",
    "\n",
    "    if x % 2 == 0:\n",
    "        return True\n",
    "\n",
    "    if x % 2 == 1:\n",
    "        return False"
   ]
  },
  {
   "cell_type": "code",
   "execution_count": 21,
   "id": "4c5a79e5-5754-404c-b0e0-c498e657c97e",
   "metadata": {},
   "outputs": [],
   "source": [
    "even_squares = [e for e in squares if is_even(e)]"
   ]
  },
  {
   "cell_type": "code",
   "execution_count": 22,
   "id": "219c27c0-2b6a-496a-b9bb-9b4e05447214",
   "metadata": {},
   "outputs": [
    {
     "data": {
      "text/plain": [
       "[4, 16, 36, 64, 100]"
      ]
     },
     "execution_count": 22,
     "metadata": {},
     "output_type": "execute_result"
    }
   ],
   "source": [
    "even_squares"
   ]
  },
  {
   "cell_type": "code",
   "execution_count": 23,
   "id": "32bf8954-2507-4efd-bc08-217bc9b5ff5c",
   "metadata": {},
   "outputs": [
    {
     "data": {
      "text/plain": [
       "[1, 4, 9, 16, 25, 36, 49, 64, 81, 100]"
      ]
     },
     "execution_count": 23,
     "metadata": {},
     "output_type": "execute_result"
    }
   ],
   "source": [
    "squares"
   ]
  },
  {
   "cell_type": "code",
   "execution_count": 24,
   "id": "3d7be361-63cc-46b6-9b64-f52df1321380",
   "metadata": {},
   "outputs": [],
   "source": [
    "weird_squares = [e if e % 2 == 0 else -1 for e in squares]"
   ]
  },
  {
   "cell_type": "code",
   "execution_count": 25,
   "id": "982aa744-d287-4a6a-9f59-a4ba70cd759c",
   "metadata": {},
   "outputs": [
    {
     "data": {
      "text/plain": [
       "[-1, 4, -1, 16, -1, 36, -1, 64, -1, 100]"
      ]
     },
     "execution_count": 25,
     "metadata": {},
     "output_type": "execute_result"
    }
   ],
   "source": [
    "weird_squares"
   ]
  },
  {
   "cell_type": "code",
   "execution_count": 26,
   "id": "d3b2d8b5-2dd7-44e6-8a3d-38cdf7ec430d",
   "metadata": {},
   "outputs": [],
   "source": [
    "ultra_weird_squares = [e if e % 2 == 0 else -1 for e in squares if is_even(e)]"
   ]
  },
  {
   "cell_type": "code",
   "execution_count": 27,
   "id": "a2f6bba7-90b0-4e3e-bf2e-9f994afa308d",
   "metadata": {},
   "outputs": [
    {
     "data": {
      "text/plain": [
       "[4, 16, 36, 64, 100]"
      ]
     },
     "execution_count": 27,
     "metadata": {},
     "output_type": "execute_result"
    }
   ],
   "source": [
    "ultra_weird_squares"
   ]
  },
  {
   "cell_type": "markdown",
   "id": "0ef5d69e-671a-4f4b-bc0a-d5dc4a641399",
   "metadata": {},
   "source": [
    "# Set Comprehension"
   ]
  },
  {
   "cell_type": "code",
   "execution_count": 28,
   "id": "5d1dfb46-a331-40aa-8b06-9f154c74fb27",
   "metadata": {},
   "outputs": [],
   "source": [
    "numbers = [1,2,3,4,5,6,7,1,2]"
   ]
  },
  {
   "cell_type": "code",
   "execution_count": 29,
   "id": "014a08d7-8e91-4323-aa22-0121815fb96a",
   "metadata": {},
   "outputs": [],
   "source": [
    "set_numbers = {s for s in numbers if s in [1,2,3,4,5,6,7,1,2]}"
   ]
  },
  {
   "cell_type": "code",
   "execution_count": 30,
   "id": "96effdf4-e507-49d8-9ce6-7b74b83bdbb5",
   "metadata": {},
   "outputs": [
    {
     "data": {
      "text/plain": [
       "{1, 2, 3, 4, 5, 6, 7}"
      ]
     },
     "execution_count": 30,
     "metadata": {},
     "output_type": "execute_result"
    }
   ],
   "source": [
    "set_numbers"
   ]
  },
  {
   "cell_type": "code",
   "execution_count": 31,
   "id": "f540764f-8c08-4db5-9931-4376ca41d0a6",
   "metadata": {},
   "outputs": [],
   "source": [
    "# sadece unique değerleri alıyordu çünkü"
   ]
  },
  {
   "cell_type": "markdown",
   "id": "2c9ce91d-ea28-4c0b-be94-ca4458186821",
   "metadata": {},
   "source": [
    "# Dictionary Comprehension"
   ]
  },
  {
   "cell_type": "code",
   "execution_count": 34,
   "id": "488a60cb-e229-460f-aa26-e136e0c2dd81",
   "metadata": {},
   "outputs": [],
   "source": [
    "square_dict = {e:e * e for e in range(1,11)}"
   ]
  },
  {
   "cell_type": "code",
   "execution_count": 35,
   "id": "3c614c5c-ab0c-4d3d-9ead-e69b3f3a02ef",
   "metadata": {},
   "outputs": [
    {
     "data": {
      "text/plain": [
       "{1: 1, 2: 4, 3: 9, 4: 16, 5: 25, 6: 36, 7: 49, 8: 64, 9: 81, 10: 100}"
      ]
     },
     "execution_count": 35,
     "metadata": {},
     "output_type": "execute_result"
    }
   ],
   "source": [
    "square_dict"
   ]
  },
  {
   "cell_type": "code",
   "execution_count": 36,
   "id": "698f784e-83b8-4f0a-b567-e288ed9f98c9",
   "metadata": {},
   "outputs": [
    {
     "data": {
      "text/plain": [
       "81"
      ]
     },
     "execution_count": 36,
     "metadata": {},
     "output_type": "execute_result"
    }
   ],
   "source": [
    "square_dict[9]"
   ]
  },
  {
   "cell_type": "markdown",
   "id": "8bc63d4d-6201-4782-bad2-59fe731fb8e7",
   "metadata": {},
   "source": [
    "# Nested List Comprehension"
   ]
  },
  {
   "cell_type": "code",
   "execution_count": 37,
   "id": "8dff29f4-ed5c-44b3-b3f9-e66b0c16b3d4",
   "metadata": {},
   "outputs": [],
   "source": [
    "m = [[j for j in range(7)] for i in range(5)]"
   ]
  },
  {
   "cell_type": "code",
   "execution_count": 39,
   "id": "2ca2826d-3456-4c40-ad4a-e295335472b7",
   "metadata": {},
   "outputs": [
    {
     "data": {
      "text/plain": [
       "[[0, 1, 2, 3, 4, 5, 6],\n",
       " [0, 1, 2, 3, 4, 5, 6],\n",
       " [0, 1, 2, 3, 4, 5, 6],\n",
       " [0, 1, 2, 3, 4, 5, 6],\n",
       " [0, 1, 2, 3, 4, 5, 6]]"
      ]
     },
     "execution_count": 39,
     "metadata": {},
     "output_type": "execute_result"
    }
   ],
   "source": [
    "m"
   ]
  },
  {
   "cell_type": "code",
   "execution_count": 40,
   "id": "97bab509-266f-4c34-b963-55fda9ee0629",
   "metadata": {},
   "outputs": [],
   "source": [
    "m = [[j for j in range(7)] for _ in range(5)]"
   ]
  },
  {
   "cell_type": "code",
   "execution_count": 41,
   "id": "01d39b38-3d07-4df1-83f8-1b77a8cecaba",
   "metadata": {},
   "outputs": [
    {
     "data": {
      "text/plain": [
       "[[0, 1, 2, 3, 4, 5, 6],\n",
       " [0, 1, 2, 3, 4, 5, 6],\n",
       " [0, 1, 2, 3, 4, 5, 6],\n",
       " [0, 1, 2, 3, 4, 5, 6],\n",
       " [0, 1, 2, 3, 4, 5, 6]]"
      ]
     },
     "execution_count": 41,
     "metadata": {},
     "output_type": "execute_result"
    }
   ],
   "source": [
    "m"
   ]
  },
  {
   "cell_type": "code",
   "execution_count": 42,
   "id": "f5b15ea5-6ce0-4c62-82d0-7d6793bcd0cc",
   "metadata": {},
   "outputs": [],
   "source": [
    "m = [[10, 11, 12], [13, 14], [15, 16, 17, 18]]"
   ]
  },
  {
   "cell_type": "code",
   "execution_count": 43,
   "id": "7bb7089b-e1bb-43b0-9afa-d88b103e3865",
   "metadata": {},
   "outputs": [
    {
     "name": "stdout",
     "output_type": "stream",
     "text": [
      "[10, 11, 12]\n",
      "[13, 14]\n",
      "[15, 16, 17, 18]\n"
     ]
    }
   ],
   "source": [
    "for l in m:\n",
    "    print(l)"
   ]
  },
  {
   "cell_type": "code",
   "execution_count": 46,
   "id": "edb7a02c-4b0f-46dc-955e-d5ca00a0af1b",
   "metadata": {},
   "outputs": [
    {
     "name": "stdout",
     "output_type": "stream",
     "text": [
      "10\n",
      "11\n",
      "12\n",
      "13\n",
      "14\n",
      "15\n",
      "16\n",
      "17\n",
      "18\n"
     ]
    }
   ],
   "source": [
    "new_m = [] #flat(?)\n",
    "for l in m:\n",
    "    for e in l:\n",
    "        new_m.append(e)\n",
    "        print(e)"
   ]
  },
  {
   "cell_type": "code",
   "execution_count": 47,
   "id": "c4a614cd-e4b4-4f24-a023-d170c72d3d7f",
   "metadata": {},
   "outputs": [
    {
     "data": {
      "text/plain": [
       "[10, 11, 12, 13, 14, 15, 16, 17, 18]"
      ]
     },
     "execution_count": 47,
     "metadata": {},
     "output_type": "execute_result"
    }
   ],
   "source": [
    "new_m"
   ]
  },
  {
   "cell_type": "code",
   "execution_count": 48,
   "id": "75d1e900-5100-44f0-9725-9539bcd6abb3",
   "metadata": {},
   "outputs": [
    {
     "data": {
      "text/plain": [
       "[[10, 11, 12], [13, 14], [15, 16, 17, 18]]"
      ]
     },
     "execution_count": 48,
     "metadata": {},
     "output_type": "execute_result"
    }
   ],
   "source": [
    "m"
   ]
  },
  {
   "cell_type": "code",
   "execution_count": 51,
   "id": "2a851084-10d0-44aa-9c5f-a919b881413c",
   "metadata": {},
   "outputs": [],
   "source": [
    "# matrixi list comprehension ile flat etmek\n",
    "flatten_m = [e for l in m for e in l]"
   ]
  },
  {
   "cell_type": "code",
   "execution_count": 52,
   "id": "c72989b3-d6da-4433-86a5-c2c6cc8a3fd6",
   "metadata": {},
   "outputs": [
    {
     "data": {
      "text/plain": [
       "[10, 11, 12, 13, 14, 15, 16, 17, 18]"
      ]
     },
     "execution_count": 52,
     "metadata": {},
     "output_type": "execute_result"
    }
   ],
   "source": [
    "flatten_m"
   ]
  },
  {
   "cell_type": "code",
   "execution_count": 53,
   "id": "34de2ad3-bde4-46d8-a710-10879a56bd1c",
   "metadata": {},
   "outputs": [],
   "source": [
    "# sadece çift değerleri kabul edecek\n",
    "flatten_m = [e for l in m for e in l if e % 2 == 0]"
   ]
  },
  {
   "cell_type": "code",
   "execution_count": 54,
   "id": "42849920-97bb-4df8-b10c-33f9fb25d967",
   "metadata": {},
   "outputs": [
    {
     "data": {
      "text/plain": [
       "[10, 12, 14, 16, 18]"
      ]
     },
     "execution_count": 54,
     "metadata": {},
     "output_type": "execute_result"
    }
   ],
   "source": [
    "flatten_m"
   ]
  },
  {
   "cell_type": "code",
   "execution_count": 55,
   "id": "aea1e829-7b83-4117-9e0d-0594655258da",
   "metadata": {},
   "outputs": [],
   "source": [
    "m=[[[ 25, 36, 62],[ 28, 38, 64],[ 30, 40, 67]],[[ 1, 27, 56],[ 1, 25, 55],[ 2, 21, 51]]]"
   ]
  },
  {
   "cell_type": "code",
   "execution_count": 56,
   "id": "4b9b77fb-5f14-4a0a-b7b2-8c4cbad1bcd7",
   "metadata": {},
   "outputs": [],
   "source": [
    "flat_m = [i for l in m for e in l for i in e]"
   ]
  },
  {
   "cell_type": "code",
   "execution_count": 57,
   "id": "a68158c9-3b2f-4b42-9a67-08464668f934",
   "metadata": {},
   "outputs": [
    {
     "data": {
      "text/plain": [
       "[25, 36, 62, 28, 38, 64, 30, 40, 67, 1, 27, 56, 1, 25, 55, 2, 21, 51]"
      ]
     },
     "execution_count": 57,
     "metadata": {},
     "output_type": "execute_result"
    }
   ],
   "source": [
    "flat_m"
   ]
  },
  {
   "cell_type": "code",
   "execution_count": null,
   "id": "638b2b91-25ea-4fcb-9470-1da6388de781",
   "metadata": {},
   "outputs": [],
   "source": []
  }
 ],
 "metadata": {
  "kernelspec": {
   "display_name": "Python 3 (ipykernel)",
   "language": "python",
   "name": "python3"
  },
  "language_info": {
   "codemirror_mode": {
    "name": "ipython",
    "version": 3
   },
   "file_extension": ".py",
   "mimetype": "text/x-python",
   "name": "python",
   "nbconvert_exporter": "python",
   "pygments_lexer": "ipython3",
   "version": "3.11.4"
  }
 },
 "nbformat": 4,
 "nbformat_minor": 5
}
