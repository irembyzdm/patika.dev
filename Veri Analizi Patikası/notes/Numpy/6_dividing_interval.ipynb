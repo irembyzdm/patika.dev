{
 "cells": [
  {
   "cell_type": "code",
   "execution_count": 1,
   "id": "1b218976-03c9-4831-8999-ee75372e7255",
   "metadata": {},
   "outputs": [],
   "source": [
    "import numpy as np"
   ]
  },
  {
   "cell_type": "markdown",
   "id": "24c6eed6-c75b-4bf4-8209-cd72ea8632c5",
   "metadata": {},
   "source": [
    "# Aralığı Eşit Uzaklıktaki Noktalara Bölmek"
   ]
  },
  {
   "cell_type": "markdown",
   "id": "88c0ab0c-c39d-4fc7-917d-231aec82fdf3",
   "metadata": {},
   "source": [
    "* Belirlenen [başlangıç, bitiş] değerine göre, başlangıç ve bitişi dahil edecek şekilde, aralığı eşit uzaklıkta noktalara bölmeyi göreceğiz."
   ]
  },
  {
   "cell_type": "code",
   "execution_count": 2,
   "id": "eec9592e-ba73-4118-8a19-200697c45d26",
   "metadata": {},
   "outputs": [
    {
     "data": {
      "text/plain": [
       "array([1.        , 1.02040816, 1.04081633, 1.06122449, 1.08163265,\n",
       "       1.10204082, 1.12244898, 1.14285714, 1.16326531, 1.18367347,\n",
       "       1.20408163, 1.2244898 , 1.24489796, 1.26530612, 1.28571429,\n",
       "       1.30612245, 1.32653061, 1.34693878, 1.36734694, 1.3877551 ,\n",
       "       1.40816327, 1.42857143, 1.44897959, 1.46938776, 1.48979592,\n",
       "       1.51020408, 1.53061224, 1.55102041, 1.57142857, 1.59183673,\n",
       "       1.6122449 , 1.63265306, 1.65306122, 1.67346939, 1.69387755,\n",
       "       1.71428571, 1.73469388, 1.75510204, 1.7755102 , 1.79591837,\n",
       "       1.81632653, 1.83673469, 1.85714286, 1.87755102, 1.89795918,\n",
       "       1.91836735, 1.93877551, 1.95918367, 1.97959184, 2.        ])"
      ]
     },
     "execution_count": 2,
     "metadata": {},
     "output_type": "execute_result"
    }
   ],
   "source": [
    "# Default olarak 50 nokta döndürür.\n",
    "np.linspace(1,2)"
   ]
  },
  {
   "cell_type": "markdown",
   "id": "234a8898-f340-4d9f-b030-cf05efa7ebe4",
   "metadata": {},
   "source": [
    "# Kaç Parçaya Böleceğini Belirtmek"
   ]
  },
  {
   "cell_type": "code",
   "execution_count": 3,
   "id": "eafd9489-29ac-4ac3-927d-2d70c7905b84",
   "metadata": {},
   "outputs": [
    {
     "data": {
      "text/plain": [
       "array([1. , 1.5, 2. ])"
      ]
     },
     "execution_count": 3,
     "metadata": {},
     "output_type": "execute_result"
    }
   ],
   "source": [
    "np.linspace(1,2,num=3)"
   ]
  },
  {
   "cell_type": "code",
   "execution_count": 4,
   "id": "6b31e83b-4910-476c-8920-af95d7567456",
   "metadata": {},
   "outputs": [
    {
     "data": {
      "text/plain": [
       "array([1. , 1.5, 2. ])"
      ]
     },
     "execution_count": 4,
     "metadata": {},
     "output_type": "execute_result"
    }
   ],
   "source": [
    "np.linspace(1,2,3)"
   ]
  },
  {
   "cell_type": "code",
   "execution_count": 5,
   "id": "52caf471-67bb-4be9-9f58-6859e98d7b65",
   "metadata": {},
   "outputs": [
    {
     "data": {
      "text/plain": [
       "array([1.        , 1.33333333, 1.66666667])"
      ]
     },
     "execution_count": 5,
     "metadata": {},
     "output_type": "execute_result"
    }
   ],
   "source": [
    "np.linspace(1,2,num=3,endpoint=False)"
   ]
  },
  {
   "cell_type": "code",
   "execution_count": 6,
   "id": "2f115334-0427-4e4d-8f13-f104f4256f51",
   "metadata": {},
   "outputs": [
    {
     "data": {
      "text/plain": [
       "array([0.        , 0.03448276, 0.06896552, 0.10344828, 0.13793103,\n",
       "       0.17241379, 0.20689655, 0.24137931, 0.27586207, 0.31034483,\n",
       "       0.34482759, 0.37931034, 0.4137931 , 0.44827586, 0.48275862,\n",
       "       0.51724138, 0.55172414, 0.5862069 , 0.62068966, 0.65517241,\n",
       "       0.68965517, 0.72413793, 0.75862069, 0.79310345, 0.82758621,\n",
       "       0.86206897, 0.89655172, 0.93103448, 0.96551724, 1.        ])"
      ]
     },
     "execution_count": 6,
     "metadata": {},
     "output_type": "execute_result"
    }
   ],
   "source": [
    "# 0 ile 1 arasında (0-1 dahil olacak şekilde) 30 nokta üretmek\n",
    "np.linspace(0,1,30)"
   ]
  },
  {
   "cell_type": "markdown",
   "id": "b5422bd6-2602-466b-b37e-52082f1856f2",
   "metadata": {},
   "source": [
    "* float'ları da belirtilen sayıda bölebiliyoruz."
   ]
  },
  {
   "cell_type": "code",
   "execution_count": 7,
   "id": "a7d3c0ee-ddcf-45e6-982a-a1b5f3d8de12",
   "metadata": {},
   "outputs": [
    {
     "data": {
      "text/plain": [
       "array([1.5, 3.1, 4.7])"
      ]
     },
     "execution_count": 7,
     "metadata": {},
     "output_type": "execute_result"
    }
   ],
   "source": [
    "np.linspace(1.5, 4.7, 3)"
   ]
  },
  {
   "cell_type": "code",
   "execution_count": 8,
   "id": "b386fdc8-64a1-4a22-a50c-41c11c0aeabf",
   "metadata": {},
   "outputs": [
    {
     "data": {
      "text/plain": [
       "array([ 1.        ,  1.59183673,  2.18367347,  2.7755102 ,  3.36734694,\n",
       "        3.95918367,  4.55102041,  5.14285714,  5.73469388,  6.32653061,\n",
       "        6.91836735,  7.51020408,  8.10204082,  8.69387755,  9.28571429,\n",
       "        9.87755102, 10.46938776, 11.06122449, 11.65306122, 12.24489796,\n",
       "       12.83673469, 13.42857143, 14.02040816, 14.6122449 , 15.20408163,\n",
       "       15.79591837, 16.3877551 , 16.97959184, 17.57142857, 18.16326531,\n",
       "       18.75510204, 19.34693878, 19.93877551, 20.53061224, 21.12244898,\n",
       "       21.71428571, 22.30612245, 22.89795918, 23.48979592, 24.08163265,\n",
       "       24.67346939, 25.26530612, 25.85714286, 26.44897959, 27.04081633,\n",
       "       27.63265306, 28.2244898 , 28.81632653, 29.40816327, 30.        ])"
      ]
     },
     "execution_count": 8,
     "metadata": {},
     "output_type": "execute_result"
    }
   ],
   "source": [
    "np.linspace(1,30)"
   ]
  },
  {
   "cell_type": "code",
   "execution_count": null,
   "id": "60eff210-be63-4ebf-821f-8a8e1db8e8bb",
   "metadata": {},
   "outputs": [],
   "source": []
  }
 ],
 "metadata": {
  "kernelspec": {
   "display_name": "Python 3 (ipykernel)",
   "language": "python",
   "name": "python3"
  },
  "language_info": {
   "codemirror_mode": {
    "name": "ipython",
    "version": 3
   },
   "file_extension": ".py",
   "mimetype": "text/x-python",
   "name": "python",
   "nbconvert_exporter": "python",
   "pygments_lexer": "ipython3",
   "version": "3.11.4"
  }
 },
 "nbformat": 4,
 "nbformat_minor": 5
}
