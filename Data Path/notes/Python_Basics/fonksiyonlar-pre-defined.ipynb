{
 "cells": [
  {
   "cell_type": "markdown",
   "id": "50016bae-1eeb-49aa-8741-f999f34072db",
   "metadata": {},
   "source": [
    "# Predefined Parameters"
   ]
  },
  {
   "cell_type": "code",
   "execution_count": 1,
   "id": "c169dfc6-ba53-4e2b-822e-198b73463f8f",
   "metadata": {},
   "outputs": [],
   "source": [
    "def hello(end, start = \"Hello\"):\n",
    "   \n",
    "  print(start + \" \" + end)"
   ]
  },
  {
   "cell_type": "code",
   "execution_count": 2,
   "id": "58347c9e-46f5-40d3-b7a0-80afa6d79e43",
   "metadata": {},
   "outputs": [
    {
     "name": "stdout",
     "output_type": "stream",
     "text": [
      "Hello Denis\n"
     ]
    }
   ],
   "source": [
    "hello(\"Denis\")"
   ]
  },
  {
   "cell_type": "code",
   "execution_count": 3,
   "id": "c422d348-43b0-4fad-af15-8fb0690e21d3",
   "metadata": {},
   "outputs": [
    {
     "name": "stdout",
     "output_type": "stream",
     "text": [
      "Hey Denis\n"
     ]
    }
   ],
   "source": [
    "hello(\"Denis\", start = 'Hey')"
   ]
  },
  {
   "cell_type": "code",
   "execution_count": 4,
   "id": "c172edfe-77e3-4500-919f-3f42ba07999b",
   "metadata": {},
   "outputs": [
    {
     "name": "stdout",
     "output_type": "stream",
     "text": [
      "Hey Denis\n"
     ]
    }
   ],
   "source": [
    "hello(\"Denis\", \"Hey\")"
   ]
  },
  {
   "cell_type": "code",
   "execution_count": 5,
   "id": "c245ae32-ba9e-4f94-aa9c-597fd557d299",
   "metadata": {},
   "outputs": [
    {
     "name": "stdout",
     "output_type": "stream",
     "text": [
      "Hello Denis\n"
     ]
    }
   ],
   "source": [
    "hello(\"Denis\")"
   ]
  },
  {
   "cell_type": "code",
   "execution_count": 6,
   "id": "179370f4-3dc5-4048-b5cb-22ee8dd99e6e",
   "metadata": {},
   "outputs": [],
   "source": [
    "def power(x, y=1):\n",
    "    return x ** y"
   ]
  },
  {
   "cell_type": "code",
   "execution_count": 7,
   "id": "87edd43a-11a1-4c72-8317-e3e527ad4f17",
   "metadata": {},
   "outputs": [
    {
     "data": {
      "text/plain": [
       "3"
      ]
     },
     "execution_count": 7,
     "metadata": {},
     "output_type": "execute_result"
    }
   ],
   "source": [
    "power(3)"
   ]
  },
  {
   "cell_type": "code",
   "execution_count": 8,
   "id": "659795ee-a90b-4bec-bca9-943adc1e4a93",
   "metadata": {},
   "outputs": [
    {
     "data": {
      "text/plain": [
       "16"
      ]
     },
     "execution_count": 8,
     "metadata": {},
     "output_type": "execute_result"
    }
   ],
   "source": [
    "power(4,2)"
   ]
  },
  {
   "cell_type": "code",
   "execution_count": 9,
   "id": "7fe6bf6b-0d83-4d9a-8e4b-ff49a775f408",
   "metadata": {},
   "outputs": [
    {
     "ename": "SyntaxError",
     "evalue": "non-default argument follows default argument (1236324952.py, line 3)",
     "output_type": "error",
     "traceback": [
      "\u001b[0;36m  Cell \u001b[0;32mIn[9], line 3\u001b[0;36m\u001b[0m\n\u001b[0;31m    def hello(start = \"Hello\", end):\u001b[0m\n\u001b[0m                               ^\u001b[0m\n\u001b[0;31mSyntaxError\u001b[0m\u001b[0;31m:\u001b[0m non-default argument follows default argument\n"
     ]
    }
   ],
   "source": [
    "# Aksini belirtmezsek predefined değerleri kullanacak fonksiyon\n",
    "# predefined olarak vereceğimiz değerleri en sona yazmalıyız yoksa hata alırız\n",
    "def hello(start = \"Hello\", end):\n",
    "    \n",
    "    print(start + end)\n"
   ]
  },
  {
   "cell_type": "code",
   "execution_count": 10,
   "id": "3a276fc5-9c03-4d7c-88ff-d24d9f07d968",
   "metadata": {},
   "outputs": [],
   "source": [
    "def f(x, y=1, z=2):\n",
    "    return x + y + z"
   ]
  },
  {
   "cell_type": "code",
   "execution_count": 11,
   "id": "7785cba9-71cb-472f-a5b7-d38308cfe31d",
   "metadata": {},
   "outputs": [
    {
     "data": {
      "text/plain": [
       "5"
      ]
     },
     "execution_count": 11,
     "metadata": {},
     "output_type": "execute_result"
    }
   ],
   "source": [
    "f(2)"
   ]
  },
  {
   "cell_type": "code",
   "execution_count": 12,
   "id": "a9c30cbe-e360-4eed-a65b-af02695ee0da",
   "metadata": {},
   "outputs": [
    {
     "data": {
      "text/plain": [
       "9"
      ]
     },
     "execution_count": 12,
     "metadata": {},
     "output_type": "execute_result"
    }
   ],
   "source": [
    "f(2,5)"
   ]
  },
  {
   "cell_type": "code",
   "execution_count": 13,
   "id": "2eeffa29-5ea6-4e11-98ff-b018b9295415",
   "metadata": {},
   "outputs": [
    {
     "data": {
      "text/plain": [
       "13"
      ]
     },
     "execution_count": 13,
     "metadata": {},
     "output_type": "execute_result"
    }
   ],
   "source": [
    "f(2,5,6)"
   ]
  },
  {
   "cell_type": "code",
   "execution_count": 16,
   "id": "787c107c-dec9-48ed-aaa9-458f26b9283f",
   "metadata": {},
   "outputs": [],
   "source": [
    "def f(x, y=True):\n",
    "    if x % 2 == 0:\n",
    "        y = False\n",
    "\n",
    "        return y\n",
    "    return y"
   ]
  },
  {
   "cell_type": "code",
   "execution_count": 17,
   "id": "bd8087ea-86ef-496f-8f8a-b2dab6e0d7d5",
   "metadata": {},
   "outputs": [
    {
     "data": {
      "text/plain": [
       "True"
      ]
     },
     "execution_count": 17,
     "metadata": {},
     "output_type": "execute_result"
    }
   ],
   "source": [
    "f(7,True)"
   ]
  },
  {
   "cell_type": "code",
   "execution_count": null,
   "id": "cd23b481-a119-4eb7-b69e-d0ec78084d9c",
   "metadata": {},
   "outputs": [],
   "source": []
  }
 ],
 "metadata": {
  "kernelspec": {
   "display_name": "Python 3 (ipykernel)",
   "language": "python",
   "name": "python3"
  },
  "language_info": {
   "codemirror_mode": {
    "name": "ipython",
    "version": 3
   },
   "file_extension": ".py",
   "mimetype": "text/x-python",
   "name": "python",
   "nbconvert_exporter": "python",
   "pygments_lexer": "ipython3",
   "version": "3.11.4"
  }
 },
 "nbformat": 4,
 "nbformat_minor": 5
}
