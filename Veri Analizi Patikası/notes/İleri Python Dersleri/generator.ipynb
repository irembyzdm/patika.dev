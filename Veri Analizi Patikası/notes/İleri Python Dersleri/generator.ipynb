{
 "cells": [
  {
   "cell_type": "markdown",
   "id": "1f9f57e6-3c39-48be-8a31-94accd54ea7c",
   "metadata": {},
   "source": [
    "# Generators"
   ]
  },
  {
   "cell_type": "markdown",
   "id": "56e725fe-dc5b-4de5-8e8f-5eca7e95bf89",
   "metadata": {},
   "source": [
    "* Diyelim ki elimdeki bir listenin elemanlarının karesini almak istiyorum."
   ]
  },
  {
   "cell_type": "code",
   "execution_count": 1,
   "id": "3209aef5-1ddb-4b89-bda4-00b56ef05e8b",
   "metadata": {},
   "outputs": [],
   "source": [
    "def square(l):\n",
    "    res = []\n",
    "\n",
    "    for e in l:\n",
    "        res.append(e*e)\n",
    "    return res"
   ]
  },
  {
   "cell_type": "code",
   "execution_count": 2,
   "id": "fc6529a9-c5fb-45c7-8b38-2a357b75464c",
   "metadata": {},
   "outputs": [
    {
     "data": {
      "text/plain": [
       "[1, 4, 9]"
      ]
     },
     "execution_count": 2,
     "metadata": {},
     "output_type": "execute_result"
    }
   ],
   "source": [
    "l = [1, 2, 3]\n",
    "square(l)"
   ]
  },
  {
   "cell_type": "markdown",
   "id": "7c8e4eba-0a1e-43b7-8db8-f7a206d90923",
   "metadata": {},
   "source": [
    "* *Peki bu değerleri bir anda istemesem de, ben sordukça üretip bana döndürse?*\n",
    "\n",
    "* Bunu **generator** mantığı ile yapabiliriz."
   ]
  },
  {
   "cell_type": "code",
   "execution_count": 3,
   "id": "1fa40f42-1ae6-4e34-8139-ec17f8bd9645",
   "metadata": {},
   "outputs": [],
   "source": [
    "def square_generator(l):\n",
    "    for e in l:\n",
    "        yield e*e"
   ]
  },
  {
   "cell_type": "code",
   "execution_count": 4,
   "id": "9c136e26-58a0-4227-8d62-22a9c995534b",
   "metadata": {},
   "outputs": [],
   "source": [
    "l = [1, 2, 3]\n",
    "g = square_generator(l)"
   ]
  },
  {
   "cell_type": "code",
   "execution_count": 5,
   "id": "6f9a6749-23aa-4cd3-a8b9-0a90a74d1f60",
   "metadata": {},
   "outputs": [
    {
     "data": {
      "text/plain": [
       "<generator object square_generator at 0x1042c7100>"
      ]
     },
     "execution_count": 5,
     "metadata": {},
     "output_type": "execute_result"
    }
   ],
   "source": [
    "g"
   ]
  },
  {
   "cell_type": "markdown",
   "id": "c2236d43-9e35-4396-bc57-9fdf9a11ce4a",
   "metadata": {},
   "source": [
    "* Generator'lar bütün cevabı hafızada tutmazlar, biz sordukça değerleri döndürürler.\n",
    "* Generator'lar iterator'dır. **next** ile sonraki değerlerine erişebiliriz."
   ]
  },
  {
   "cell_type": "code",
   "execution_count": 6,
   "id": "859892cd-a96f-4b4f-a646-9c8ccc05734b",
   "metadata": {},
   "outputs": [
    {
     "data": {
      "text/plain": [
       "1"
      ]
     },
     "execution_count": 6,
     "metadata": {},
     "output_type": "execute_result"
    }
   ],
   "source": [
    "next(g)"
   ]
  },
  {
   "cell_type": "code",
   "execution_count": 7,
   "id": "2bf99db7-9714-485b-a672-88977f873413",
   "metadata": {},
   "outputs": [
    {
     "data": {
      "text/plain": [
       "4"
      ]
     },
     "execution_count": 7,
     "metadata": {},
     "output_type": "execute_result"
    }
   ],
   "source": [
    "next(g)"
   ]
  },
  {
   "cell_type": "code",
   "execution_count": 8,
   "id": "acce6b62-49b8-4709-b32c-fae8152be22f",
   "metadata": {},
   "outputs": [
    {
     "data": {
      "text/plain": [
       "9"
      ]
     },
     "execution_count": 8,
     "metadata": {},
     "output_type": "execute_result"
    }
   ],
   "source": [
    "next(g)"
   ]
  },
  {
   "cell_type": "code",
   "execution_count": 9,
   "id": "d9b34ab8-a040-41e1-95b8-1a949e1a6a15",
   "metadata": {},
   "outputs": [
    {
     "ename": "StopIteration",
     "evalue": "",
     "output_type": "error",
     "traceback": [
      "\u001b[0;31m---------------------------------------------------------------------------\u001b[0m",
      "\u001b[0;31mStopIteration\u001b[0m                             Traceback (most recent call last)",
      "Cell \u001b[0;32mIn[9], line 1\u001b[0m\n\u001b[0;32m----> 1\u001b[0m \u001b[38;5;28;43mnext\u001b[39;49m\u001b[43m(\u001b[49m\u001b[43mg\u001b[49m\u001b[43m)\u001b[49m\n",
      "\u001b[0;31mStopIteration\u001b[0m: "
     ]
    }
   ],
   "source": [
    "next(g)"
   ]
  },
  {
   "cell_type": "code",
   "execution_count": 10,
   "id": "84863ad6-a157-46fd-bc01-c5f8f9cce9e1",
   "metadata": {},
   "outputs": [],
   "source": [
    "# exhaust oldu. Bir daha baştan başlamak istiyorsam bir daha oluşturmam lazım\n",
    "for res in g:\n",
    "    print(res)"
   ]
  },
  {
   "cell_type": "code",
   "execution_count": 11,
   "id": "05f6b947-954c-4acd-9319-17952c94733c",
   "metadata": {},
   "outputs": [],
   "source": [
    "g = square_generator(l)"
   ]
  },
  {
   "cell_type": "markdown",
   "id": "dc8d1605-36bb-4605-90a7-788d884804b4",
   "metadata": {},
   "source": [
    "* Değerleri arasında iterasyonu **for** döngüsü ile de yapabilirim."
   ]
  },
  {
   "cell_type": "code",
   "execution_count": 12,
   "id": "953ad546-e35e-4bf8-82e5-eac74b7312a9",
   "metadata": {},
   "outputs": [
    {
     "name": "stdout",
     "output_type": "stream",
     "text": [
      "1\n",
      "4\n",
      "9\n"
     ]
    }
   ],
   "source": [
    "for res in g:\n",
    "    print(res)"
   ]
  },
  {
   "cell_type": "code",
   "execution_count": 13,
   "id": "d77a372c-c894-44dd-8228-aca04c20a736",
   "metadata": {},
   "outputs": [
    {
     "ename": "StopIteration",
     "evalue": "",
     "output_type": "error",
     "traceback": [
      "\u001b[0;31m---------------------------------------------------------------------------\u001b[0m",
      "\u001b[0;31mStopIteration\u001b[0m                             Traceback (most recent call last)",
      "Cell \u001b[0;32mIn[13], line 1\u001b[0m\n\u001b[0;32m----> 1\u001b[0m \u001b[38;5;28;43mnext\u001b[39;49m\u001b[43m(\u001b[49m\u001b[43mg\u001b[49m\u001b[43m)\u001b[49m\n",
      "\u001b[0;31mStopIteration\u001b[0m: "
     ]
    }
   ],
   "source": [
    "next(g)"
   ]
  },
  {
   "cell_type": "markdown",
   "id": "132feb3a-611a-4dcc-94e9-3e15e7e77264",
   "metadata": {},
   "source": [
    "# List Comprehension Oluşturur Gibi Generator Oluşturma"
   ]
  },
  {
   "cell_type": "code",
   "execution_count": 14,
   "id": "8358be30-efd8-4519-83af-295b87bbac42",
   "metadata": {},
   "outputs": [],
   "source": [
    "l = [x*x for x in [1,2,3,4,5]]"
   ]
  },
  {
   "cell_type": "code",
   "execution_count": 15,
   "id": "d66d91ac-b392-45fb-9262-40cfbb9a8ef2",
   "metadata": {},
   "outputs": [
    {
     "data": {
      "text/plain": [
       "[1, 4, 9, 16, 25]"
      ]
     },
     "execution_count": 15,
     "metadata": {},
     "output_type": "execute_result"
    }
   ],
   "source": [
    "l"
   ]
  },
  {
   "cell_type": "code",
   "execution_count": 22,
   "id": "7d19109b-6338-41d0-b665-b9897d34ea03",
   "metadata": {},
   "outputs": [],
   "source": [
    "g = (x*x for x in [1,2,3,4,5])"
   ]
  },
  {
   "cell_type": "code",
   "execution_count": 23,
   "id": "df6a5904-153c-441a-9890-a95dcea0603a",
   "metadata": {},
   "outputs": [
    {
     "data": {
      "text/plain": [
       "<generator object <genexpr> at 0x1055ba5a0>"
      ]
     },
     "execution_count": 23,
     "metadata": {},
     "output_type": "execute_result"
    }
   ],
   "source": [
    "g"
   ]
  },
  {
   "cell_type": "code",
   "execution_count": 24,
   "id": "ee8a0d3c-6b49-49ae-9ef9-b5e9e6c3392f",
   "metadata": {},
   "outputs": [
    {
     "data": {
      "text/plain": [
       "1"
      ]
     },
     "execution_count": 24,
     "metadata": {},
     "output_type": "execute_result"
    }
   ],
   "source": [
    "next(g)"
   ]
  },
  {
   "cell_type": "code",
   "execution_count": 25,
   "id": "116e810b-9443-48aa-80a0-cebae0d92048",
   "metadata": {},
   "outputs": [
    {
     "name": "stdout",
     "output_type": "stream",
     "text": [
      "4\n",
      "9\n",
      "16\n",
      "25\n"
     ]
    }
   ],
   "source": [
    "# 2'den başladı çünkü öncesinde next(g) çalıştırdık.\n",
    "for e in g:\n",
    "    print(e)"
   ]
  },
  {
   "cell_type": "markdown",
   "id": "30c41828-31fc-489c-8058-f53ac2778e15",
   "metadata": {},
   "source": [
    "# Generator'ı Liste Dönüştürme"
   ]
  },
  {
   "cell_type": "code",
   "execution_count": 26,
   "id": "4420f07b-30dc-4477-a8df-3fb90688a56f",
   "metadata": {},
   "outputs": [],
   "source": [
    "g = (x*x for x in [1,2,3,4,5])"
   ]
  },
  {
   "cell_type": "code",
   "execution_count": 30,
   "id": "1d9abb1d-61a3-4436-897c-8a9387078a5e",
   "metadata": {},
   "outputs": [
    {
     "data": {
      "text/plain": [
       "16"
      ]
     },
     "execution_count": 30,
     "metadata": {},
     "output_type": "execute_result"
    }
   ],
   "source": [
    "next(g)"
   ]
  },
  {
   "cell_type": "code",
   "execution_count": 32,
   "id": "f416453f-9fc4-4c1a-ad51-b1e3a3934745",
   "metadata": {},
   "outputs": [],
   "source": [
    "g = (x*x for x in [1,2,3,4,5])"
   ]
  },
  {
   "cell_type": "code",
   "execution_count": 33,
   "id": "89a115a6-784d-411f-bae9-460595f49321",
   "metadata": {},
   "outputs": [
    {
     "data": {
      "text/plain": [
       "[1, 4, 9, 16, 25]"
      ]
     },
     "execution_count": 33,
     "metadata": {},
     "output_type": "execute_result"
    }
   ],
   "source": [
    "list(g)"
   ]
  },
  {
   "cell_type": "code",
   "execution_count": 34,
   "id": "305c9b9a-4722-4b13-8124-2951987c0e6a",
   "metadata": {},
   "outputs": [],
   "source": [
    "l = [1,2,3,4,5,6]"
   ]
  },
  {
   "cell_type": "code",
   "execution_count": 35,
   "id": "2c84315b-65a9-41d6-b78c-2ff881f71f45",
   "metadata": {},
   "outputs": [],
   "source": [
    "g = square_generator(l)"
   ]
  },
  {
   "cell_type": "code",
   "execution_count": 36,
   "id": "1c2a3bd1-895f-48ed-aaf0-d2634d8ac791",
   "metadata": {},
   "outputs": [
    {
     "data": {
      "text/plain": [
       "[1, 4, 9, 16, 25, 36]"
      ]
     },
     "execution_count": 36,
     "metadata": {},
     "output_type": "execute_result"
    }
   ],
   "source": [
    "list(g)"
   ]
  },
  {
   "cell_type": "code",
   "execution_count": 37,
   "id": "61476b59-f747-4f4d-8dab-a28e923f4610",
   "metadata": {},
   "outputs": [
    {
     "ename": "StopIteration",
     "evalue": "",
     "output_type": "error",
     "traceback": [
      "\u001b[0;31m---------------------------------------------------------------------------\u001b[0m",
      "\u001b[0;31mStopIteration\u001b[0m                             Traceback (most recent call last)",
      "Cell \u001b[0;32mIn[37], line 1\u001b[0m\n\u001b[0;32m----> 1\u001b[0m \u001b[38;5;28;43mnext\u001b[39;49m\u001b[43m(\u001b[49m\u001b[43mg\u001b[49m\u001b[43m)\u001b[49m\n",
      "\u001b[0;31mStopIteration\u001b[0m: "
     ]
    }
   ],
   "source": [
    "next(g)"
   ]
  },
  {
   "cell_type": "markdown",
   "id": "18cc7d56-f54f-4dd4-b1a4-697701236032",
   "metadata": {},
   "source": [
    "# Generators"
   ]
  },
  {
   "cell_type": "markdown",
   "id": "02e0f4f5-a4a4-4e34-9fb9-5aabb4d76943",
   "metadata": {},
   "source": [
    "* Kısa yoldan iterator tanımlamamıza olanak sağlar.\n",
    "\n",
    "* Uğraştıklarımız az elemanlar olunca çok farkını anlamayabiliriz ama fazla sayıda elemanlarla uğraşıyorsak, hepsini bir anda hafızada tutmaya çalışmak çok yer kaplayabilir. Generator'lar istendiğinde elemanları döndürdükleri için bu hafuza sorununa iyi gelebilirler.\n",
    "\n",
    "* *list(generator)* yaptığımız zaman bu özelliğini kaybeder."
   ]
  },
  {
   "cell_type": "markdown",
   "id": "12fabcba-c273-40a5-bb47-07ac1616dd00",
   "metadata": {},
   "source": [
    "# Generator Exercise"
   ]
  },
  {
   "cell_type": "code",
   "execution_count": 38,
   "id": "f52df5cd-0660-4298-98b6-7334f9ab4379",
   "metadata": {},
   "outputs": [],
   "source": [
    "#range() benzeri bir fonksiyon oluşturma"
   ]
  },
  {
   "cell_type": "code",
   "execution_count": 39,
   "id": "98f9a174-bda5-453e-8e7a-ce3e6d72fc82",
   "metadata": {},
   "outputs": [],
   "source": [
    "def range_generator(start, end, step):\n",
    "    current = start\n",
    "\n",
    "    while current < end:\n",
    "        yield current\n",
    "        current += step"
   ]
  },
  {
   "cell_type": "code",
   "execution_count": 40,
   "id": "c735526a-c832-4c8e-889b-bf7743ee085b",
   "metadata": {},
   "outputs": [],
   "source": [
    "r = range_generator(1, 20, 3)"
   ]
  },
  {
   "cell_type": "code",
   "execution_count": 42,
   "id": "07245694-c11e-4ff0-93ac-575180f1f4e7",
   "metadata": {},
   "outputs": [
    {
     "data": {
      "text/plain": [
       "4"
      ]
     },
     "execution_count": 42,
     "metadata": {},
     "output_type": "execute_result"
    }
   ],
   "source": [
    "next(r)"
   ]
  },
  {
   "cell_type": "code",
   "execution_count": 43,
   "id": "2489fc4e-5b78-4895-8471-989cb1d1ef4a",
   "metadata": {},
   "outputs": [
    {
     "data": {
      "text/plain": [
       "7"
      ]
     },
     "execution_count": 43,
     "metadata": {},
     "output_type": "execute_result"
    }
   ],
   "source": [
    "next(r)"
   ]
  },
  {
   "cell_type": "code",
   "execution_count": 44,
   "id": "cdd81eb0-1829-425a-994d-3095408dcb0e",
   "metadata": {},
   "outputs": [
    {
     "data": {
      "text/plain": [
       "10"
      ]
     },
     "execution_count": 44,
     "metadata": {},
     "output_type": "execute_result"
    }
   ],
   "source": [
    "next(r)"
   ]
  },
  {
   "cell_type": "code",
   "execution_count": 45,
   "id": "41eec37b-9adb-44c4-91e7-0eeacd37a222",
   "metadata": {},
   "outputs": [],
   "source": [
    "r = range_generator(1, 20, 3)"
   ]
  },
  {
   "cell_type": "code",
   "execution_count": null,
   "id": "fd18d85f-b9ff-4834-986d-223fdce30d0d",
   "metadata": {},
   "outputs": [],
   "source": []
  }
 ],
 "metadata": {
  "kernelspec": {
   "display_name": "Python 3 (ipykernel)",
   "language": "python",
   "name": "python3"
  },
  "language_info": {
   "codemirror_mode": {
    "name": "ipython",
    "version": 3
   },
   "file_extension": ".py",
   "mimetype": "text/x-python",
   "name": "python",
   "nbconvert_exporter": "python",
   "pygments_lexer": "ipython3",
   "version": "3.11.4"
  }
 },
 "nbformat": 4,
 "nbformat_minor": 5
}
