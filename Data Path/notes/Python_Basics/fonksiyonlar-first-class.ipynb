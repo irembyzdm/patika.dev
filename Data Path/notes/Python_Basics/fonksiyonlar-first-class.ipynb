{
 "cells": [
  {
   "cell_type": "markdown",
   "id": "c5736021-1eb0-48f9-8e71-6553ecf65921",
   "metadata": {},
   "source": [
    "# First Class Function\n",
    "\n",
    "* Python'da fonksiyonlar ***first class funstion***. Bunun anlamı fonksiyonların diğer veri tipleri gibi manipüle edilebilir ve başka fonksiyonlara argüman olarak verilebilir.\n",
    "\n",
    "* Bir fonksiyonu bir değişkene atayabiliriz."
   ]
  },
  {
   "cell_type": "code",
   "execution_count": 1,
   "id": "76fe2851-af6d-45e2-81ea-6039bd68dfc3",
   "metadata": {},
   "outputs": [],
   "source": [
    "def kare(x):\n",
    "    return x**2"
   ]
  },
  {
   "cell_type": "code",
   "execution_count": 2,
   "id": "162edc4f-7e52-4c84-afa1-0730cf0648d2",
   "metadata": {},
   "outputs": [],
   "source": [
    "a = kare"
   ]
  },
  {
   "cell_type": "code",
   "execution_count": 3,
   "id": "b0d8ae43-f7e5-40c6-8b38-9de690c20451",
   "metadata": {},
   "outputs": [
    {
     "data": {
      "text/plain": [
       "25"
      ]
     },
     "execution_count": 3,
     "metadata": {},
     "output_type": "execute_result"
    }
   ],
   "source": [
    "a(5)"
   ]
  },
  {
   "cell_type": "markdown",
   "id": "ed7a6283-d4d6-4b74-a3e9-9134c20652ce",
   "metadata": {},
   "source": [
    "* Bir fonksiyonu başka bir fonksiyona argüman olarak verebiliriz."
   ]
  },
  {
   "cell_type": "code",
   "execution_count": 4,
   "id": "55331ad7-3789-43ce-838d-cb125ca65c53",
   "metadata": {},
   "outputs": [],
   "source": [
    "def f2(x, f):\n",
    "    return f(x) + 4"
   ]
  },
  {
   "cell_type": "code",
   "execution_count": 5,
   "id": "c114b514-2850-49b2-9503-1ccc824c30a3",
   "metadata": {},
   "outputs": [
    {
     "data": {
      "text/plain": [
       "13"
      ]
     },
     "execution_count": 5,
     "metadata": {},
     "output_type": "execute_result"
    }
   ],
   "source": [
    "f2(3, kare)"
   ]
  },
  {
   "cell_type": "code",
   "execution_count": null,
   "id": "ad77f5c8-c70b-4863-a545-041780e914f7",
   "metadata": {},
   "outputs": [],
   "source": []
  }
 ],
 "metadata": {
  "kernelspec": {
   "display_name": "Python 3 (ipykernel)",
   "language": "python",
   "name": "python3"
  },
  "language_info": {
   "codemirror_mode": {
    "name": "ipython",
    "version": 3
   },
   "file_extension": ".py",
   "mimetype": "text/x-python",
   "name": "python",
   "nbconvert_exporter": "python",
   "pygments_lexer": "ipython3",
   "version": "3.11.4"
  }
 },
 "nbformat": 4,
 "nbformat_minor": 5
}
