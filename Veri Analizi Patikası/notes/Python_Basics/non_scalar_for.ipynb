{
 "cells": [
  {
   "cell_type": "markdown",
   "id": "770d51ee-3127-4ad1-b55b-bd42acde9829",
   "metadata": {},
   "source": [
    "# Non-Scalar Veri Tiplerinde *for*"
   ]
  },
  {
   "cell_type": "markdown",
   "id": "73bcbbe7-fce4-4d06-a107-206b0d3cac52",
   "metadata": {},
   "source": [
    "* for döngüsünü işlerken for <değişken> in <obje> yapısında, her iterasyonda değişkenin tek tek objenin elemanlarına eşit olduğunu konuşmuştuk.\n",
    "\n",
    "* list, tuple, dictionary non-scalar veri tiplerini gördük ve bunların hepsinin içsel bir yapısı var, şimdi bunların elemanlarında for kullanarak iterasyon yapmaya bakalım."
   ]
  },
  {
   "cell_type": "markdown",
   "id": "46c8761d-d0ea-4df0-9afc-e28bfe66fa35",
   "metadata": {},
   "source": [
    "# Listelerde İterasyon\n",
    "\n",
    "* Diyelim ki öğrencilerin notlarını bir listede tutuyoruz."
   ]
  },
  {
   "cell_type": "code",
   "execution_count": 1,
   "id": "9597a83d-68ba-4ffe-86f5-50d48b831157",
   "metadata": {},
   "outputs": [],
   "source": [
    "notlar = [90,72,81,77]"
   ]
  },
  {
   "cell_type": "code",
   "execution_count": 2,
   "id": "f499d8a1-f219-466f-a372-d9825cc2b449",
   "metadata": {},
   "outputs": [
    {
     "name": "stdout",
     "output_type": "stream",
     "text": [
      "90\n",
      "72\n",
      "81\n",
      "77\n"
     ]
    }
   ],
   "source": [
    "for e in notlar:\n",
    "    print(e)"
   ]
  },
  {
   "cell_type": "markdown",
   "id": "d031288e-7313-4ed5-b19c-cc67f8447817",
   "metadata": {},
   "source": [
    "*Bu sınıftaki not ortalamasına bakmak istiyor olabilirim.*"
   ]
  },
  {
   "cell_type": "code",
   "execution_count": 3,
   "id": "622623d7-38a1-413a-be62-f4a6bc6976e1",
   "metadata": {},
   "outputs": [
    {
     "name": "stdout",
     "output_type": "stream",
     "text": [
      "80.0\n"
     ]
    }
   ],
   "source": [
    "t = 0\n",
    "\n",
    "for e in notlar:\n",
    "    t = t + e\n",
    "ortalama = t / len(notlar)\n",
    "\n",
    "print(ortalama)"
   ]
  },
  {
   "cell_type": "markdown",
   "id": "8ac351e6-991f-4185-b808-c3b9b2388e81",
   "metadata": {},
   "source": [
    "* Bunun aynısını range() fonksiyonu ile de yapabilirdik.\n",
    "\n",
    "\n",
    "* for e in notlar diyince ilk iterasyonda enin değeri 90, ikincisinde 72... olarak devam etti.\n",
    "\n",
    "\n",
    "* range() ile indexlerde iterasyon yapıp indexing ile değerlerine de ulaşabilirdim. (Range belirli bir listenin indexlerinde iterasyon yapmamı sağlamıyor, range(len(notlar)) diyince bize 0,1,2.. len(notlar)-1 sayılarını verecek, bunlar da listenin indexleriyle örtüşüyor, yoksa range() index verir diye bir şey yok.)"
   ]
  },
  {
   "cell_type": "code",
   "execution_count": 4,
   "id": "b92e8ab6-3487-4e9b-b30c-44bb30f036a2",
   "metadata": {},
   "outputs": [
    {
     "name": "stdout",
     "output_type": "stream",
     "text": [
      "Iteration:  0\n",
      "Iteration:  1\n",
      "Iteration:  2\n",
      "Iteration:  3\n"
     ]
    }
   ],
   "source": [
    "for i in range(4):\n",
    "    print(\"Iteration: \", i)"
   ]
  },
  {
   "cell_type": "code",
   "execution_count": 5,
   "id": "aea183b0-f239-48e5-8a3d-81c7cda72817",
   "metadata": {},
   "outputs": [
    {
     "name": "stdout",
     "output_type": "stream",
     "text": [
      "Ortalama: 80.0\n"
     ]
    }
   ],
   "source": [
    "t = 0\n",
    "\n",
    "for i in range(len(notlar)):\n",
    "    t += notlar[i]\n",
    "    \n",
    "ortalama = t / len(notlar)\n",
    "\n",
    "print(\"Ortalama:\",ortalama)"
   ]
  },
  {
   "cell_type": "markdown",
   "id": "37c8c885-4425-4875-946d-9cb2b2e6a80e",
   "metadata": {},
   "source": [
    "* Diyelim ki öğretmen farketti ki herkese 5 puan az vermiş, herkesin puanını 5 arttırmak istiyor, bunu direkt listenin elemanlarında iterasyon yaparak yapamam. Listenin indexlerine erişip o değeri güncellemem lazım."
   ]
  },
  {
   "cell_type": "code",
   "execution_count": 6,
   "id": "766881fc-e374-44aa-b448-82d0e21e0961",
   "metadata": {},
   "outputs": [
    {
     "data": {
      "text/plain": [
       "[90, 72, 81, 77]"
      ]
     },
     "execution_count": 6,
     "metadata": {},
     "output_type": "execute_result"
    }
   ],
   "source": [
    "notlar"
   ]
  },
  {
   "cell_type": "code",
   "execution_count": 7,
   "id": "7495d8af-2b7f-4407-82b7-3204a08c375e",
   "metadata": {},
   "outputs": [
    {
     "name": "stdout",
     "output_type": "stream",
     "text": [
      "90\n",
      "100\n",
      "[90, 72, 81, 77]\n",
      "--------------\n",
      "72\n",
      "82\n",
      "[90, 72, 81, 77]\n",
      "--------------\n",
      "81\n",
      "91\n",
      "[90, 72, 81, 77]\n",
      "--------------\n",
      "77\n",
      "87\n",
      "[90, 72, 81, 77]\n",
      "--------------\n",
      "[90, 72, 81, 77]\n"
     ]
    }
   ],
   "source": [
    "for e in notlar:\n",
    "    print(e)\n",
    "    e = e + 10\n",
    "    print(e)\n",
    "    print(notlar)\n",
    "    print(\"--------------\")\n",
    "\n",
    "print(notlar)"
   ]
  },
  {
   "cell_type": "markdown",
   "id": "7158dc74-b7e0-410b-b07f-d108e493b470",
   "metadata": {},
   "source": [
    "* Güncelleme mantığını range() ile indexlerinde iterasyon yaparak yapacağım."
   ]
  },
  {
   "cell_type": "code",
   "execution_count": 8,
   "id": "979f45f3-09d6-4b14-b4ae-ae7e29cb3ff2",
   "metadata": {},
   "outputs": [],
   "source": [
    "for i in range(len(notlar)): notlar[i] += 5"
   ]
  },
  {
   "cell_type": "code",
   "execution_count": 9,
   "id": "83124d7a-4af8-4b88-abf2-1210429398a4",
   "metadata": {},
   "outputs": [
    {
     "data": {
      "text/plain": [
       "[95, 77, 86, 82]"
      ]
     },
     "execution_count": 9,
     "metadata": {},
     "output_type": "execute_result"
    }
   ],
   "source": [
    "notlar"
   ]
  },
  {
   "cell_type": "markdown",
   "id": "035a22ad-0e3a-411a-800e-3ee6e938f043",
   "metadata": {},
   "source": [
    "* continue mantığının alıştırması: Diyelim ki öğretmen 2. öğrencinin kağıdını doğru okumuş, 2. öğrenci (index 1'deki) hariç hepsinin değerini 5 arttıracak:"
   ]
  },
  {
   "cell_type": "code",
   "execution_count": 10,
   "id": "d1693bf7-e094-4781-80b3-2507e6042f2d",
   "metadata": {},
   "outputs": [],
   "source": [
    "notlar = [90,72,81,77]"
   ]
  },
  {
   "cell_type": "code",
   "execution_count": 11,
   "id": "7545e324-c175-477f-8c47-e637dbd5ae58",
   "metadata": {},
   "outputs": [
    {
     "name": "stdout",
     "output_type": "stream",
     "text": [
      "[95, 72, 86, 82]\n"
     ]
    }
   ],
   "source": [
    "for i in range(len(notlar)):\n",
    "\n",
    "    if i == 1:\n",
    "        continue\n",
    "\n",
    "    notlar[i] += 5\n",
    "\n",
    "print(notlar)"
   ]
  },
  {
   "cell_type": "markdown",
   "id": "4292b9e3-8c62-41a1-b7c2-013a37d15887",
   "metadata": {},
   "source": [
    "* break egzersizi yapalım.\n",
    "\n",
    "* Diyelim ki bir listenin içinde belirli bir eleman var mı diye kontrol etmek istiyoruz. Bulunca aramaya devam etmeyeceğim. Devam etme mantığını break ile sağlayacağım.\n",
    "\n",
    "* İlk kullanıcıya hangi sayıyı aradığını soracağız, sonra bu sayı var mı kontrol edeceğiz."
   ]
  },
  {
   "cell_type": "code",
   "execution_count": 13,
   "id": "aa30468c-9e72-4e33-9374-c7c597a23219",
   "metadata": {},
   "outputs": [
    {
     "name": "stdin",
     "output_type": "stream",
     "text": [
      "Hangi sayıyı kontrol edeyim? 100\n"
     ]
    },
    {
     "name": "stdout",
     "output_type": "stream",
     "text": [
      "2\n",
      "3\n",
      "40\n",
      "100\n",
      "Buldum\n"
     ]
    }
   ],
   "source": [
    "x = int(input(\"Hangi sayıyı kontrol edeyim?\"))\n",
    "\n",
    "l = [2,3,40,100,10,1]\n",
    "\n",
    "for e in l:\n",
    "    print(e)  #iterasyon break ile çıkmış mı görelim diye.\n",
    "    if e == x:\n",
    "        print(\"Buldum\")\n",
    "        break"
   ]
  },
  {
   "cell_type": "markdown",
   "id": "ba5b350a-0098-4152-aacc-12a6b7b11174",
   "metadata": {},
   "source": [
    "# Tuple'lerda İterasyon\n",
    "\n",
    "* Listelerde iterasyondan hiç bir farkı yok. Değerlerini güncelleyemiyoruz ama bu zaten döngüden bağımsız bir durum oluyor."
   ]
  },
  {
   "cell_type": "code",
   "execution_count": 14,
   "id": "8e2302af-d795-437f-913f-af16e8fd578c",
   "metadata": {},
   "outputs": [],
   "source": [
    "t = (1,2,3,4)"
   ]
  },
  {
   "cell_type": "code",
   "execution_count": 15,
   "id": "69436d30-19d9-4161-89eb-0d217ed8fbae",
   "metadata": {},
   "outputs": [
    {
     "name": "stdout",
     "output_type": "stream",
     "text": [
      "1\n",
      "2\n",
      "3\n",
      "4\n"
     ]
    }
   ],
   "source": [
    "for e in t:\n",
    "    print(e)"
   ]
  },
  {
   "cell_type": "code",
   "execution_count": 17,
   "id": "5a859bba-652a-4d6a-86fd-f8ea4adba5ea",
   "metadata": {},
   "outputs": [
    {
     "name": "stdout",
     "output_type": "stream",
     "text": [
      "10\n"
     ]
    }
   ],
   "source": [
    "toplam = 0\n",
    "for e in t:\n",
    "    toplam = toplam + e\n",
    "\n",
    "print(toplam)"
   ]
  },
  {
   "cell_type": "code",
   "execution_count": 19,
   "id": "12b8d21b-bbb5-414b-800d-9e495a0c743a",
   "metadata": {},
   "outputs": [
    {
     "name": "stdout",
     "output_type": "stream",
     "text": [
      "1\n",
      "2\n",
      "3\n",
      "4\n"
     ]
    }
   ],
   "source": [
    "for i in range(len(t)):\n",
    "    print(t[i])"
   ]
  },
  {
   "cell_type": "markdown",
   "id": "1139a3a8-b163-46d6-80ae-347bcbb8ce01",
   "metadata": {},
   "source": [
    "# Dictionary'lerde İterasyon\n",
    "\n",
    "* Burada durum biraz farklı. Default olarak elemanlarında dolaş diyince key'lerde iterasyon yapıyor. Zaten index mantığı olmadığı için range() ile yapmak çoğu zaman karşımıza çıkmaz."
   ]
  },
  {
   "cell_type": "code",
   "execution_count": 20,
   "id": "ef775836-0f74-4d7a-9b7b-3bd4b6850602",
   "metadata": {},
   "outputs": [],
   "source": [
    "d = {\"student_1\": [90,89], \"student_2\": [80,83], \"student_3\": [72,71]}"
   ]
  },
  {
   "cell_type": "code",
   "execution_count": 21,
   "id": "57cc2f58-033e-4071-8072-3bf725c89efa",
   "metadata": {},
   "outputs": [
    {
     "name": "stdout",
     "output_type": "stream",
     "text": [
      "student_1\n",
      "student_2\n",
      "student_3\n"
     ]
    }
   ],
   "source": [
    "for k in d:\n",
    "    print(k)"
   ]
  },
  {
   "cell_type": "markdown",
   "id": "acd92f1d-a582-4ea2-8e86-c2829b9e71b5",
   "metadata": {},
   "source": [
    "*değerlerine ulaşmak istiyorsam şöyle:*"
   ]
  },
  {
   "cell_type": "code",
   "execution_count": 22,
   "id": "0b69a16b-7e2a-4c98-ad80-49a052c1db65",
   "metadata": {},
   "outputs": [
    {
     "name": "stdout",
     "output_type": "stream",
     "text": [
      "[90, 89]\n",
      "[80, 83]\n",
      "[72, 71]\n"
     ]
    }
   ],
   "source": [
    "for k in d:\n",
    "    v = d[k]\n",
    "    print(v)"
   ]
  },
  {
   "cell_type": "markdown",
   "id": "483c3747-ebdf-4b93-9605-2bae6530936c",
   "metadata": {},
   "source": [
    "* Veya d.values() diyerek value'lerında iterasyon yapabilirim. Burada for <değişken> in <obje> yapısında <değişken> int vs gibi şeyler değil liste gibi yapılar da olabilir iterasyon içerisinde, burada da öyle oldu.\n",
    "\n",
    "* bu .values() 'dan dolayı olan bir şey değil, dictionary'nin value'lerı int olsa böyle olmazdı."
   ]
  },
  {
   "cell_type": "code",
   "execution_count": 23,
   "id": "aaec3c86-290c-4225-9bae-f87b88ec7747",
   "metadata": {},
   "outputs": [],
   "source": [
    "d = {\"student_1\": 90, \"student_2\": 80, \"student_3\": 72}"
   ]
  },
  {
   "cell_type": "code",
   "execution_count": 24,
   "id": "fa775a7a-6a52-4ecf-8ab4-65ea87e76d18",
   "metadata": {},
   "outputs": [
    {
     "name": "stdout",
     "output_type": "stream",
     "text": [
      "90\n",
      "80\n",
      "72\n"
     ]
    }
   ],
   "source": [
    "for v in d.values():\n",
    "    print(v)"
   ]
  },
  {
   "cell_type": "code",
   "execution_count": 25,
   "id": "e179cb04-6f4c-4b07-9cd2-5fce266b5727",
   "metadata": {},
   "outputs": [],
   "source": [
    "d = {\"student_1\": [90,89], \"student_2\": [80,83], \"student_3\": [72,71]}"
   ]
  },
  {
   "cell_type": "code",
   "execution_count": 26,
   "id": "1f680fcc-937a-4b04-aeb2-447ec8948185",
   "metadata": {},
   "outputs": [
    {
     "name": "stdout",
     "output_type": "stream",
     "text": [
      "[90, 89]\n",
      "[80, 83]\n",
      "[72, 71]\n"
     ]
    }
   ],
   "source": [
    "for v in d.values():\n",
    "    print(v)"
   ]
  },
  {
   "cell_type": "markdown",
   "id": "b37e5d4e-cb56-47ab-82a3-3f9ebfcdfc34",
   "metadata": {},
   "source": [
    "* Burada v, her iterasyonda int\n",
    "\n",
    "* 85'den fazla alan biri var mı diye bakmak istiyorum diyelim, ve bunun kim olduğunu (olduklarını) bulmak istiyorum."
   ]
  },
  {
   "cell_type": "code",
   "execution_count": 27,
   "id": "3ed65f42-611d-4b7e-b8c6-ae9959a5f569",
   "metadata": {},
   "outputs": [],
   "source": [
    "d = {\"student_1\": 90, \"student_2\": 80, \"student_3\": 72}"
   ]
  },
  {
   "cell_type": "code",
   "execution_count": 28,
   "id": "dd842806-5659-4005-9e27-1d33ffb9e321",
   "metadata": {},
   "outputs": [
    {
     "name": "stdout",
     "output_type": "stream",
     "text": [
      "student_1\n"
     ]
    }
   ],
   "source": [
    "for k in d:\n",
    "    value = d[k]\n",
    "\n",
    "    if value > 85:\n",
    "        print(k)"
   ]
  },
  {
   "cell_type": "markdown",
   "id": "d9e5a3ea-3c12-4033-9aac-209be44fc018",
   "metadata": {},
   "source": [
    "* Aynı anda hem key hem de value'larda iterasyon yapmak için:\n",
    "\n",
    "* Variable unpacking konusunda bir tuple, liste gibi yapıların değerlerini birden çok değişkene bir seferde eşitlemeyi görmüştük.\n",
    "\n",
    "* Bunun aynısını iterasyonda da yapabiliriz."
   ]
  },
  {
   "cell_type": "code",
   "execution_count": 29,
   "id": "aceb4d81-bd9d-464c-8e02-de1fab14e70b",
   "metadata": {},
   "outputs": [
    {
     "name": "stdout",
     "output_type": "stream",
     "text": [
      "key değeri: student_1 value değeri: 90\n",
      "key değeri: student_2 value değeri: 80\n",
      "key değeri: student_3 value değeri: 72\n"
     ]
    }
   ],
   "source": [
    "for k,v in d.items():\n",
    "    print(\"key değeri:\", k, \"value değeri:\", v)"
   ]
  },
  {
   "cell_type": "code",
   "execution_count": 31,
   "id": "565a566c-1b51-4adf-b32b-dd1c0c038709",
   "metadata": {},
   "outputs": [
    {
     "name": "stdout",
     "output_type": "stream",
     "text": [
      "2\n"
     ]
    }
   ],
   "source": [
    "for i in range(2,5,3):\n",
    "    print(i)"
   ]
  },
  {
   "cell_type": "code",
   "execution_count": null,
   "id": "bafc051f-14d5-49d1-abc3-3be9fa28ad8f",
   "metadata": {},
   "outputs": [],
   "source": []
  }
 ],
 "metadata": {
  "kernelspec": {
   "display_name": "Python 3 (ipykernel)",
   "language": "python",
   "name": "python3"
  },
  "language_info": {
   "codemirror_mode": {
    "name": "ipython",
    "version": 3
   },
   "file_extension": ".py",
   "mimetype": "text/x-python",
   "name": "python",
   "nbconvert_exporter": "python",
   "pygments_lexer": "ipython3",
   "version": "3.11.4"
  }
 },
 "nbformat": 4,
 "nbformat_minor": 5
}
