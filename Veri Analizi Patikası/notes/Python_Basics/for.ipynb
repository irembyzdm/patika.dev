{
 "cells": [
  {
   "cell_type": "markdown",
   "id": "c1c85d86-66ba-4aa2-98df-fd79b52aab08",
   "metadata": {},
   "source": [
    "# for"
   ]
  },
  {
   "cell_type": "markdown",
   "id": "5eaf55a4-a877-4eb2-912b-630965a0d78c",
   "metadata": {},
   "source": [
    "* for döngüsü in'den sonra yazdığımız yapının bütün değerleri üzerinde dolanıp, eleman sayısı kadar içindeki kodu çalıştıracak. x in <obje> yapısı ile tanımlandığında, x döngünün her adımında in den sonra tanımlanan yapının elemanlarının değerlerini alacak.\n"
   ]
  },
  {
   "cell_type": "raw",
   "id": "f432f74c-198f-4880-8e70-5e2b39dec4d8",
   "metadata": {},
   "source": [
    "for <değişken> in <obje>"
   ]
  },
  {
   "cell_type": "markdown",
   "id": "d835bc01-eb6c-475b-a645-1dc1bcb61514",
   "metadata": {},
   "source": [
    "* for döngüsünün en başında <değişken>, <obje>'nin ilk elemanının değerini alıyor. İçindeki kod 1 kere çalışıp bittikten sonra ikinci kere çalıştırıyor ve <değişken>, <obje>'nin ikinci elemanının değerini alıyor. Bu <obje>'nin tüm elemanları bitene kadar devam ediyor."
   ]
  },
  {
   "cell_type": "code",
   "execution_count": 1,
   "id": "7561b10e-f533-453d-a18e-c6b83af483fd",
   "metadata": {},
   "outputs": [
    {
     "name": "stdout",
     "output_type": "stream",
     "text": [
      "h\n",
      "e\n",
      "y\n"
     ]
    }
   ],
   "source": [
    "for c in \"hey\":\n",
    "    print(c)"
   ]
  },
  {
   "cell_type": "code",
   "execution_count": 2,
   "id": "aca81a46-2992-4688-99fd-77013d51cb77",
   "metadata": {},
   "outputs": [
    {
     "name": "stdout",
     "output_type": "stream",
     "text": [
      "5050\n"
     ]
    }
   ],
   "source": [
    "toplam = 0\n",
    "\n",
    "for x in range(101):\n",
    "    toplam = toplam + x\n",
    "print(toplam)"
   ]
  },
  {
   "cell_type": "code",
   "execution_count": 3,
   "id": "f7a9abc5-ba26-408f-9a8f-b7f2771155ae",
   "metadata": {},
   "outputs": [
    {
     "name": "stdout",
     "output_type": "stream",
     "text": [
      "0\n",
      "1\n",
      "2\n",
      "3\n",
      "4\n"
     ]
    }
   ],
   "source": [
    "for x in range(5):\n",
    "    print(x)"
   ]
  },
  {
   "cell_type": "code",
   "execution_count": 6,
   "id": "3917b568-f42d-4bf8-adc7-e2b0badccbd3",
   "metadata": {},
   "outputs": [
    {
     "name": "stdout",
     "output_type": "stream",
     "text": [
      "3125\n"
     ]
    }
   ],
   "source": [
    "toplam = 1\n",
    "for i in range(5):\n",
    "    toplam *=5 #toplam = toplam*5\n",
    "print(toplam)"
   ]
  },
  {
   "cell_type": "code",
   "execution_count": 7,
   "id": "b4b62f97-9171-4149-9e4e-9c918c43247b",
   "metadata": {},
   "outputs": [
    {
     "name": "stdout",
     "output_type": "stream",
     "text": [
      "3125\n"
     ]
    }
   ],
   "source": [
    "toplam = 1\n",
    "for _ in range(5):\n",
    "    toplam *=5 #toplam = toplam*5\n",
    "print(toplam)"
   ]
  },
  {
   "cell_type": "markdown",
   "id": "d44106df-0abe-477e-9a6f-94e9c6fce15f",
   "metadata": {},
   "source": [
    "# for vs while"
   ]
  },
  {
   "cell_type": "markdown",
   "id": "f28d3c92-f2a3-4354-b83f-1bec15a991d8",
   "metadata": {},
   "source": [
    "* while yapısında kaç kere iterasyon yapacağımızı bilmiyoruz, for'da eleman sayısı kadar iterasyon var. (break veya continue ile bölünmezse)\n",
    "\n",
    "\n",
    "* Aslında for döngüsünü while döngüsünü kullanarak yazabiliriz, ama while döngüsünü for kullanarak yazamayız, çünkü for'da test mekanizması yok"
   ]
  },
  {
   "cell_type": "code",
   "execution_count": 8,
   "id": "89d31daf-df3c-40cd-a691-c8f66dc073f8",
   "metadata": {},
   "outputs": [
    {
     "name": "stdout",
     "output_type": "stream",
     "text": [
      "h\n",
      "e\n",
      "y\n"
     ]
    }
   ],
   "source": [
    "s = \"hey\"\n",
    "for c in s:\n",
    "    print(c)"
   ]
  },
  {
   "cell_type": "code",
   "execution_count": 9,
   "id": "dd4dc063-58e5-4423-af29-3fc2c3506236",
   "metadata": {},
   "outputs": [
    {
     "name": "stdout",
     "output_type": "stream",
     "text": [
      "h\n",
      "e\n",
      "y\n"
     ]
    }
   ],
   "source": [
    "n = len(s)\n",
    "index = 0\n",
    "\n",
    "while index < n:\n",
    "        print(s[index])\n",
    "        index += 1"
   ]
  },
  {
   "cell_type": "code",
   "execution_count": 10,
   "id": "7615cee2-c4a5-43c0-a7c8-b21fe2c07403",
   "metadata": {},
   "outputs": [
    {
     "name": "stdout",
     "output_type": "stream",
     "text": [
      "81\n"
     ]
    }
   ],
   "source": [
    "sonuc=1\n",
    "for i in range(4):\n",
    "    sonuc*=3\n",
    "print(sonuc)"
   ]
  },
  {
   "cell_type": "code",
   "execution_count": null,
   "id": "2f9c7f43-ebca-4314-9a46-a52fd1930d88",
   "metadata": {},
   "outputs": [],
   "source": []
  }
 ],
 "metadata": {
  "kernelspec": {
   "display_name": "Python 3 (ipykernel)",
   "language": "python",
   "name": "python3"
  },
  "language_info": {
   "codemirror_mode": {
    "name": "ipython",
    "version": 3
   },
   "file_extension": ".py",
   "mimetype": "text/x-python",
   "name": "python",
   "nbconvert_exporter": "python",
   "pygments_lexer": "ipython3",
   "version": "3.11.4"
  }
 },
 "nbformat": 4,
 "nbformat_minor": 5
}
