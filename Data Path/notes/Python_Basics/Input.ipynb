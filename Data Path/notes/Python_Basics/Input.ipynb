{
 "cells": [
  {
   "cell_type": "markdown",
   "id": "4f5fab54-32a6-438b-8e92-8cb94bab33c0",
   "metadata": {},
   "source": [
    "# Input\n",
    "\n",
    "\n",
    "Bazen kullanacağımız değeri kullanıcıdan almak isteyebiliriz. Bunu input metodu ile yapacağız.\n",
    "\n",
    "\n",
    "input'un içinde yazacağımız bize kullanıcıya gösterilecek yazıyı verecek, kullanıcıdan girdi bekleyip enter'a basmasını bekleyecek, ve girdiyi string olarak döndürecek."
   ]
  },
  {
   "cell_type": "code",
   "execution_count": 3,
   "id": "7a1e54bc-ca88-4e64-8f4d-b4e5e8ab3642",
   "metadata": {},
   "outputs": [
    {
     "name": "stdin",
     "output_type": "stream",
     "text": [
      "Bir sayı giriniz: 5\n"
     ]
    }
   ],
   "source": [
    "x = input(\"Bir sayı giriniz:\")"
   ]
  },
  {
   "cell_type": "code",
   "execution_count": 4,
   "id": "e87e37dd-43b6-462d-91a6-fe20e20a7e51",
   "metadata": {},
   "outputs": [
    {
     "ename": "TypeError",
     "evalue": "can only concatenate str (not \"int\") to str",
     "output_type": "error",
     "traceback": [
      "\u001b[0;31m---------------------------------------------------------------------------\u001b[0m",
      "\u001b[0;31mTypeError\u001b[0m                                 Traceback (most recent call last)",
      "Cell \u001b[0;32mIn[4], line 1\u001b[0m\n\u001b[0;32m----> 1\u001b[0m \u001b[43mx\u001b[49m\u001b[38;5;241;43m+\u001b[39;49m\u001b[38;5;241;43m10\u001b[39;49m\n",
      "\u001b[0;31mTypeError\u001b[0m: can only concatenate str (not \"int\") to str"
     ]
    }
   ],
   "source": [
    "x+10"
   ]
  },
  {
   "cell_type": "code",
   "execution_count": 5,
   "id": "a5e35746-e760-41da-8081-4d8f4471da2d",
   "metadata": {},
   "outputs": [
    {
     "data": {
      "text/plain": [
       "str"
      ]
     },
     "execution_count": 5,
     "metadata": {},
     "output_type": "execute_result"
    }
   ],
   "source": [
    "type(x)"
   ]
  },
  {
   "cell_type": "code",
   "execution_count": 6,
   "id": "a5ca442c-d169-4701-986c-3b4c93c571f1",
   "metadata": {},
   "outputs": [
    {
     "data": {
      "text/plain": [
       "15"
      ]
     },
     "execution_count": 6,
     "metadata": {},
     "output_type": "execute_result"
    }
   ],
   "source": [
    "int(x) + 10"
   ]
  },
  {
   "cell_type": "code",
   "execution_count": 8,
   "id": "df519843-1e0b-4636-b578-977022f7d817",
   "metadata": {},
   "outputs": [
    {
     "name": "stdin",
     "output_type": "stream",
     "text": [
      "Bir sayı girin: 5\n"
     ]
    }
   ],
   "source": [
    "x = int(input(\"Bir sayı girin:\"))"
   ]
  },
  {
   "cell_type": "code",
   "execution_count": 9,
   "id": "ed055336-f74e-43de-b7c5-0fae0478fcc0",
   "metadata": {},
   "outputs": [
    {
     "data": {
      "text/plain": [
       "15"
      ]
     },
     "execution_count": 9,
     "metadata": {},
     "output_type": "execute_result"
    }
   ],
   "source": [
    "x + 10"
   ]
  },
  {
   "cell_type": "code",
   "execution_count": 10,
   "id": "2843d217-72b6-48ee-befb-a513f6637794",
   "metadata": {},
   "outputs": [
    {
     "data": {
      "text/plain": [
       "int"
      ]
     },
     "execution_count": 10,
     "metadata": {},
     "output_type": "execute_result"
    }
   ],
   "source": [
    "type(x)"
   ]
  },
  {
   "cell_type": "code",
   "execution_count": 11,
   "id": "d67cd659-f107-4de3-87e2-83f34fd7a4bc",
   "metadata": {},
   "outputs": [
    {
     "name": "stdin",
     "output_type": "stream",
     "text": [
      "Mesajı girin: Merhaba\n"
     ]
    }
   ],
   "source": [
    "mesaj = input(\"Mesajı girin:\")"
   ]
  },
  {
   "cell_type": "code",
   "execution_count": 12,
   "id": "925c194c-1fbe-4206-a9c8-5053b8a50fa7",
   "metadata": {},
   "outputs": [
    {
     "name": "stdin",
     "output_type": "stream",
     "text": [
      "İsim girin: Ulaş\n"
     ]
    }
   ],
   "source": [
    "isim = input(\"İsim girin:\")"
   ]
  },
  {
   "cell_type": "code",
   "execution_count": 13,
   "id": "b1d8b23b-9c8c-4640-bc89-a12385df85c8",
   "metadata": {},
   "outputs": [
    {
     "data": {
      "text/plain": [
       "'Merhaba Ulaş'"
      ]
     },
     "execution_count": 13,
     "metadata": {},
     "output_type": "execute_result"
    }
   ],
   "source": [
    "mesaj + \" \" + isim"
   ]
  },
  {
   "cell_type": "markdown",
   "id": "611ab414-9be0-4927-85dd-764364137fa1",
   "metadata": {},
   "source": []
  }
 ],
 "metadata": {
  "kernelspec": {
   "display_name": "Python 3 (ipykernel)",
   "language": "python",
   "name": "python3"
  },
  "language_info": {
   "codemirror_mode": {
    "name": "ipython",
    "version": 3
   },
   "file_extension": ".py",
   "mimetype": "text/x-python",
   "name": "python",
   "nbconvert_exporter": "python",
   "pygments_lexer": "ipython3",
   "version": "3.11.4"
  }
 },
 "nbformat": 4,
 "nbformat_minor": 5
}
