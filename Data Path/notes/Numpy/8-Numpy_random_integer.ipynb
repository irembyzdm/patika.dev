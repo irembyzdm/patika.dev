{
 "cells": [
  {
   "cell_type": "code",
   "execution_count": 1,
   "id": "071b687d-d06e-4fc6-807a-262c76eb6e3c",
   "metadata": {},
   "outputs": [],
   "source": [
    "import numpy as np"
   ]
  },
  {
   "cell_type": "markdown",
   "id": "257161d6-5091-4e67-9651-89d705d7f615",
   "metadata": {},
   "source": [
    "# Random Integerlar ile Array Oluşturmak"
   ]
  },
  {
   "cell_type": "markdown",
   "id": "97410460-48c6-48ce-a0fd-19c69f46130d",
   "metadata": {},
   "source": [
    "* [low, high)"
   ]
  },
  {
   "cell_type": "code",
   "execution_count": 2,
   "id": "85b1bfa0-de9b-4765-8115-e70839ab457e",
   "metadata": {},
   "outputs": [
    {
     "data": {
      "text/plain": [
       "array([[8, 5, 5, 5],\n",
       "       [2, 2, 6, 5],\n",
       "       [4, 9, 5, 2]])"
      ]
     },
     "execution_count": 2,
     "metadata": {},
     "output_type": "execute_result"
    }
   ],
   "source": [
    "np.random.randint(1, 10, (3,4))"
   ]
  },
  {
   "cell_type": "code",
   "execution_count": 3,
   "id": "71f2a9ac-d50f-4b71-9da2-b5edfce9ce62",
   "metadata": {},
   "outputs": [
    {
     "data": {
      "text/plain": [
       "array([[[5, 5, 5, 7, 8],\n",
       "        [4, 5, 7, 9, 8],\n",
       "        [9, 8, 8, 4, 3],\n",
       "        [6, 4, 6, 6, 1],\n",
       "        [3, 9, 3, 3, 6]],\n",
       "\n",
       "       [[5, 4, 1, 4, 5],\n",
       "        [4, 8, 3, 9, 7],\n",
       "        [4, 6, 2, 5, 4],\n",
       "        [5, 4, 3, 6, 3],\n",
       "        [2, 6, 1, 6, 9]],\n",
       "\n",
       "       [[7, 6, 6, 2, 8],\n",
       "        [2, 1, 8, 3, 5],\n",
       "        [1, 3, 5, 8, 3],\n",
       "        [7, 8, 3, 5, 8],\n",
       "        [4, 4, 5, 3, 6]]])"
      ]
     },
     "execution_count": 3,
     "metadata": {},
     "output_type": "execute_result"
    }
   ],
   "source": [
    "np.random.randint(1, 10, (3,5,5))"
   ]
  },
  {
   "cell_type": "code",
   "execution_count": 4,
   "id": "f145e36c-75cd-4584-bc9f-ddc7245102ca",
   "metadata": {},
   "outputs": [
    {
     "data": {
      "text/plain": [
       "1"
      ]
     },
     "execution_count": 4,
     "metadata": {},
     "output_type": "execute_result"
    }
   ],
   "source": [
    "np.random.randint(1, 2)"
   ]
  },
  {
   "cell_type": "code",
   "execution_count": 5,
   "id": "29286ffc-37b6-44d2-876d-3a029231dabe",
   "metadata": {},
   "outputs": [],
   "source": [
    "d = {}\n",
    "\n",
    "for _ in range(20000):\n",
    "    val = np.random.randint(1,11)\n",
    "\n",
    "    if val not in d:\n",
    "        d[val] = 1\n",
    "    else:\n",
    "        d[val] += 1"
   ]
  },
  {
   "cell_type": "code",
   "execution_count": 6,
   "id": "888a532e-1316-40e2-b516-9e15a5f34275",
   "metadata": {},
   "outputs": [
    {
     "data": {
      "text/plain": [
       "{5: 1949,\n",
       " 4: 1954,\n",
       " 8: 1978,\n",
       " 2: 1993,\n",
       " 3: 2050,\n",
       " 9: 2021,\n",
       " 10: 2017,\n",
       " 1: 1936,\n",
       " 7: 2060,\n",
       " 6: 2042}"
      ]
     },
     "execution_count": 6,
     "metadata": {},
     "output_type": "execute_result"
    }
   ],
   "source": [
    "d"
   ]
  },
  {
   "cell_type": "code",
   "execution_count": null,
   "id": "39f21263-5ac1-4dcf-a92b-65fbc947305b",
   "metadata": {},
   "outputs": [],
   "source": []
  }
 ],
 "metadata": {
  "kernelspec": {
   "display_name": "Python 3 (ipykernel)",
   "language": "python",
   "name": "python3"
  },
  "language_info": {
   "codemirror_mode": {
    "name": "ipython",
    "version": 3
   },
   "file_extension": ".py",
   "mimetype": "text/x-python",
   "name": "python",
   "nbconvert_exporter": "python",
   "pygments_lexer": "ipython3",
   "version": "3.11.4"
  }
 },
 "nbformat": 4,
 "nbformat_minor": 5
}
