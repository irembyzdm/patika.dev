{
 "cells": [
  {
   "cell_type": "markdown",
   "id": "da994678-6284-4d52-80d1-e36ab1b72e18",
   "metadata": {},
   "source": [
    "# Expressions"
   ]
  },
  {
   "cell_type": "markdown",
   "id": "ac168fcd-accc-4eae-a723-ecb3ae844e56",
   "metadata": {},
   "source": [
    "Objeler(objects) ve operatörlerin(operator) birleşimi expressionları oluşturur."
   ]
  },
  {
   "cell_type": "markdown",
   "id": "23806a70-ea42-4c44-8836-baf9d36bb186",
   "metadata": {},
   "source": [
    "Expressionların değerleri vardır ve tabii ki de bunların tipleri vardır.İ"
   ]
  },
  {
   "cell_type": "markdown",
   "id": "87ef2914-8b2b-4b11-a1f4-07bd31e1d167",
   "metadata": {},
   "source": [
    "İfadeler şöyle oluşturulur: (object)(operator)(object)"
   ]
  },
  {
   "cell_type": "markdown",
   "id": "798a555d-32a8-42b8-bcca-64aeb344f158",
   "metadata": {},
   "source": [
    "Expressionların tiplerinin operator'ın uygulandığı objelerin tiplerini belirler."
   ]
  },
  {
   "cell_type": "markdown",
   "id": "af5d3c03-5f01-481e-9f99-0f33be6cb1b7",
   "metadata": {},
   "source": [
    "# + operator"
   ]
  },
  {
   "cell_type": "code",
   "execution_count": 2,
   "id": "30c12b13-6c89-4a94-b715-13f88b74d409",
   "metadata": {},
   "outputs": [
    {
     "data": {
      "text/plain": [
       "4"
      ]
     },
     "execution_count": 2,
     "metadata": {},
     "output_type": "execute_result"
    }
   ],
   "source": [
    "2 + 2"
   ]
  },
  {
   "cell_type": "code",
   "execution_count": 3,
   "id": "39c16f0f-06c4-4f25-8393-4f5cc033bdb9",
   "metadata": {},
   "outputs": [
    {
     "data": {
      "text/plain": [
       "int"
      ]
     },
     "execution_count": 3,
     "metadata": {},
     "output_type": "execute_result"
    }
   ],
   "source": [
    "type(2+2)"
   ]
  },
  {
   "cell_type": "code",
   "execution_count": 4,
   "id": "065cf21c-2d06-4c40-92e1-043aecb94947",
   "metadata": {},
   "outputs": [
    {
     "data": {
      "text/plain": [
       "4.9"
      ]
     },
     "execution_count": 4,
     "metadata": {},
     "output_type": "execute_result"
    }
   ],
   "source": [
    "2.4 + 2.5"
   ]
  },
  {
   "cell_type": "code",
   "execution_count": 5,
   "id": "d551427f-aa18-4013-a236-23b99018a568",
   "metadata": {},
   "outputs": [
    {
     "data": {
      "text/plain": [
       "float"
      ]
     },
     "execution_count": 5,
     "metadata": {},
     "output_type": "execute_result"
    }
   ],
   "source": [
    "type(2.4 + 2.5)"
   ]
  },
  {
   "cell_type": "markdown",
   "id": "a202cfc7-64e3-4a04-a02d-e8fdd1c12c71",
   "metadata": {},
   "source": [
    "Eğer objelerden biri bile float ise toplama işleminde expression'ı tipi float olur."
   ]
  },
  {
   "cell_type": "code",
   "execution_count": 6,
   "id": "94900f12-5719-4a4e-abb6-7be4c7d67869",
   "metadata": {},
   "outputs": [
    {
     "data": {
      "text/plain": [
       "5.4"
      ]
     },
     "execution_count": 6,
     "metadata": {},
     "output_type": "execute_result"
    }
   ],
   "source": [
    "2.4 + 3"
   ]
  },
  {
   "cell_type": "code",
   "execution_count": 7,
   "id": "f3d0e2ae-aef1-4fa7-a1da-719e3a50916b",
   "metadata": {},
   "outputs": [
    {
     "data": {
      "text/plain": [
       "float"
      ]
     },
     "execution_count": 7,
     "metadata": {},
     "output_type": "execute_result"
    }
   ],
   "source": [
    "type(2.4 + 3)"
   ]
  },
  {
   "cell_type": "markdown",
   "id": "6200ed84-83b1-4291-8e2a-be1400040440",
   "metadata": {},
   "source": [
    "# - operator"
   ]
  },
  {
   "cell_type": "code",
   "execution_count": 8,
   "id": "bfa7601e-3fcb-4855-bb9c-d11a75cbc97d",
   "metadata": {},
   "outputs": [
    {
     "data": {
      "text/plain": [
       "1"
      ]
     },
     "execution_count": 8,
     "metadata": {},
     "output_type": "execute_result"
    }
   ],
   "source": [
    "3-2"
   ]
  },
  {
   "cell_type": "code",
   "execution_count": 9,
   "id": "fdc9790a-1afc-4565-9909-5a008cff44b2",
   "metadata": {},
   "outputs": [
    {
     "data": {
      "text/plain": [
       "0.5"
      ]
     },
     "execution_count": 9,
     "metadata": {},
     "output_type": "execute_result"
    }
   ],
   "source": [
    "2.6 - 2.1"
   ]
  },
  {
   "cell_type": "code",
   "execution_count": 10,
   "id": "419a97ca-87bf-442e-9f8c-226ed7153745",
   "metadata": {},
   "outputs": [
    {
     "data": {
      "text/plain": [
       "float"
      ]
     },
     "execution_count": 10,
     "metadata": {},
     "output_type": "execute_result"
    }
   ],
   "source": [
    "type (2-2.1)"
   ]
  },
  {
   "cell_type": "markdown",
   "id": "27f798ef-0f8a-4b58-be6d-95389491117d",
   "metadata": {},
   "source": [
    "Eğer objelerden biri bile float ise çıkarma işleminde expression'ı tipi float olur."
   ]
  },
  {
   "cell_type": "markdown",
   "id": "3231a030-cf8a-421f-859a-6f3253ce3304",
   "metadata": {},
   "source": [
    "# * operator"
   ]
  },
  {
   "cell_type": "code",
   "execution_count": 11,
   "id": "c5e17880-22c6-411c-b347-88e3ae5739e1",
   "metadata": {},
   "outputs": [
    {
     "data": {
      "text/plain": [
       "6"
      ]
     },
     "execution_count": 11,
     "metadata": {},
     "output_type": "execute_result"
    }
   ],
   "source": [
    "3 * 2"
   ]
  },
  {
   "cell_type": "code",
   "execution_count": 12,
   "id": "705b9699-1903-46a1-aa77-fd008ccf1acd",
   "metadata": {},
   "outputs": [
    {
     "data": {
      "text/plain": [
       "6.24"
      ]
     },
     "execution_count": 12,
     "metadata": {},
     "output_type": "execute_result"
    }
   ],
   "source": [
    "2.6 * 2.4"
   ]
  },
  {
   "cell_type": "code",
   "execution_count": 13,
   "id": "4d764195-d658-4f04-bca7-3ab965e697ff",
   "metadata": {},
   "outputs": [
    {
     "data": {
      "text/plain": [
       "float"
      ]
     },
     "execution_count": 13,
     "metadata": {},
     "output_type": "execute_result"
    }
   ],
   "source": [
    "type(2.6 * 2.4)"
   ]
  },
  {
   "cell_type": "markdown",
   "id": "3a9a920d-402c-4222-af5a-39b64e2fa9af",
   "metadata": {},
   "source": [
    "Eğer objelerden biri bile float ise çarpma işleminde expression'ı tipi float olur."
   ]
  },
  {
   "cell_type": "markdown",
   "id": "f1ec55ee-f010-4bcd-8061-1406cd669ac6",
   "metadata": {},
   "source": [
    "# / operator"
   ]
  },
  {
   "cell_type": "markdown",
   "id": "991f6dd7-9a44-431f-a00e-69328f7c9fb7",
   "metadata": {},
   "source": [
    "İşleme giren objelerin tipi ne olursa olsun cevap float olur"
   ]
  },
  {
   "cell_type": "code",
   "execution_count": 14,
   "id": "a4cd786d-0604-4e6f-9216-3f41c96ca256",
   "metadata": {},
   "outputs": [
    {
     "data": {
      "text/plain": [
       "3.0"
      ]
     },
     "execution_count": 14,
     "metadata": {},
     "output_type": "execute_result"
    }
   ],
   "source": [
    "3 / 1"
   ]
  },
  {
   "cell_type": "code",
   "execution_count": 15,
   "id": "91c7b717-6848-4ded-be2e-62394e77313e",
   "metadata": {},
   "outputs": [
    {
     "data": {
      "text/plain": [
       "1.5"
      ]
     },
     "execution_count": 15,
     "metadata": {},
     "output_type": "execute_result"
    }
   ],
   "source": [
    "3 / 2"
   ]
  },
  {
   "cell_type": "code",
   "execution_count": 16,
   "id": "ff343647-704e-4d1f-af96-838c7347c122",
   "metadata": {},
   "outputs": [
    {
     "data": {
      "text/plain": [
       "2.0"
      ]
     },
     "execution_count": 16,
     "metadata": {},
     "output_type": "execute_result"
    }
   ],
   "source": [
    "3 / 1.5"
   ]
  },
  {
   "cell_type": "code",
   "execution_count": 17,
   "id": "e4ff194e-3058-4c76-8eb3-c4d22976bdc9",
   "metadata": {},
   "outputs": [
    {
     "data": {
      "text/plain": [
       "4.0"
      ]
     },
     "execution_count": 17,
     "metadata": {},
     "output_type": "execute_result"
    }
   ],
   "source": [
    "2.4 / 0.6"
   ]
  },
  {
   "cell_type": "markdown",
   "id": "2df1cdce-b82b-4af7-9f11-a1309ba39a77",
   "metadata": {},
   "source": [
    "# // operator (int division)"
   ]
  },
  {
   "cell_type": "code",
   "execution_count": 18,
   "id": "98500679-d394-4b28-8074-4cfc7a345a43",
   "metadata": {},
   "outputs": [
    {
     "data": {
      "text/plain": [
       "2"
      ]
     },
     "execution_count": 18,
     "metadata": {},
     "output_type": "execute_result"
    }
   ],
   "source": [
    "5 // 2"
   ]
  },
  {
   "cell_type": "markdown",
   "id": "f2c18695-bba1-4703-ad85-bac1b9068b63",
   "metadata": {},
   "source": [
    "Tam kısmını veriyor"
   ]
  },
  {
   "cell_type": "code",
   "execution_count": null,
   "id": "42f739a5-c53e-4487-8e68-89f37ce4a2a3",
   "metadata": {},
   "outputs": [],
   "source": [
    "** operator üst alma"
   ]
  }
 ],
 "metadata": {
  "kernelspec": {
   "display_name": "Python 3 (ipykernel)",
   "language": "python",
   "name": "python3"
  },
  "language_info": {
   "codemirror_mode": {
    "name": "ipython",
    "version": 3
   },
   "file_extension": ".py",
   "mimetype": "text/x-python",
   "name": "python",
   "nbconvert_exporter": "python",
   "pygments_lexer": "ipython3",
   "version": "3.11.4"
  }
 },
 "nbformat": 4,
 "nbformat_minor": 5
}
