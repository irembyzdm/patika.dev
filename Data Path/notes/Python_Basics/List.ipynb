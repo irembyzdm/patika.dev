{
 "cells": [
  {
   "cell_type": "markdown",
   "id": "d59338a3-d891-428f-b037-bd48280d17b9",
   "metadata": {},
   "source": [
    "# List"
   ]
  },
  {
   "cell_type": "markdown",
   "id": "d64e4bab-76ed-4ca0-80e7-74b643b5fca3",
   "metadata": {},
   "source": [
    "* Elimizdeki verileri gruplamak için bir yapı altında tutmak isteyebiliriz.\n",
    "\n",
    "* Mesela bir sınıftaki öğrencilerin notlarını tutmak istiyorum. 5 farklı öğrenci var, şimdiye kadar öğrendiklerimizle şöyle yapabilirdim:"
   ]
  },
  {
   "cell_type": "code",
   "execution_count": 1,
   "id": "0ba0d573-ea83-4067-ad30-366e61892341",
   "metadata": {},
   "outputs": [],
   "source": [
    "ogrenci_1 = 78\n",
    "ogrenci_2 = 80\n",
    "ogrenci_3 = 43\n",
    "ogrenci_4 = 65\n",
    "ogrenci_5 = 90"
   ]
  },
  {
   "cell_type": "markdown",
   "id": "8f65148f-6c8c-48fe-ac66-d56d23abce3e",
   "metadata": {},
   "source": [
    "Bunları bir veri tipi olarak bir arada tutmak daha mantıklı olur."
   ]
  },
  {
   "cell_type": "markdown",
   "id": "26aec74e-b341-4195-8c7f-12e3d8d97912",
   "metadata": {},
   "source": [
    "* *list* veri tipi de burada devreye giriyor. **Birden çok veriyi gruplayıp bir arada tutmak** istediğimizde kullanabileceğimiz yapı\n",
    "\n",
    "* *list*ler belirtilirken köşeli parantezi kullanıyoruz: [element1, element2, ...]\n",
    "\n",
    "* *list*ler içsel yapı içerdikleri için **non-scaler** veri tipidir."
   ]
  },
  {
   "cell_type": "code",
   "execution_count": 2,
   "id": "b0b9ac70-6ec0-4950-a7d7-e555579e4873",
   "metadata": {},
   "outputs": [],
   "source": [
    "notlar = [78, 89, 43, 65, 90]"
   ]
  },
  {
   "cell_type": "code",
   "execution_count": 3,
   "id": "41d0e716-2af3-4976-8d6f-018c93f6ad9c",
   "metadata": {},
   "outputs": [],
   "source": [
    "notlar = [ogrenci_1, ogrenci_2, ogrenci_3, ogrenci_4, ogrenci_5]"
   ]
  },
  {
   "cell_type": "markdown",
   "id": "48ff0696-cf96-44c0-bd24-157e1de66f45",
   "metadata": {},
   "source": [
    "* Bu oluşturduğumuz yapının ilk elemanı ilk öğrencinin notu, ikinci elemanı ikinci öğrencinin notunu belirtiyor (bu mantık böyle devam ediyor). Böylece öğrencilerin notlarını farklı 5 değişkende tutmak yerine bir veri tipi altında düzenli tutabilmiş olduk.\n",
    "\n",
    "\n",
    "* Nasıl ki stringlerde elemanlarına indexleme yaparak [0] gibi değerlerle ulaşabiliyorsak, listlerde de aynı durum söz konusu.\n",
    "\n",
    "\n",
    "* notlar listesinin ilk elemanına ulaşmak için:"
   ]
  },
  {
   "cell_type": "code",
   "execution_count": 4,
   "id": "2148684b-59ad-4da3-ab11-f24e0a91ca97",
   "metadata": {},
   "outputs": [
    {
     "data": {
      "text/plain": [
       "78"
      ]
     },
     "execution_count": 4,
     "metadata": {},
     "output_type": "execute_result"
    }
   ],
   "source": [
    "# ogrenci_1 in notu\n",
    "notlar[0]"
   ]
  },
  {
   "cell_type": "markdown",
   "id": "b5b888cf-faf6-4e71-bb66-028335192e54",
   "metadata": {},
   "source": [
    "* list'lerin içine istediğimiz veri tipini koyabiliriz. listeleri sadece verilerimi içine koyduğumuz bir kutu olarak düşünün, listlerin tek yaptığı şey bunları bir arada tutmak. Elemanları istediğim veri objesi olabilir. int, float, string, hatta listler bile!"
   ]
  },
  {
   "cell_type": "code",
   "execution_count": 5,
   "id": "6e590e0a-00e0-4d60-a15d-ed671cdfa21b",
   "metadata": {},
   "outputs": [
    {
     "data": {
      "text/plain": [
       "['a', 'b']"
      ]
     },
     "execution_count": 5,
     "metadata": {},
     "output_type": "execute_result"
    }
   ],
   "source": [
    "[\"a\", \"b\"]"
   ]
  },
  {
   "cell_type": "code",
   "execution_count": 6,
   "id": "c9c6996b-143a-44d0-b77e-531a2b7a90ed",
   "metadata": {},
   "outputs": [
    {
     "data": {
      "text/plain": [
       "[True, False]"
      ]
     },
     "execution_count": 6,
     "metadata": {},
     "output_type": "execute_result"
    }
   ],
   "source": [
    "[True, False]"
   ]
  },
  {
   "cell_type": "code",
   "execution_count": 7,
   "id": "bfaf8533-e01c-4416-9744-37967f87f0c1",
   "metadata": {},
   "outputs": [
    {
     "data": {
      "text/plain": [
       "[[1, 2], [3, 4, 5]]"
      ]
     },
     "execution_count": 7,
     "metadata": {},
     "output_type": "execute_result"
    }
   ],
   "source": [
    "[[1,2], [3,4,5]]"
   ]
  },
  {
   "cell_type": "markdown",
   "id": "a60eaaac-5ab2-467b-9bb8-5bcecbe431a4",
   "metadata": {},
   "source": [
    "# Listler Farklı Veri Tiplerini İçerebilir"
   ]
  },
  {
   "cell_type": "code",
   "execution_count": 8,
   "id": "89d3c96c-4e1a-4eff-a2e5-ad6f0d9fa5ac",
   "metadata": {},
   "outputs": [],
   "source": [
    "l = [1, 2, \"a\", \"b\", True, 4.5, [1,2,3]]"
   ]
  },
  {
   "cell_type": "code",
   "execution_count": 9,
   "id": "86d4e6d0-7318-4753-ab5b-1b6374a2a93c",
   "metadata": {},
   "outputs": [
    {
     "data": {
      "text/plain": [
       "[1, 2, 'a', 'b', True, 4.5, [1, 2, 3]]"
      ]
     },
     "execution_count": 9,
     "metadata": {},
     "output_type": "execute_result"
    }
   ],
   "source": [
    "l"
   ]
  },
  {
   "cell_type": "markdown",
   "id": "5f793e9b-769f-47dd-a048-643c99d64af1",
   "metadata": {},
   "source": [
    "# Indexing ve Slicing"
   ]
  },
  {
   "cell_type": "markdown",
   "id": "fd40ee41-92cf-420b-9c44-794bbe8028f4",
   "metadata": {},
   "source": [
    "String konusunda yaptığımız indexleme mantığı ve slicing mantığı tamamen listler için de geçerli."
   ]
  },
  {
   "cell_type": "code",
   "execution_count": 10,
   "id": "a4d91bdb-a023-4b17-b2ad-17b41734a2fb",
   "metadata": {},
   "outputs": [
    {
     "data": {
      "text/plain": [
       "[78, 80, 43, 65, 90]"
      ]
     },
     "execution_count": 10,
     "metadata": {},
     "output_type": "execute_result"
    }
   ],
   "source": [
    "notlar"
   ]
  },
  {
   "cell_type": "code",
   "execution_count": 11,
   "id": "db3e5d99-734b-4def-8a75-b3962f4e0d53",
   "metadata": {},
   "outputs": [
    {
     "data": {
      "text/plain": [
       "78"
      ]
     },
     "execution_count": 11,
     "metadata": {},
     "output_type": "execute_result"
    }
   ],
   "source": [
    "notlar[0]"
   ]
  },
  {
   "cell_type": "code",
   "execution_count": 12,
   "id": "d81a64bf-fa22-4588-bf4b-f59f75e68ea8",
   "metadata": {},
   "outputs": [
    {
     "data": {
      "text/plain": [
       "90"
      ]
     },
     "execution_count": 12,
     "metadata": {},
     "output_type": "execute_result"
    }
   ],
   "source": [
    "notlar[-1]"
   ]
  },
  {
   "cell_type": "code",
   "execution_count": 13,
   "id": "9590ca47-4ae0-4f2b-8bd4-5860c4029269",
   "metadata": {},
   "outputs": [
    {
     "ename": "IndexError",
     "evalue": "list index out of range",
     "output_type": "error",
     "traceback": [
      "\u001b[0;31m---------------------------------------------------------------------------\u001b[0m",
      "\u001b[0;31mIndexError\u001b[0m                                Traceback (most recent call last)",
      "Cell \u001b[0;32mIn[13], line 1\u001b[0m\n\u001b[0;32m----> 1\u001b[0m \u001b[43mnotlar\u001b[49m\u001b[43m[\u001b[49m\u001b[38;5;241;43m10\u001b[39;49m\u001b[43m]\u001b[49m\n",
      "\u001b[0;31mIndexError\u001b[0m: list index out of range"
     ]
    }
   ],
   "source": [
    "notlar[10]"
   ]
  },
  {
   "cell_type": "code",
   "execution_count": 14,
   "id": "e5f87c0c-503d-4574-86e2-e042798f3316",
   "metadata": {},
   "outputs": [
    {
     "data": {
      "text/plain": [
       "[80, 43, 65, 90]"
      ]
     },
     "execution_count": 14,
     "metadata": {},
     "output_type": "execute_result"
    }
   ],
   "source": [
    "notlar[1:]"
   ]
  },
  {
   "cell_type": "code",
   "execution_count": 15,
   "id": "90952b99-db21-46f3-a409-91c6d24b5467",
   "metadata": {},
   "outputs": [
    {
     "data": {
      "text/plain": [
       "[80, 43]"
      ]
     },
     "execution_count": 15,
     "metadata": {},
     "output_type": "execute_result"
    }
   ],
   "source": [
    "notlar[1:3]"
   ]
  },
  {
   "cell_type": "code",
   "execution_count": 16,
   "id": "246c02de-b249-4590-9aea-677652ddaa07",
   "metadata": {},
   "outputs": [
    {
     "data": {
      "text/plain": [
       "[78, 80, 43, 65, 90]"
      ]
     },
     "execution_count": 16,
     "metadata": {},
     "output_type": "execute_result"
    }
   ],
   "source": [
    "notlar[:200]"
   ]
  },
  {
   "cell_type": "markdown",
   "id": "4a171863-5fa1-451b-9cfd-a5bd99bfb2db",
   "metadata": {},
   "source": [
    "# Listlerin Elemanları Değiştirilebilir"
   ]
  },
  {
   "cell_type": "markdown",
   "id": "f46cdb0e-0b2f-43d6-a4d0-4c2819a056de",
   "metadata": {},
   "source": [
    "* Listler *mutable* veri tipleridir. Elemanlarını güncelleyebiliriz."
   ]
  },
  {
   "cell_type": "code",
   "execution_count": 17,
   "id": "08036110-3cbe-4191-8711-082a4b8ee912",
   "metadata": {},
   "outputs": [
    {
     "data": {
      "text/plain": [
       "[78, 80, 43, 65, 90]"
      ]
     },
     "execution_count": 17,
     "metadata": {},
     "output_type": "execute_result"
    }
   ],
   "source": [
    "notlar"
   ]
  },
  {
   "cell_type": "markdown",
   "id": "8ebcfa79-9956-4f5b-830d-44ab7fe56e97",
   "metadata": {},
   "source": [
    "Diyelim ki ikincinin öğrencinin notunu eksik okuduk. 5 puan yükseltmek istiyoruz."
   ]
  },
  {
   "cell_type": "code",
   "execution_count": 18,
   "id": "bf92e6f7-3f24-437a-b252-deea5e686b80",
   "metadata": {},
   "outputs": [],
   "source": [
    "notlar[1] += 5  #notlar[1] = notlar[1] + 5"
   ]
  },
  {
   "cell_type": "code",
   "execution_count": 19,
   "id": "2cb4d239-6130-4a95-9bdd-8dc97b7a5b97",
   "metadata": {},
   "outputs": [
    {
     "data": {
      "text/plain": [
       "[78, 85, 43, 65, 90]"
      ]
     },
     "execution_count": 19,
     "metadata": {},
     "output_type": "execute_result"
    }
   ],
   "source": [
    "notlar"
   ]
  },
  {
   "cell_type": "markdown",
   "id": "1fd483c6-12a1-4474-949b-e4cb7e79d906",
   "metadata": {},
   "source": [
    "* Birden çok elemanı dadeğiştirebiliriz."
   ]
  },
  {
   "cell_type": "code",
   "execution_count": 20,
   "id": "0948c1f3-8c96-41ff-872a-7dd4378761ed",
   "metadata": {},
   "outputs": [],
   "source": [
    "l = [1, 2, 3, 4]"
   ]
  },
  {
   "cell_type": "code",
   "execution_count": 21,
   "id": "b16ab3bf-895c-4671-a8c9-f95d69fc555e",
   "metadata": {},
   "outputs": [
    {
     "data": {
      "text/plain": [
       "[1, 2, 3]"
      ]
     },
     "execution_count": 21,
     "metadata": {},
     "output_type": "execute_result"
    }
   ],
   "source": [
    "l[0:3]"
   ]
  },
  {
   "cell_type": "code",
   "execution_count": 22,
   "id": "ceef7990-d260-410e-8357-3a98dd9b9bf4",
   "metadata": {},
   "outputs": [],
   "source": [
    "l[0:3] = 30, 40, 60"
   ]
  },
  {
   "cell_type": "code",
   "execution_count": 23,
   "id": "2c5cc1e0-d741-473e-8ddb-dfe88281dbc1",
   "metadata": {},
   "outputs": [
    {
     "data": {
      "text/plain": [
       "[30, 40, 60, 4]"
      ]
     },
     "execution_count": 23,
     "metadata": {},
     "output_type": "execute_result"
    }
   ],
   "source": [
    "l"
   ]
  },
  {
   "cell_type": "markdown",
   "id": "a8e33f07-b6a2-4ba9-a292-eeb63ddae121",
   "metadata": {},
   "source": [
    "* Eşit sayıda vermemiz de gerekmez, l[0:3] olacak yere sadece solda yazdığımız yazılır"
   ]
  },
  {
   "cell_type": "code",
   "execution_count": 24,
   "id": "f10742e4-171d-4161-ab72-6bcd7ef6e756",
   "metadata": {},
   "outputs": [],
   "source": [
    "l[0:3] = 30, 40"
   ]
  },
  {
   "cell_type": "code",
   "execution_count": 25,
   "id": "f30c9b85-c464-445d-b5a8-76713dcab113",
   "metadata": {},
   "outputs": [
    {
     "data": {
      "text/plain": [
       "[30, 40, 4]"
      ]
     },
     "execution_count": 25,
     "metadata": {},
     "output_type": "execute_result"
    }
   ],
   "source": [
    "l"
   ]
  },
  {
   "cell_type": "code",
   "execution_count": 26,
   "id": "198eeb41-bd11-490b-91b1-683d1448c872",
   "metadata": {},
   "outputs": [],
   "source": [
    "l = [1,2,3,4]"
   ]
  },
  {
   "cell_type": "code",
   "execution_count": 27,
   "id": "09d6dba8-f5a2-4bd5-ab03-2b7f6a06de13",
   "metadata": {},
   "outputs": [
    {
     "ename": "TypeError",
     "evalue": "can only assign an iterable",
     "output_type": "error",
     "traceback": [
      "\u001b[0;31m---------------------------------------------------------------------------\u001b[0m",
      "\u001b[0;31mTypeError\u001b[0m                                 Traceback (most recent call last)",
      "Cell \u001b[0;32mIn[27], line 1\u001b[0m\n\u001b[0;32m----> 1\u001b[0m \u001b[43ml\u001b[49m\u001b[43m[\u001b[49m\u001b[38;5;241;43m0\u001b[39;49m\u001b[43m:\u001b[49m\u001b[38;5;241;43m3\u001b[39;49m\u001b[43m]\u001b[49m \u001b[38;5;241m=\u001b[39m \u001b[38;5;241m30\u001b[39m\n",
      "\u001b[0;31mTypeError\u001b[0m: can only assign an iterable"
     ]
    }
   ],
   "source": [
    "l[0:3] = 30"
   ]
  },
  {
   "cell_type": "markdown",
   "id": "eee6f635-a6d3-41f3-937c-96ea68336333",
   "metadata": {},
   "source": [
    "* Slicing'in sonucuna tek bir değer yazacaksak bile direkt tek olarak veremeyiz, iterable olması gerekir. Bunun ayrıntısını ileride göreceğiz şimdilik sol tarafı list olarak verebileceğimizi bilmeniz yeterli."
   ]
  },
  {
   "cell_type": "code",
   "execution_count": 28,
   "id": "2e3a5854-628b-4d73-9032-3e5d983ae4bd",
   "metadata": {},
   "outputs": [],
   "source": [
    "l[0:3] = [30]"
   ]
  },
  {
   "cell_type": "code",
   "execution_count": 29,
   "id": "9a49ab86-9cae-4623-9f9e-874a32ca0733",
   "metadata": {},
   "outputs": [
    {
     "data": {
      "text/plain": [
       "[30, 4]"
      ]
     },
     "execution_count": 29,
     "metadata": {},
     "output_type": "execute_result"
    }
   ],
   "source": [
    "l"
   ]
  },
  {
   "cell_type": "markdown",
   "id": "38ce4e32-cf62-4247-8689-38daca71311b",
   "metadata": {},
   "source": [
    "# len()"
   ]
  },
  {
   "cell_type": "markdown",
   "id": "34489205-bd72-488f-beef-72d0cc3612df",
   "metadata": {},
   "source": [
    "* Bize list'te kaç eleman olduğunu verir."
   ]
  },
  {
   "cell_type": "code",
   "execution_count": 30,
   "id": "de569055-4b07-455c-97e4-fbc1e1fb812c",
   "metadata": {},
   "outputs": [
    {
     "data": {
      "text/plain": [
       "[30, 4]"
      ]
     },
     "execution_count": 30,
     "metadata": {},
     "output_type": "execute_result"
    }
   ],
   "source": [
    "l"
   ]
  },
  {
   "cell_type": "code",
   "execution_count": 31,
   "id": "82e1d5d5-b36e-402f-b591-aef32ea06dea",
   "metadata": {},
   "outputs": [
    {
     "data": {
      "text/plain": [
       "2"
      ]
     },
     "execution_count": 31,
     "metadata": {},
     "output_type": "execute_result"
    }
   ],
   "source": [
    "len(l)"
   ]
  },
  {
   "cell_type": "markdown",
   "id": "a278a785-b5c8-4351-8286-47415b3eb58d",
   "metadata": {},
   "source": [
    "# Listin Sonuna Eleman Eklemek"
   ]
  },
  {
   "cell_type": "markdown",
   "id": "94507d08-f406-48b0-b9f5-0f3b4af52e2d",
   "metadata": {},
   "source": [
    "# append()"
   ]
  },
  {
   "cell_type": "markdown",
   "id": "ef5edcba-a03f-45dd-8165-506e767b9387",
   "metadata": {},
   "source": [
    "* İçine yazılan elemanı listenin sonuna ekler."
   ]
  },
  {
   "cell_type": "code",
   "execution_count": 32,
   "id": "9a031f2f-028d-458f-ba03-9feedf1867f4",
   "metadata": {},
   "outputs": [],
   "source": [
    "l = [1,2,3]"
   ]
  },
  {
   "cell_type": "code",
   "execution_count": 33,
   "id": "64b10efe-e4f0-42d5-9db5-f02bf7ce277c",
   "metadata": {},
   "outputs": [],
   "source": [
    "l.append(200)"
   ]
  },
  {
   "cell_type": "code",
   "execution_count": 34,
   "id": "9c22a2ec-5551-4103-81c4-e4d8aef46db9",
   "metadata": {},
   "outputs": [
    {
     "data": {
      "text/plain": [
       "[1, 2, 3, 200]"
      ]
     },
     "execution_count": 34,
     "metadata": {},
     "output_type": "execute_result"
    }
   ],
   "source": [
    "l"
   ]
  },
  {
   "cell_type": "markdown",
   "id": "c1a016fe-6705-4d71-8d87-56816cd3a1c1",
   "metadata": {},
   "source": [
    "# Spesifik Bir Indexe Eleman Eklemek"
   ]
  },
  {
   "cell_type": "markdown",
   "id": "5583b75f-673d-4847-924a-44b5f23431d1",
   "metadata": {},
   "source": [
    "* Belki list'in sonuna değil, spesifik bir indexine eleman eklemek istiyoruz. Bunu *inser()* ile yapabiliriz."
   ]
  },
  {
   "cell_type": "code",
   "execution_count": 35,
   "id": "e93753f4-6e55-4f6c-9af0-7e4d2a93b71f",
   "metadata": {},
   "outputs": [],
   "source": [
    "l = [1, 2, 3, 4, 5]"
   ]
  },
  {
   "cell_type": "code",
   "execution_count": 36,
   "id": "f397517f-f355-4593-acc1-8b64b477f8ba",
   "metadata": {},
   "outputs": [],
   "source": [
    "l[0] = 100"
   ]
  },
  {
   "cell_type": "code",
   "execution_count": 37,
   "id": "a4550b99-b715-4c26-b209-25f61e7ea4fd",
   "metadata": {},
   "outputs": [
    {
     "data": {
      "text/plain": [
       "[100, 2, 3, 4, 5]"
      ]
     },
     "execution_count": 37,
     "metadata": {},
     "output_type": "execute_result"
    }
   ],
   "source": [
    "l"
   ]
  },
  {
   "cell_type": "code",
   "execution_count": 38,
   "id": "fd1d4cf5-2742-46ff-a925-f4c7a6f82aef",
   "metadata": {},
   "outputs": [],
   "source": [
    "l = [1, 2, 3, 4, 5]"
   ]
  },
  {
   "cell_type": "code",
   "execution_count": 39,
   "id": "d24f3e5b-d745-4d7d-a2bd-368d9396fb56",
   "metadata": {},
   "outputs": [],
   "source": [
    "l.insert(0, 100)"
   ]
  },
  {
   "cell_type": "markdown",
   "id": "0a967a2f-418c-4fae-8677-68d24035359d",
   "metadata": {},
   "source": [
    "l"
   ]
  },
  {
   "cell_type": "markdown",
   "id": "66d915bd-6150-478c-a56b-05874ea5f1b6",
   "metadata": {},
   "source": [
    "* eğer l[0] = 100 yazmış olsaydık, liste 100,2,3,4,5 e dönerdi, ama ben 1->100 dönüşümü yapmak istemiyorum, ilk indexe 100'ü eklemek istiyorum. l.insert(0,100) tam da istediğimi yapıyor. 0. indexe 100 değerini yazıyor ve 1 değerini sağa kaydırıyor, listeden silmemiş oluyor."
   ]
  },
  {
   "cell_type": "code",
   "execution_count": 41,
   "id": "c3b122fd-abf8-4ef1-b6a8-9feb242d3c45",
   "metadata": {},
   "outputs": [],
   "source": [
    "l.insert(3, 44)"
   ]
  },
  {
   "cell_type": "code",
   "execution_count": 42,
   "id": "b3d34081-dd63-4b73-b869-7c217bb3fa55",
   "metadata": {},
   "outputs": [
    {
     "data": {
      "text/plain": [
       "[100, 1, 2, 44, 3, 4, 5]"
      ]
     },
     "execution_count": 42,
     "metadata": {},
     "output_type": "execute_result"
    }
   ],
   "source": [
    "l"
   ]
  },
  {
   "cell_type": "markdown",
   "id": "0c6d6687-089e-494c-a97f-99941138dc9d",
   "metadata": {},
   "source": [
    "# remove()"
   ]
  },
  {
   "cell_type": "markdown",
   "id": "e4c8c041-5a5d-4359-b32e-c968e5ab78cf",
   "metadata": {},
   "source": [
    "* Belirli bir elemanı listeden silmemize yarar. Eğer yazılan eleman listede yoksa hata verir."
   ]
  },
  {
   "cell_type": "code",
   "execution_count": 43,
   "id": "795002ba-cf31-416e-a410-86ea74a6395a",
   "metadata": {},
   "outputs": [],
   "source": [
    "l = [1,2,3,4]"
   ]
  },
  {
   "cell_type": "code",
   "execution_count": 44,
   "id": "c342b74a-aa0c-4c1c-b7f0-3540017d8ce5",
   "metadata": {},
   "outputs": [
    {
     "ename": "ValueError",
     "evalue": "list.remove(x): x not in list",
     "output_type": "error",
     "traceback": [
      "\u001b[0;31m---------------------------------------------------------------------------\u001b[0m",
      "\u001b[0;31mValueError\u001b[0m                                Traceback (most recent call last)",
      "Cell \u001b[0;32mIn[44], line 1\u001b[0m\n\u001b[0;32m----> 1\u001b[0m \u001b[43ml\u001b[49m\u001b[38;5;241;43m.\u001b[39;49m\u001b[43mremove\u001b[49m\u001b[43m(\u001b[49m\u001b[38;5;241;43m40\u001b[39;49m\u001b[43m)\u001b[49m\n",
      "\u001b[0;31mValueError\u001b[0m: list.remove(x): x not in list"
     ]
    }
   ],
   "source": [
    "l.remove(40)"
   ]
  },
  {
   "cell_type": "markdown",
   "id": "7f04a738-2050-4a42-8681-b867f7235131",
   "metadata": {},
   "source": [
    "Bunu try-except ile çözebiliriz ama daha o konuyu görmedik. Yine de aşağıya kodu ekliyorum."
   ]
  },
  {
   "cell_type": "code",
   "execution_count": 45,
   "id": "a64f6bb2-dbf7-4a36-b731-e5873d437ae9",
   "metadata": {},
   "outputs": [],
   "source": [
    "try:\n",
    "    l.remove(40)\n",
    "except ValueError:\n",
    "    pass"
   ]
  },
  {
   "cell_type": "markdown",
   "id": "5b0f56b8-39ff-4d16-a359-795767c3910d",
   "metadata": {},
   "source": [
    "* remove() sadece ilk gördüğü değeri siler. l.remove(40) dersem ve listede 1'den çok 40 varsa ilk gördüğünü siler."
   ]
  },
  {
   "cell_type": "code",
   "execution_count": 46,
   "id": "4a41964a-0571-4f22-bb5e-ab280b12bec0",
   "metadata": {},
   "outputs": [],
   "source": [
    "l = [1,2,3,40,30,40]"
   ]
  },
  {
   "cell_type": "code",
   "execution_count": 47,
   "id": "67fc4c44-3374-4a9f-9864-f0cf382d2712",
   "metadata": {},
   "outputs": [],
   "source": [
    "l.remove(40)"
   ]
  },
  {
   "cell_type": "code",
   "execution_count": 48,
   "id": "a265259a-30b1-4d06-8be3-a23f4339d99b",
   "metadata": {},
   "outputs": [
    {
     "data": {
      "text/plain": [
       "[1, 2, 3, 30, 40]"
      ]
     },
     "execution_count": 48,
     "metadata": {},
     "output_type": "execute_result"
    }
   ],
   "source": [
    "l"
   ]
  },
  {
   "cell_type": "markdown",
   "id": "2f8e63ce-6dcb-4b39-abec-531ede6fc325",
   "metadata": {},
   "source": [
    "# pop()"
   ]
  },
  {
   "cell_type": "markdown",
   "id": "81a7844c-305f-4d09-92b0-2bf9691ae6a0",
   "metadata": {},
   "source": [
    "* listenin belirli indexindeki elemanı silmeye ve değeri döndürmeye yarar.\n",
    "\n",
    "* remove() sadece siliyordu, pop() aynı zamanda o değeri döndürüyor."
   ]
  },
  {
   "cell_type": "code",
   "execution_count": 49,
   "id": "23cd13fe-46bf-4616-b63f-5628f1c64391",
   "metadata": {},
   "outputs": [],
   "source": [
    "l = [1,2,3,4,5,6]"
   ]
  },
  {
   "cell_type": "code",
   "execution_count": 50,
   "id": "8e57a8c5-f2d3-4b38-bf1c-31a4ed2df201",
   "metadata": {},
   "outputs": [
    {
     "data": {
      "text/plain": [
       "2"
      ]
     },
     "execution_count": 50,
     "metadata": {},
     "output_type": "execute_result"
    }
   ],
   "source": [
    "l.pop(1)"
   ]
  },
  {
   "cell_type": "code",
   "execution_count": 51,
   "id": "76046825-0786-41d0-8981-754d0fac60fc",
   "metadata": {},
   "outputs": [
    {
     "data": {
      "text/plain": [
       "[1, 3, 4, 5, 6]"
      ]
     },
     "execution_count": 51,
     "metadata": {},
     "output_type": "execute_result"
    }
   ],
   "source": [
    "l"
   ]
  },
  {
   "cell_type": "code",
   "execution_count": 52,
   "id": "7f5de1b0-8563-4323-9872-df0238a50f63",
   "metadata": {},
   "outputs": [],
   "source": [
    "l = [1,2,3,4,5,6]"
   ]
  },
  {
   "cell_type": "code",
   "execution_count": 53,
   "id": "028bd249-dd0c-40ab-8c88-d644f82bfd8f",
   "metadata": {},
   "outputs": [
    {
     "data": {
      "text/plain": [
       "6"
      ]
     },
     "execution_count": 53,
     "metadata": {},
     "output_type": "execute_result"
    }
   ],
   "source": [
    "l.pop(1) + 4"
   ]
  },
  {
   "cell_type": "code",
   "execution_count": 54,
   "id": "31c6c11b-0468-4695-a218-9bbe11a60437",
   "metadata": {},
   "outputs": [
    {
     "data": {
      "text/plain": [
       "[1, 3, 4, 5, 6]"
      ]
     },
     "execution_count": 54,
     "metadata": {},
     "output_type": "execute_result"
    }
   ],
   "source": [
    "l"
   ]
  },
  {
   "cell_type": "code",
   "execution_count": 55,
   "id": "960fde9e-741a-4b9f-b606-0942dd8e3277",
   "metadata": {},
   "outputs": [
    {
     "ename": "IndexError",
     "evalue": "pop index out of range",
     "output_type": "error",
     "traceback": [
      "\u001b[0;31m---------------------------------------------------------------------------\u001b[0m",
      "\u001b[0;31mIndexError\u001b[0m                                Traceback (most recent call last)",
      "Cell \u001b[0;32mIn[55], line 1\u001b[0m\n\u001b[0;32m----> 1\u001b[0m \u001b[43ml\u001b[49m\u001b[38;5;241;43m.\u001b[39;49m\u001b[43mpop\u001b[49m\u001b[43m(\u001b[49m\u001b[38;5;241;43m100\u001b[39;49m\u001b[43m)\u001b[49m \u001b[38;5;66;03m#out of range error\u001b[39;00m\n",
      "\u001b[0;31mIndexError\u001b[0m: pop index out of range"
     ]
    }
   ],
   "source": [
    "l.pop(100) #out of range error"
   ]
  },
  {
   "cell_type": "markdown",
   "id": "04aafcb7-60f7-4d4b-807f-36335a9b4323",
   "metadata": {},
   "source": [
    "# count()"
   ]
  },
  {
   "cell_type": "markdown",
   "id": "a440eb62-b099-41b5-a9d5-03daad54d73a",
   "metadata": {},
   "source": [
    "* count()'un içine yazdığımız değerin listede kaç defa göründüğünü söyler."
   ]
  },
  {
   "cell_type": "code",
   "execution_count": 56,
   "id": "86fa5fec-1b4e-49d3-baea-fafef83ce099",
   "metadata": {},
   "outputs": [],
   "source": [
    "l = [1, 2, 44, 4, 5, 1]"
   ]
  },
  {
   "cell_type": "code",
   "execution_count": 57,
   "id": "438bc2be-580c-4f81-a554-686c04b99ff6",
   "metadata": {},
   "outputs": [
    {
     "data": {
      "text/plain": [
       "2"
      ]
     },
     "execution_count": 57,
     "metadata": {},
     "output_type": "execute_result"
    }
   ],
   "source": [
    "l.count(1)"
   ]
  },
  {
   "cell_type": "code",
   "execution_count": 58,
   "id": "7095abab-2b0b-483f-ba07-fe41de31e6d9",
   "metadata": {},
   "outputs": [
    {
     "data": {
      "text/plain": [
       "1"
      ]
     },
     "execution_count": 58,
     "metadata": {},
     "output_type": "execute_result"
    }
   ],
   "source": [
    "l.count(44)"
   ]
  },
  {
   "cell_type": "code",
   "execution_count": 59,
   "id": "e02b300d-44f5-4cc7-9cf6-dd3d91742e60",
   "metadata": {},
   "outputs": [
    {
     "data": {
      "text/plain": [
       "0"
      ]
     },
     "execution_count": 59,
     "metadata": {},
     "output_type": "execute_result"
    }
   ],
   "source": [
    "l.count(1000)"
   ]
  },
  {
   "cell_type": "markdown",
   "id": "8968ed5a-75d0-475b-978a-b3a623ce2742",
   "metadata": {},
   "source": [
    "# Aliasing"
   ]
  },
  {
   "cell_type": "markdown",
   "id": "712131a7-a9c2-4e6a-9fbd-d24b2f6a2f8b",
   "metadata": {},
   "source": [
    "* Listeler bilgisayarın hafızasında integer, float gibi veri tiplerinin tutulduğundan biraz daha farklı tutuluyor.\n",
    "\n",
    "* a = 2 dediğimiz zaman hafızada a adında bir kutucuk oluşturuyor demiştik."
   ]
  },
  {
   "cell_type": "code",
   "execution_count": 60,
   "id": "bf3362ab-3772-4a7d-816c-2aa7bcf37150",
   "metadata": {},
   "outputs": [],
   "source": [
    "a = 2"
   ]
  },
  {
   "cell_type": "markdown",
   "id": "c6cf8351-1eea-42b1-9339-b2c38feb2bcc",
   "metadata": {},
   "source": [
    "* a direkt o kutunun adı oluyor.\n",
    "\n",
    "* Ama listelerde durum böyle değil. l = [1, 2, 3] gibi bir liste oluşturduğumuzda, l kutunun adı değil, kutuyu işaret eden etiketin adı oluyor."
   ]
  },
  {
   "cell_type": "code",
   "execution_count": 61,
   "id": "6217585c-0fb1-47fe-885c-37387f7783d0",
   "metadata": {},
   "outputs": [],
   "source": [
    "l = [1, 2, 3]"
   ]
  },
  {
   "cell_type": "markdown",
   "id": "d717506e-5bc1-4060-a02f-610ee51bee13",
   "metadata": {},
   "source": [
    "* Bu farkın getirdiği bazı yan etkiler var.\n",
    "\n",
    "\n",
    "* Mesela kutunun adı direkt değişken adı olduğunda ve aşağıdaki işlemi yaptığımızda:\n"
   ]
  },
  {
   "cell_type": "code",
   "execution_count": 62,
   "id": "aa5f2543-5e13-446e-b7e2-10c10116d3cf",
   "metadata": {},
   "outputs": [],
   "source": [
    "a = 2\n",
    "b = a"
   ]
  },
  {
   "cell_type": "code",
   "execution_count": 63,
   "id": "9f902435-bc45-482b-8213-d9ee8fb26f03",
   "metadata": {},
   "outputs": [
    {
     "data": {
      "text/plain": [
       "2"
      ]
     },
     "execution_count": 63,
     "metadata": {},
     "output_type": "execute_result"
    }
   ],
   "source": [
    "b"
   ]
  },
  {
   "cell_type": "code",
   "execution_count": 64,
   "id": "93a2f676-dd5c-45f5-917e-974ef8f8bab3",
   "metadata": {},
   "outputs": [],
   "source": [
    "a = a + 1"
   ]
  },
  {
   "cell_type": "code",
   "execution_count": 65,
   "id": "3c62b5ab-98b7-4642-93a3-2eb237d332f5",
   "metadata": {},
   "outputs": [
    {
     "data": {
      "text/plain": [
       "3"
      ]
     },
     "execution_count": 65,
     "metadata": {},
     "output_type": "execute_result"
    }
   ],
   "source": [
    "a"
   ]
  },
  {
   "cell_type": "code",
   "execution_count": 66,
   "id": "5429e172-d84e-4daa-a413-991f3371641c",
   "metadata": {},
   "outputs": [
    {
     "data": {
      "text/plain": [
       "2"
      ]
     },
     "execution_count": 66,
     "metadata": {},
     "output_type": "execute_result"
    }
   ],
   "source": [
    "b"
   ]
  },
  {
   "cell_type": "markdown",
   "id": "a61c2355-60f8-4bcb-8fd3-5167209d62ee",
   "metadata": {},
   "source": [
    "* a yı güncellesek de b güncellenmiyor. b sadece a kutusunun değerine eşit olmuş oldu, kutunun kendisine değil.\n",
    "\n",
    "* Aynı şeyi listlerde yaptığımızda:\n",
    "  "
   ]
  },
  {
   "cell_type": "code",
   "execution_count": 67,
   "id": "043a4900-a940-49c0-8ec6-f43ce00a56f7",
   "metadata": {},
   "outputs": [],
   "source": [
    "l = [1,2,3]"
   ]
  },
  {
   "cell_type": "code",
   "execution_count": 68,
   "id": "96f83eaf-02ee-458c-afbe-8a6a7ad3ef6a",
   "metadata": {},
   "outputs": [],
   "source": [
    "l2 = l"
   ]
  },
  {
   "cell_type": "code",
   "execution_count": 69,
   "id": "0299d56b-7620-4f24-a22a-ed9b1af8d2a6",
   "metadata": {},
   "outputs": [
    {
     "data": {
      "text/plain": [
       "[1, 2, 3]"
      ]
     },
     "execution_count": 69,
     "metadata": {},
     "output_type": "execute_result"
    }
   ],
   "source": [
    "l"
   ]
  },
  {
   "cell_type": "code",
   "execution_count": 70,
   "id": "f5435cc0-747a-489a-90a1-5ec73e324e4a",
   "metadata": {},
   "outputs": [
    {
     "data": {
      "text/plain": [
       "[1, 2, 3]"
      ]
     },
     "execution_count": 70,
     "metadata": {},
     "output_type": "execute_result"
    }
   ],
   "source": [
    "l2"
   ]
  },
  {
   "cell_type": "code",
   "execution_count": 71,
   "id": "4b7f66e0-1015-412d-a99a-e7d070d9ab8d",
   "metadata": {},
   "outputs": [],
   "source": [
    "l[0] = 200"
   ]
  },
  {
   "cell_type": "code",
   "execution_count": 72,
   "id": "e1eae12a-ec04-41bb-b726-4a54d0e1504f",
   "metadata": {},
   "outputs": [
    {
     "data": {
      "text/plain": [
       "[200, 2, 3]"
      ]
     },
     "execution_count": 72,
     "metadata": {},
     "output_type": "execute_result"
    }
   ],
   "source": [
    "l"
   ]
  },
  {
   "cell_type": "code",
   "execution_count": 73,
   "id": "6438315c-f5c0-4842-8d96-7f62eabe0b93",
   "metadata": {},
   "outputs": [
    {
     "data": {
      "text/plain": [
       "[200, 2, 3]"
      ]
     },
     "execution_count": 73,
     "metadata": {},
     "output_type": "execute_result"
    }
   ],
   "source": [
    "l2"
   ]
  },
  {
   "cell_type": "markdown",
   "id": "625536ef-f507-4e69-bd04-cf7b2ed49658",
   "metadata": {},
   "source": [
    "* l2 de güncellendi!!!\n",
    "\n",
    "* Çünkü l2 = l dediğimizde l2, l etiketinin değerine eşit oldu, iki etikette aynı kutuyu, veri objesini gösteriyor. O yüzden listeyi güncellemem ikisine de yansıyor."
   ]
  },
  {
   "cell_type": "markdown",
   "id": "a12911fd-1a15-487c-80b7-699175570e12",
   "metadata": {},
   "source": [
    "* Güncellememesini sağlamak için copy() ile yapacağız."
   ]
  },
  {
   "cell_type": "code",
   "execution_count": 74,
   "id": "e19bb4bc-19be-41fd-8fdf-1f13f4b80630",
   "metadata": {},
   "outputs": [],
   "source": [
    "l2 = l.copy()"
   ]
  },
  {
   "cell_type": "code",
   "execution_count": 75,
   "id": "b3715719-797e-4e4e-b999-d81d2f287a56",
   "metadata": {},
   "outputs": [
    {
     "data": {
      "text/plain": [
       "[200, 2, 3]"
      ]
     },
     "execution_count": 75,
     "metadata": {},
     "output_type": "execute_result"
    }
   ],
   "source": [
    "l"
   ]
  },
  {
   "cell_type": "code",
   "execution_count": 76,
   "id": "5bb7aa8b-3bad-4748-b05d-88b3175f2f21",
   "metadata": {},
   "outputs": [
    {
     "data": {
      "text/plain": [
       "[200, 2, 3]"
      ]
     },
     "execution_count": 76,
     "metadata": {},
     "output_type": "execute_result"
    }
   ],
   "source": [
    "l2"
   ]
  },
  {
   "cell_type": "code",
   "execution_count": 77,
   "id": "27383239-f047-463c-8fac-4f7be4fae67a",
   "metadata": {},
   "outputs": [],
   "source": [
    "l[0] = 300"
   ]
  },
  {
   "cell_type": "code",
   "execution_count": 78,
   "id": "eac30585-2027-40b9-8a2a-9862adb6f9a8",
   "metadata": {},
   "outputs": [
    {
     "data": {
      "text/plain": [
       "[300, 2, 3]"
      ]
     },
     "execution_count": 78,
     "metadata": {},
     "output_type": "execute_result"
    }
   ],
   "source": [
    "l"
   ]
  },
  {
   "cell_type": "code",
   "execution_count": 79,
   "id": "de9960a8-1862-482e-85cd-ca46af9b6b0b",
   "metadata": {},
   "outputs": [
    {
     "data": {
      "text/plain": [
       "[200, 2, 3]"
      ]
     },
     "execution_count": 79,
     "metadata": {},
     "output_type": "execute_result"
    }
   ],
   "source": [
    "l2"
   ]
  },
  {
   "cell_type": "markdown",
   "id": "735d7bfd-f4ad-40cb-9fb5-36d84dae8fd5",
   "metadata": {},
   "source": [
    "# Listlerde Concatenation (Birleştirme)"
   ]
  },
  {
   "cell_type": "markdown",
   "id": "1cabe103-5e2d-4f48-80e8-407c417b984b",
   "metadata": {},
   "source": [
    "* '+' operatörü listlerde concetenation yapar."
   ]
  },
  {
   "cell_type": "code",
   "execution_count": 80,
   "id": "195a81e4-9652-4b29-9c49-90af659d93ca",
   "metadata": {},
   "outputs": [],
   "source": [
    "l = [1,2,3]"
   ]
  },
  {
   "cell_type": "code",
   "execution_count": 81,
   "id": "f720b444-4409-48e9-bf06-d326168f8f0a",
   "metadata": {},
   "outputs": [],
   "source": [
    "l2 = [4,5,6]"
   ]
  },
  {
   "cell_type": "code",
   "execution_count": 82,
   "id": "b4853986-2fc3-4d57-bb52-68128cb5dcea",
   "metadata": {},
   "outputs": [
    {
     "data": {
      "text/plain": [
       "[1, 2, 3]"
      ]
     },
     "execution_count": 82,
     "metadata": {},
     "output_type": "execute_result"
    }
   ],
   "source": [
    "l"
   ]
  },
  {
   "cell_type": "code",
   "execution_count": 83,
   "id": "6bf3f741-feb0-47d7-b2c3-1ce7167dc6c1",
   "metadata": {},
   "outputs": [
    {
     "data": {
      "text/plain": [
       "[4, 5, 6]"
      ]
     },
     "execution_count": 83,
     "metadata": {},
     "output_type": "execute_result"
    }
   ],
   "source": [
    "l2"
   ]
  },
  {
   "cell_type": "code",
   "execution_count": 84,
   "id": "f29c9d2f-3470-4c3c-9dd9-05e61c0e0c76",
   "metadata": {},
   "outputs": [
    {
     "data": {
      "text/plain": [
       "[1, 2, 3, 4, 5, 6]"
      ]
     },
     "execution_count": 84,
     "metadata": {},
     "output_type": "execute_result"
    }
   ],
   "source": [
    "l + l2"
   ]
  },
  {
   "cell_type": "code",
   "execution_count": 85,
   "id": "932e7494-55f4-4565-a4dc-c7e77f5db094",
   "metadata": {},
   "outputs": [
    {
     "data": {
      "text/plain": [
       "[1, 2, 3]"
      ]
     },
     "execution_count": 85,
     "metadata": {},
     "output_type": "execute_result"
    }
   ],
   "source": [
    "l "
   ]
  },
  {
   "cell_type": "code",
   "execution_count": 86,
   "id": "e1e71afc-6a50-4167-a845-032c8c029363",
   "metadata": {},
   "outputs": [
    {
     "data": {
      "text/plain": [
       "[4, 5, 6]"
      ]
     },
     "execution_count": 86,
     "metadata": {},
     "output_type": "execute_result"
    }
   ],
   "source": [
    "l2"
   ]
  },
  {
   "cell_type": "code",
   "execution_count": 87,
   "id": "82e9899e-a605-44fc-94c4-42c006d9991d",
   "metadata": {},
   "outputs": [],
   "source": [
    "l3 = l + l2"
   ]
  },
  {
   "cell_type": "code",
   "execution_count": 88,
   "id": "ed4ebbcd-d68b-437e-9b9a-1ef7924fb0d6",
   "metadata": {},
   "outputs": [
    {
     "data": {
      "text/plain": [
       "[1, 2, 3, 4, 5, 6]"
      ]
     },
     "execution_count": 88,
     "metadata": {},
     "output_type": "execute_result"
    }
   ],
   "source": [
    "l3"
   ]
  },
  {
   "cell_type": "markdown",
   "id": "6d2572d0-708a-4330-8df0-0a64d53dc5d5",
   "metadata": {},
   "source": [
    "# Belirli Bir Elemanın Indexini Bulmak"
   ]
  },
  {
   "cell_type": "code",
   "execution_count": 89,
   "id": "c0e84af6-f0b5-4dda-944e-25e45b4fb8ff",
   "metadata": {},
   "outputs": [],
   "source": [
    "l = [1, 2, 3, 4, 3, 5, 6]"
   ]
  },
  {
   "cell_type": "code",
   "execution_count": 90,
   "id": "d790f037-1a02-48cf-80bb-f80c55003f48",
   "metadata": {},
   "outputs": [
    {
     "data": {
      "text/plain": [
       "[1, 2, 3, 4, 3, 5, 6]"
      ]
     },
     "execution_count": 90,
     "metadata": {},
     "output_type": "execute_result"
    }
   ],
   "source": [
    "l"
   ]
  },
  {
   "cell_type": "code",
   "execution_count": 91,
   "id": "1192aa36-ef51-4431-8a15-63eb90e1b301",
   "metadata": {},
   "outputs": [
    {
     "data": {
      "text/plain": [
       "2"
      ]
     },
     "execution_count": 91,
     "metadata": {},
     "output_type": "execute_result"
    }
   ],
   "source": [
    "# İlk hangi indexte görünüyorsa onun değerini döndürür.\n",
    "l.index(3)"
   ]
  },
  {
   "cell_type": "code",
   "execution_count": 92,
   "id": "d10fb5a5-56b5-4957-9cff-942237b345f4",
   "metadata": {},
   "outputs": [
    {
     "data": {
      "text/plain": [
       "3"
      ]
     },
     "execution_count": 92,
     "metadata": {},
     "output_type": "execute_result"
    }
   ],
   "source": [
    "l.index(4)"
   ]
  },
  {
   "cell_type": "code",
   "execution_count": 93,
   "id": "555228b2-7577-417c-9d5a-9ec9643851e7",
   "metadata": {},
   "outputs": [
    {
     "ename": "ValueError",
     "evalue": "100 is not in list",
     "output_type": "error",
     "traceback": [
      "\u001b[0;31m---------------------------------------------------------------------------\u001b[0m",
      "\u001b[0;31mValueError\u001b[0m                                Traceback (most recent call last)",
      "Cell \u001b[0;32mIn[93], line 2\u001b[0m\n\u001b[1;32m      1\u001b[0m \u001b[38;5;66;03m# listede olmayan değerler için error verir.\u001b[39;00m\n\u001b[0;32m----> 2\u001b[0m \u001b[43ml\u001b[49m\u001b[38;5;241;43m.\u001b[39;49m\u001b[43mindex\u001b[49m\u001b[43m(\u001b[49m\u001b[38;5;241;43m100\u001b[39;49m\u001b[43m)\u001b[49m\n",
      "\u001b[0;31mValueError\u001b[0m: 100 is not in list"
     ]
    }
   ],
   "source": [
    "# listede olmayan değerler için error verir.\n",
    "l.index(100)"
   ]
  },
  {
   "cell_type": "markdown",
   "id": "9b1c0f84-2480-46be-addd-19696f4146c8",
   "metadata": {},
   "source": [
    "# List'i Tersine Çevirmek"
   ]
  },
  {
   "cell_type": "code",
   "execution_count": 94,
   "id": "6212c20e-cf66-4db3-ba70-692712584d09",
   "metadata": {},
   "outputs": [],
   "source": [
    "l = [1,2,3,4]"
   ]
  },
  {
   "cell_type": "code",
   "execution_count": 95,
   "id": "ade29581-9c2a-4827-b7ae-ec07a0f09a1f",
   "metadata": {},
   "outputs": [],
   "source": [
    "l.reverse()  #inplace: yani l'yi günceller"
   ]
  },
  {
   "cell_type": "code",
   "execution_count": 96,
   "id": "fa7f164a-3aa1-4c41-b7e4-82612c9aec2a",
   "metadata": {},
   "outputs": [
    {
     "data": {
      "text/plain": [
       "[4, 3, 2, 1]"
      ]
     },
     "execution_count": 96,
     "metadata": {},
     "output_type": "execute_result"
    }
   ],
   "source": [
    "l"
   ]
  },
  {
   "cell_type": "markdown",
   "id": "c11f1687-e0e1-49dc-a780-273803245813",
   "metadata": {},
   "source": [
    "* Aynısını *slicing* mantığı ile de yapabilirdik."
   ]
  },
  {
   "cell_type": "code",
   "execution_count": 97,
   "id": "02bf8ab0-892d-4c34-ad47-23fd14e084ae",
   "metadata": {},
   "outputs": [
    {
     "data": {
      "text/plain": [
       "[1, 2, 3, 4]"
      ]
     },
     "execution_count": 97,
     "metadata": {},
     "output_type": "execute_result"
    }
   ],
   "source": [
    "l[::-1]"
   ]
  },
  {
   "cell_type": "code",
   "execution_count": 98,
   "id": "aa5e0e6b-05b6-4a43-9129-a0a4cb44a487",
   "metadata": {},
   "outputs": [
    {
     "data": {
      "text/plain": [
       "[4, 3, 2, 1]"
      ]
     },
     "execution_count": 98,
     "metadata": {},
     "output_type": "execute_result"
    }
   ],
   "source": [
    "l"
   ]
  },
  {
   "cell_type": "code",
   "execution_count": 99,
   "id": "3cbdb08b-1460-4ef0-9dd5-158658e963af",
   "metadata": {},
   "outputs": [],
   "source": [
    "l3 = l[::-1]"
   ]
  },
  {
   "cell_type": "code",
   "execution_count": 100,
   "id": "7e62e8b1-1009-4131-8555-4d63886f6324",
   "metadata": {},
   "outputs": [
    {
     "data": {
      "text/plain": [
       "[1, 2, 3, 4]"
      ]
     },
     "execution_count": 100,
     "metadata": {},
     "output_type": "execute_result"
    }
   ],
   "source": [
    "l3"
   ]
  },
  {
   "cell_type": "code",
   "execution_count": 101,
   "id": "1dc6e938-bb67-46c7-b164-e232d4b672f3",
   "metadata": {},
   "outputs": [
    {
     "data": {
      "text/plain": [
       "[4, 3, 2, 1]"
      ]
     },
     "execution_count": 101,
     "metadata": {},
     "output_type": "execute_result"
    }
   ],
   "source": [
    "l"
   ]
  },
  {
   "cell_type": "markdown",
   "id": "2b7d4ece-e1cc-460b-8947-616c79dbe06c",
   "metadata": {},
   "source": [
    "* Orijinalini güncellemiyor, güncellemesi için variable assignment yapmamız lazım."
   ]
  },
  {
   "cell_type": "code",
   "execution_count": 102,
   "id": "f66c97cb-400c-4074-b74b-dd9dc959d5aa",
   "metadata": {},
   "outputs": [],
   "source": [
    "l = l[::-1]"
   ]
  },
  {
   "cell_type": "code",
   "execution_count": 103,
   "id": "ac9bebac-2e9e-4eb1-9b0b-3f7e79ef2cc4",
   "metadata": {},
   "outputs": [
    {
     "data": {
      "text/plain": [
       "[1, 2, 3, 4]"
      ]
     },
     "execution_count": 103,
     "metadata": {},
     "output_type": "execute_result"
    }
   ],
   "source": [
    "l"
   ]
  },
  {
   "cell_type": "markdown",
   "id": "ae89be61-dca9-439d-849d-af11608abcbd",
   "metadata": {},
   "source": [
    "# List'in Elemanlarını Sıralamak (sorting)"
   ]
  },
  {
   "cell_type": "markdown",
   "id": "993258e8-416f-48e0-98aa-61ed68b76830",
   "metadata": {},
   "source": [
    "* sorted() ve .sort() a bakacağız. İkisi de default olarak küçükten büyüğe sıralar. Sayısal vierlerde sayısal değerine göre, stringlerde alfabetik sıraya göre sıralar.\n",
    "\n",
    "* sorted() orijinal listeyi güncellemez."
   ]
  },
  {
   "cell_type": "code",
   "execution_count": 104,
   "id": "7ec1e163-9bcb-48a9-b957-e5628a754434",
   "metadata": {},
   "outputs": [],
   "source": [
    "l = [\"b\",\"a\",\"c\"]"
   ]
  },
  {
   "cell_type": "code",
   "execution_count": 105,
   "id": "8087af81-3c6e-4591-901a-c00e1c6f3993",
   "metadata": {},
   "outputs": [
    {
     "data": {
      "text/plain": [
       "['a', 'b', 'c']"
      ]
     },
     "execution_count": 105,
     "metadata": {},
     "output_type": "execute_result"
    }
   ],
   "source": [
    "sorted(l)"
   ]
  },
  {
   "cell_type": "code",
   "execution_count": 106,
   "id": "d654763a-ea15-4000-a6c2-f36545c63ac5",
   "metadata": {},
   "outputs": [
    {
     "data": {
      "text/plain": [
       "['b', 'a', 'c']"
      ]
     },
     "execution_count": 106,
     "metadata": {},
     "output_type": "execute_result"
    }
   ],
   "source": [
    "l"
   ]
  },
  {
   "cell_type": "code",
   "execution_count": 107,
   "id": "fe3b1312-3633-498a-a9d5-c58f808e5bf4",
   "metadata": {},
   "outputs": [],
   "source": [
    "l3 = sorted(l)"
   ]
  },
  {
   "cell_type": "code",
   "execution_count": 108,
   "id": "97ead0da-ae4a-4fb8-a9aa-4c7eb164f62a",
   "metadata": {},
   "outputs": [
    {
     "data": {
      "text/plain": [
       "['a', 'b', 'c']"
      ]
     },
     "execution_count": 108,
     "metadata": {},
     "output_type": "execute_result"
    }
   ],
   "source": [
    "l3"
   ]
  },
  {
   "cell_type": "code",
   "execution_count": 109,
   "id": "c8fc2071-2523-4957-8a74-c65e378516fd",
   "metadata": {},
   "outputs": [
    {
     "data": {
      "text/plain": [
       "['b', 'a', 'c']"
      ]
     },
     "execution_count": 109,
     "metadata": {},
     "output_type": "execute_result"
    }
   ],
   "source": [
    "l"
   ]
  },
  {
   "cell_type": "markdown",
   "id": "19b839dc-c6b1-435a-8491-5f17c6d752eb",
   "metadata": {},
   "source": [
    ".sort() günceller."
   ]
  },
  {
   "cell_type": "code",
   "execution_count": 110,
   "id": "57c6ee64-d8ac-416d-b2cb-a51e65c1d857",
   "metadata": {},
   "outputs": [],
   "source": [
    "l = [\"b\",\"a\",\"c\"]"
   ]
  },
  {
   "cell_type": "code",
   "execution_count": 111,
   "id": "e266474f-0e1a-482c-9f47-953d751103e7",
   "metadata": {},
   "outputs": [],
   "source": [
    "l.sort()  #inplace"
   ]
  },
  {
   "cell_type": "code",
   "execution_count": 112,
   "id": "5d8cd1e8-4bb6-49cf-b207-f9529ecaec5b",
   "metadata": {},
   "outputs": [
    {
     "data": {
      "text/plain": [
       "['a', 'b', 'c']"
      ]
     },
     "execution_count": 112,
     "metadata": {},
     "output_type": "execute_result"
    }
   ],
   "source": [
    "l"
   ]
  },
  {
   "cell_type": "code",
   "execution_count": 113,
   "id": "77cd249d-c606-45bc-afb6-e417eb17201b",
   "metadata": {},
   "outputs": [],
   "source": [
    "l = [1,2,10,3,-1]"
   ]
  },
  {
   "cell_type": "code",
   "execution_count": 114,
   "id": "b12ec0f3-5972-4308-a094-cd38d0d376a3",
   "metadata": {},
   "outputs": [
    {
     "data": {
      "text/plain": [
       "[-1, 1, 2, 3, 10]"
      ]
     },
     "execution_count": 114,
     "metadata": {},
     "output_type": "execute_result"
    }
   ],
   "source": [
    "sorted(l)"
   ]
  },
  {
   "cell_type": "code",
   "execution_count": 115,
   "id": "f2580890-ca1a-4d57-8f7f-f08f848731f8",
   "metadata": {},
   "outputs": [
    {
     "data": {
      "text/plain": [
       "[1, 2, 10, 3, -1]"
      ]
     },
     "execution_count": 115,
     "metadata": {},
     "output_type": "execute_result"
    }
   ],
   "source": [
    "l"
   ]
  },
  {
   "cell_type": "code",
   "execution_count": 116,
   "id": "993e8853-dd10-40dc-b388-d59fdb992244",
   "metadata": {},
   "outputs": [],
   "source": [
    "l.sort()"
   ]
  },
  {
   "cell_type": "code",
   "execution_count": 117,
   "id": "032e61e1-68f6-4ed6-b305-4d715d48d1ce",
   "metadata": {},
   "outputs": [
    {
     "data": {
      "text/plain": [
       "[-1, 1, 2, 3, 10]"
      ]
     },
     "execution_count": 117,
     "metadata": {},
     "output_type": "execute_result"
    }
   ],
   "source": [
    "l"
   ]
  },
  {
   "cell_type": "code",
   "execution_count": 118,
   "id": "4ad210bc-64e8-4b12-9bb2-dc369f2862b3",
   "metadata": {},
   "outputs": [],
   "source": [
    "l = [\"b\",\"a\",\"c\",\"1\",\"3\",\"4\"]"
   ]
  },
  {
   "cell_type": "code",
   "execution_count": 119,
   "id": "aaf25a23-9f91-4134-9fe8-930e5acadd0a",
   "metadata": {},
   "outputs": [],
   "source": [
    "l.sort()"
   ]
  },
  {
   "cell_type": "code",
   "execution_count": 120,
   "id": "e789e661-694c-41b8-b817-d253a1dff0a5",
   "metadata": {},
   "outputs": [
    {
     "data": {
      "text/plain": [
       "['1', '3', '4', 'a', 'b', 'c']"
      ]
     },
     "execution_count": 120,
     "metadata": {},
     "output_type": "execute_result"
    }
   ],
   "source": [
    "l"
   ]
  },
  {
   "cell_type": "code",
   "execution_count": 121,
   "id": "9d455acf-bae7-4627-841a-7b56f9e1ee3a",
   "metadata": {},
   "outputs": [],
   "source": [
    "l = [1,3.1,2,0.6]"
   ]
  },
  {
   "cell_type": "code",
   "execution_count": 122,
   "id": "77ebe0af-7d72-402c-82fc-7f11f85da83c",
   "metadata": {},
   "outputs": [],
   "source": [
    "l.sort()"
   ]
  },
  {
   "cell_type": "code",
   "execution_count": 123,
   "id": "01fe40af-5295-4291-893b-82e72869a36c",
   "metadata": {},
   "outputs": [
    {
     "data": {
      "text/plain": [
       "[0.6, 1, 2, 3.1]"
      ]
     },
     "execution_count": 123,
     "metadata": {},
     "output_type": "execute_result"
    }
   ],
   "source": [
    "l"
   ]
  },
  {
   "cell_type": "code",
   "execution_count": 124,
   "id": "0b487950-b5f4-4502-8174-3ed4d0025096",
   "metadata": {},
   "outputs": [],
   "source": [
    "l = [\"b\",\"a\",\"c\",1,2]"
   ]
  },
  {
   "cell_type": "code",
   "execution_count": 125,
   "id": "8e4c6c56-2dd3-4ba3-9429-1e988a22940e",
   "metadata": {},
   "outputs": [
    {
     "ename": "TypeError",
     "evalue": "'<' not supported between instances of 'int' and 'str'",
     "output_type": "error",
     "traceback": [
      "\u001b[0;31m---------------------------------------------------------------------------\u001b[0m",
      "\u001b[0;31mTypeError\u001b[0m                                 Traceback (most recent call last)",
      "Cell \u001b[0;32mIn[125], line 1\u001b[0m\n\u001b[0;32m----> 1\u001b[0m \u001b[43ml\u001b[49m\u001b[38;5;241;43m.\u001b[39;49m\u001b[43msort\u001b[49m\u001b[43m(\u001b[49m\u001b[43m)\u001b[49m\n",
      "\u001b[0;31mTypeError\u001b[0m: '<' not supported between instances of 'int' and 'str'"
     ]
    }
   ],
   "source": [
    "l.sort()"
   ]
  },
  {
   "cell_type": "code",
   "execution_count": 126,
   "id": "267d7c8f-525f-4506-a4bc-78605bb9148f",
   "metadata": {},
   "outputs": [],
   "source": [
    "l = [\"b\",\"a\",\"c\",\"1\",\"3.5\",\"4\",\"5.6\", \"0.6\"]"
   ]
  },
  {
   "cell_type": "code",
   "execution_count": 127,
   "id": "fe9f9c09-afb4-4be2-8f8d-b586c85e1a82",
   "metadata": {},
   "outputs": [],
   "source": [
    "l.sort()"
   ]
  },
  {
   "cell_type": "code",
   "execution_count": 128,
   "id": "6dc4db7a-1796-4d15-a0e7-24d197dadc34",
   "metadata": {},
   "outputs": [
    {
     "data": {
      "text/plain": [
       "['0.6', '1', '3.5', '4', '5.6', 'a', 'b', 'c']"
      ]
     },
     "execution_count": 128,
     "metadata": {},
     "output_type": "execute_result"
    }
   ],
   "source": [
    "l"
   ]
  },
  {
   "cell_type": "code",
   "execution_count": 129,
   "id": "b956ef11-8b65-4078-a239-b7be784417d4",
   "metadata": {},
   "outputs": [
    {
     "data": {
      "text/plain": [
       "[[1, -20, 3], [2, -200, -3]]"
      ]
     },
     "execution_count": 129,
     "metadata": {},
     "output_type": "execute_result"
    }
   ],
   "source": [
    "l = [[1,-20,3], [2,-200,-3]]\n",
    "l.sort()\n",
    "l"
   ]
  },
  {
   "cell_type": "code",
   "execution_count": 130,
   "id": "5d43526b-31e9-4945-aaaf-4c5c4b2755fb",
   "metadata": {},
   "outputs": [],
   "source": [
    "l = [[10,-20,-3], [2,-2,3]]\n"
   ]
  },
  {
   "cell_type": "code",
   "execution_count": 131,
   "id": "cc3f04d9-b25a-4975-bb53-bc791e8ddec2",
   "metadata": {},
   "outputs": [],
   "source": [
    "l.sort()"
   ]
  },
  {
   "cell_type": "code",
   "execution_count": 132,
   "id": "3df5dd9f-ba9c-4c09-9607-0313227a83d3",
   "metadata": {},
   "outputs": [
    {
     "data": {
      "text/plain": [
       "[[2, -2, 3], [10, -20, -3]]"
      ]
     },
     "execution_count": 132,
     "metadata": {},
     "output_type": "execute_result"
    }
   ],
   "source": [
    "l"
   ]
  },
  {
   "cell_type": "code",
   "execution_count": 133,
   "id": "90e4d169-6175-406e-83c1-26a864d2bdff",
   "metadata": {},
   "outputs": [],
   "source": [
    "l = [[10,-20,-3], [10,-25,3]]\n"
   ]
  },
  {
   "cell_type": "code",
   "execution_count": 134,
   "id": "e2e0899c-2f1f-4428-98f7-9f359a9c7c57",
   "metadata": {},
   "outputs": [],
   "source": [
    "l.sort()"
   ]
  },
  {
   "cell_type": "code",
   "execution_count": 135,
   "id": "a199878f-4008-4dbe-a6d0-5890a415be34",
   "metadata": {},
   "outputs": [
    {
     "data": {
      "text/plain": [
       "[[10, -25, 3], [10, -20, -3]]"
      ]
     },
     "execution_count": 135,
     "metadata": {},
     "output_type": "execute_result"
    }
   ],
   "source": [
    "l"
   ]
  },
  {
   "cell_type": "code",
   "execution_count": 136,
   "id": "04504f8a-57a0-4fda-bca1-2821cf314a19",
   "metadata": {},
   "outputs": [],
   "source": [
    "l = [[\"a\", \"b\", \"c\"], [2,-200,-3]]"
   ]
  },
  {
   "cell_type": "code",
   "execution_count": 137,
   "id": "be014a73-119a-4ec6-b716-7f140ae6e706",
   "metadata": {},
   "outputs": [
    {
     "ename": "TypeError",
     "evalue": "'<' not supported between instances of 'int' and 'str'",
     "output_type": "error",
     "traceback": [
      "\u001b[0;31m---------------------------------------------------------------------------\u001b[0m",
      "\u001b[0;31mTypeError\u001b[0m                                 Traceback (most recent call last)",
      "Cell \u001b[0;32mIn[137], line 1\u001b[0m\n\u001b[0;32m----> 1\u001b[0m \u001b[43ml\u001b[49m\u001b[38;5;241;43m.\u001b[39;49m\u001b[43msort\u001b[49m\u001b[43m(\u001b[49m\u001b[43m)\u001b[49m\n",
      "\u001b[0;31mTypeError\u001b[0m: '<' not supported between instances of 'int' and 'str'"
     ]
    }
   ],
   "source": [
    "l.sort()"
   ]
  },
  {
   "cell_type": "code",
   "execution_count": 138,
   "id": "07d5a27f-2aa3-46b0-9870-b8f4cf304c09",
   "metadata": {},
   "outputs": [
    {
     "data": {
      "text/plain": [
       "[['a', 'b', 'c'], [2, -200, -3]]"
      ]
     },
     "execution_count": 138,
     "metadata": {},
     "output_type": "execute_result"
    }
   ],
   "source": [
    "l"
   ]
  },
  {
   "cell_type": "code",
   "execution_count": 139,
   "id": "4950ab79-ce2d-47c8-b412-a429c078ca07",
   "metadata": {},
   "outputs": [],
   "source": [
    "l = [[200, \"b\", \"c\"], [2,-200,-3,10]]\n"
   ]
  },
  {
   "cell_type": "code",
   "execution_count": 140,
   "id": "a0387e66-360f-4962-b642-effb46b89feb",
   "metadata": {},
   "outputs": [],
   "source": [
    "l.sort()"
   ]
  },
  {
   "cell_type": "code",
   "execution_count": 141,
   "id": "8bdfd891-2471-4f93-bb3c-2ec5c1467e11",
   "metadata": {},
   "outputs": [
    {
     "data": {
      "text/plain": [
       "[[2, -200, -3, 10], [200, 'b', 'c']]"
      ]
     },
     "execution_count": 141,
     "metadata": {},
     "output_type": "execute_result"
    }
   ],
   "source": [
    "l"
   ]
  },
  {
   "cell_type": "code",
   "execution_count": 142,
   "id": "18635fa8-b5e1-4eca-9a24-10e7b43ca96e",
   "metadata": {},
   "outputs": [],
   "source": [
    "l = [[200, \"b\", \"c\"], [200,-200,-3,10]]"
   ]
  },
  {
   "cell_type": "code",
   "execution_count": 143,
   "id": "c419f8b2-3215-452d-a270-3ab8f2115587",
   "metadata": {},
   "outputs": [
    {
     "ename": "TypeError",
     "evalue": "'<' not supported between instances of 'int' and 'str'",
     "output_type": "error",
     "traceback": [
      "\u001b[0;31m---------------------------------------------------------------------------\u001b[0m",
      "\u001b[0;31mTypeError\u001b[0m                                 Traceback (most recent call last)",
      "Cell \u001b[0;32mIn[143], line 1\u001b[0m\n\u001b[0;32m----> 1\u001b[0m \u001b[43ml\u001b[49m\u001b[38;5;241;43m.\u001b[39;49m\u001b[43msort\u001b[49m\u001b[43m(\u001b[49m\u001b[43m)\u001b[49m\n",
      "\u001b[0;31mTypeError\u001b[0m: '<' not supported between instances of 'int' and 'str'"
     ]
    }
   ],
   "source": [
    "l.sort()"
   ]
  },
  {
   "cell_type": "code",
   "execution_count": 144,
   "id": "c2989321-805e-4b67-92ed-26ee901f6e19",
   "metadata": {},
   "outputs": [],
   "source": [
    "a=20\n",
    "b=a\n",
    "a=a+5\n",
    "l=[20,30,40]\n",
    "l2=l\n",
    "l[0]=l[0]+5"
   ]
  },
  {
   "cell_type": "code",
   "execution_count": 145,
   "id": "4b415fe8-4b54-4e95-8eea-451a9608acf6",
   "metadata": {},
   "outputs": [
    {
     "data": {
      "text/plain": [
       "20"
      ]
     },
     "execution_count": 145,
     "metadata": {},
     "output_type": "execute_result"
    }
   ],
   "source": [
    "b"
   ]
  },
  {
   "cell_type": "code",
   "execution_count": 146,
   "id": "1dfba035-8165-436b-b3ea-fee0ea709147",
   "metadata": {},
   "outputs": [
    {
     "data": {
      "text/plain": [
       "25"
      ]
     },
     "execution_count": 146,
     "metadata": {},
     "output_type": "execute_result"
    }
   ],
   "source": [
    "l2[0]"
   ]
  },
  {
   "cell_type": "code",
   "execution_count": null,
   "id": "b9d9ab8e-d08c-4ee8-bef2-cdb6e5de5328",
   "metadata": {},
   "outputs": [],
   "source": []
  }
 ],
 "metadata": {
  "kernelspec": {
   "display_name": "Python 3 (ipykernel)",
   "language": "python",
   "name": "python3"
  },
  "language_info": {
   "codemirror_mode": {
    "name": "ipython",
    "version": 3
   },
   "file_extension": ".py",
   "mimetype": "text/x-python",
   "name": "python",
   "nbconvert_exporter": "python",
   "pygments_lexer": "ipython3",
   "version": "3.11.4"
  }
 },
 "nbformat": 4,
 "nbformat_minor": 5
}
