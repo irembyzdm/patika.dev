{
 "cells": [
  {
   "cell_type": "markdown",
   "id": "6ac1e191-3604-427f-88a2-2617040844b5",
   "metadata": {},
   "source": [
    "# Temel Veri Tipleri"
   ]
  },
  {
   "cell_type": "markdown",
   "id": "46dd7989-473c-4cf2-9e90-69be409cfe8e",
   "metadata": {},
   "source": [
    "Programlar veri objelerini (data object) manipüle ederek istediklerimizi yaparlar."
   ]
  },
  {
   "cell_type": "markdown",
   "id": "b65952a6-35d5-492d-bcd9-11f16d63f231",
   "metadata": {},
   "source": [
    "Programa istediğimizi yaptırmamız için girdilerimizi ve programın içerisinde kullanılacak verileri ifade edebilmemiz lazım"
   ]
  },
  {
   "cell_type": "markdown",
   "id": "4954148d-7264-4ca2-b23f-0405ca2948b1",
   "metadata": {},
   "source": [
    "Veri objeleri ikiye ayrılır:"
   ]
  },
  {
   "cell_type": "markdown",
   "id": "d3f3a447-37de-47c8-8623-e1dc396ad3d2",
   "metadata": {},
   "source": [
    "1) Scalar: Daha alt parçalara bölünemeyen yapılar. (sayılar vs gibi)\n",
    "2) Non-Scalar: Daha alt parçalara bölünebilen, içsel yapısına erişilebilen "
   ]
  },
  {
   "cell_type": "markdown",
   "id": "6e6610d5-6ccd-4d0a-8626-c21112e88bad",
   "metadata": {},
   "source": [
    "Her objenin bir tipi vardır, program bu tiplere göre onlarla nasıl işlem yapabileceğine karar verir."
   ]
  },
  {
   "cell_type": "markdown",
   "id": "8a57f005-9967-4542-b39c-830d4f12dc05",
   "metadata": {},
   "source": [
    "# Integers (Tam Sayılar)"
   ]
  },
  {
   "cell_type": "code",
   "execution_count": 1,
   "id": "a5aa8907-d500-4581-a5f7-bde3191f28f5",
   "metadata": {},
   "outputs": [
    {
     "data": {
      "text/plain": [
       "2"
      ]
     },
     "execution_count": 1,
     "metadata": {},
     "output_type": "execute_result"
    }
   ],
   "source": [
    "2"
   ]
  },
  {
   "cell_type": "code",
   "execution_count": 2,
   "id": "10b13047-75ff-47be-9e9d-f3ff91be2a45",
   "metadata": {},
   "outputs": [
    {
     "data": {
      "text/plain": [
       "3"
      ]
     },
     "execution_count": 2,
     "metadata": {},
     "output_type": "execute_result"
    }
   ],
   "source": [
    "3"
   ]
  },
  {
   "cell_type": "markdown",
   "id": "0d7b5a0e-f2ee-407e-b83f-04a22e6576e3",
   "metadata": {},
   "source": [
    "# Floats (Kesirli Sayılar)"
   ]
  },
  {
   "cell_type": "code",
   "execution_count": 3,
   "id": "a6789452-7a78-4931-a46c-d83064bdc4e6",
   "metadata": {},
   "outputs": [
    {
     "data": {
      "text/plain": [
       "2.3"
      ]
     },
     "execution_count": 3,
     "metadata": {},
     "output_type": "execute_result"
    }
   ],
   "source": [
    "2.3"
   ]
  },
  {
   "cell_type": "code",
   "execution_count": 4,
   "id": "9258eae3-cd41-450e-a551-45b7c7a2bf8c",
   "metadata": {},
   "outputs": [
    {
     "data": {
      "text/plain": [
       "2.5"
      ]
     },
     "execution_count": 4,
     "metadata": {},
     "output_type": "execute_result"
    }
   ],
   "source": [
    "2.5"
   ]
  },
  {
   "cell_type": "code",
   "execution_count": 5,
   "id": "339921dd-7cce-4107-998d-ed8427ace7b2",
   "metadata": {},
   "outputs": [
    {
     "data": {
      "text/plain": [
       "2.0"
      ]
     },
     "execution_count": 5,
     "metadata": {},
     "output_type": "execute_result"
    }
   ],
   "source": [
    "2.0"
   ]
  },
  {
   "cell_type": "markdown",
   "id": "8d46e539-8da2-486a-bad9-bba38c25b7f9",
   "metadata": {},
   "source": [
    "# Boolean"
   ]
  },
  {
   "cell_type": "markdown",
   "id": "0d86c470-7b56-4386-8b00-2557e576cc54",
   "metadata": {},
   "source": [
    "True/False olduğunu belirten yapı"
   ]
  },
  {
   "cell_type": "code",
   "execution_count": 6,
   "id": "df5a0d31-e844-47e9-8731-e53d9f94f687",
   "metadata": {},
   "outputs": [
    {
     "data": {
      "text/plain": [
       "True"
      ]
     },
     "execution_count": 6,
     "metadata": {},
     "output_type": "execute_result"
    }
   ],
   "source": [
    "True"
   ]
  },
  {
   "cell_type": "code",
   "execution_count": 7,
   "id": "e24e36de-7a5e-4ff2-a4ee-255eeda9489e",
   "metadata": {},
   "outputs": [
    {
     "data": {
      "text/plain": [
       "True"
      ]
     },
     "execution_count": 7,
     "metadata": {},
     "output_type": "execute_result"
    }
   ],
   "source": [
    "2 < 3"
   ]
  },
  {
   "cell_type": "code",
   "execution_count": 8,
   "id": "182b21b5-80e8-4c7a-84a8-6fd9db8e6485",
   "metadata": {},
   "outputs": [
    {
     "data": {
      "text/plain": [
       "False"
      ]
     },
     "execution_count": 8,
     "metadata": {},
     "output_type": "execute_result"
    }
   ],
   "source": [
    "5 > 29"
   ]
  },
  {
   "cell_type": "markdown",
   "id": "412d181b-7eff-40fe-90cc-42f37cb6fcb6",
   "metadata": {},
   "source": [
    "# type()"
   ]
  },
  {
   "cell_type": "markdown",
   "id": "8b5c9e7f-bf16-40a7-b6aa-35b0256eecaa",
   "metadata": {},
   "source": [
    "Objelerin tiplerine bakabiliriz."
   ]
  },
  {
   "cell_type": "code",
   "execution_count": 11,
   "id": "31cb6995-6fb1-4ee3-9bc3-4f0707465b7c",
   "metadata": {},
   "outputs": [
    {
     "data": {
      "text/plain": [
       "int"
      ]
     },
     "execution_count": 11,
     "metadata": {},
     "output_type": "execute_result"
    }
   ],
   "source": [
    "type(2)"
   ]
  },
  {
   "cell_type": "code",
   "execution_count": 12,
   "id": "2ea04b72-6b82-4b65-a271-c06f3ff876e3",
   "metadata": {},
   "outputs": [
    {
     "data": {
      "text/plain": [
       "bool"
      ]
     },
     "execution_count": 12,
     "metadata": {},
     "output_type": "execute_result"
    }
   ],
   "source": [
    "type(True)"
   ]
  },
  {
   "cell_type": "code",
   "execution_count": 13,
   "id": "0cc6c576-d0b4-4060-a952-036ffe37c5b1",
   "metadata": {},
   "outputs": [
    {
     "data": {
      "text/plain": [
       "float"
      ]
     },
     "execution_count": 13,
     "metadata": {},
     "output_type": "execute_result"
    }
   ],
   "source": [
    "type(3.9)"
   ]
  },
  {
   "cell_type": "markdown",
   "id": "3233327a-0671-487c-9888-ec34a990fcd6",
   "metadata": {},
   "source": [
    "# Type Casting (Tip Dönüştürmesi)"
   ]
  },
  {
   "cell_type": "markdown",
   "id": "9f142994-7352-4aa1-a6f7-37c84dd9d5ed",
   "metadata": {},
   "source": [
    "Data objelerinin tipini değiştirebiliyoruz, buna casting deniyor."
   ]
  },
  {
   "cell_type": "code",
   "execution_count": 15,
   "id": "f3aa6556-b7d9-4b3e-81d4-db992c228440",
   "metadata": {},
   "outputs": [
    {
     "data": {
      "text/plain": [
       "2"
      ]
     },
     "execution_count": 15,
     "metadata": {},
     "output_type": "execute_result"
    }
   ],
   "source": [
    "int(2.4)"
   ]
  },
  {
   "cell_type": "code",
   "execution_count": 16,
   "id": "fa87a50c-13cc-4747-bfe7-15bd59c822e2",
   "metadata": {},
   "outputs": [
    {
     "data": {
      "text/plain": [
       "2"
      ]
     },
     "execution_count": 16,
     "metadata": {},
     "output_type": "execute_result"
    }
   ],
   "source": [
    "#Sayıları yuvarlamaz, sadece tam kısmını alır.\n",
    "int(2.9)"
   ]
  },
  {
   "cell_type": "code",
   "execution_count": 17,
   "id": "6b6548c5-6be2-4998-95e9-9bbf08765038",
   "metadata": {},
   "outputs": [
    {
     "data": {
      "text/plain": [
       "4.2"
      ]
     },
     "execution_count": 17,
     "metadata": {},
     "output_type": "execute_result"
    }
   ],
   "source": [
    "float(4.2)"
   ]
  },
  {
   "cell_type": "code",
   "execution_count": 18,
   "id": "23ad7a00-7db6-4f98-82e2-8a6e133aa2ec",
   "metadata": {},
   "outputs": [
    {
     "data": {
      "text/plain": [
       "8.0"
      ]
     },
     "execution_count": 18,
     "metadata": {},
     "output_type": "execute_result"
    }
   ],
   "source": [
    "float(8)"
   ]
  },
  {
   "cell_type": "code",
   "execution_count": null,
   "id": "7123b915-1971-473b-9f08-fefefcc34ae5",
   "metadata": {},
   "outputs": [],
   "source": []
  }
 ],
 "metadata": {
  "kernelspec": {
   "display_name": "Python 3 (ipykernel)",
   "language": "python",
   "name": "python3"
  },
  "language_info": {
   "codemirror_mode": {
    "name": "ipython",
    "version": 3
   },
   "file_extension": ".py",
   "mimetype": "text/x-python",
   "name": "python",
   "nbconvert_exporter": "python",
   "pygments_lexer": "ipython3",
   "version": "3.11.4"
  }
 },
 "nbformat": 4,
 "nbformat_minor": 5
}
