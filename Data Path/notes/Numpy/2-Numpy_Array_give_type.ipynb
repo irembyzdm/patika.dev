{
 "cells": [
  {
   "cell_type": "code",
   "execution_count": 2,
   "id": "ddae12c0-0fe6-4458-b4aa-6e8d64fe4634",
   "metadata": {},
   "outputs": [],
   "source": [
    "import numpy as np"
   ]
  },
  {
   "cell_type": "markdown",
   "id": "405b7095-26c7-4fe8-b278-c050b8f13070",
   "metadata": {},
   "source": [
    "# Array Data Tipini Manuel Belirtmek"
   ]
  },
  {
   "cell_type": "markdown",
   "id": "5788406d-7631-4409-be18-6c1cddef976a",
   "metadata": {},
   "source": [
    "* Array'in elemanlarının tipinin ne olacağını özellikle belirtebiliriz."
   ]
  },
  {
   "cell_type": "code",
   "execution_count": 3,
   "id": "dcc11141-8a9d-4c0e-9ceb-8ce3137df21b",
   "metadata": {},
   "outputs": [],
   "source": [
    "x = np.array([1,2,3,4.6])"
   ]
  },
  {
   "cell_type": "code",
   "execution_count": 4,
   "id": "f744c8fb-5fff-4dac-8b20-e189c8539f47",
   "metadata": {},
   "outputs": [
    {
     "data": {
      "text/plain": [
       "array([1. , 2. , 3. , 4.6])"
      ]
     },
     "execution_count": 4,
     "metadata": {},
     "output_type": "execute_result"
    }
   ],
   "source": [
    "x"
   ]
  },
  {
   "cell_type": "code",
   "execution_count": 5,
   "id": "7c5e4ae2-55f6-4e07-a299-5218540603ad",
   "metadata": {},
   "outputs": [],
   "source": [
    "x = np.array([1,2,3,4.6], dtype = \"int32\")"
   ]
  },
  {
   "cell_type": "code",
   "execution_count": 6,
   "id": "30a28b51-73ee-4fcc-8e7b-f38d1c9337a5",
   "metadata": {},
   "outputs": [
    {
     "data": {
      "text/plain": [
       "array([1, 2, 3, 4], dtype=int32)"
      ]
     },
     "execution_count": 6,
     "metadata": {},
     "output_type": "execute_result"
    }
   ],
   "source": [
    "x"
   ]
  },
  {
   "cell_type": "code",
   "execution_count": 7,
   "id": "13b7c46d-4f1f-4ad5-a087-0d110ee534ad",
   "metadata": {},
   "outputs": [],
   "source": [
    "x = np.array([1,2,3,4.6], dtype = \"str\")"
   ]
  },
  {
   "cell_type": "code",
   "execution_count": 8,
   "id": "b384aba3-a0a8-488d-9ec8-d1c684b5d192",
   "metadata": {},
   "outputs": [
    {
     "data": {
      "text/plain": [
       "array(['1', '2', '3', '4.6'], dtype='<U3')"
      ]
     },
     "execution_count": 8,
     "metadata": {},
     "output_type": "execute_result"
    }
   ],
   "source": [
    "x"
   ]
  },
  {
   "cell_type": "code",
   "execution_count": 9,
   "id": "a150c3aa-d702-4699-ad1b-083227ff9240",
   "metadata": {},
   "outputs": [
    {
     "ename": "ValueError",
     "evalue": "invalid literal for int() with base 10: 'a'",
     "output_type": "error",
     "traceback": [
      "\u001b[0;31m---------------------------------------------------------------------------\u001b[0m",
      "\u001b[0;31mValueError\u001b[0m                                Traceback (most recent call last)",
      "Cell \u001b[0;32mIn[9], line 1\u001b[0m\n\u001b[0;32m----> 1\u001b[0m x \u001b[38;5;241m=\u001b[39m \u001b[43mnp\u001b[49m\u001b[38;5;241;43m.\u001b[39;49m\u001b[43marray\u001b[49m\u001b[43m(\u001b[49m\u001b[43m[\u001b[49m\u001b[38;5;124;43m\"\u001b[39;49m\u001b[38;5;124;43ma\u001b[39;49m\u001b[38;5;124;43m\"\u001b[39;49m\u001b[43m]\u001b[49m\u001b[43m,\u001b[49m\u001b[43m \u001b[49m\u001b[43mdtype\u001b[49m\u001b[43m \u001b[49m\u001b[38;5;241;43m=\u001b[39;49m\u001b[43m \u001b[49m\u001b[38;5;124;43m\"\u001b[39;49m\u001b[38;5;124;43mint32\u001b[39;49m\u001b[38;5;124;43m\"\u001b[39;49m\u001b[43m)\u001b[49m\n",
      "\u001b[0;31mValueError\u001b[0m: invalid literal for int() with base 10: 'a'"
     ]
    }
   ],
   "source": [
    "x = np.array([\"a\"], dtype = \"int32\")"
   ]
  },
  {
   "cell_type": "code",
   "execution_count": 10,
   "id": "9b486825-8af5-4dc2-8208-cf352a20278d",
   "metadata": {},
   "outputs": [],
   "source": [
    "x = np.array([\"5\"], dtype = \"int32\")"
   ]
  },
  {
   "cell_type": "code",
   "execution_count": 11,
   "id": "ebe6d47c-afac-4a15-98d0-cbf776c89239",
   "metadata": {},
   "outputs": [
    {
     "data": {
      "text/plain": [
       "array([5], dtype=int32)"
      ]
     },
     "execution_count": 11,
     "metadata": {},
     "output_type": "execute_result"
    }
   ],
   "source": [
    "x"
   ]
  },
  {
   "cell_type": "code",
   "execution_count": 12,
   "id": "2f4af349-1fd5-4b65-937c-d4d25741ce8b",
   "metadata": {},
   "outputs": [
    {
     "ename": "ValueError",
     "evalue": "invalid literal for int() with base 10: '4.2'",
     "output_type": "error",
     "traceback": [
      "\u001b[0;31m---------------------------------------------------------------------------\u001b[0m",
      "\u001b[0;31mValueError\u001b[0m                                Traceback (most recent call last)",
      "Cell \u001b[0;32mIn[12], line 1\u001b[0m\n\u001b[0;32m----> 1\u001b[0m x\u001b[38;5;241m=\u001b[39m\u001b[43mnp\u001b[49m\u001b[38;5;241;43m.\u001b[39;49m\u001b[43marray\u001b[49m\u001b[43m(\u001b[49m\u001b[43m[\u001b[49m\u001b[38;5;124;43m\"\u001b[39;49m\u001b[38;5;124;43m4.2\u001b[39;49m\u001b[38;5;124;43m\"\u001b[39;49m\u001b[43m]\u001b[49m\u001b[43m,\u001b[49m\u001b[43mdtype\u001b[49m\u001b[38;5;241;43m=\u001b[39;49m\u001b[38;5;124;43m\"\u001b[39;49m\u001b[38;5;124;43mint32\u001b[39;49m\u001b[38;5;124;43m\"\u001b[39;49m\u001b[43m)\u001b[49m\n",
      "\u001b[0;31mValueError\u001b[0m: invalid literal for int() with base 10: '4.2'"
     ]
    }
   ],
   "source": [
    "x=np.array([\"4.2\"],dtype=\"int32\")"
   ]
  },
  {
   "cell_type": "code",
   "execution_count": null,
   "id": "9b9683fb-9153-4d13-853c-649f5c36e12c",
   "metadata": {},
   "outputs": [],
   "source": []
  }
 ],
 "metadata": {
  "kernelspec": {
   "display_name": "Python 3 (ipykernel)",
   "language": "python",
   "name": "python3"
  },
  "language_info": {
   "codemirror_mode": {
    "name": "ipython",
    "version": 3
   },
   "file_extension": ".py",
   "mimetype": "text/x-python",
   "name": "python",
   "nbconvert_exporter": "python",
   "pygments_lexer": "ipython3",
   "version": "3.11.4"
  }
 },
 "nbformat": 4,
 "nbformat_minor": 5
}
