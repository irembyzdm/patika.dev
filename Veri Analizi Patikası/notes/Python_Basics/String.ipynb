{
 "cells": [
  {
   "cell_type": "markdown",
   "id": "409baaff-4074-4e74-b133-8ee9a335780c",
   "metadata": {},
   "source": [
    "# String"
   ]
  },
  {
   "cell_type": "markdown",
   "id": "2cc1fa80-7020-46ac-ba9c-99f86e5e19d9",
   "metadata": {},
   "source": [
    "Şimdiye kadar sadece sayılar ile uğraştık. Bu notebook'ta yeni bir veri tipine, String'lere bakalım\n",
    "\n",
    "\n",
    "Stringler karakterlerden oluşan bir dizidir aslında. Stringlerin elemanları karakterlerdir.\n",
    "\n",
    "\n",
    "Karakterler: (a,b,c,d...) gibi harfler, (*, ?, =, <, >, /...) gibi özel karakterler, (1,2,3...) gibi yazı biçiminde sayılar, boşluk(space) karakter olarak adlandırılabilir.\n",
    "\n",
    "\n",
    "String'ler Karakterlerden veya bunların kombinasyonlarından oluşabilirler.\n",
    "\n",
    "\n",
    "Bir şeyin String olduğunu belirtmek için yazacaklarımızı ikili tırnak (\"örnek\") veya tekli tırnak ('örnek') içine yazarız.\n",
    "\n",
    "\n",
    "Tırnak işaretlerinin yaptığı şey aslında: Bu tırnak işaretlerinin içinde verdiğim diziye karakterler dizisi olarak davran, öyle algıla demek.\n",
    "\n",
    "\n",
    "İkili tırnak içine de yazsak, tekli tırnak içine de yazsak aynı şekilde algılanır. Önemli olan hangisiyle başladıysak onunla bitirmek.\n",
    "\n",
    "\n",
    "Scalar ve Non-scalar objelerden bahsetmiştik. Non-scalar veri tiplerinin daha alt parçalara bölünebilen, elemanlar içeren yapılar olduğunu konuşmuştuk. String non-scalar bir veri tipi. İçsel yapı olarak karakterlerden oluşuyor.\n",
    "\n",
    "\n",
    "Stringler immutable veri tipidir.\n",
    "\n",
    "\n",
    "Immutable: Elemanlarının değerleri değiştirilemez.\n"
   ]
  },
  {
   "cell_type": "code",
   "execution_count": 2,
   "id": "665433ff-7bf9-42da-bf69-a6dc3978138b",
   "metadata": {},
   "outputs": [
    {
     "data": {
      "text/plain": [
       "'a'"
      ]
     },
     "execution_count": 2,
     "metadata": {},
     "output_type": "execute_result"
    }
   ],
   "source": [
    "\"a\""
   ]
  },
  {
   "cell_type": "code",
   "execution_count": 4,
   "id": "a5ad578a-68fb-4f7d-a915-7366101ca69f",
   "metadata": {},
   "outputs": [
    {
     "data": {
      "text/plain": [
       "'5'"
      ]
     },
     "execution_count": 4,
     "metadata": {},
     "output_type": "execute_result"
    }
   ],
   "source": [
    "\"5\""
   ]
  },
  {
   "cell_type": "code",
   "execution_count": 5,
   "id": "5a4df850-81b1-43d2-855c-aa9525571ac1",
   "metadata": {},
   "outputs": [
    {
     "data": {
      "text/plain": [
       "'5 + 10'"
      ]
     },
     "execution_count": 5,
     "metadata": {},
     "output_type": "execute_result"
    }
   ],
   "source": [
    "\"5 + 10\""
   ]
  },
  {
   "cell_type": "code",
   "execution_count": 6,
   "id": "8daea7a5-5c24-4516-a40a-3266b850b3c6",
   "metadata": {},
   "outputs": [
    {
     "data": {
      "text/plain": [
       "str"
      ]
     },
     "execution_count": 6,
     "metadata": {},
     "output_type": "execute_result"
    }
   ],
   "source": [
    "type(\"heyy\")"
   ]
  },
  {
   "cell_type": "markdown",
   "id": "b81c0feb-ddc4-4da7-95f2-e76f31b213df",
   "metadata": {},
   "source": [
    "# Escape sequences"
   ]
  },
  {
   "cell_type": "code",
   "execution_count": 9,
   "id": "621d4124-5dc0-42ef-a672-9204296c62de",
   "metadata": {},
   "outputs": [
    {
     "data": {
      "text/plain": [
       "'Bana \"Bugün ne yapıyorsun?\" dedi.'"
      ]
     },
     "execution_count": 9,
     "metadata": {},
     "output_type": "execute_result"
    }
   ],
   "source": [
    "\"Bana \\\"Bugün ne yapıyorsun?\\\" dedi.\""
   ]
  },
  {
   "cell_type": "code",
   "execution_count": 12,
   "id": "7a76d3e1-b8f0-42ec-a168-6e5281443c59",
   "metadata": {},
   "outputs": [
    {
     "name": "stdout",
     "output_type": "stream",
     "text": [
      "hey\n",
      "nasılsın\n"
     ]
    }
   ],
   "source": [
    "print(\"hey\\nnasılsın\")"
   ]
  },
  {
   "cell_type": "code",
   "execution_count": 13,
   "id": "e6a4de72-53a4-4735-94e7-28675821682c",
   "metadata": {},
   "outputs": [
    {
     "name": "stdout",
     "output_type": "stream",
     "text": [
      "Bugün Mecidiyeköy'den Mecidiyeköy'\\e 40 dakikada gittim.\n"
     ]
    }
   ],
   "source": [
    "print(\"Bugün Mecidiyeköy'den Mecidiyeköy'\\e 40 dakikada gittim.\")"
   ]
  },
  {
   "cell_type": "markdown",
   "id": "21853057-c830-4533-937d-3bc2147b4a49",
   "metadata": {},
   "source": [
    "# Stringlerde değer atama"
   ]
  },
  {
   "cell_type": "code",
   "execution_count": 7,
   "id": "e56fd959-24fd-4413-ad07-67f5a0d44e27",
   "metadata": {},
   "outputs": [],
   "source": [
    "merhaba = \"Merhaba, bugün nasılsın?\""
   ]
  },
  {
   "cell_type": "code",
   "execution_count": 8,
   "id": "0546c424-46cf-4e19-a746-fdae740592dc",
   "metadata": {},
   "outputs": [
    {
     "name": "stdout",
     "output_type": "stream",
     "text": [
      "Merhaba, bugün nasılsın?\n"
     ]
    }
   ],
   "source": [
    "print(merhaba)"
   ]
  },
  {
   "cell_type": "markdown",
   "id": "4d043c56-525b-4504-8851-6889434dc21e",
   "metadata": {},
   "source": [
    "# String Concatenation\n"
   ]
  },
  {
   "cell_type": "markdown",
   "id": "3e98fdf6-3018-468a-8130-1a14c4f430df",
   "metadata": {},
   "source": [
    "\n",
    "Operatörlerin uygulandıkları objelere göre değişik şeyler ifade edebileceğini konuşmuştuk.\n",
    "\n",
    "\n",
    "+ operatörü sayısal veri tipleri üzerine etki edince toplama işlemi yapıyor. Ama uygulandığı objeler string ise yapacağı işlem concatenation (birleştirme) olacak. İki string'i art arta birleştirecek.\n",
    "\n",
    "\n",
    "En çok karıştırılan durumlardan biri string olarak ifade edilen sayıları + operatörüne sokmak."
   ]
  },
  {
   "cell_type": "code",
   "execution_count": 14,
   "id": "6eb9494c-58a0-421f-85f8-8145b86f2603",
   "metadata": {},
   "outputs": [
    {
     "data": {
      "text/plain": [
       "'54'"
      ]
     },
     "execution_count": 14,
     "metadata": {},
     "output_type": "execute_result"
    }
   ],
   "source": [
    "\"5\" + \"4\""
   ]
  },
  {
   "cell_type": "raw",
   "id": "1f272c4b-af6a-4c2e-965b-d9137c73aad6",
   "metadata": {},
   "source": [
    "Python tırnak işareti içinde verdiklerimize karater olarak davrandığı için artık 5 ve 4 ü sayı olarak algılamıyor. + işlemi burada artık bu iki değeri yan yana koy demek, topla demek değil!"
   ]
  },
  {
   "cell_type": "code",
   "execution_count": 15,
   "id": "fa9ef657-e265-4857-8512-613da09bd2fc",
   "metadata": {},
   "outputs": [
    {
     "data": {
      "text/plain": [
       "'merhabanasılsın'"
      ]
     },
     "execution_count": 15,
     "metadata": {},
     "output_type": "execute_result"
    }
   ],
   "source": [
    "\"merhaba\"+\"nasılsın\""
   ]
  },
  {
   "cell_type": "markdown",
   "id": "fd49dabe-82a9-419c-aab2-f8135b2054e4",
   "metadata": {},
   "source": [
    "+ operatörünün tek yaptığı birleştirmek, stringlerde boşluk(space) olmadığı için ifadenin sonucu boşluksuz çıktı."
   ]
  },
  {
   "cell_type": "code",
   "execution_count": 17,
   "id": "8ca301b6-a171-414f-b44f-652dd1a33b79",
   "metadata": {},
   "outputs": [
    {
     "data": {
      "text/plain": [
       "'merhaba nasılsın'"
      ]
     },
     "execution_count": 17,
     "metadata": {},
     "output_type": "execute_result"
    }
   ],
   "source": [
    "\"merhaba\"+\" \"+\"nasılsın\""
   ]
  },
  {
   "cell_type": "markdown",
   "id": "d1230401-4403-465c-8d17-e06b0f41ee64",
   "metadata": {},
   "source": [
    "Aynısını değer ataması yaparak da yapabilirdik\n",
    "\n",
    "\n",
    "Diyelim ki karşılama mesajı yazmak istiyoruz. İsim ve karşılama kısmını ayrı tutacağız. Çünkü belki karşılayacağımız kişinin ismi değişecek ve ben kodumda sadece o değeri değiştirerek karşılama mantığını korumaya devam edeyim istiyorum."
   ]
  },
  {
   "cell_type": "code",
   "execution_count": 18,
   "id": "19e1cab9-b3d8-40e5-b715-348686167035",
   "metadata": {},
   "outputs": [],
   "source": [
    "mesaj = \"merhaba\""
   ]
  },
  {
   "cell_type": "code",
   "execution_count": 19,
   "id": "d0a23440-6b74-4869-8a26-d80cef99ea47",
   "metadata": {},
   "outputs": [],
   "source": [
    "isim = \"ömer\""
   ]
  },
  {
   "cell_type": "code",
   "execution_count": 20,
   "id": "c3934251-e52a-4caa-b93d-923c09dd9304",
   "metadata": {},
   "outputs": [
    {
     "data": {
      "text/plain": [
       "'merhaba ömer'"
      ]
     },
     "execution_count": 20,
     "metadata": {},
     "output_type": "execute_result"
    }
   ],
   "source": [
    "mesaj + \" \" + isim"
   ]
  },
  {
   "cell_type": "markdown",
   "id": "6777b862-02df-491b-b43e-68137cf1b7f7",
   "metadata": {},
   "source": [
    "# Successive Concatenation(Ardışık Birleştirme)"
   ]
  },
  {
   "cell_type": "markdown",
   "id": "58a2bb84-9705-47f0-8f5b-8d8189497fa1",
   "metadata": {},
   "source": [
    "*operatörü sayı objeleri için çarpım olarak tanımlanmışken, stringler için ard arda birleştirme işlemi yapıy"
   ]
  },
  {
   "cell_type": "code",
   "execution_count": 21,
   "id": "599ad373-ad1a-4f73-80a2-cc2fcefb4895",
   "metadata": {},
   "outputs": [
    {
     "data": {
      "text/plain": [
       "'heyheyheyhey'"
      ]
     },
     "execution_count": 21,
     "metadata": {},
     "output_type": "execute_result"
    }
   ],
   "source": [
    "4 * \"hey\""
   ]
  },
  {
   "cell_type": "code",
   "execution_count": 22,
   "id": "fe2e3c4d-5503-4b12-a64c-10c17dacef05",
   "metadata": {},
   "outputs": [
    {
     "data": {
      "text/plain": [
       "'10000000000'"
      ]
     },
     "execution_count": 22,
     "metadata": {},
     "output_type": "execute_result"
    }
   ],
   "source": [
    "\"1\"+\"0\" * 10"
   ]
  },
  {
   "cell_type": "markdown",
   "id": "da5461c3-51fa-4708-82a5-41b25252214e",
   "metadata": {},
   "source": [
    "# len()"
   ]
  },
  {
   "cell_type": "markdown",
   "id": "776b2679-1f85-4b67-b795-c2ada061b260",
   "metadata": {},
   "source": [
    "Bu metod ile (metodları ileride ayrıntılı olara göreceğiz), elimizdeki string'in kaç karakterden oluştuğunu öğrenebiliriz (boşluklar da karakter olduğu için onlar da sayılıyor)"
   ]
  },
  {
   "cell_type": "code",
   "execution_count": 23,
   "id": "fc4eeeec-c452-4d16-a0c1-4f9a60a1d18d",
   "metadata": {},
   "outputs": [
    {
     "data": {
      "text/plain": [
       "1"
      ]
     },
     "execution_count": 23,
     "metadata": {},
     "output_type": "execute_result"
    }
   ],
   "source": [
    "len(\"4\")"
   ]
  },
  {
   "cell_type": "code",
   "execution_count": 24,
   "id": "51e9e548-0ac6-4e24-b41c-6976c5a4a2c3",
   "metadata": {},
   "outputs": [
    {
     "data": {
      "text/plain": [
       "5"
      ]
     },
     "execution_count": 24,
     "metadata": {},
     "output_type": "execute_result"
    }
   ],
   "source": [
    "len(\"naber\")"
   ]
  },
  {
   "cell_type": "code",
   "execution_count": 25,
   "id": "afa8e387-1297-4de3-a0dd-28e9296363c8",
   "metadata": {},
   "outputs": [
    {
     "data": {
      "text/plain": [
       "16"
      ]
     },
     "execution_count": 25,
     "metadata": {},
     "output_type": "execute_result"
    }
   ],
   "source": [
    "len(\"merhaba nasılsın\")"
   ]
  },
  {
   "cell_type": "code",
   "execution_count": 26,
   "id": "57931243-a59f-465b-81e4-e147f2b4a258",
   "metadata": {},
   "outputs": [
    {
     "data": {
      "text/plain": [
       "1"
      ]
     },
     "execution_count": 26,
     "metadata": {},
     "output_type": "execute_result"
    }
   ],
   "source": [
    "len(\" \")"
   ]
  },
  {
   "cell_type": "code",
   "execution_count": 27,
   "id": "e1f04f26-611a-4c77-a56f-cd89107844ab",
   "metadata": {},
   "outputs": [
    {
     "data": {
      "text/plain": [
       "0"
      ]
     },
     "execution_count": 27,
     "metadata": {},
     "output_type": "execute_result"
    }
   ],
   "source": [
    "len(\"\")"
   ]
  },
  {
   "cell_type": "markdown",
   "id": "2b174085-9797-46de-aa07-89780318b9fa",
   "metadata": {},
   "source": [
    "# Casting in Strings"
   ]
  },
  {
   "cell_type": "code",
   "execution_count": 27,
   "id": "9ace9f03-d0dc-4420-af5d-193fe904fefd",
   "metadata": {},
   "outputs": [
    {
     "data": {
      "text/plain": [
       "5"
      ]
     },
     "execution_count": 27,
     "metadata": {},
     "output_type": "execute_result"
    }
   ],
   "source": [
    "5"
   ]
  },
  {
   "cell_type": "code",
   "execution_count": 29,
   "id": "31fdd68c-c072-4edb-8aa2-31f61ef8a594",
   "metadata": {},
   "outputs": [
    {
     "data": {
      "text/plain": [
       "5"
      ]
     },
     "execution_count": 29,
     "metadata": {},
     "output_type": "execute_result"
    }
   ],
   "source": [
    "int(5.7)"
   ]
  },
  {
   "cell_type": "code",
   "execution_count": 30,
   "id": "ba619734-b1a7-4917-bc93-40c96f84226b",
   "metadata": {},
   "outputs": [],
   "source": [
    "a = \"5\""
   ]
  },
  {
   "cell_type": "code",
   "execution_count": 31,
   "id": "0649fb28-e997-43d8-bada-590dd45ce143",
   "metadata": {},
   "outputs": [],
   "source": [
    "b = \"5.3\""
   ]
  },
  {
   "cell_type": "code",
   "execution_count": 32,
   "id": "0bb6a1b9-a432-4067-b977-557ad5db063a",
   "metadata": {},
   "outputs": [
    {
     "data": {
      "text/plain": [
       "5"
      ]
     },
     "execution_count": 32,
     "metadata": {},
     "output_type": "execute_result"
    }
   ],
   "source": [
    "int(a)"
   ]
  },
  {
   "cell_type": "code",
   "execution_count": 33,
   "id": "69860a3e-de15-4b0f-a6e5-52fc5a6d66e6",
   "metadata": {},
   "outputs": [
    {
     "ename": "ValueError",
     "evalue": "invalid literal for int() with base 10: '5.3'",
     "output_type": "error",
     "traceback": [
      "\u001b[0;31m---------------------------------------------------------------------------\u001b[0m",
      "\u001b[0;31mValueError\u001b[0m                                Traceback (most recent call last)",
      "Cell \u001b[0;32mIn[33], line 1\u001b[0m\n\u001b[0;32m----> 1\u001b[0m \u001b[38;5;28;43mint\u001b[39;49m\u001b[43m(\u001b[49m\u001b[43mb\u001b[49m\u001b[43m)\u001b[49m\n",
      "\u001b[0;31mValueError\u001b[0m: invalid literal for int() with base 10: '5.3'"
     ]
    }
   ],
   "source": [
    "int(b)"
   ]
  },
  {
   "cell_type": "code",
   "execution_count": 34,
   "id": "d3c5655e-73ee-477f-937f-a202b145afe4",
   "metadata": {},
   "outputs": [
    {
     "data": {
      "text/plain": [
       "5.3"
      ]
     },
     "execution_count": 34,
     "metadata": {},
     "output_type": "execute_result"
    }
   ],
   "source": [
    "float(b)"
   ]
  },
  {
   "cell_type": "code",
   "execution_count": 35,
   "id": "74d7dfc6-dfdc-4ff4-a8d8-fe8949519d73",
   "metadata": {},
   "outputs": [
    {
     "data": {
      "text/plain": [
       "5"
      ]
     },
     "execution_count": 35,
     "metadata": {},
     "output_type": "execute_result"
    }
   ],
   "source": [
    "int(float(b))"
   ]
  },
  {
   "cell_type": "markdown",
   "id": "80949653-f516-4c54-91f9-81d8ff52e948",
   "metadata": {},
   "source": [
    "# Indexing (elemanlara erişme)"
   ]
  },
  {
   "cell_type": "markdown",
   "id": "e92540b1-977e-46cc-b727-36e80c9243c7",
   "metadata": {},
   "source": [
    "Stringlerin non-scalar veri tiplerine örnek olduğunu konuşmuştuk. Stringler elemanları karakter olan, alt birim olarak karakterler içeren bir veri tipi.\n",
    "\n",
    "\n",
    "Stringler karakterler dizisi olduğu için, bu dizideki spesifik konumdaki elemanlara erişmek isteyebiliriz. Mesela string'in ilk karakteri nedir gibi.\n",
    "\n",
    "\n",
    "Bir yapının alt elemanına erişmek için yapacağımız işleme indexing deniyor. Bunu köşeli parantez [] ile sağlayacağız.\n",
    "\n",
    "\n",
    "isim diye bir değişken oluşturup, string'e eşitleyip, ilk elemanına(karakterine) erişelim."
   ]
  },
  {
   "cell_type": "code",
   "execution_count": 1,
   "id": "e89c830f-9e8b-4d5d-9caa-d4d9cfae067d",
   "metadata": {},
   "outputs": [],
   "source": [
    "isim = \"Deniz\""
   ]
  },
  {
   "cell_type": "code",
   "execution_count": 2,
   "id": "40d41582-f7f7-4117-88f1-d3e0d5ac9aa0",
   "metadata": {},
   "outputs": [
    {
     "data": {
      "text/plain": [
       "'e'"
      ]
     },
     "execution_count": 2,
     "metadata": {},
     "output_type": "execute_result"
    }
   ],
   "source": [
    "isim[1]"
   ]
  },
  {
   "cell_type": "markdown",
   "id": "428869de-896f-489f-97ba-fd73e3328921",
   "metadata": {},
   "source": [
    "Python'da indexler 0 dan başlıyor. Yani biz ilk elemana ulaşmak istiyorsak [0] ile sorgulamalıyız."
   ]
  },
  {
   "cell_type": "code",
   "execution_count": 3,
   "id": "7b0c39d2-847b-41e3-acf9-58daa94e1313",
   "metadata": {},
   "outputs": [
    {
     "data": {
      "text/plain": [
       "'D'"
      ]
     },
     "execution_count": 3,
     "metadata": {},
     "output_type": "execute_result"
    }
   ],
   "source": [
    "isim[0]"
   ]
  },
  {
   "cell_type": "code",
   "execution_count": 4,
   "id": "4e7da346-01a7-4fce-a7ac-ce1f6734299f",
   "metadata": {},
   "outputs": [
    {
     "data": {
      "text/plain": [
       "'e'"
      ]
     },
     "execution_count": 4,
     "metadata": {},
     "output_type": "execute_result"
    }
   ],
   "source": [
    "isim[1]"
   ]
  },
  {
   "cell_type": "code",
   "execution_count": 5,
   "id": "2073d6c8-4077-4638-9b27-b24e09928a59",
   "metadata": {},
   "outputs": [
    {
     "data": {
      "text/plain": [
       "'n'"
      ]
     },
     "execution_count": 5,
     "metadata": {},
     "output_type": "execute_result"
    }
   ],
   "source": [
    "isim[2]"
   ]
  },
  {
   "cell_type": "code",
   "execution_count": 6,
   "id": "0f4148b1-04ff-4593-86cb-2945ee4c2d8b",
   "metadata": {},
   "outputs": [
    {
     "data": {
      "text/plain": [
       "'D'"
      ]
     },
     "execution_count": 6,
     "metadata": {},
     "output_type": "execute_result"
    }
   ],
   "source": [
    "\"Deniz\"[0]"
   ]
  },
  {
   "cell_type": "code",
   "execution_count": 7,
   "id": "0d6db3d1-f54d-46c9-b2bc-81f882302d5a",
   "metadata": {},
   "outputs": [],
   "source": [
    "#Stringi bir değişkene atamadan da yapabiliriz."
   ]
  },
  {
   "cell_type": "markdown",
   "id": "3027afb7-85a8-437f-b6e9-257ab161a466",
   "metadata": {},
   "source": [
    "Son elemanı elde etmek için [-1] yazabiliriz."
   ]
  },
  {
   "cell_type": "code",
   "execution_count": 9,
   "id": "75022245-c30c-4488-b834-12d33040fc5b",
   "metadata": {},
   "outputs": [
    {
     "data": {
      "text/plain": [
       "'z'"
      ]
     },
     "execution_count": 9,
     "metadata": {},
     "output_type": "execute_result"
    }
   ],
   "source": [
    "isim[-1]"
   ]
  },
  {
   "cell_type": "code",
   "execution_count": 10,
   "id": "3af54623-621f-4576-9898-9bd3e95eb598",
   "metadata": {},
   "outputs": [
    {
     "data": {
      "text/plain": [
       "'i'"
      ]
     },
     "execution_count": 10,
     "metadata": {},
     "output_type": "execute_result"
    }
   ],
   "source": [
    "isim[-2]"
   ]
  },
  {
   "cell_type": "markdown",
   "id": "de249607-a023-4388-b46a-fb64ecec2718",
   "metadata": {},
   "source": [
    "# Slicing (Dilimleme)"
   ]
  },
  {
   "cell_type": "markdown",
   "id": "024b4bea-5c68-4a7f-bd2e-2504a5edd5f4",
   "metadata": {},
   "source": [
    "Indexing ile sonuç olarak sadece bir eleman elde ettik. Ama birkaç tanesini arka arkaya, bir öbek olarak istiyorsam ne yapardım?\n",
    "\n",
    "\n",
    "Diyelim ki ilk elemandan başlayarak 3. elemana kadar olan karakterleri elde etmek istiyorum (0. indexten 3. indexe kadar olanları)"
   ]
  },
  {
   "cell_type": "code",
   "execution_count": 11,
   "id": "c5083b92-0a79-4474-bb77-e74d49332d81",
   "metadata": {},
   "outputs": [
    {
     "data": {
      "text/plain": [
       "'Deniz'"
      ]
     },
     "execution_count": 11,
     "metadata": {},
     "output_type": "execute_result"
    }
   ],
   "source": [
    "isim"
   ]
  },
  {
   "cell_type": "code",
   "execution_count": 12,
   "id": "39aa86ee-24f9-4001-8d8c-5973cc079fee",
   "metadata": {},
   "outputs": [
    {
     "data": {
      "text/plain": [
       "'Den'"
      ]
     },
     "execution_count": 12,
     "metadata": {},
     "output_type": "execute_result"
    }
   ],
   "source": [
    "isim[0:3]"
   ]
  },
  {
   "cell_type": "markdown",
   "id": "5dbe31a8-6699-41cb-9cb9-e506c07a372f",
   "metadata": {},
   "source": [
    "başlangıç:bitiş olarak veriyoruz ve bitiş olarak verdiğimiz index dahil olmuyor. Başlangıcı belirtmezsek Python default olarak başlangıç değerini 0 alıyor.\n"
   ]
  },
  {
   "cell_type": "code",
   "execution_count": 14,
   "id": "3e21ea5b-7ecb-4ee4-9ec4-62e4acb8b532",
   "metadata": {},
   "outputs": [
    {
     "data": {
      "text/plain": [
       "'Den'"
      ]
     },
     "execution_count": 14,
     "metadata": {},
     "output_type": "execute_result"
    }
   ],
   "source": [
    "isim[:3]"
   ]
  },
  {
   "cell_type": "markdown",
   "id": "0fcf47a1-814c-4554-b51c-c94e1f0114eb",
   "metadata": {},
   "source": [
    "bitişi belirtmezseniz python stringin sonuna kadar alıyor, bu sefer son elemanıda alıyor"
   ]
  },
  {
   "cell_type": "code",
   "execution_count": 15,
   "id": "06e61c53-0973-4f2b-9fac-6b6731770558",
   "metadata": {},
   "outputs": [
    {
     "data": {
      "text/plain": [
       "'eniz'"
      ]
     },
     "execution_count": 15,
     "metadata": {},
     "output_type": "execute_result"
    }
   ],
   "source": [
    "isim[1:]"
   ]
  },
  {
   "cell_type": "markdown",
   "id": "89d7c195-d59d-48c9-8cd1-ac9708d4148a",
   "metadata": {},
   "source": [
    "Slicing yaparken bitiş olarak verdiğimiz değer en büyük indeximizden büyükse hata almayız, sadece sonuna kadar almış olur (sadece indexing yaparken en büyük indexten büyük değer verince hata alıyorduk.)"
   ]
  },
  {
   "cell_type": "code",
   "execution_count": 16,
   "id": "a68e112a-f3e0-4896-9a6e-4cb2ca30cd69",
   "metadata": {},
   "outputs": [
    {
     "data": {
      "text/plain": [
       "5"
      ]
     },
     "execution_count": 16,
     "metadata": {},
     "output_type": "execute_result"
    }
   ],
   "source": [
    "len(isim)"
   ]
  },
  {
   "cell_type": "code",
   "execution_count": 17,
   "id": "4b1cd99b-738a-4fac-b050-bec8f2b2fdef",
   "metadata": {},
   "outputs": [
    {
     "data": {
      "text/plain": [
       "'eniz'"
      ]
     },
     "execution_count": 17,
     "metadata": {},
     "output_type": "execute_result"
    }
   ],
   "source": [
    "isim[1:20]"
   ]
  },
  {
   "cell_type": "markdown",
   "id": "28d7baac-9cda-4228-874b-830db6b98761",
   "metadata": {},
   "source": [
    "başlangıç:bitiş olarak slicing yapabileceğimiz gibi, başlangıç:bitiş:adım formunda da slicing yapabiliriz. Burada adım parametresi kaçar kaçar gideceğimizi belirler.\n"
   ]
  },
  {
   "cell_type": "code",
   "execution_count": 18,
   "id": "8dfad9d7-4fe5-4d93-be8c-6800f875966e",
   "metadata": {},
   "outputs": [
    {
     "data": {
      "text/plain": [
       "'Deniz'"
      ]
     },
     "execution_count": 18,
     "metadata": {},
     "output_type": "execute_result"
    }
   ],
   "source": [
    "isim"
   ]
  },
  {
   "cell_type": "code",
   "execution_count": 19,
   "id": "b0e7c46d-c2a0-49f2-9fb1-942d9963d090",
   "metadata": {},
   "outputs": [
    {
     "data": {
      "text/plain": [
       "'Dnz'"
      ]
     },
     "execution_count": 19,
     "metadata": {},
     "output_type": "execute_result"
    }
   ],
   "source": [
    "isim[0:10:2]"
   ]
  },
  {
   "cell_type": "code",
   "execution_count": 20,
   "id": "0fdd8d8f-dd05-49a1-8e28-e36081ee7711",
   "metadata": {},
   "outputs": [
    {
     "data": {
      "text/plain": [
       "'Di'"
      ]
     },
     "execution_count": 20,
     "metadata": {},
     "output_type": "execute_result"
    }
   ],
   "source": [
    "isim[0:10:3]"
   ]
  },
  {
   "cell_type": "markdown",
   "id": "60f34dc8-d444-4bd2-afb3-a75a5c37a79e",
   "metadata": {},
   "source": [
    "Adım eksi bir değer de olabilir. Böylece ters yönce gitmiş oluruz. Ama başlangıç değerinin bitiş değerinden büyük olması lazım bunu yapabilmem için.\n"
   ]
  },
  {
   "cell_type": "code",
   "execution_count": 21,
   "id": "7d87b282-89dd-4621-a8e9-7af3b9c5d1ec",
   "metadata": {},
   "outputs": [
    {
     "data": {
      "text/plain": [
       "''"
      ]
     },
     "execution_count": 21,
     "metadata": {},
     "output_type": "execute_result"
    }
   ],
   "source": [
    "# 0. indexten 10. indexe 2 azalarak gidemez, o yüzden boş string döndürür\n",
    "isim[0:10:-1]"
   ]
  },
  {
   "cell_type": "code",
   "execution_count": 22,
   "id": "e9b680b4-2138-4dce-b7a4-397506a96788",
   "metadata": {},
   "outputs": [
    {
     "data": {
      "text/plain": [
       "'zine'"
      ]
     },
     "execution_count": 22,
     "metadata": {},
     "output_type": "execute_result"
    }
   ],
   "source": [
    "isim[10:0:-1]\n"
   ]
  },
  {
   "cell_type": "code",
   "execution_count": 23,
   "id": "0837aea6-e8b9-4c06-98f4-5ce17f4b3075",
   "metadata": {},
   "outputs": [
    {
     "data": {
      "text/plain": [
       "'zineD'"
      ]
     },
     "execution_count": 23,
     "metadata": {},
     "output_type": "execute_result"
    }
   ],
   "source": [
    "isim[::-1]\n"
   ]
  },
  {
   "cell_type": "code",
   "execution_count": 24,
   "id": "466d3a45-76a6-4ca7-91f7-a32dbd14f0a4",
   "metadata": {},
   "outputs": [
    {
     "data": {
      "text/plain": [
       "'znD'"
      ]
     },
     "execution_count": 24,
     "metadata": {},
     "output_type": "execute_result"
    }
   ],
   "source": [
    "isim[::-2]\n"
   ]
  },
  {
   "cell_type": "code",
   "execution_count": 25,
   "id": "9e2ef374-0c15-4147-a0e0-93851ab5de44",
   "metadata": {},
   "outputs": [
    {
     "ename": "IndexError",
     "evalue": "string index out of range",
     "output_type": "error",
     "traceback": [
      "\u001b[0;31m---------------------------------------------------------------------------\u001b[0m",
      "\u001b[0;31mIndexError\u001b[0m                                Traceback (most recent call last)",
      "Cell \u001b[0;32mIn[25], line 1\u001b[0m\n\u001b[0;32m----> 1\u001b[0m \u001b[38;5;124;43m\"\u001b[39;49m\u001b[38;5;124;43mmerhaba\u001b[39;49m\u001b[38;5;124;43m\"\u001b[39;49m\u001b[43m[\u001b[49m\u001b[38;5;241;43m10\u001b[39;49m\u001b[43m]\u001b[49m\n",
      "\u001b[0;31mIndexError\u001b[0m: string index out of range"
     ]
    }
   ],
   "source": [
    "\"merhaba\"[10]"
   ]
  },
  {
   "cell_type": "code",
   "execution_count": 26,
   "id": "1356ac94-3e11-4562-88a2-003711004b8a",
   "metadata": {},
   "outputs": [
    {
     "data": {
      "text/plain": [
       "'erhaba'"
      ]
     },
     "execution_count": 26,
     "metadata": {},
     "output_type": "execute_result"
    }
   ],
   "source": [
    "\"merhaba\"[1:10]"
   ]
  },
  {
   "cell_type": "code",
   "execution_count": null,
   "id": "0ff6825d-19af-4f19-af9d-fec5789f2751",
   "metadata": {},
   "outputs": [],
   "source": []
  }
 ],
 "metadata": {
  "kernelspec": {
   "display_name": "Python 3 (ipykernel)",
   "language": "python",
   "name": "python3"
  },
  "language_info": {
   "codemirror_mode": {
    "name": "ipython",
    "version": 3
   },
   "file_extension": ".py",
   "mimetype": "text/x-python",
   "name": "python",
   "nbconvert_exporter": "python",
   "pygments_lexer": "ipython3",
   "version": "3.11.4"
  }
 },
 "nbformat": 4,
 "nbformat_minor": 5
}
