{
 "cells": [
  {
   "cell_type": "markdown",
   "id": "0feb2790-d22b-437c-9dad-c6ba69d6ef5d",
   "metadata": {},
   "source": [
    "# Closure\n",
    "* Outer(dış) fonksiyonu çağırdıktan sonra bile inner function'ın outer function scope'una erişebilmesi"
   ]
  },
  {
   "cell_type": "code",
   "execution_count": 1,
   "id": "138b349d-6eea-4254-b37d-2307e47ead45",
   "metadata": {},
   "outputs": [],
   "source": [
    "def outer():\n",
    "    msg = \"Hey\"\n",
    "\n",
    "    def inner():\n",
    "        print(msg)\n",
    "\n",
    "    return inner()"
   ]
  },
  {
   "cell_type": "code",
   "execution_count": 2,
   "id": "b0e25b0c-b497-4cfb-a044-0c9199eb31fc",
   "metadata": {},
   "outputs": [
    {
     "name": "stdout",
     "output_type": "stream",
     "text": [
      "Hey\n"
     ]
    }
   ],
   "source": [
    "outer()"
   ]
  },
  {
   "cell_type": "markdown",
   "id": "9fa871df-6a5a-4459-84c6-422cb25a82e0",
   "metadata": {},
   "source": [
    "Bu örnek daha önce yaptıklarımızdan farklı değil, inner function enclosing scope a erişip msg değişkenini bastırabilirdi."
   ]
  },
  {
   "cell_type": "code",
   "execution_count": 9,
   "id": "c8c9e2b1-e78a-4cd3-8f25-d852d50d2577",
   "metadata": {},
   "outputs": [],
   "source": [
    "def outer():\n",
    "    msg = \"Hey\"\n",
    "\n",
    "    def inner():\n",
    "        print(msg)\n",
    "\n",
    "    return inner"
   ]
  },
  {
   "cell_type": "code",
   "execution_count": 10,
   "id": "7caa2c45-bcfb-49b8-b9ff-7b00aa16fc42",
   "metadata": {},
   "outputs": [],
   "source": [
    "f = outer()"
   ]
  },
  {
   "cell_type": "code",
   "execution_count": 11,
   "id": "21dcf686-ea3a-4fdf-886d-aca5e45e1bb4",
   "metadata": {},
   "outputs": [
    {
     "data": {
      "text/plain": [
       "<function __main__.outer.<locals>.inner()>"
      ]
     },
     "execution_count": 11,
     "metadata": {},
     "output_type": "execute_result"
    }
   ],
   "source": [
    "f"
   ]
  },
  {
   "cell_type": "markdown",
   "id": "e0edab71-8417-40f2-bbb7-f01f4dc8825a",
   "metadata": {},
   "source": [
    "* Şimdi outer function ı çağırmış olduk ve bize içinde tanımlanan inner function ı obje olarak döndürmüş oldu. Function call yapmadığım sürece obje olarak kalacak."
   ]
  },
  {
   "cell_type": "code",
   "execution_count": 12,
   "id": "5135be0e-2cbf-4916-92d7-0122c0403ab0",
   "metadata": {},
   "outputs": [
    {
     "name": "stdout",
     "output_type": "stream",
     "text": [
      "Hey\n"
     ]
    }
   ],
   "source": [
    "f()"
   ]
  },
  {
   "cell_type": "markdown",
   "id": "30c7c2ea-467c-4d8d-840a-01a6f77e9e18",
   "metadata": {},
   "source": [
    "* Burada outer function çağırılmış olsa da onun scope'unda tanımlanan değişkene hala erişebildik."
   ]
  },
  {
   "cell_type": "code",
   "execution_count": 17,
   "id": "42caf5d7-1c05-43e6-b5b0-811b40fbd993",
   "metadata": {},
   "outputs": [],
   "source": [
    "def outer(msg):\n",
    "    msg = msg\n",
    "\n",
    "    def inner():\n",
    "        print(msg)\n",
    "\n",
    "    return inner"
   ]
  },
  {
   "cell_type": "code",
   "execution_count": 18,
   "id": "78aceee5-d338-4330-a3e3-6ddc40b4475b",
   "metadata": {},
   "outputs": [],
   "source": [
    "hi_f = outer(\"hi\")"
   ]
  },
  {
   "cell_type": "code",
   "execution_count": 19,
   "id": "ca4a5c69-b212-4e74-9c27-e47e331da933",
   "metadata": {},
   "outputs": [],
   "source": [
    "hey_f = outer(\"hey\")"
   ]
  },
  {
   "cell_type": "code",
   "execution_count": 20,
   "id": "a8b9403f-4db5-4c8b-9f0c-19bcae771531",
   "metadata": {},
   "outputs": [
    {
     "name": "stdout",
     "output_type": "stream",
     "text": [
      "hi\n"
     ]
    }
   ],
   "source": [
    "hi_f()"
   ]
  },
  {
   "cell_type": "code",
   "execution_count": 21,
   "id": "9ff35bac-c41c-48f7-9009-4ddaeadef90c",
   "metadata": {},
   "outputs": [
    {
     "name": "stdout",
     "output_type": "stream",
     "text": [
      "hey\n"
     ]
    }
   ],
   "source": [
    "hey_f()"
   ]
  },
  {
   "cell_type": "code",
   "execution_count": null,
   "id": "03554edf-9aef-43bf-90b1-f25242ce008f",
   "metadata": {},
   "outputs": [],
   "source": []
  }
 ],
 "metadata": {
  "kernelspec": {
   "display_name": "Python 3 (ipykernel)",
   "language": "python",
   "name": "python3"
  },
  "language_info": {
   "codemirror_mode": {
    "name": "ipython",
    "version": 3
   },
   "file_extension": ".py",
   "mimetype": "text/x-python",
   "name": "python",
   "nbconvert_exporter": "python",
   "pygments_lexer": "ipython3",
   "version": "3.11.4"
  }
 },
 "nbformat": 4,
 "nbformat_minor": 5
}
