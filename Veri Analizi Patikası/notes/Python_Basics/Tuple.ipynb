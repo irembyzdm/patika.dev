{
 "cells": [
  {
   "cell_type": "markdown",
   "id": "11ebb964-17d3-4c0f-a2f9-d3a37953ea22",
   "metadata": {},
   "source": [
    "# Tuple"
   ]
  },
  {
   "cell_type": "markdown",
   "id": "53da0a0d-51ca-434b-9496-598783559fb7",
   "metadata": {},
   "source": [
    "* tuple veri tipi listeler gibi birden çok veri tipini bir arada tutmamızı sağlar.\n",
    "\n",
    "\n",
    "* listelerden farklı olarak tuple'lar immutabledır.\n",
    "\n",
    "\n",
    "* Mesela bir deniz fenerinin konumunu belirtmek istiyoruz. bunun x ve y koordinat değerleri var (x,y). Deniz fenerini söküp götüremiyoruz, ben bu iki değerin sabit, değiştirilemez olmasını istiyorum. Burada bu iki değeri tutmak için tuple kullanmam mantıklı olabilir.\n",
    "\n",
    "\n",
    "* Değişmeyeceğini bildiğim değerleri bir arada tutmak için.\n",
    "\n",
    "\n",
    "* tuple'lar (element1,element2...) şeklinde tanımlanır.\n",
    "\n",
    "\n",
    "* tuple'lar listeler gibi farklı veri yapılarında elemanlardan oluşabilir. Elemanları tuple bile olabilir."
   ]
  },
  {
   "cell_type": "code",
   "execution_count": 1,
   "id": "3800ef36-deb5-4df9-b59c-044f7d9a3115",
   "metadata": {},
   "outputs": [],
   "source": [
    "x = 10\n",
    "y = 34"
   ]
  },
  {
   "cell_type": "code",
   "execution_count": 2,
   "id": "e1152638-6cf5-4c23-bd27-e7bf1d27d0db",
   "metadata": {},
   "outputs": [],
   "source": [
    "konum = (10, 34)"
   ]
  },
  {
   "cell_type": "markdown",
   "id": "d8b06a35-108b-41c2-b660-36bd255ab92a",
   "metadata": {},
   "source": [
    "* Aynı listelerdeki gibi indexleme yapabiliyoruz."
   ]
  },
  {
   "cell_type": "code",
   "execution_count": 3,
   "id": "f6b70781-d557-42cb-9682-1b6193b7b607",
   "metadata": {},
   "outputs": [
    {
     "data": {
      "text/plain": [
       "10"
      ]
     },
     "execution_count": 3,
     "metadata": {},
     "output_type": "execute_result"
    }
   ],
   "source": [
    "konum[0]"
   ]
  },
  {
   "cell_type": "code",
   "execution_count": 4,
   "id": "48f0febe-8983-48d9-93a1-bff3d4848539",
   "metadata": {},
   "outputs": [
    {
     "data": {
      "text/plain": [
       "(10, 34)"
      ]
     },
     "execution_count": 4,
     "metadata": {},
     "output_type": "execute_result"
    }
   ],
   "source": [
    "konum[:]"
   ]
  },
  {
   "cell_type": "markdown",
   "id": "6d620fc1-232f-449b-859a-e273bf1ae550",
   "metadata": {},
   "source": [
    "* Ama değerlerini değiştiremiyoruz."
   ]
  },
  {
   "cell_type": "code",
   "execution_count": 5,
   "id": "5661f15a-8a40-44f7-a7d4-ad95d64555c2",
   "metadata": {},
   "outputs": [
    {
     "ename": "TypeError",
     "evalue": "'tuple' object does not support item assignment",
     "output_type": "error",
     "traceback": [
      "\u001b[0;31m---------------------------------------------------------------------------\u001b[0m",
      "\u001b[0;31mTypeError\u001b[0m                                 Traceback (most recent call last)",
      "Cell \u001b[0;32mIn[5], line 1\u001b[0m\n\u001b[0;32m----> 1\u001b[0m \u001b[43mkonum\u001b[49m\u001b[43m[\u001b[49m\u001b[38;5;241;43m0\u001b[39;49m\u001b[43m]\u001b[49m \u001b[38;5;241m=\u001b[39m \u001b[38;5;241m100\u001b[39m\n",
      "\u001b[0;31mTypeError\u001b[0m: 'tuple' object does not support item assignment"
     ]
    }
   ],
   "source": [
    "konum[0] = 100"
   ]
  },
  {
   "cell_type": "markdown",
   "id": "c5c34f4d-876e-4601-b2a4-0d8ec327dc01",
   "metadata": {},
   "source": [
    "* Farklı veri tiplerini barındırabiliyor."
   ]
  },
  {
   "cell_type": "code",
   "execution_count": 6,
   "id": "782855d1-daa6-4089-8ea2-28064c4fa5b0",
   "metadata": {},
   "outputs": [],
   "source": [
    "t = (1,2,3,\"a\")"
   ]
  },
  {
   "cell_type": "code",
   "execution_count": 7,
   "id": "b92a6564-c969-42d7-833c-48cc6ce765f8",
   "metadata": {},
   "outputs": [
    {
     "data": {
      "text/plain": [
       "(1, 2, 3, 'a')"
      ]
     },
     "execution_count": 7,
     "metadata": {},
     "output_type": "execute_result"
    }
   ],
   "source": [
    "t"
   ]
  },
  {
   "cell_type": "code",
   "execution_count": 8,
   "id": "410cf35e-0672-49e8-8cc7-d5a2bb6b8371",
   "metadata": {},
   "outputs": [],
   "source": [
    "t = ((1,2),3)\n"
   ]
  },
  {
   "cell_type": "code",
   "execution_count": 9,
   "id": "a9a75a2b-780b-443e-b94a-3a1877631d9d",
   "metadata": {},
   "outputs": [
    {
     "data": {
      "text/plain": [
       "((1, 2), 3)"
      ]
     },
     "execution_count": 9,
     "metadata": {},
     "output_type": "execute_result"
    }
   ],
   "source": [
    "t"
   ]
  },
  {
   "cell_type": "code",
   "execution_count": 10,
   "id": "52fb5bc1-e119-4c8f-ae87-d3a430e0ed9b",
   "metadata": {},
   "outputs": [
    {
     "data": {
      "text/plain": [
       "(1, 2)"
      ]
     },
     "execution_count": 10,
     "metadata": {},
     "output_type": "execute_result"
    }
   ],
   "source": [
    "t[0]"
   ]
  },
  {
   "cell_type": "code",
   "execution_count": 11,
   "id": "427f92da-8b35-4d5b-8598-162d8131cc47",
   "metadata": {},
   "outputs": [],
   "source": [
    "t = ([1,2,3],2,(1,2))"
   ]
  },
  {
   "cell_type": "code",
   "execution_count": 12,
   "id": "63b8697a-19cb-459e-9916-f52a15b0b587",
   "metadata": {},
   "outputs": [
    {
     "data": {
      "text/plain": [
       "([1, 2, 3], 2, (1, 2))"
      ]
     },
     "execution_count": 12,
     "metadata": {},
     "output_type": "execute_result"
    }
   ],
   "source": [
    "t"
   ]
  },
  {
   "cell_type": "code",
   "execution_count": 13,
   "id": "86d6e516-2005-4bcd-8769-43a6dcb714d1",
   "metadata": {},
   "outputs": [
    {
     "data": {
      "text/plain": [
       "1"
      ]
     },
     "execution_count": 13,
     "metadata": {},
     "output_type": "execute_result"
    }
   ],
   "source": [
    "t[0][0]"
   ]
  },
  {
   "cell_type": "code",
   "execution_count": 14,
   "id": "c48167b5-6811-4c89-8f7c-d05ccb5ccdd9",
   "metadata": {},
   "outputs": [],
   "source": [
    "t[0][0] = 23"
   ]
  },
  {
   "cell_type": "code",
   "execution_count": 15,
   "id": "c96e279e-0249-4dee-8030-70e900d00aa3",
   "metadata": {},
   "outputs": [
    {
     "data": {
      "text/plain": [
       "([23, 2, 3], 2, (1, 2))"
      ]
     },
     "execution_count": 15,
     "metadata": {},
     "output_type": "execute_result"
    }
   ],
   "source": [
    "t"
   ]
  },
  {
   "cell_type": "code",
   "execution_count": 18,
   "id": "da35a82f-067c-4700-abac-b1089ae8f570",
   "metadata": {},
   "outputs": [],
   "source": [
    "\n",
    "l = [[1,2,3], [10,20]]"
   ]
  },
  {
   "cell_type": "code",
   "execution_count": 17,
   "id": "a52531a9-0201-4dcc-8f8c-13811717195d",
   "metadata": {},
   "outputs": [
    {
     "data": {
      "text/plain": [
       "[[1, 2, 3], [10, 20]]"
      ]
     },
     "execution_count": 17,
     "metadata": {},
     "output_type": "execute_result"
    }
   ],
   "source": [
    "l"
   ]
  },
  {
   "cell_type": "markdown",
   "id": "cb476171-2652-4cc2-a104-34d4db095d9c",
   "metadata": {},
   "source": [
    "# Elemanların Değerlerini Değiştirmek"
   ]
  },
  {
   "cell_type": "markdown",
   "id": "204ef170-7daf-401f-baa8-1563a7a64874",
   "metadata": {},
   "source": [
    "x ve y'nin değerlerini değiştirmek istiyorum diyelim"
   ]
  },
  {
   "cell_type": "code",
   "execution_count": 19,
   "id": "c4a47403-ec24-4fd0-9e94-a7ec400c0f9e",
   "metadata": {},
   "outputs": [],
   "source": [
    "x = 2\n",
    "y = 3"
   ]
  },
  {
   "cell_type": "code",
   "execution_count": 20,
   "id": "d09aff20-dbda-47aa-bce7-496a7b31403a",
   "metadata": {},
   "outputs": [],
   "source": [
    "# Şu şekilde yapabiliriz:\n",
    "\n",
    "temp = x\n",
    "x = y\n",
    "y = temp"
   ]
  },
  {
   "cell_type": "code",
   "execution_count": 21,
   "id": "b925696e-b150-41f8-a22b-ffdfc15b58b9",
   "metadata": {},
   "outputs": [
    {
     "data": {
      "text/plain": [
       "3"
      ]
     },
     "execution_count": 21,
     "metadata": {},
     "output_type": "execute_result"
    }
   ],
   "source": [
    "x"
   ]
  },
  {
   "cell_type": "code",
   "execution_count": 22,
   "id": "bfebc982-3fc1-45f2-98ee-786fc3b918b3",
   "metadata": {},
   "outputs": [
    {
     "data": {
      "text/plain": [
       "2"
      ]
     },
     "execution_count": 22,
     "metadata": {},
     "output_type": "execute_result"
    }
   ],
   "source": [
    "y"
   ]
  },
  {
   "cell_type": "markdown",
   "id": "15df7976-6105-45f2-b1fc-8d5dc95f0bae",
   "metadata": {},
   "source": [
    "* Ama bunu tuple'lar ile 1 satırda yapabiliriz."
   ]
  },
  {
   "cell_type": "code",
   "execution_count": 23,
   "id": "80e01331-9081-40bb-b904-0f72488ee4cd",
   "metadata": {},
   "outputs": [],
   "source": [
    "x = 2\n",
    "y = 3"
   ]
  },
  {
   "cell_type": "code",
   "execution_count": 24,
   "id": "bcc48b6a-9fde-4e0d-9356-b01bdc04b56f",
   "metadata": {},
   "outputs": [],
   "source": [
    "(x, y) = (y, x)"
   ]
  },
  {
   "cell_type": "code",
   "execution_count": 25,
   "id": "7f10e29c-f669-495d-a354-e63db20dd200",
   "metadata": {},
   "outputs": [
    {
     "data": {
      "text/plain": [
       "3"
      ]
     },
     "execution_count": 25,
     "metadata": {},
     "output_type": "execute_result"
    }
   ],
   "source": [
    "x"
   ]
  },
  {
   "cell_type": "code",
   "execution_count": 26,
   "id": "5b1d20de-859c-4a6e-a33b-67db260c1b6e",
   "metadata": {},
   "outputs": [
    {
     "data": {
      "text/plain": [
       "2"
      ]
     },
     "execution_count": 26,
     "metadata": {},
     "output_type": "execute_result"
    }
   ],
   "source": [
    "y"
   ]
  },
  {
   "cell_type": "markdown",
   "id": "af61730d-a5bf-4bef-876e-fbee9dbd7d19",
   "metadata": {},
   "source": [
    "* parantez koymamıza da gerek yok. 1,2,3,\"a\",... gibi parantezsiz belirtsek de python onu *tuple* olarak görüyor."
   ]
  },
  {
   "cell_type": "code",
   "execution_count": 28,
   "id": "908330ca-3ac9-440c-bd1b-99178680d5f2",
   "metadata": {},
   "outputs": [
    {
     "data": {
      "text/plain": [
       "(1, 2, 3, 4)"
      ]
     },
     "execution_count": 28,
     "metadata": {},
     "output_type": "execute_result"
    }
   ],
   "source": [
    "1,2,3,4"
   ]
  },
  {
   "cell_type": "code",
   "execution_count": 29,
   "id": "8fb2a0a1-66a5-4b93-afec-31c3b4104f4e",
   "metadata": {},
   "outputs": [],
   "source": [
    "a = 1,2,3,4"
   ]
  },
  {
   "cell_type": "code",
   "execution_count": 30,
   "id": "abf5b6c1-eac9-4bc0-b000-ee77f4188718",
   "metadata": {},
   "outputs": [
    {
     "data": {
      "text/plain": [
       "(1, 2, 3, 4)"
      ]
     },
     "execution_count": 30,
     "metadata": {},
     "output_type": "execute_result"
    }
   ],
   "source": [
    "a"
   ]
  },
  {
   "cell_type": "code",
   "execution_count": 31,
   "id": "3552821c-7062-4d48-99f1-4b509555650e",
   "metadata": {},
   "outputs": [
    {
     "data": {
      "text/plain": [
       "tuple"
      ]
     },
     "execution_count": 31,
     "metadata": {},
     "output_type": "execute_result"
    }
   ],
   "source": [
    "type(a)"
   ]
  },
  {
   "cell_type": "code",
   "execution_count": 32,
   "id": "c625795b-05bd-4712-bd0e-e0f5e53df80f",
   "metadata": {},
   "outputs": [],
   "source": [
    "x = 2\n",
    "y = 3"
   ]
  },
  {
   "cell_type": "code",
   "execution_count": 33,
   "id": "cef70ef4-37b3-4e65-b6fd-5775fa551141",
   "metadata": {},
   "outputs": [],
   "source": [
    "x, y = y, x"
   ]
  },
  {
   "cell_type": "code",
   "execution_count": 34,
   "id": "c317bf22-be96-47b7-9599-cdbfd182abb5",
   "metadata": {},
   "outputs": [
    {
     "data": {
      "text/plain": [
       "3"
      ]
     },
     "execution_count": 34,
     "metadata": {},
     "output_type": "execute_result"
    }
   ],
   "source": [
    "x"
   ]
  },
  {
   "cell_type": "code",
   "execution_count": 35,
   "id": "b71a97bd-0f8d-472e-9c8b-4bda1c3bc127",
   "metadata": {},
   "outputs": [
    {
     "data": {
      "text/plain": [
       "2"
      ]
     },
     "execution_count": 35,
     "metadata": {},
     "output_type": "execute_result"
    }
   ],
   "source": [
    "y"
   ]
  },
  {
   "cell_type": "code",
   "execution_count": 36,
   "id": "d613f670-d2b6-4c8e-89e8-0d44555e5ea3",
   "metadata": {},
   "outputs": [],
   "source": [
    "x = 2\n",
    "y = 3"
   ]
  },
  {
   "cell_type": "code",
   "execution_count": 37,
   "id": "d49a36c6-766a-44a4-9abf-7b4ad439069d",
   "metadata": {},
   "outputs": [],
   "source": [
    "[x,y]=[y,x]"
   ]
  },
  {
   "cell_type": "code",
   "execution_count": 38,
   "id": "6f1523fc-3dbd-44b9-9f45-f298adf9aeb7",
   "metadata": {},
   "outputs": [
    {
     "data": {
      "text/plain": [
       "3"
      ]
     },
     "execution_count": 38,
     "metadata": {},
     "output_type": "execute_result"
    }
   ],
   "source": [
    "x"
   ]
  },
  {
   "cell_type": "code",
   "execution_count": 39,
   "id": "d0b10d26-f7fd-4dcc-9e1e-ac508479636c",
   "metadata": {},
   "outputs": [
    {
     "data": {
      "text/plain": [
       "2"
      ]
     },
     "execution_count": 39,
     "metadata": {},
     "output_type": "execute_result"
    }
   ],
   "source": [
    "y"
   ]
  },
  {
   "cell_type": "code",
   "execution_count": 42,
   "id": "3f9dd66c-85d2-4003-b499-94311be416f0",
   "metadata": {},
   "outputs": [
    {
     "data": {
      "text/plain": [
       "(5, 5)"
      ]
     },
     "execution_count": 42,
     "metadata": {},
     "output_type": "execute_result"
    }
   ],
   "source": [
    "#TEST\n",
    "x=5\n",
    "y=7\n",
    "temp=x\n",
    "y=temp\n",
    "(x,y)"
   ]
  }
 ],
 "metadata": {
  "kernelspec": {
   "display_name": "Python 3 (ipykernel)",
   "language": "python",
   "name": "python3"
  },
  "language_info": {
   "codemirror_mode": {
    "name": "ipython",
    "version": 3
   },
   "file_extension": ".py",
   "mimetype": "text/x-python",
   "name": "python",
   "nbconvert_exporter": "python",
   "pygments_lexer": "ipython3",
   "version": "3.11.4"
  }
 },
 "nbformat": 4,
 "nbformat_minor": 5
}
