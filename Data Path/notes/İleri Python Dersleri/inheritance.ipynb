{
 "cells": [
  {
   "cell_type": "markdown",
   "id": "3d84e35b-5620-4f43-a68e-2e97041b71ce",
   "metadata": {},
   "source": [
    "# Inheritance"
   ]
  },
  {
   "cell_type": "markdown",
   "id": "a3068722-ab48-4ba2-a865-8fe42477f1ec",
   "metadata": {},
   "source": [
    "* Inheritance belirttiğimiz başka classlardaki method ve attribute'lara erişmemizi sağlar.\n",
    "  \n",
    "\n",
    "* Diyelim ki farklı tipte çalışanlar oluşturmak istiyorum. IT ve HR çalışanları olsun."
   ]
  },
  {
   "cell_type": "code",
   "execution_count": 1,
   "id": "274d2a52-57a8-47dd-9ae2-60d6c441f69e",
   "metadata": {},
   "outputs": [],
   "source": [
    "class Employee:\n",
    "    raise_percent = 1.05\n",
    "    num_emp = 0\n",
    "\n",
    "    def __init__(self, name, last, age, pay):\n",
    "        self.name = name\n",
    "        self.last = last\n",
    "        self.age = age\n",
    "        self.pay = pay\n",
    "        Employee.num_emp += 1\n",
    "\n",
    "    def apply_raise(self):\n",
    "        self.pay = self.pay * self.raise_percent\n"
   ]
  },
  {
   "cell_type": "markdown",
   "id": "fb1be836-97af-49e0-ad61-d2e18b77c0ad",
   "metadata": {},
   "source": [
    "* Hangi class'tan inherit etmek istediğimizi parantezin içine yazıyoruz.\n",
    "\n",
    "* Inherit ettiğimiz class'a **parent/super class**, inherit edene de **child/subclass** deniyor."
   ]
  },
  {
   "cell_type": "code",
   "execution_count": 2,
   "id": "72dbc7b4-ccdc-4e1e-9e8d-aabc89dbd0cc",
   "metadata": {},
   "outputs": [],
   "source": [
    "emp_1 = Employee(\"James\", \"Hughes\", \"32\", 5000)"
   ]
  },
  {
   "cell_type": "code",
   "execution_count": 3,
   "id": "eb7ddf80-8fa6-499e-adf9-7365500c116b",
   "metadata": {},
   "outputs": [],
   "source": [
    "emp_2 = Employee(\"Charlie\", \"Brown\", \"22\", 3000)"
   ]
  },
  {
   "cell_type": "code",
   "execution_count": 4,
   "id": "d3c6b748-d7d2-4cd8-9cf5-c1f9e610e3de",
   "metadata": {},
   "outputs": [],
   "source": [
    "class IT(Employee):\n",
    "    pass"
   ]
  },
  {
   "cell_type": "markdown",
   "id": "eeb2fd43-171c-44ca-8997-28f4aaa5c78a",
   "metadata": {},
   "source": [
    "* IT'nin içine hiçbir şey yazmasak da, Employee'nin özelliklerine erişimi var.\n",
    "\n",
    "* IT'nin içerisinde bulamazsa aradığını, inherit ettiği yere gidip bakacak. IT'nin içerisinde *_init_* methodu yok, o yüzden gidip Employee classına bakacak"
   ]
  },
  {
   "cell_type": "code",
   "execution_count": 5,
   "id": "c4b14749-59fb-4d90-9586-d1c2d3e69b15",
   "metadata": {},
   "outputs": [],
   "source": [
    "it_1 = IT(\"James\", \"Hughes\", \"32\", 5000)"
   ]
  },
  {
   "cell_type": "code",
   "execution_count": 6,
   "id": "fe5de3cc-7ec5-4f05-a64d-bbb6bbdb57d3",
   "metadata": {},
   "outputs": [
    {
     "data": {
      "text/plain": [
       "'James'"
      ]
     },
     "execution_count": 6,
     "metadata": {},
     "output_type": "execute_result"
    }
   ],
   "source": [
    "it_1.name"
   ]
  },
  {
   "cell_type": "code",
   "execution_count": 8,
   "id": "df80de8f-8ab8-4025-88fd-73178679f21a",
   "metadata": {},
   "outputs": [
    {
     "data": {
      "text/plain": [
       "{'name': 'James', 'last': 'Hughes', 'age': '32', 'pay': 5000}"
      ]
     },
     "execution_count": 8,
     "metadata": {},
     "output_type": "execute_result"
    }
   ],
   "source": [
    "it_1.__dict__"
   ]
  },
  {
   "cell_type": "code",
   "execution_count": 7,
   "id": "45e8667b-c96f-47b6-b9df-ddc4b3483d20",
   "metadata": {
    "scrolled": true
   },
   "outputs": [
    {
     "name": "stdout",
     "output_type": "stream",
     "text": [
      "Help on class IT in module __main__:\n",
      "\n",
      "class IT(Employee)\n",
      " |  IT(name, last, age, pay)\n",
      " |  \n",
      " |  Method resolution order:\n",
      " |      IT\n",
      " |      Employee\n",
      " |      builtins.object\n",
      " |  \n",
      " |  Methods inherited from Employee:\n",
      " |  \n",
      " |  __init__(self, name, last, age, pay)\n",
      " |      Initialize self.  See help(type(self)) for accurate signature.\n",
      " |  \n",
      " |  apply_raise(self)\n",
      " |  \n",
      " |  ----------------------------------------------------------------------\n",
      " |  Data descriptors inherited from Employee:\n",
      " |  \n",
      " |  __dict__\n",
      " |      dictionary for instance variables (if defined)\n",
      " |  \n",
      " |  __weakref__\n",
      " |      list of weak references to the object (if defined)\n",
      " |  \n",
      " |  ----------------------------------------------------------------------\n",
      " |  Data and other attributes inherited from Employee:\n",
      " |  \n",
      " |  num_emp = 3\n",
      " |  \n",
      " |  raise_percent = 1.05\n",
      "\n"
     ]
    }
   ],
   "source": [
    "help(IT)"
   ]
  },
  {
   "cell_type": "code",
   "execution_count": 9,
   "id": "4fbe5d1a-2063-4c7a-82c8-12123b0c58f0",
   "metadata": {},
   "outputs": [
    {
     "data": {
      "text/plain": [
       "5000"
      ]
     },
     "execution_count": 9,
     "metadata": {},
     "output_type": "execute_result"
    }
   ],
   "source": [
    "it_1.pay"
   ]
  },
  {
   "cell_type": "code",
   "execution_count": 10,
   "id": "103debb2-5776-49a5-8be0-01262eabdd49",
   "metadata": {},
   "outputs": [],
   "source": [
    "it_1.apply_raise()"
   ]
  },
  {
   "cell_type": "code",
   "execution_count": 11,
   "id": "4e9c2fb7-2cda-4041-863e-f8646722d661",
   "metadata": {},
   "outputs": [
    {
     "data": {
      "text/plain": [
       "5250.0"
      ]
     },
     "execution_count": 11,
     "metadata": {},
     "output_type": "execute_result"
    }
   ],
   "source": [
    "it_1.pay"
   ]
  },
  {
   "cell_type": "markdown",
   "id": "591a191f-f84f-4a12-bbc0-36329b601a8a",
   "metadata": {},
   "source": [
    "* Diyelim ki IT'dekilerin yüzdelik maaş değişimini farklı bir değer olarak belirlemek istiyorum"
   ]
  },
  {
   "cell_type": "code",
   "execution_count": 12,
   "id": "9a3aa885-e22c-46b5-80c0-409332c206e3",
   "metadata": {},
   "outputs": [],
   "source": [
    "class IT(Employee):\n",
    "    raise_percent = 1.2"
   ]
  },
  {
   "cell_type": "code",
   "execution_count": 13,
   "id": "0d35c4c6-81bc-42b1-b504-5077eee8fdc2",
   "metadata": {},
   "outputs": [],
   "source": [
    "it_1 = IT(\"James\", \"Hughes\", \"32\", 5000)"
   ]
  },
  {
   "cell_type": "code",
   "execution_count": 14,
   "id": "f4cd4412-aa13-4aa5-959e-e6f919588d1c",
   "metadata": {},
   "outputs": [
    {
     "data": {
      "text/plain": [
       "5000"
      ]
     },
     "execution_count": 14,
     "metadata": {},
     "output_type": "execute_result"
    }
   ],
   "source": [
    "it_1.pay"
   ]
  },
  {
   "cell_type": "markdown",
   "id": "fc9fc1d8-99a0-4558-9692-2254ccd725c3",
   "metadata": {},
   "source": [
    "Employee'nin raise_percent attribute'unu kullanmak yerine kendisi içinde belirttiğimizi kullanıyor. Kendi içerisinde bulunmazsa inherit ettiği yere bakıyor."
   ]
  },
  {
   "cell_type": "code",
   "execution_count": 15,
   "id": "480fced4-3274-4b84-ae55-6f788e050b9f",
   "metadata": {},
   "outputs": [
    {
     "data": {
      "text/plain": [
       "1.2"
      ]
     },
     "execution_count": 15,
     "metadata": {},
     "output_type": "execute_result"
    }
   ],
   "source": [
    "it_1.raise_percent"
   ]
  },
  {
   "cell_type": "code",
   "execution_count": 16,
   "id": "97b33d27-ec49-4902-8d98-e91efa147844",
   "metadata": {},
   "outputs": [],
   "source": [
    "it_1.apply_raise()"
   ]
  },
  {
   "cell_type": "code",
   "execution_count": 17,
   "id": "15dc136b-5740-4d01-8b69-c8bf7062e639",
   "metadata": {},
   "outputs": [
    {
     "data": {
      "text/plain": [
       "6000.0"
      ]
     },
     "execution_count": 17,
     "metadata": {},
     "output_type": "execute_result"
    }
   ],
   "source": [
    "it_1.pay"
   ]
  },
  {
   "cell_type": "markdown",
   "id": "a45b215d-af84-4f70-80d5-f9dbc53f176f",
   "metadata": {},
   "source": [
    "* IT'nin raise_percent'ini değiştirmek inherit ettiği yerinkini değiştirmez."
   ]
  },
  {
   "cell_type": "code",
   "execution_count": 18,
   "id": "11965821-219b-4d8b-a2e8-3b3fdc866769",
   "metadata": {},
   "outputs": [
    {
     "data": {
      "text/plain": [
       "1.05"
      ]
     },
     "execution_count": 18,
     "metadata": {},
     "output_type": "execute_result"
    }
   ],
   "source": [
    "Employee.raise_percent"
   ]
  },
  {
   "cell_type": "markdown",
   "id": "ae31229c-5ae3-4704-97be-797a804392a2",
   "metadata": {},
   "source": [
    "* **subclass**'ta yapılan değişiklik parent class'ı etkilemez\n",
    "\n",
    "* Diyelim ki IT'cilere yeni bir özellik olarak hangi prog. dili bildiklerini de eklemek istiyorum."
   ]
  },
  {
   "cell_type": "code",
   "execution_count": 19,
   "id": "653a4f33-4f29-4c99-a636-5be89490a523",
   "metadata": {},
   "outputs": [],
   "source": [
    "class IT(Employee):\n",
    "    raise_percent = 1.2\n",
    "\n",
    "    def __init__(self, name, last, age, pay, lang):\n",
    "        self.name = name\n",
    "        self.last = last\n",
    "        self.age = age\n",
    "        self.pay = pay\n",
    "        self.lang = lang"
   ]
  },
  {
   "cell_type": "code",
   "execution_count": 20,
   "id": "5447eb48-4c9c-4339-838f-6993d5a4d4e6",
   "metadata": {},
   "outputs": [],
   "source": [
    "it_1 = IT(\"James\", \"Hughes\", \"32\", 5000, \"python\")"
   ]
  },
  {
   "cell_type": "code",
   "execution_count": 21,
   "id": "44ac00e3-177e-455e-92a7-c1156d8691f7",
   "metadata": {},
   "outputs": [
    {
     "data": {
      "text/plain": [
       "'python'"
      ]
     },
     "execution_count": 21,
     "metadata": {},
     "output_type": "execute_result"
    }
   ],
   "source": [
    "it_1.lang"
   ]
  },
  {
   "cell_type": "raw",
   "id": "40c486bd-b3c7-49bc-bdfd-14a1861a965b",
   "metadata": {},
   "source": [
    "- Ama bunun yerine şöyle de yapabilirdi"
   ]
  },
  {
   "cell_type": "code",
   "execution_count": 22,
   "id": "addfa644-0993-49b5-a6da-bf331d8d81dc",
   "metadata": {},
   "outputs": [],
   "source": [
    "class IT(Employee):\n",
    "    raise_percent = 1.2\n",
    "\n",
    "    def __init__(self, name, last, age, pay, lang):\n",
    "        super().__init__(name, last, age, pay)\n",
    "        self.lang = lang"
   ]
  },
  {
   "cell_type": "markdown",
   "id": "ab0566a2-88ff-427a-abe7-b9def6348607",
   "metadata": {},
   "source": [
    "Böylece aynı kodu tekrar tekrar yazmamış olduk. Zaten superclass'ın init methodu yapıyorsa yeniden yazmaya gerek yok"
   ]
  },
  {
   "cell_type": "code",
   "execution_count": 23,
   "id": "f455b4bc-8ec6-4c9d-a6d2-d0db83d46f09",
   "metadata": {},
   "outputs": [],
   "source": [
    "it_1 = IT(\"James\", \"Hughes\", \"32\", 5000, \"python\")"
   ]
  },
  {
   "cell_type": "code",
   "execution_count": 24,
   "id": "d8bfeec9-a6c4-4c74-bf63-50f50d5cb2fe",
   "metadata": {},
   "outputs": [
    {
     "data": {
      "text/plain": [
       "'James'"
      ]
     },
     "execution_count": 24,
     "metadata": {},
     "output_type": "execute_result"
    }
   ],
   "source": [
    "it_1.name"
   ]
  },
  {
   "cell_type": "code",
   "execution_count": 25,
   "id": "54a43dea-e2e8-45ae-891a-10d49b2ff361",
   "metadata": {},
   "outputs": [
    {
     "data": {
      "text/plain": [
       "'python'"
      ]
     },
     "execution_count": 25,
     "metadata": {},
     "output_type": "execute_result"
    }
   ],
   "source": [
    "it_1.lang"
   ]
  },
  {
   "cell_type": "code",
   "execution_count": 26,
   "id": "9d289eca-742a-440a-86d0-511ba22eaf03",
   "metadata": {},
   "outputs": [],
   "source": [
    "class IK(Employee):\n",
    "    raise_percent = 1.3\n",
    "\n",
    "    def __init__(self, name, last, age, pay, experience):\n",
    "        super().__init__(name, last, age, pay)\n",
    "        self.experience = experience\n",
    "\n",
    "    def print_exp(self):\n",
    "        print(f\"This employee has {self.experience} years of experience\")"
   ]
  },
  {
   "cell_type": "code",
   "execution_count": 27,
   "id": "0a8890f5-01ff-40f7-a824-226a3340b9d9",
   "metadata": {},
   "outputs": [],
   "source": [
    "ik_1 = IK(\"Charlie\", \"Brown\", \"22\", 3000, 12)"
   ]
  },
  {
   "cell_type": "code",
   "execution_count": 28,
   "id": "fb989d6d-cb7d-492c-9285-dd1d29e09409",
   "metadata": {},
   "outputs": [
    {
     "name": "stdout",
     "output_type": "stream",
     "text": [
      "This employee has 12 years of experience\n"
     ]
    }
   ],
   "source": [
    "ik_1.print_exp()"
   ]
  },
  {
   "cell_type": "code",
   "execution_count": 29,
   "id": "48c4f8eb-7967-4c6a-8b2a-fa8217a1c341",
   "metadata": {},
   "outputs": [
    {
     "data": {
      "text/plain": [
       "True"
      ]
     },
     "execution_count": 29,
     "metadata": {},
     "output_type": "execute_result"
    }
   ],
   "source": [
    "isinstance(ik_1, IK)"
   ]
  },
  {
   "cell_type": "code",
   "execution_count": 30,
   "id": "2c2f25a2-5f0e-430f-8e90-e1b0227f7d75",
   "metadata": {},
   "outputs": [
    {
     "data": {
      "text/plain": [
       "True"
      ]
     },
     "execution_count": 30,
     "metadata": {},
     "output_type": "execute_result"
    }
   ],
   "source": [
    "isinstance(ik_1, Employee)"
   ]
  },
  {
   "cell_type": "code",
   "execution_count": 31,
   "id": "ecdb28d9-02e5-44d3-a530-ac4c7c07c3d5",
   "metadata": {},
   "outputs": [
    {
     "data": {
      "text/plain": [
       "True"
      ]
     },
     "execution_count": 31,
     "metadata": {},
     "output_type": "execute_result"
    }
   ],
   "source": [
    "issubclass(IK,Employee)"
   ]
  },
  {
   "cell_type": "code",
   "execution_count": 32,
   "id": "e3399b37-9a26-4384-abf3-6af7c392c7a7",
   "metadata": {},
   "outputs": [
    {
     "data": {
      "text/plain": [
       "True"
      ]
     },
     "execution_count": 32,
     "metadata": {},
     "output_type": "execute_result"
    }
   ],
   "source": [
    "issubclass(IT, Employee)"
   ]
  },
  {
   "cell_type": "code",
   "execution_count": 33,
   "id": "8bdd45a4-d2a6-4632-b573-b6a49bfab4bd",
   "metadata": {},
   "outputs": [
    {
     "data": {
      "text/plain": [
       "False"
      ]
     },
     "execution_count": 33,
     "metadata": {},
     "output_type": "execute_result"
    }
   ],
   "source": [
    "issubclass(IT, IK)"
   ]
  },
  {
   "cell_type": "code",
   "execution_count": null,
   "id": "f0e2c674-e6e5-4b91-b4ad-df6d117e505c",
   "metadata": {},
   "outputs": [],
   "source": []
  }
 ],
 "metadata": {
  "kernelspec": {
   "display_name": "Python 3 (ipykernel)",
   "language": "python",
   "name": "python3"
  },
  "language_info": {
   "codemirror_mode": {
    "name": "ipython",
    "version": 3
   },
   "file_extension": ".py",
   "mimetype": "text/x-python",
   "name": "python",
   "nbconvert_exporter": "python",
   "pygments_lexer": "ipython3",
   "version": "3.11.4"
  }
 },
 "nbformat": 4,
 "nbformat_minor": 5
}
