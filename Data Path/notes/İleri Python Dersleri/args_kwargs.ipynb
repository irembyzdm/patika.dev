{
 "cells": [
  {
   "cell_type": "markdown",
   "id": "1854a426-a846-425f-afc1-efd3fb368521",
   "metadata": {},
   "source": [
    "# Args & Kwargs\n",
    "\n",
    "# 1) Args\n",
    "* Değişken sayılı parametre vermenin bir yolu. list/tuple objelerini unpack yapar ama dictionary objelerini yapmaz."
   ]
  },
  {
   "cell_type": "code",
   "execution_count": 1,
   "id": "bdacda0c-7684-4bdc-87f9-148d3bed45af",
   "metadata": {},
   "outputs": [],
   "source": [
    "def sum(numbers):\n",
    "    res = 0\n",
    "    for e in numbers:\n",
    "        res += e\n",
    "    return res"
   ]
  },
  {
   "cell_type": "code",
   "execution_count": 2,
   "id": "dad38660-c3a6-445b-83d3-f1117686f1ce",
   "metadata": {},
   "outputs": [],
   "source": [
    "numbers = [1, 2, 3, 4]"
   ]
  },
  {
   "cell_type": "code",
   "execution_count": 3,
   "id": "884a0fb1-82d9-4257-bbd9-825e5cf2d27d",
   "metadata": {},
   "outputs": [
    {
     "data": {
      "text/plain": [
       "10"
      ]
     },
     "execution_count": 3,
     "metadata": {},
     "output_type": "execute_result"
    }
   ],
   "source": [
    "sum(numbers)"
   ]
  },
  {
   "cell_type": "code",
   "execution_count": 4,
   "id": "67c4ad18-0529-452d-b9c3-f28d20babb76",
   "metadata": {},
   "outputs": [],
   "source": [
    "numbers = [1, 2]"
   ]
  },
  {
   "cell_type": "code",
   "execution_count": 5,
   "id": "0e83cbad-4149-4c94-b8a0-3825e162e069",
   "metadata": {},
   "outputs": [
    {
     "data": {
      "text/plain": [
       "3"
      ]
     },
     "execution_count": 5,
     "metadata": {},
     "output_type": "execute_result"
    }
   ],
   "source": [
    "sum(numbers)"
   ]
  },
  {
   "cell_type": "markdown",
   "id": "5ce938e0-1abc-40a2-9147-05e37d522ebf",
   "metadata": {},
   "source": [
    "# *args ın anlamı, en başta liste/tuple gibi bir objem vardı ama bunu tek tek elemanlarına ayırdım demek."
   ]
  },
  {
   "cell_type": "code",
   "execution_count": 6,
   "id": "05554edf-ff56-47c8-96d5-f670fd09c63d",
   "metadata": {},
   "outputs": [],
   "source": [
    "def sum(*args):\n",
    "    res = 0\n",
    "    for e in args:\n",
    "        res += e\n",
    "    return res"
   ]
  },
  {
   "cell_type": "code",
   "execution_count": 7,
   "id": "b1148ccd-80e2-48e5-840d-8275d7bfe577",
   "metadata": {},
   "outputs": [
    {
     "data": {
      "text/plain": [
       "10"
      ]
     },
     "execution_count": 7,
     "metadata": {},
     "output_type": "execute_result"
    }
   ],
   "source": [
    "# *args = 1,2,3,4 olduğunu varsayacak, yani args ın tek tek elemanlarına ayrılmış hali 1,2,3,4, o zaman orijinali: args = (1,2,3,4)\n",
    "sum(1,2,3,4)"
   ]
  },
  {
   "cell_type": "code",
   "execution_count": 8,
   "id": "8d68cbaa-6df6-4c0c-97e2-6191b64552af",
   "metadata": {},
   "outputs": [],
   "source": [
    "def sum(*numbers):\n",
    "    res = 0\n",
    "    print(type(numbers))\n",
    "    print(numbers)\n",
    "    for e in numbers:\n",
    "        res += e\n",
    "    return res"
   ]
  },
  {
   "cell_type": "code",
   "execution_count": 9,
   "id": "00851281-9691-4d5d-93d9-8c84d7949bd4",
   "metadata": {},
   "outputs": [
    {
     "name": "stdout",
     "output_type": "stream",
     "text": [
      "<class 'tuple'>\n",
      "(1, 2, 3, 4)\n"
     ]
    },
    {
     "data": {
      "text/plain": [
       "10"
      ]
     },
     "execution_count": 9,
     "metadata": {},
     "output_type": "execute_result"
    }
   ],
   "source": [
    "sum(1,2,3,4)"
   ]
  },
  {
   "cell_type": "code",
   "execution_count": 10,
   "id": "71b2f2b0-d627-4330-91ca-920d3fa4110e",
   "metadata": {},
   "outputs": [
    {
     "name": "stdout",
     "output_type": "stream",
     "text": [
      "<class 'tuple'>\n",
      "(1, 2)\n"
     ]
    },
    {
     "data": {
      "text/plain": [
       "3"
      ]
     },
     "execution_count": 10,
     "metadata": {},
     "output_type": "execute_result"
    }
   ],
   "source": [
    "sum(1,2)"
   ]
  },
  {
   "cell_type": "code",
   "execution_count": 12,
   "id": "aa5c5800-eea6-4734-b7ad-631917bec8fc",
   "metadata": {},
   "outputs": [],
   "source": [
    "def sum_2(*args):\n",
    "    res = 0\n",
    "    print(type(args))\n",
    "    print(args)\n",
    "    print(len(args))\n",
    "    for e in args:\n",
    "        for j in e:\n",
    "            res += j\n",
    "    return res"
   ]
  },
  {
   "cell_type": "code",
   "execution_count": 13,
   "id": "359032a4-5b38-402a-b762-fc37ce8734d0",
   "metadata": {},
   "outputs": [
    {
     "name": "stdout",
     "output_type": "stream",
     "text": [
      "<class 'tuple'>\n",
      "([1, 2],)\n",
      "1\n"
     ]
    },
    {
     "data": {
      "text/plain": [
       "3"
      ]
     },
     "execution_count": 13,
     "metadata": {},
     "output_type": "execute_result"
    }
   ],
   "source": [
    "sum_2([1,2])"
   ]
  },
  {
   "cell_type": "markdown",
   "id": "8fc344eb-42c0-424b-ac67-73c565cd3ad7",
   "metadata": {},
   "source": [
    "# 2) Kwargs\n",
    "    * Fonksiyona değişken sayıda keyword argument verebilmemizi sağlar."
   ]
  },
  {
   "cell_type": "code",
   "execution_count": 14,
   "id": "20f8a000-4721-4910-86d0-fcc2a676525c",
   "metadata": {},
   "outputs": [],
   "source": [
    "def students(**kwargs):\n",
    "\n",
    "    for v in kwargs.values():\n",
    "        print(v)"
   ]
  },
  {
   "cell_type": "code",
   "execution_count": 15,
   "id": "1859aa9a-3127-457e-8c41-1f76b60f02f4",
   "metadata": {},
   "outputs": [
    {
     "name": "stdout",
     "output_type": "stream",
     "text": [
      "Jake\n",
      "404\n"
     ]
    }
   ],
   "source": [
    "students(name=\"Jake\", student_number = \"404\")"
   ]
  },
  {
   "cell_type": "code",
   "execution_count": 16,
   "id": "73785002-9f45-4718-8962-c45c497a1260",
   "metadata": {},
   "outputs": [],
   "source": [
    "def students(**students):\n",
    "    print(students)\n",
    "    for v in students:\n",
    "        print(v)"
   ]
  },
  {
   "cell_type": "code",
   "execution_count": 17,
   "id": "5e94a9f4-5370-40ac-883a-e5af4e55a0f6",
   "metadata": {},
   "outputs": [
    {
     "name": "stdout",
     "output_type": "stream",
     "text": [
      "{'name': 'Jake', 'student_number': '404'}\n",
      "name\n",
      "student_number\n"
     ]
    }
   ],
   "source": [
    "students(name=\"Jake\", student_number = \"404\")"
   ]
  },
  {
   "cell_type": "markdown",
   "id": "70868af9-ac3a-49fb-b4c7-08312b12a218",
   "metadata": {},
   "source": [
    "# Using Args and Kwargs Together\n",
    "    \n",
    "    Kullanım sırası önemli oluyor."
   ]
  },
  {
   "cell_type": "code",
   "execution_count": 18,
   "id": "749b138e-3603-4cac-99f8-f578904e20ec",
   "metadata": {},
   "outputs": [
    {
     "ename": "SyntaxError",
     "evalue": "arguments cannot follow var-keyword argument (1557557444.py, line 1)",
     "output_type": "error",
     "traceback": [
      "\u001b[0;36m  Cell \u001b[0;32mIn[18], line 1\u001b[0;36m\u001b[0m\n\u001b[0;31m    def weird(**kwargs, *args):\u001b[0m\n\u001b[0m                        ^\u001b[0m\n\u001b[0;31mSyntaxError\u001b[0m\u001b[0;31m:\u001b[0m arguments cannot follow var-keyword argument\n"
     ]
    }
   ],
   "source": [
    "def weird(**kwargs, *args):\n",
    "    res = 0\n",
    "    for e in args:\n",
    "        res += e\n",
    "\n",
    "    for k,v in kwargs.items():\n",
    "        print(k, \":\", v)\n",
    "\n",
    "    return res"
   ]
  },
  {
   "cell_type": "code",
   "execution_count": 19,
   "id": "abb3f6d3-8cfa-4f07-b9c9-28dfebfded0f",
   "metadata": {},
   "outputs": [],
   "source": [
    "def weird(*args, **kwargs):\n",
    "    res = 0\n",
    "    for e in args:\n",
    "        res += e\n",
    "\n",
    "    for k,v in kwargs.items():\n",
    "        print(k, \":\", v)\n",
    "\n",
    "    return res"
   ]
  },
  {
   "cell_type": "code",
   "execution_count": 20,
   "id": "bcfb133c-53ea-4086-93ef-10d09271b845",
   "metadata": {},
   "outputs": [
    {
     "name": "stdout",
     "output_type": "stream",
     "text": [
      "name : Jake\n",
      "student_number : 404\n"
     ]
    },
    {
     "data": {
      "text/plain": [
       "6"
      ]
     },
     "execution_count": 20,
     "metadata": {},
     "output_type": "execute_result"
    }
   ],
   "source": [
    "weird(1,2,3, name=\"Jake\", student_number=404)"
   ]
  },
  {
   "cell_type": "code",
   "execution_count": 24,
   "id": "47919aa5-e8a6-4a0e-a478-77a4ad3e6f3e",
   "metadata": {},
   "outputs": [
    {
     "name": "stdout",
     "output_type": "stream",
     "text": [
      "name : Jake\n",
      "student_number : 404\n",
      "age : 33\n"
     ]
    },
    {
     "data": {
      "text/plain": [
       "21"
      ]
     },
     "execution_count": 24,
     "metadata": {},
     "output_type": "execute_result"
    }
   ],
   "source": [
    "weird(1,2,3,4,5,6,name=\"Jake\", student_number=404, age=\"33\")"
   ]
  },
  {
   "cell_type": "markdown",
   "id": "1616e3b1-11ca-4073-8b1c-d4d7a5404d12",
   "metadata": {},
   "source": [
    "# 4) Unpacking"
   ]
  },
  {
   "cell_type": "code",
   "execution_count": 25,
   "id": "341bde5a-289b-4511-ab44-394003b247c0",
   "metadata": {},
   "outputs": [],
   "source": [
    "l = [1,2,3,4]"
   ]
  },
  {
   "cell_type": "code",
   "execution_count": 26,
   "id": "80d901f8-f0f7-4410-8428-073ac4b204b6",
   "metadata": {},
   "outputs": [
    {
     "name": "stdout",
     "output_type": "stream",
     "text": [
      "[1, 2, 3, 4]\n"
     ]
    }
   ],
   "source": [
    "print(l)"
   ]
  },
  {
   "cell_type": "code",
   "execution_count": 27,
   "id": "1f7f2c0e-107f-4058-94f5-8c4270786684",
   "metadata": {},
   "outputs": [
    {
     "name": "stdout",
     "output_type": "stream",
     "text": [
      "1 2 3 4\n"
     ]
    }
   ],
   "source": [
    "print(*l)"
   ]
  },
  {
   "cell_type": "code",
   "execution_count": 28,
   "id": "c094ab3c-05cc-4530-b6e4-9248961036ad",
   "metadata": {},
   "outputs": [],
   "source": [
    "l1 = [1,2,3,4]"
   ]
  },
  {
   "cell_type": "code",
   "execution_count": 29,
   "id": "5744ca58-0690-45ae-8279-79dce53b4e93",
   "metadata": {},
   "outputs": [],
   "source": [
    "l2 = [20,21]"
   ]
  },
  {
   "cell_type": "code",
   "execution_count": 30,
   "id": "b7d531bd-40ff-4709-bbe4-416b72a2e24c",
   "metadata": {},
   "outputs": [],
   "source": [
    "merges_l = [*l1, *l2]"
   ]
  },
  {
   "cell_type": "code",
   "execution_count": 31,
   "id": "4bb10749-c88a-4918-b6ee-1a31890a7f4c",
   "metadata": {},
   "outputs": [
    {
     "data": {
      "text/plain": [
       "[1, 2, 3, 4, 20, 21]"
      ]
     },
     "execution_count": 31,
     "metadata": {},
     "output_type": "execute_result"
    }
   ],
   "source": [
    "merges_l"
   ]
  },
  {
   "cell_type": "code",
   "execution_count": 33,
   "id": "9a0917d5-d09c-41a9-9279-a0bcafcfa233",
   "metadata": {},
   "outputs": [],
   "source": [
    "d1 = {\"name\":\"Jake\", \"number\":404}"
   ]
  },
  {
   "cell_type": "code",
   "execution_count": 34,
   "id": "0e8b684f-a17a-49e1-a45e-9baa2a6fe38f",
   "metadata": {},
   "outputs": [],
   "source": [
    "d2 = {\"last_name\":\"Sky\", \"grade\":74}"
   ]
  },
  {
   "cell_type": "code",
   "execution_count": 35,
   "id": "8f8b71af-3256-4f29-830f-7c1fcd09f7c3",
   "metadata": {},
   "outputs": [],
   "source": [
    "d_merged = {**d1, **d2}"
   ]
  },
  {
   "cell_type": "code",
   "execution_count": 36,
   "id": "f31f4114-7dbb-4661-8b2d-87444a77edf7",
   "metadata": {},
   "outputs": [
    {
     "data": {
      "text/plain": [
       "{'name': 'Jake', 'number': 404, 'last_name': 'Sky', 'grade': 74}"
      ]
     },
     "execution_count": 36,
     "metadata": {},
     "output_type": "execute_result"
    }
   ],
   "source": [
    "d_merged"
   ]
  },
  {
   "cell_type": "code",
   "execution_count": 37,
   "id": "a917483b-f4d3-44ef-a7e4-987372bd5e09",
   "metadata": {},
   "outputs": [],
   "source": [
    "str_list = [*\"this is a string\"]"
   ]
  },
  {
   "cell_type": "code",
   "execution_count": 38,
   "id": "1c5971e5-f8cd-4308-a9e6-90a8ae3e1173",
   "metadata": {},
   "outputs": [
    {
     "data": {
      "text/plain": [
       "['t',\n",
       " 'h',\n",
       " 'i',\n",
       " 's',\n",
       " ' ',\n",
       " 'i',\n",
       " 's',\n",
       " ' ',\n",
       " 'a',\n",
       " ' ',\n",
       " 's',\n",
       " 't',\n",
       " 'r',\n",
       " 'i',\n",
       " 'n',\n",
       " 'g']"
      ]
     },
     "execution_count": 38,
     "metadata": {},
     "output_type": "execute_result"
    }
   ],
   "source": [
    "str_list"
   ]
  },
  {
   "cell_type": "code",
   "execution_count": 41,
   "id": "e72b66dd-ad9f-4ff4-bfe9-94635375b78e",
   "metadata": {},
   "outputs": [],
   "source": [
    "str_list = [*\"hey\"]"
   ]
  },
  {
   "cell_type": "code",
   "execution_count": 42,
   "id": "f51c1230-592b-4ed2-b523-657e4e1250da",
   "metadata": {},
   "outputs": [
    {
     "data": {
      "text/plain": [
       "['h', 'e', 'y']"
      ]
     },
     "execution_count": 42,
     "metadata": {},
     "output_type": "execute_result"
    }
   ],
   "source": [
    "str_list"
   ]
  },
  {
   "cell_type": "code",
   "execution_count": null,
   "id": "cdb3beb2-24a8-4360-952f-c9cd719083b7",
   "metadata": {},
   "outputs": [],
   "source": []
  }
 ],
 "metadata": {
  "kernelspec": {
   "display_name": "Python 3 (ipykernel)",
   "language": "python",
   "name": "python3"
  },
  "language_info": {
   "codemirror_mode": {
    "name": "ipython",
    "version": 3
   },
   "file_extension": ".py",
   "mimetype": "text/x-python",
   "name": "python",
   "nbconvert_exporter": "python",
   "pygments_lexer": "ipython3",
   "version": "3.11.4"
  }
 },
 "nbformat": 4,
 "nbformat_minor": 5
}
