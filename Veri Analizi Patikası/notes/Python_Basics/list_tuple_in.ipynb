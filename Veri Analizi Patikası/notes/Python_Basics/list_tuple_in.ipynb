{
 "cells": [
  {
   "cell_type": "markdown",
   "id": "c699c949-7d22-4a22-a51a-9d7d8347bf98",
   "metadata": {},
   "source": [
    "# Tuple ve List'lerde Eleman Kontrolü"
   ]
  },
  {
   "cell_type": "markdown",
   "id": "abbaaa4b-10a3-47f2-a5d4-7a9cfc082a8e",
   "metadata": {},
   "source": [
    "* Belirli bir eleman listede veya tuple'da var mı diye **in** keywordü ile sorgu yapılabilir."
   ]
  },
  {
   "cell_type": "code",
   "execution_count": 1,
   "id": "d901f64c-79e1-4bcd-bb7a-f0dbbb05b8cf",
   "metadata": {},
   "outputs": [],
   "source": [
    "l = [1,2,3,4]"
   ]
  },
  {
   "cell_type": "code",
   "execution_count": 2,
   "id": "47885780-ec2a-43b0-809a-eeaac38c354e",
   "metadata": {},
   "outputs": [
    {
     "data": {
      "text/plain": [
       "False"
      ]
     },
     "execution_count": 2,
     "metadata": {},
     "output_type": "execute_result"
    }
   ],
   "source": [
    "40 in l"
   ]
  },
  {
   "cell_type": "code",
   "execution_count": 3,
   "id": "05d1e02f-8a10-4827-8cd6-70e5a5754f41",
   "metadata": {},
   "outputs": [
    {
     "data": {
      "text/plain": [
       "True"
      ]
     },
     "execution_count": 3,
     "metadata": {},
     "output_type": "execute_result"
    }
   ],
   "source": [
    "2 in l"
   ]
  },
  {
   "cell_type": "code",
   "execution_count": 4,
   "id": "890c17d7-c7bd-4d63-ac38-d8a2223e6db4",
   "metadata": {},
   "outputs": [],
   "source": [
    "t = (3,4,5,6,7)"
   ]
  },
  {
   "cell_type": "code",
   "execution_count": 5,
   "id": "75cc90a7-c6a0-4407-88ac-47d4b849a6d3",
   "metadata": {},
   "outputs": [
    {
     "data": {
      "text/plain": [
       "False"
      ]
     },
     "execution_count": 5,
     "metadata": {},
     "output_type": "execute_result"
    }
   ],
   "source": [
    "40 in t"
   ]
  },
  {
   "cell_type": "code",
   "execution_count": 6,
   "id": "e651a457-421c-4796-8b2c-0afdd4b8bae5",
   "metadata": {},
   "outputs": [
    {
     "data": {
      "text/plain": [
       "True"
      ]
     },
     "execution_count": 6,
     "metadata": {},
     "output_type": "execute_result"
    }
   ],
   "source": [
    "5 in t"
   ]
  },
  {
   "cell_type": "code",
   "execution_count": null,
   "id": "d48a555e-16f1-4c55-bf47-ff7d2c56e3a1",
   "metadata": {},
   "outputs": [],
   "source": []
  }
 ],
 "metadata": {
  "kernelspec": {
   "display_name": "Python 3 (ipykernel)",
   "language": "python",
   "name": "python3"
  },
  "language_info": {
   "codemirror_mode": {
    "name": "ipython",
    "version": 3
   },
   "file_extension": ".py",
   "mimetype": "text/x-python",
   "name": "python",
   "nbconvert_exporter": "python",
   "pygments_lexer": "ipython3",
   "version": "3.11.4"
  }
 },
 "nbformat": 4,
 "nbformat_minor": 5
}
