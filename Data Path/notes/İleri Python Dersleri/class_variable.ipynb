{
 "cells": [
  {
   "cell_type": "markdown",
   "id": "3222ee50-475b-41da-ba00-25014681a42d",
   "metadata": {},
   "source": [
    "# Class Variable"
   ]
  },
  {
   "cell_type": "code",
   "execution_count": 1,
   "id": "ef2032ac-96e5-4d0c-b059-78effde3de47",
   "metadata": {},
   "outputs": [],
   "source": [
    "class Employee:\n",
    "    def __init__(self, name, last, age, pay):\n",
    "        self.name = name\n",
    "        self.last = last\n",
    "        self.age = age\n",
    "        self.pay = pay"
   ]
  },
  {
   "cell_type": "code",
   "execution_count": 2,
   "id": "dba70e2c-0f0b-4cf8-8019-ffdee9f7d36d",
   "metadata": {},
   "outputs": [],
   "source": [
    "emp_1 = Employee(\"James\", \"Hughes\", \"32\" , 5000)"
   ]
  },
  {
   "cell_type": "code",
   "execution_count": 3,
   "id": "7108ab59-6d5a-4be4-adbf-850a7d8b86fb",
   "metadata": {},
   "outputs": [],
   "source": [
    "emp_2 = Employee(\"Charlie\", \"Brown\", \"22\", 3000)"
   ]
  },
  {
   "cell_type": "markdown",
   "id": "06af2494-7d1a-4c1c-933e-bb1807df3e2a",
   "metadata": {},
   "source": [
    "* **Instance Variable**: Class'tan oluşturulan objelerin kendilerine özgü değişkenleridir. Bu örnekteki *name, last, age, pay* gibi\n",
    "\n",
    "* **Class Variable**: Class'tan oluşturulan tüm objelerde paylaşılan değişkenler.\n",
    "\n",
    "* Instance Variable her obje için fakrlı olabilir, ama class variable hepsi için aynı olmak zorunda\n",
    "\n",
    "* Tüm çalışanlar arasında hangi verinin paylaşılmasını isteyebilirim? Mesela şirket herkese aynı yüzdelik zam uyguluyorsa bunun yüzdesini class variable'ı olarak tutabilirim."
   ]
  },
  {
   "cell_type": "code",
   "execution_count": 4,
   "id": "57df1990-7ab0-4d0c-ae4b-c8b13f548016",
   "metadata": {},
   "outputs": [],
   "source": [
    "class Employee:\n",
    "\n",
    "    raise_percent = 1.05\n",
    "    \n",
    "    def __init__(self, name, last, age, pay):\n",
    "        self.name = name\n",
    "        self.last = last\n",
    "        self.age = age\n",
    "        self.pay = pay\n",
    "\n",
    "    def apply_raise(self):\n",
    "        self.pay = self.pay * raise_percent"
   ]
  },
  {
   "cell_type": "code",
   "execution_count": 5,
   "id": "bd33110f-f261-443a-a1a7-3196380436e8",
   "metadata": {},
   "outputs": [],
   "source": [
    "emp_1 = Employee(\"James\", \"Hughes\", \"32\" , 5000)"
   ]
  },
  {
   "cell_type": "code",
   "execution_count": 6,
   "id": "03651fa5-680f-4412-aa82-c2719487dea7",
   "metadata": {},
   "outputs": [
    {
     "ename": "NameError",
     "evalue": "name 'raise_percent' is not defined",
     "output_type": "error",
     "traceback": [
      "\u001b[0;31m---------------------------------------------------------------------------\u001b[0m",
      "\u001b[0;31mNameError\u001b[0m                                 Traceback (most recent call last)",
      "Cell \u001b[0;32mIn[6], line 1\u001b[0m\n\u001b[0;32m----> 1\u001b[0m \u001b[43memp_1\u001b[49m\u001b[38;5;241;43m.\u001b[39;49m\u001b[43mapply_raise\u001b[49m\u001b[43m(\u001b[49m\u001b[43m)\u001b[49m\n",
      "Cell \u001b[0;32mIn[4], line 12\u001b[0m, in \u001b[0;36mEmployee.apply_raise\u001b[0;34m(self)\u001b[0m\n\u001b[1;32m     11\u001b[0m \u001b[38;5;28;01mdef\u001b[39;00m \u001b[38;5;21mapply_raise\u001b[39m(\u001b[38;5;28mself\u001b[39m):\n\u001b[0;32m---> 12\u001b[0m     \u001b[38;5;28mself\u001b[39m\u001b[38;5;241m.\u001b[39mpay \u001b[38;5;241m=\u001b[39m \u001b[38;5;28mself\u001b[39m\u001b[38;5;241m.\u001b[39mpay \u001b[38;5;241m*\u001b[39m \u001b[43mraise_percent\u001b[49m\n",
      "\u001b[0;31mNameError\u001b[0m: name 'raise_percent' is not defined"
     ]
    }
   ],
   "source": [
    "emp_1.apply_raise()"
   ]
  },
  {
   "cell_type": "raw",
   "id": "66d57aa1-d203-4842-9bc7-8752acbd67a5",
   "metadata": {},
   "source": [
    "Class variable'larına ulaşmak için ya genel Class üzerinden ya da o sırada oluşturduğumuz obje üzerinden ulaşmamız lazım."
   ]
  },
  {
   "cell_type": "code",
   "execution_count": 7,
   "id": "95914263-0c7d-4ed2-8e6d-9d84320d79b9",
   "metadata": {},
   "outputs": [
    {
     "data": {
      "text/plain": [
       "1.05"
      ]
     },
     "execution_count": 7,
     "metadata": {},
     "output_type": "execute_result"
    }
   ],
   "source": [
    "emp_1.raise_percent"
   ]
  },
  {
   "cell_type": "code",
   "execution_count": 8,
   "id": "47cd4607-27c8-402b-8718-c69a13dd1c7e",
   "metadata": {},
   "outputs": [
    {
     "data": {
      "text/plain": [
       "1.05"
      ]
     },
     "execution_count": 8,
     "metadata": {},
     "output_type": "execute_result"
    }
   ],
   "source": [
    "Employee.raise_percent"
   ]
  },
  {
   "cell_type": "code",
   "execution_count": 9,
   "id": "908b5e31-9f20-4946-9999-2892d22c0cd8",
   "metadata": {},
   "outputs": [],
   "source": [
    "class Employee:\n",
    "\n",
    "    raise_percent = 1.05\n",
    "    \n",
    "    def __init__(self, name, last, age, pay):\n",
    "        self.name = name\n",
    "        self.last = last\n",
    "        self.age = age\n",
    "        self.pay = pay\n",
    "\n",
    "    def apply_raise(self):\n",
    "        self.pay = self.pay * Employee.raise_percent"
   ]
  },
  {
   "cell_type": "code",
   "execution_count": 10,
   "id": "0bd1a10d-45fd-405f-9238-4ff98ace73bd",
   "metadata": {},
   "outputs": [],
   "source": [
    "emp_1 = Employee(\"James\", \"Hughes\", \"32\" , 5000)"
   ]
  },
  {
   "cell_type": "code",
   "execution_count": 11,
   "id": "ddfa05c4-1d40-471a-a1ed-5a3afab01c9d",
   "metadata": {},
   "outputs": [
    {
     "data": {
      "text/plain": [
       "5000"
      ]
     },
     "execution_count": 11,
     "metadata": {},
     "output_type": "execute_result"
    }
   ],
   "source": [
    "emp_1.pay"
   ]
  },
  {
   "cell_type": "code",
   "execution_count": 12,
   "id": "8efa2c71-fc21-4c3e-aff4-088e08b731fd",
   "metadata": {},
   "outputs": [],
   "source": [
    "emp_1.apply_raise()"
   ]
  },
  {
   "cell_type": "code",
   "execution_count": 13,
   "id": "68531462-57d4-4883-9dae-3c6ef040eae4",
   "metadata": {},
   "outputs": [
    {
     "data": {
      "text/plain": [
       "5250.0"
      ]
     },
     "execution_count": 13,
     "metadata": {},
     "output_type": "execute_result"
    }
   ],
   "source": [
    "emp_1.pay"
   ]
  },
  {
   "cell_type": "code",
   "execution_count": 14,
   "id": "e0b0ccd5-1a86-4ba7-a528-330caff8477f",
   "metadata": {},
   "outputs": [],
   "source": [
    "class Employee:\n",
    "\n",
    "    raise_percent = 1.05\n",
    "    \n",
    "    def __init__(self, name, last, age, pay):\n",
    "        self.name = name\n",
    "        self.last = last\n",
    "        self.age = age\n",
    "        self.pay = pay\n",
    "\n",
    "    def apply_raise(self):\n",
    "        self.pay = self.pay * self.raise_percent"
   ]
  },
  {
   "cell_type": "code",
   "execution_count": 15,
   "id": "47945684-f357-4245-98b3-c86c2cae0c5f",
   "metadata": {},
   "outputs": [],
   "source": [
    "emp_2 = Employee(\"Charlie\", \"Brown\", \"22\", 3000)"
   ]
  },
  {
   "cell_type": "code",
   "execution_count": 16,
   "id": "726517dc-5c0a-4510-8cf2-48b9f80876af",
   "metadata": {},
   "outputs": [
    {
     "data": {
      "text/plain": [
       "3000"
      ]
     },
     "execution_count": 16,
     "metadata": {},
     "output_type": "execute_result"
    }
   ],
   "source": [
    "emp_2.pay"
   ]
  },
  {
   "cell_type": "code",
   "execution_count": 17,
   "id": "c72ba4a5-f743-443a-b15c-74ad3cfc89d4",
   "metadata": {},
   "outputs": [],
   "source": [
    "emp_2.apply_raise()"
   ]
  },
  {
   "cell_type": "code",
   "execution_count": 18,
   "id": "3ea19b2a-a154-4307-8a43-f1c718ae9466",
   "metadata": {},
   "outputs": [
    {
     "data": {
      "text/plain": [
       "3150.0"
      ]
     },
     "execution_count": 18,
     "metadata": {},
     "output_type": "execute_result"
    }
   ],
   "source": [
    "emp_2.pay"
   ]
  },
  {
   "cell_type": "markdown",
   "id": "49542451-117f-4ef0-be6e-660cf1ffb707",
   "metadata": {},
   "source": [
    "* emp_1.raise_percent -> ilk olarak bu instance a bakar, eğer bulamazsa class variable olarak var mı diye bakar"
   ]
  },
  {
   "cell_type": "code",
   "execution_count": 19,
   "id": "aa365752-23e7-4437-8f8c-3402f2a147db",
   "metadata": {},
   "outputs": [
    {
     "name": "stdout",
     "output_type": "stream",
     "text": [
      "{'name': 'James', 'last': 'Hughes', 'age': '32', 'pay': 5250.0}\n"
     ]
    }
   ],
   "source": [
    "print(emp_1.__dict__)  #objenin attribute larını döndürür"
   ]
  },
  {
   "cell_type": "code",
   "execution_count": 20,
   "id": "fbe2d1e1-655b-4cbd-a417-0f8a4c7f5b60",
   "metadata": {},
   "outputs": [
    {
     "name": "stdout",
     "output_type": "stream",
     "text": [
      "{'__module__': '__main__', 'raise_percent': 1.05, '__init__': <function Employee.__init__ at 0x109016f20>, 'apply_raise': <function Employee.apply_raise at 0x109017600>, '__dict__': <attribute '__dict__' of 'Employee' objects>, '__weakref__': <attribute '__weakref__' of 'Employee' objects>, '__doc__': None}\n"
     ]
    }
   ],
   "source": [
    "print(Employee.__dict__)"
   ]
  },
  {
   "cell_type": "code",
   "execution_count": 21,
   "id": "5ce9ad7a-34c4-4d3e-9027-824e110e0683",
   "metadata": {},
   "outputs": [],
   "source": [
    "emp_1.experience = 10"
   ]
  },
  {
   "cell_type": "code",
   "execution_count": 22,
   "id": "e22b96d9-5a12-4bfd-b215-fca672f232e6",
   "metadata": {},
   "outputs": [
    {
     "name": "stdout",
     "output_type": "stream",
     "text": [
      "{'name': 'James', 'last': 'Hughes', 'age': '32', 'pay': 5250.0, 'experience': 10}\n"
     ]
    }
   ],
   "source": [
    "print(emp_1.__dict__)"
   ]
  },
  {
   "cell_type": "code",
   "execution_count": 23,
   "id": "e0baea15-313d-436c-bec2-4f77b99b1b2b",
   "metadata": {},
   "outputs": [
    {
     "name": "stdout",
     "output_type": "stream",
     "text": [
      "{'name': 'Charlie', 'last': 'Brown', 'age': '22', 'pay': 3150.0}\n"
     ]
    }
   ],
   "source": [
    "print(emp_2.__dict__)"
   ]
  },
  {
   "cell_type": "markdown",
   "id": "afdb35da-a563-4fb4-9e7b-724ed0c90bed",
   "metadata": {},
   "source": [
    "print(emp_1.raise_percent)\n",
    "print(emp_2.raise_percent)\n",
    "print(Employee.raise_percent)"
   ]
  },
  {
   "cell_type": "code",
   "execution_count": 28,
   "id": "370cf9e9-2b0b-483b-9fd4-72755b6d50b2",
   "metadata": {},
   "outputs": [],
   "source": [
    "Employee.raise_percent = 1.06"
   ]
  },
  {
   "cell_type": "markdown",
   "id": "9fa6b1bb-d9b1-47aa-9081-15a0a25e29ff",
   "metadata": {},
   "source": [
    "* Class variable'ı **Class üzerinde** güncellemek hepsinde günceller"
   ]
  },
  {
   "cell_type": "code",
   "execution_count": 29,
   "id": "57e0704b-bc1a-4e66-b138-7aa4216f8445",
   "metadata": {},
   "outputs": [
    {
     "name": "stdout",
     "output_type": "stream",
     "text": [
      "1.05\n",
      "1.06\n",
      "1.06\n"
     ]
    }
   ],
   "source": [
    "print(emp_1.raise_percent)\n",
    "print(emp_2.raise_percent)\n",
    "print(Employee.raise_percent)"
   ]
  },
  {
   "cell_type": "markdown",
   "id": "dd3d5882-1866-475f-9c56-cd5cd3be338f",
   "metadata": {},
   "source": [
    "* Class variable'ı **instance (class oluşturulan bir obje) üzerinde** güncellemek, sadece o objenin o değerini günceller."
   ]
  },
  {
   "cell_type": "code",
   "execution_count": 30,
   "id": "4575dc21-adf3-4f0f-8da0-22fee860162b",
   "metadata": {},
   "outputs": [],
   "source": [
    "emp_1.raise_percent = 1.07"
   ]
  },
  {
   "cell_type": "markdown",
   "id": "a1f2116f-65ce-4a62-a01c-5cb9019e4815",
   "metadata": {},
   "source": [
    "* Çünkü normalde kendi üzerinde o attribute olmadığı için class'a bakardı ama bu kendisinde de o attribute'u oluşturuyor."
   ]
  },
  {
   "cell_type": "code",
   "execution_count": 31,
   "id": "0652f782-c199-4047-ac9a-72cf0eaf3af0",
   "metadata": {},
   "outputs": [
    {
     "name": "stdout",
     "output_type": "stream",
     "text": [
      "{'name': 'James', 'last': 'Hughes', 'age': '32', 'pay': 5250.0, 'experience': 10, 'raise_percent': 1.07}\n"
     ]
    }
   ],
   "source": [
    "print(emp_1.__dict__)"
   ]
  },
  {
   "cell_type": "code",
   "execution_count": 32,
   "id": "4a0c7036-0a70-48f6-9d7c-ffd16e6a81f9",
   "metadata": {},
   "outputs": [
    {
     "name": "stdout",
     "output_type": "stream",
     "text": [
      "1.07\n",
      "1.06\n",
      "1.06\n"
     ]
    }
   ],
   "source": [
    "print(emp_1.raise_percent)\n",
    "print(emp_2.raise_percent)\n",
    "print(Employee.raise_percent)"
   ]
  },
  {
   "cell_type": "markdown",
   "id": "c2d9f478-7cde-45a3-9afe-255189c59e91",
   "metadata": {},
   "source": [
    "# Kaç tane çalışan olduğunu Class Variable'ı olarak tutmak"
   ]
  },
  {
   "cell_type": "markdown",
   "id": "491b26fa-619e-491b-84c4-6e05b91b127e",
   "metadata": {},
   "source": [
    "* Her yeni çalışan geldiğinde toplam çalışanı 1 arttırmak istiyorum."
   ]
  },
  {
   "cell_type": "code",
   "execution_count": 33,
   "id": "eb66ddf0-6f2c-4e8a-be78-63dafaa03e11",
   "metadata": {},
   "outputs": [],
   "source": [
    "class Employee:\n",
    "\n",
    "    raise_percent = 1.05\n",
    "    num_emp = 0\n",
    "\n",
    "    def __init__(self, name, last, age, pay):\n",
    "        self.name = name\n",
    "        self.last = last\n",
    "        self.age = age\n",
    "        self.pay = pay\n",
    "        Employee.num_emp += 1\n",
    "\n",
    "    def apply_raise(self):\n",
    "        self.pay = self.pay * self.raise_percent"
   ]
  },
  {
   "cell_type": "code",
   "execution_count": 34,
   "id": "d3fb7ace-116c-4731-ad7f-b2590cd84907",
   "metadata": {},
   "outputs": [
    {
     "data": {
      "text/plain": [
       "0"
      ]
     },
     "execution_count": 34,
     "metadata": {},
     "output_type": "execute_result"
    }
   ],
   "source": [
    "Employee.num_emp"
   ]
  },
  {
   "cell_type": "code",
   "execution_count": 35,
   "id": "83a8bdfe-bccc-4c95-88e5-f81590b3952e",
   "metadata": {},
   "outputs": [],
   "source": [
    "emp_1 = Employee(\"James\", \"Hughes\", \"32\" , 5000)"
   ]
  },
  {
   "cell_type": "code",
   "execution_count": 36,
   "id": "a574e3cc-6469-487d-a127-994629b1bce2",
   "metadata": {},
   "outputs": [
    {
     "data": {
      "text/plain": [
       "1"
      ]
     },
     "execution_count": 36,
     "metadata": {},
     "output_type": "execute_result"
    }
   ],
   "source": [
    "Employee.num_emp"
   ]
  },
  {
   "cell_type": "code",
   "execution_count": 37,
   "id": "02ba938b-3669-4c8b-8833-5db90c476fc0",
   "metadata": {},
   "outputs": [],
   "source": [
    "emp_2 = Employee(\"Charlie\", \"Brown\", \"22\", 3000)"
   ]
  },
  {
   "cell_type": "code",
   "execution_count": 38,
   "id": "db0508da-b13b-4ff4-9754-e16dfb927382",
   "metadata": {},
   "outputs": [
    {
     "data": {
      "text/plain": [
       "2"
      ]
     },
     "execution_count": 38,
     "metadata": {},
     "output_type": "execute_result"
    }
   ],
   "source": [
    "Employee.num_emp"
   ]
  },
  {
   "cell_type": "code",
   "execution_count": null,
   "id": "58d8a0a8-b511-426c-bca1-8373393d3bf8",
   "metadata": {},
   "outputs": [],
   "source": []
  }
 ],
 "metadata": {
  "kernelspec": {
   "display_name": "Python 3 (ipykernel)",
   "language": "python",
   "name": "python3"
  },
  "language_info": {
   "codemirror_mode": {
    "name": "ipython",
    "version": 3
   },
   "file_extension": ".py",
   "mimetype": "text/x-python",
   "name": "python",
   "nbconvert_exporter": "python",
   "pygments_lexer": "ipython3",
   "version": "3.11.4"
  }
 },
 "nbformat": 4,
 "nbformat_minor": 5
}
