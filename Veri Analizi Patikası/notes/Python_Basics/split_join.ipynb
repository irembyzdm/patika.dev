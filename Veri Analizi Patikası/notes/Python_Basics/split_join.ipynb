{
 "cells": [
  {
   "cell_type": "markdown",
   "id": "1efd88dd-3b6c-4b33-819d-b2d64cb3c807",
   "metadata": {},
   "source": [
    "# split()\n",
    "\n",
    "* Belirli bir bölme kriterine göre string'in alt parçalarını listenin elemanları olarak dönüştürebiliriz."
   ]
  },
  {
   "cell_type": "code",
   "execution_count": 1,
   "id": "162ed78d-43c7-4a2d-a00a-f55b81341eab",
   "metadata": {},
   "outputs": [],
   "source": [
    "s = \"merhaba nasılsın ?\""
   ]
  },
  {
   "cell_type": "markdown",
   "id": "52470572-7a53-408a-bfb5-2ef7d809c4c5",
   "metadata": {},
   "source": [
    "* split()'in içine neye göre böleceğimizi yazarız."
   ]
  },
  {
   "cell_type": "code",
   "execution_count": 2,
   "id": "0f80ad6c-f6cf-4f85-b4b8-bcbdc371fbaa",
   "metadata": {},
   "outputs": [
    {
     "data": {
      "text/plain": [
       "['merhaba', 'nasılsın', '?']"
      ]
     },
     "execution_count": 2,
     "metadata": {},
     "output_type": "execute_result"
    }
   ],
   "source": [
    "s.split(\" \")\n",
    "['merhaba', 'nasılsın', '?']"
   ]
  },
  {
   "cell_type": "raw",
   "id": "a6cabcfc-1319-425c-be48-f2ee65b82aeb",
   "metadata": {},
   "source": [
    "hiçbir şey yazmazsak default olarak boşluğa göre böler."
   ]
  },
  {
   "cell_type": "code",
   "execution_count": 3,
   "id": "8638d284-bbc2-4b4c-9319-8d1306b9cbd3",
   "metadata": {},
   "outputs": [
    {
     "data": {
      "text/plain": [
       "['merhaba', 'nasılsın', '?']"
      ]
     },
     "execution_count": 3,
     "metadata": {},
     "output_type": "execute_result"
    }
   ],
   "source": [
    "s.split()"
   ]
  },
  {
   "cell_type": "code",
   "execution_count": 4,
   "id": "1ca0c67c-3793-42d0-9550-f6f3e46830c6",
   "metadata": {},
   "outputs": [],
   "source": [
    "s2 = \"limon,portakal,elma\""
   ]
  },
  {
   "cell_type": "code",
   "execution_count": 5,
   "id": "095d275a-d792-4321-a249-419be32ac871",
   "metadata": {},
   "outputs": [
    {
     "data": {
      "text/plain": [
       "['limon,portakal,elma']"
      ]
     },
     "execution_count": 5,
     "metadata": {},
     "output_type": "execute_result"
    }
   ],
   "source": [
    "s2.split()"
   ]
  },
  {
   "cell_type": "code",
   "execution_count": 6,
   "id": "808d631e-379d-4735-9696-eaebf5fe42ba",
   "metadata": {},
   "outputs": [
    {
     "data": {
      "text/plain": [
       "['limon', 'portakal', 'elma']"
      ]
     },
     "execution_count": 6,
     "metadata": {},
     "output_type": "execute_result"
    }
   ],
   "source": [
    "s2.split(\",\")"
   ]
  },
  {
   "cell_type": "markdown",
   "id": "65f34660-feb1-4c41-8104-09a7afea18df",
   "metadata": {},
   "source": [
    "# join()\n",
    "\n",
    "* listenin elemanları arasına belirtilen yapıyı koyup string'e dönüştürür."
   ]
  },
  {
   "cell_type": "raw",
   "id": "956efeef-a2e2-49f2-a657-4a2df38d86de",
   "metadata": {},
   "source": [
    "\"patern\".join(elemanları kullanılacak liste)"
   ]
  },
  {
   "cell_type": "code",
   "execution_count": 7,
   "id": "1b31c39f-4605-494e-a4d7-923ae8531a26",
   "metadata": {},
   "outputs": [],
   "source": [
    "l = ['limon', 'portakal', 'elma']"
   ]
  },
  {
   "cell_type": "code",
   "execution_count": 8,
   "id": "76a7c7ed-d91e-479d-9244-b4aa9653c3b7",
   "metadata": {},
   "outputs": [
    {
     "data": {
      "text/plain": [
       "'limon,portakal,elma'"
      ]
     },
     "execution_count": 8,
     "metadata": {},
     "output_type": "execute_result"
    }
   ],
   "source": [
    "\",\".join(l)"
   ]
  },
  {
   "cell_type": "code",
   "execution_count": 9,
   "id": "44312789-a9c4-41d7-8b0b-ca67604b3922",
   "metadata": {},
   "outputs": [
    {
     "data": {
      "text/plain": [
       "'limon-portakal-elma'"
      ]
     },
     "execution_count": 9,
     "metadata": {},
     "output_type": "execute_result"
    }
   ],
   "source": [
    "\"-\".join(l)"
   ]
  },
  {
   "cell_type": "code",
   "execution_count": 10,
   "id": "9ad06067-1af9-41db-939e-5de09cb4373c",
   "metadata": {},
   "outputs": [],
   "source": [
    "#Test"
   ]
  },
  {
   "cell_type": "code",
   "execution_count": null,
   "id": "51dea8e5-606c-4ca1-9e53-e89e4da1dce5",
   "metadata": {},
   "outputs": [],
   "source": []
  }
 ],
 "metadata": {
  "kernelspec": {
   "display_name": "Python 3 (ipykernel)",
   "language": "python",
   "name": "python3"
  },
  "language_info": {
   "codemirror_mode": {
    "name": "ipython",
    "version": 3
   },
   "file_extension": ".py",
   "mimetype": "text/x-python",
   "name": "python",
   "nbconvert_exporter": "python",
   "pygments_lexer": "ipython3",
   "version": "3.11.4"
  }
 },
 "nbformat": 4,
 "nbformat_minor": 5
}
