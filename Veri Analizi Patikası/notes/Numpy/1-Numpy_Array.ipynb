{
 "cells": [
  {
   "cell_type": "code",
   "execution_count": 2,
   "id": "15b5fe9d-e07d-4f0c-aaa8-b85a9b015563",
   "metadata": {},
   "outputs": [],
   "source": [
    "import numpy as np"
   ]
  },
  {
   "cell_type": "markdown",
   "id": "8e7449d0-2094-4b40-8de6-29b4a0ccd515",
   "metadata": {},
   "source": [
    "# Numpy Array"
   ]
  },
  {
   "cell_type": "markdown",
   "id": "8691940d-de04-48a5-bcfa-edff76c151b7",
   "metadata": {},
   "source": [
    "* Numpy arrayleri python listlerine benziyor.\n",
    "\n",
    "* Ama onların aksine, farklı veri tiplerinde eleman içeremez. Tek veri tipinde elemanları olması gerekiyor."
   ]
  },
  {
   "cell_type": "markdown",
   "id": "3743d14f-02c8-4511-9b15-aecb94a2841e",
   "metadata": {},
   "source": [
    "# Listlerden Array Oluşturmak"
   ]
  },
  {
   "cell_type": "code",
   "execution_count": 3,
   "id": "2b39f514-92f4-4b81-b93e-5b7c77bdfc20",
   "metadata": {},
   "outputs": [],
   "source": [
    "x = np.array([1,2,3,4])"
   ]
  },
  {
   "cell_type": "code",
   "execution_count": 4,
   "id": "c1aa5729-679d-43a7-ae64-bbbd77176f7b",
   "metadata": {},
   "outputs": [
    {
     "data": {
      "text/plain": [
       "array([1, 2, 3, 4])"
      ]
     },
     "execution_count": 4,
     "metadata": {},
     "output_type": "execute_result"
    }
   ],
   "source": [
    "x"
   ]
  },
  {
   "cell_type": "code",
   "execution_count": 5,
   "id": "d0073a69-3ae0-493a-bcc7-a4bb33c40be8",
   "metadata": {},
   "outputs": [
    {
     "data": {
      "text/plain": [
       "numpy.ndarray"
      ]
     },
     "execution_count": 5,
     "metadata": {},
     "output_type": "execute_result"
    }
   ],
   "source": [
    "type(x)"
   ]
  },
  {
   "cell_type": "code",
   "execution_count": 6,
   "id": "4e075075-9513-44ed-91f2-6c1717f85603",
   "metadata": {},
   "outputs": [],
   "source": [
    "y = np.array([\"a\",\"b\",\"c\"])"
   ]
  },
  {
   "cell_type": "code",
   "execution_count": 7,
   "id": "df372f08-fb3c-4d9b-9d9f-e2b61ca45396",
   "metadata": {},
   "outputs": [
    {
     "data": {
      "text/plain": [
       "array(['a', 'b', 'c'], dtype='<U1')"
      ]
     },
     "execution_count": 7,
     "metadata": {},
     "output_type": "execute_result"
    }
   ],
   "source": [
    "y"
   ]
  },
  {
   "cell_type": "code",
   "execution_count": 8,
   "id": "8b95331d-dacc-467c-bbfa-f00fa54c0d38",
   "metadata": {},
   "outputs": [],
   "source": [
    "# Bütün integerlar string e dönüştürülecek\n",
    "z = np.array([1,2,3,\"a\"])"
   ]
  },
  {
   "cell_type": "code",
   "execution_count": 9,
   "id": "2825d96a-d54c-4090-8694-9c3541b1c8a5",
   "metadata": {},
   "outputs": [
    {
     "data": {
      "text/plain": [
       "array(['1', '2', '3', 'a'], dtype='<U21')"
      ]
     },
     "execution_count": 9,
     "metadata": {},
     "output_type": "execute_result"
    }
   ],
   "source": [
    "z"
   ]
  },
  {
   "cell_type": "code",
   "execution_count": 10,
   "id": "1501c624-c998-4dc4-a3ed-c80415b38930",
   "metadata": {},
   "outputs": [],
   "source": [
    "a = np.array([1,2,3,\"5\"])"
   ]
  },
  {
   "cell_type": "code",
   "execution_count": 11,
   "id": "b6970369-1fb3-450e-b326-55ec3d77e693",
   "metadata": {},
   "outputs": [
    {
     "data": {
      "text/plain": [
       "array(['1', '2', '3', '5'], dtype='<U21')"
      ]
     },
     "execution_count": 11,
     "metadata": {},
     "output_type": "execute_result"
    }
   ],
   "source": [
    "a"
   ]
  },
  {
   "cell_type": "code",
   "execution_count": 12,
   "id": "7e953d75-616d-425d-94f0-8ccfe126b6fd",
   "metadata": {},
   "outputs": [],
   "source": [
    "# Bütün integerlar float a dönüştürülecek\n",
    "b = np.array([1,2,3,4.5])"
   ]
  },
  {
   "cell_type": "code",
   "execution_count": 13,
   "id": "6c20b9d5-a741-463a-9210-f4375c4ab34b",
   "metadata": {},
   "outputs": [
    {
     "data": {
      "text/plain": [
       "array([1. , 2. , 3. , 4.5])"
      ]
     },
     "execution_count": 13,
     "metadata": {},
     "output_type": "execute_result"
    }
   ],
   "source": [
    "b"
   ]
  },
  {
   "cell_type": "code",
   "execution_count": 14,
   "id": "66ace7cd-f74e-4369-81d7-0a57e9438600",
   "metadata": {},
   "outputs": [],
   "source": [
    "# Bütün integerlar ve floatlar string e dönüştürülecek\n",
    "c = np.array([1,2,3,4.5,\"2\"])"
   ]
  },
  {
   "cell_type": "code",
   "execution_count": 15,
   "id": "f0f805ff-6f46-49df-b7fb-080de6350bd0",
   "metadata": {},
   "outputs": [
    {
     "data": {
      "text/plain": [
       "array(['1', '2', '3', '4.5', '2'], dtype='<U32')"
      ]
     },
     "execution_count": 15,
     "metadata": {},
     "output_type": "execute_result"
    }
   ],
   "source": [
    "c"
   ]
  },
  {
   "cell_type": "code",
   "execution_count": null,
   "id": "8552ee8d-26a9-4305-ab42-32af063a35a3",
   "metadata": {},
   "outputs": [],
   "source": []
  }
 ],
 "metadata": {
  "kernelspec": {
   "display_name": "Python 3 (ipykernel)",
   "language": "python",
   "name": "python3"
  },
  "language_info": {
   "codemirror_mode": {
    "name": "ipython",
    "version": 3
   },
   "file_extension": ".py",
   "mimetype": "text/x-python",
   "name": "python",
   "nbconvert_exporter": "python",
   "pygments_lexer": "ipython3",
   "version": "3.11.4"
  }
 },
 "nbformat": 4,
 "nbformat_minor": 5
}
