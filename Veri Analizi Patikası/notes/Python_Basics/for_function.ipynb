{
 "cells": [
  {
   "cell_type": "markdown",
   "id": "d0c9ddd9-4d29-4679-8869-58109d4c1987",
   "metadata": {},
   "source": [
    "# Fonksiyonları Obje Olarak Kullanmak"
   ]
  },
  {
   "cell_type": "markdown",
   "id": "deb4f2aa-55e1-4117-a134-8797e690d0a0",
   "metadata": {},
   "source": [
    "* Python'da fonkisyonların *first class function* olduklarını gördük.\n",
    "\n",
    "* Şimdi bu mantığı kullanarak belirli fonksiyonları listenin elemanlarına uygulayacağız."
   ]
  },
  {
   "cell_type": "code",
   "execution_count": 1,
   "id": "5ee69ba0-a561-4958-97d5-0c77f2ef4de5",
   "metadata": {},
   "outputs": [],
   "source": [
    "l = [1,2,3,4]"
   ]
  },
  {
   "cell_type": "code",
   "execution_count": null,
   "id": "e3fb22cf-eb03-41ff-8cd7-303d643255c0",
   "metadata": {},
   "outputs": [],
   "source": [
    "def apply(l, f):\n",
    "    \"\"\"\n",
    "    l bir liste,\n",
    "    f listenin tüm elemanlarına uygulanacak fonksiyon\n",
    "    sonunda listenin orijinali elemanlarına "
   ]
  }
 ],
 "metadata": {
  "kernelspec": {
   "display_name": "Python 3 (ipykernel)",
   "language": "python",
   "name": "python3"
  },
  "language_info": {
   "codemirror_mode": {
    "name": "ipython",
    "version": 3
   },
   "file_extension": ".py",
   "mimetype": "text/x-python",
   "name": "python",
   "nbconvert_exporter": "python",
   "pygments_lexer": "ipython3",
   "version": "3.11.4"
  }
 },
 "nbformat": 4,
 "nbformat_minor": 5
}
