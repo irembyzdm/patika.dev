{
 "cells": [
  {
   "cell_type": "markdown",
   "id": "2368fa6f-2ba9-4690-a2e1-b4eea265c60e",
   "metadata": {},
   "source": [
    "# return\n",
    "\n",
    "* Bir fonksiyonu çalıştırdığımızda onun sonucuyla bir şeyler yapmak isteyebilirim. Sonucu bana versin diye özellikle söylemem lazım ve bunu return keyword(anahtar kelime)'u ile sağlayacağız.\n",
    "\n",
    "* return yazmasaydık fonksiyon hiç bir şey döndürmezdi.\n",
    "\n",
    "* fonksiyon tanımladığımı Python'a anlatmak için yapım:\n",
    "  \n",
    "***def fonksiyonun_adı(input):***\n",
    "\n",
    "* öbür yapılarda da olduğu gibi, bir kod bloğunun belirttiğimiz yapıya ait olduğunu anlatmak için boşluk bırakarak içine yazmamız gerekiyor.\n",
    "\n",
    "* Verdiğimiz değerin karesini alan bir fonksiyon yazalım."
   ]
  },
  {
   "cell_type": "code",
   "execution_count": 1,
   "id": "12ee3aaa-815e-46a7-8d3c-21a841eea7af",
   "metadata": {},
   "outputs": [],
   "source": [
    "def square(x):\n",
    "    x*x"
   ]
  },
  {
   "cell_type": "markdown",
   "id": "5a663d88-3056-4f18-9799-122d37a0321a",
   "metadata": {},
   "source": [
    "fonksiyonu tanımladıktan sonra tanımladığımız adla onu çağırabiliriz. Yapımız şöyle olacak: fonksiyonun_adı(input), bir fonksiyonu çağırmak için inputları ()'ın içine yazmalıyız. Bazı durumlarda hiç input olmayabilir, bazı durumlarda birden çok olabilir."
   ]
  },
  {
   "cell_type": "code",
   "execution_count": 4,
   "id": "1f1b9e13-3889-4f60-af47-db461099f54d",
   "metadata": {},
   "outputs": [],
   "source": [
    "square(3)"
   ]
  },
  {
   "cell_type": "code",
   "execution_count": 5,
   "id": "6bfcbed1-ff8b-4e44-9d70-952bf03fd84b",
   "metadata": {},
   "outputs": [],
   "source": [
    "a = square(3)"
   ]
  },
  {
   "cell_type": "code",
   "execution_count": 6,
   "id": "a0f720fb-5e6d-4289-8265-c84083525091",
   "metadata": {},
   "outputs": [],
   "source": [
    "a"
   ]
  },
  {
   "cell_type": "code",
   "execution_count": 7,
   "id": "b42ad7a9-529d-453c-b1d8-56e3a3f8bc50",
   "metadata": {},
   "outputs": [
    {
     "name": "stdout",
     "output_type": "stream",
     "text": [
      "None\n"
     ]
    }
   ],
   "source": [
    "print(a)"
   ]
  },
  {
   "cell_type": "code",
   "execution_count": 8,
   "id": "d9cd009d-9ed2-4500-81b3-78559afb2f84",
   "metadata": {},
   "outputs": [
    {
     "data": {
      "text/plain": [
       "NoneType"
      ]
     },
     "execution_count": 8,
     "metadata": {},
     "output_type": "execute_result"
    }
   ],
   "source": [
    "type(a)"
   ]
  },
  {
   "cell_type": "code",
   "execution_count": 9,
   "id": "463e1078-eb3a-4337-bc2f-773799667810",
   "metadata": {},
   "outputs": [
    {
     "data": {
      "text/plain": [
       "NoneType"
      ]
     },
     "execution_count": 9,
     "metadata": {},
     "output_type": "execute_result"
    }
   ],
   "source": [
    "type(square(3))"
   ]
  },
  {
   "cell_type": "markdown",
   "id": "f9676b28-d408-48a9-99cb-4e8840334db8",
   "metadata": {},
   "source": [
    "* bize x*x i değer olarak vermedi. Vermesi için bana o değeri döndür diye özellikle söylemem lazım. Bunu return ile sağlıyoruz."
   ]
  },
  {
   "cell_type": "code",
   "execution_count": 10,
   "id": "d8e250ce-2715-4ed0-8164-8f36987b6f09",
   "metadata": {},
   "outputs": [],
   "source": [
    "def square(x):\n",
    "\n",
    "    return x*x"
   ]
  },
  {
   "cell_type": "code",
   "execution_count": 11,
   "id": "ee353ce7-9360-4371-88a3-4017f38dfdc5",
   "metadata": {},
   "outputs": [
    {
     "data": {
      "text/plain": [
       "4"
      ]
     },
     "execution_count": 11,
     "metadata": {},
     "output_type": "execute_result"
    }
   ],
   "source": [
    "square(2)"
   ]
  },
  {
   "cell_type": "code",
   "execution_count": 12,
   "id": "7a78116f-f562-4223-8d0f-9c787659ed47",
   "metadata": {},
   "outputs": [],
   "source": [
    "a = square(2)"
   ]
  },
  {
   "cell_type": "code",
   "execution_count": 13,
   "id": "87e125b8-db42-4282-9f9a-d4d7488b7edc",
   "metadata": {},
   "outputs": [
    {
     "data": {
      "text/plain": [
       "4"
      ]
     },
     "execution_count": 13,
     "metadata": {},
     "output_type": "execute_result"
    }
   ],
   "source": [
    "a"
   ]
  },
  {
   "cell_type": "code",
   "execution_count": 14,
   "id": "d5516fd8-3314-4406-b2e7-b98dc1d85ca6",
   "metadata": {},
   "outputs": [
    {
     "name": "stdout",
     "output_type": "stream",
     "text": [
      "4\n"
     ]
    }
   ],
   "source": [
    "print(a)"
   ]
  },
  {
   "cell_type": "code",
   "execution_count": 15,
   "id": "a56ab4a8-aca7-45f7-b976-2e4ea0ba75d7",
   "metadata": {},
   "outputs": [
    {
     "data": {
      "text/plain": [
       "int"
      ]
     },
     "execution_count": 15,
     "metadata": {},
     "output_type": "execute_result"
    }
   ],
   "source": [
    "type(a)"
   ]
  },
  {
   "cell_type": "code",
   "execution_count": 17,
   "id": "53e59773-b392-4a25-9e63-bb3c12aad4db",
   "metadata": {},
   "outputs": [
    {
     "data": {
      "text/plain": [
       "5"
      ]
     },
     "execution_count": 17,
     "metadata": {},
     "output_type": "execute_result"
    }
   ],
   "source": [
    "1 + square(2) #Bu döndürülen değerin int 4 'ten bir farkı yok, nereden nasıl geldiği önemli değil, a = 4 dediğimdeki 4 ile aynı. Bu değerle istediğimi yapabilirim\n"
   ]
  },
  {
   "cell_type": "raw",
   "id": "8a6acaff-5731-42e6-969c-64a910072d2a",
   "metadata": {},
   "source": [
    "Bilgisayar için o da sadece bir değerdi. Aşağıdaki örnekte de square(3) bize 9 döndürüyor, bilgisayar için aşağıdaki kod, square(9) ile aynıdır."
   ]
  },
  {
   "cell_type": "code",
   "execution_count": 18,
   "id": "466a6efa-3b5f-44b7-8e74-ec88516bf4aa",
   "metadata": {},
   "outputs": [
    {
     "data": {
      "text/plain": [
       "81"
      ]
     },
     "execution_count": 18,
     "metadata": {},
     "output_type": "execute_result"
    }
   ],
   "source": [
    "square(square(3))"
   ]
  },
  {
   "cell_type": "markdown",
   "id": "0ebf5a21-357b-41ee-8348-8f2095ba5d7b",
   "metadata": {},
   "source": [
    "hiç bir inputu olmaya da bilirdi"
   ]
  },
  {
   "cell_type": "code",
   "execution_count": 19,
   "id": "5827fcd4-6d0d-44fb-8527-6cf89eca02e2",
   "metadata": {},
   "outputs": [],
   "source": [
    "def weird():\n",
    "    return 5"
   ]
  },
  {
   "cell_type": "code",
   "execution_count": 20,
   "id": "25220538-1b9b-48ef-9769-c041eb1ada52",
   "metadata": {},
   "outputs": [
    {
     "data": {
      "text/plain": [
       "5"
      ]
     },
     "execution_count": 20,
     "metadata": {},
     "output_type": "execute_result"
    }
   ],
   "source": [
    "weird()"
   ]
  },
  {
   "cell_type": "markdown",
   "id": "a9f261e0-f41f-4849-be0d-ff18b1a2d649",
   "metadata": {},
   "source": [
    "* Fonksiyonlar return'e geldikten sonrasına bakmıyor, return 'ün sağına yazılan değeri veriyor ve fonksiyondan çıkıyor."
   ]
  },
  {
   "cell_type": "code",
   "execution_count": 21,
   "id": "175c6bcf-fff6-4123-a765-ccba05459dfe",
   "metadata": {},
   "outputs": [],
   "source": [
    "def square(x):\n",
    "\n",
    "    res = x * x\n",
    "\n",
    "    return res\n",
    "\n",
    "    print(\"Square of \" + str(x) + \": \" + str(res))"
   ]
  },
  {
   "cell_type": "markdown",
   "id": "3e415533-5993-4ca8-9f40-11782db8659c",
   "metadata": {},
   "source": [
    "Bu yüzden burada bastırma kısmını yapmadı çünkü o kod return 'ün altında yer alıyor."
   ]
  },
  {
   "cell_type": "code",
   "execution_count": 22,
   "id": "6049a113-28a7-47ef-8d32-19a9593d942a",
   "metadata": {},
   "outputs": [
    {
     "data": {
      "text/plain": [
       "16"
      ]
     },
     "execution_count": 22,
     "metadata": {},
     "output_type": "execute_result"
    }
   ],
   "source": [
    "square(4)"
   ]
  },
  {
   "cell_type": "code",
   "execution_count": 23,
   "id": "769a919c-9447-4415-a324-3d7d319c28ba",
   "metadata": {},
   "outputs": [
    {
     "data": {
      "text/plain": [
       "18"
      ]
     },
     "execution_count": 23,
     "metadata": {},
     "output_type": "execute_result"
    }
   ],
   "source": [
    "square(4) + 2"
   ]
  },
  {
   "cell_type": "code",
   "execution_count": 24,
   "id": "5958de93-380d-4973-9483-b1d63b2d328d",
   "metadata": {},
   "outputs": [],
   "source": [
    "def square(x):\n",
    "\n",
    "    res = x * x\n",
    "\n",
    "    print(\"Square of \" + str(x) + \": \" + str(res))\n",
    "    \n",
    "    return res\n"
   ]
  },
  {
   "cell_type": "code",
   "execution_count": 25,
   "id": "56bfdb49-6b31-4d2c-9ea4-017cdbc5e9fb",
   "metadata": {},
   "outputs": [
    {
     "name": "stdout",
     "output_type": "stream",
     "text": [
      "Square of 4: 16\n"
     ]
    },
    {
     "data": {
      "text/plain": [
       "16"
      ]
     },
     "execution_count": 25,
     "metadata": {},
     "output_type": "execute_result"
    }
   ],
   "source": [
    "square(4)"
   ]
  },
  {
   "cell_type": "markdown",
   "id": "c18f1961-93f0-47b1-a482-0a2658af8b24",
   "metadata": {},
   "source": [
    "* Fonksiyona durumsallık da ekleyebiliriz."
   ]
  },
  {
   "cell_type": "code",
   "execution_count": 26,
   "id": "e0181ad6-9e5b-4d97-84ff-806cecdf67f9",
   "metadata": {},
   "outputs": [],
   "source": [
    "def f(x):\n",
    "    res = x * x \n",
    "\n",
    "    if x % 2 == 0:\n",
    "        return res\n",
    "    else:\n",
    "        return res + 10\n",
    "\n",
    "    print(\"Square of \" + str(x) + \": \" + str(res))\n",
    "    "
   ]
  },
  {
   "cell_type": "code",
   "execution_count": 27,
   "id": "c2135803-c3e2-4d00-8c7c-03ad3fda31d9",
   "metadata": {},
   "outputs": [
    {
     "data": {
      "text/plain": [
       "100"
      ]
     },
     "execution_count": 27,
     "metadata": {},
     "output_type": "execute_result"
    }
   ],
   "source": [
    "f(10)"
   ]
  },
  {
   "cell_type": "code",
   "execution_count": 28,
   "id": "b47ec05f-6f0f-4218-9f40-18bcc7a200aa",
   "metadata": {},
   "outputs": [
    {
     "data": {
      "text/plain": [
       "179"
      ]
     },
     "execution_count": 28,
     "metadata": {},
     "output_type": "execute_result"
    }
   ],
   "source": [
    "f(13)"
   ]
  },
  {
   "cell_type": "markdown",
   "id": "031a449c-6c9c-4c14-bfae-9b8b64e1aae0",
   "metadata": {},
   "source": [
    "* Fonksiyonların içinde döngü mantığı da olabilir."
   ]
  },
  {
   "cell_type": "code",
   "execution_count": 37,
   "id": "8172501a-7d67-44bf-8c09-5618738c5024",
   "metadata": {},
   "outputs": [],
   "source": [
    "x = 300  #fonksiyon dışardan almıyor."
   ]
  },
  {
   "cell_type": "code",
   "execution_count": 38,
   "id": "64b5aee6-120a-4ec7-993b-685e303db58e",
   "metadata": {},
   "outputs": [],
   "source": [
    "def f(x):\n",
    "    res = x * x\n",
    "\n",
    "    for i in range(10):\n",
    "        res += 20\n",
    "        return res\n",
    "        print(\"hey\")"
   ]
  },
  {
   "cell_type": "code",
   "execution_count": 39,
   "id": "abb96965-9b1b-4f69-9a96-35d154f8f4c0",
   "metadata": {},
   "outputs": [
    {
     "data": {
      "text/plain": [
       "120"
      ]
     },
     "execution_count": 39,
     "metadata": {},
     "output_type": "execute_result"
    }
   ],
   "source": [
    "f(10)"
   ]
  },
  {
   "cell_type": "code",
   "execution_count": 40,
   "id": "dcefd603-657c-4dbe-887b-0ee9a231d4a7",
   "metadata": {},
   "outputs": [
    {
     "data": {
      "text/plain": [
       "143"
      ]
     },
     "execution_count": 40,
     "metadata": {},
     "output_type": "execute_result"
    }
   ],
   "source": [
    "f(10) + 23"
   ]
  },
  {
   "cell_type": "code",
   "execution_count": 41,
   "id": "af508e03-701f-4be1-9ead-f7127387f0df",
   "metadata": {},
   "outputs": [],
   "source": [
    "def f(x):\n",
    "    res = x * x\n",
    "\n",
    "    for i in range(10):\n",
    "        res += 20\n",
    "        \n",
    "    return res"
   ]
  },
  {
   "cell_type": "code",
   "execution_count": 42,
   "id": "ae55ca70-34a7-4efa-b8ad-5acf2e9a5770",
   "metadata": {},
   "outputs": [
    {
     "data": {
      "text/plain": [
       "300"
      ]
     },
     "execution_count": 42,
     "metadata": {},
     "output_type": "execute_result"
    }
   ],
   "source": [
    "f(10)"
   ]
  },
  {
   "cell_type": "code",
   "execution_count": 47,
   "id": "5b36758d-3517-4bae-9296-f5c208fb54a0",
   "metadata": {},
   "outputs": [],
   "source": [
    "def f(x):\n",
    "\n",
    "    l = []\n",
    "    res = x * x\n",
    "    for i in range(10):\n",
    "        res += 20\n",
    "        l.append(res)\n",
    "    return l"
   ]
  },
  {
   "cell_type": "code",
   "execution_count": 48,
   "id": "92325af1-8632-413d-a37d-a11ce484baee",
   "metadata": {},
   "outputs": [
    {
     "data": {
      "text/plain": [
       "[120, 140, 160, 180, 200, 220, 240, 260, 280, 300]"
      ]
     },
     "execution_count": 48,
     "metadata": {},
     "output_type": "execute_result"
    }
   ],
   "source": [
    "f(10)"
   ]
  },
  {
   "cell_type": "code",
   "execution_count": 49,
   "id": "100875d8-8924-4c94-a693-a968ce252ba4",
   "metadata": {},
   "outputs": [],
   "source": [
    "def f(x):\n",
    "    x = 2"
   ]
  },
  {
   "cell_type": "code",
   "execution_count": 50,
   "id": "cd3621bb-f1b2-4484-a657-db65dcd9c026",
   "metadata": {},
   "outputs": [],
   "source": [
    "f(2)"
   ]
  },
  {
   "cell_type": "code",
   "execution_count": 51,
   "id": "7662e4b8-08e8-45c8-8985-4f4617849eb7",
   "metadata": {},
   "outputs": [
    {
     "ename": "TypeError",
     "evalue": "unsupported operand type(s) for +: 'NoneType' and 'int'",
     "output_type": "error",
     "traceback": [
      "\u001b[0;31m---------------------------------------------------------------------------\u001b[0m",
      "\u001b[0;31mTypeError\u001b[0m                                 Traceback (most recent call last)",
      "Cell \u001b[0;32mIn[51], line 1\u001b[0m\n\u001b[0;32m----> 1\u001b[0m \u001b[43mf\u001b[49m\u001b[43m(\u001b[49m\u001b[38;5;241;43m10\u001b[39;49m\u001b[43m)\u001b[49m\u001b[43m \u001b[49m\u001b[38;5;241;43m+\u001b[39;49m\u001b[43m \u001b[49m\u001b[38;5;241;43m4\u001b[39;49m\n",
      "\u001b[0;31mTypeError\u001b[0m: unsupported operand type(s) for +: 'NoneType' and 'int'"
     ]
    }
   ],
   "source": [
    "f(10) + 4"
   ]
  },
  {
   "cell_type": "code",
   "execution_count": 52,
   "id": "a15c5669-57da-43b3-b40b-0e47b5dda8bc",
   "metadata": {},
   "outputs": [
    {
     "name": "stdout",
     "output_type": "stream",
     "text": [
      "None\n"
     ]
    }
   ],
   "source": [
    "print(f(3))"
   ]
  },
  {
   "cell_type": "code",
   "execution_count": 53,
   "id": "e2710520-9d07-4bd8-b613-b78c22a567da",
   "metadata": {},
   "outputs": [
    {
     "data": {
      "text/plain": [
       "NoneType"
      ]
     },
     "execution_count": 53,
     "metadata": {},
     "output_type": "execute_result"
    }
   ],
   "source": [
    "type(f(3))"
   ]
  },
  {
   "cell_type": "code",
   "execution_count": 65,
   "id": "ccb8ad41-6239-4a31-871c-e024405862ae",
   "metadata": {},
   "outputs": [],
   "source": [
    "# Bu kod x in karesini değer olarak bize vermiyor, sadece ekrana bastıracak\n",
    "def square(x):\n",
    "\n",
    "    print(x, \"in/ün/un karesi:\", x*x)"
   ]
  },
  {
   "cell_type": "code",
   "execution_count": 66,
   "id": "80f978e5-e986-4398-9ba6-d427a602ad2b",
   "metadata": {},
   "outputs": [
    {
     "name": "stdout",
     "output_type": "stream",
     "text": [
      "3 in/ün/un karesi: 9\n"
     ]
    }
   ],
   "source": [
    "square(3)"
   ]
  },
  {
   "cell_type": "code",
   "execution_count": 57,
   "id": "f4d02f19-d05f-4012-a47e-119ab9ee1272",
   "metadata": {},
   "outputs": [
    {
     "name": "stdout",
     "output_type": "stream",
     "text": [
      "4 in/ün/un karesi: 16\n"
     ]
    },
    {
     "data": {
      "text/plain": [
       "NoneType"
      ]
     },
     "execution_count": 57,
     "metadata": {},
     "output_type": "execute_result"
    }
   ],
   "source": [
    "type(square(4))"
   ]
  },
  {
   "cell_type": "code",
   "execution_count": 67,
   "id": "8bb7718b-8260-4c50-919b-d02cbc7a97f6",
   "metadata": {},
   "outputs": [],
   "source": [
    "# hem bir değer bastırıp aynı anda o değeri döndüredebilirdi\n",
    "\n",
    "def square(x):\n",
    "\n",
    "    res = x * x\n",
    "\n",
    "    print(x, \"in/ün/un karesi:\", x*x)\n",
    "\n",
    "    return res"
   ]
  },
  {
   "cell_type": "code",
   "execution_count": 69,
   "id": "d9a028dd-9ada-450d-9471-0fef82c612a7",
   "metadata": {},
   "outputs": [
    {
     "name": "stdout",
     "output_type": "stream",
     "text": [
      "4 in/ün/un karesi: 16\n"
     ]
    },
    {
     "data": {
      "text/plain": [
       "16"
      ]
     },
     "execution_count": 69,
     "metadata": {},
     "output_type": "execute_result"
    }
   ],
   "source": [
    "square(4)"
   ]
  },
  {
   "cell_type": "code",
   "execution_count": 60,
   "id": "2b52ef99-b602-47e1-8bd5-c8a4c60986c0",
   "metadata": {},
   "outputs": [
    {
     "name": "stdout",
     "output_type": "stream",
     "text": [
      "4 in/ün/un karesi: 16\n"
     ]
    },
    {
     "data": {
      "text/plain": [
       "18"
      ]
     },
     "execution_count": 60,
     "metadata": {},
     "output_type": "execute_result"
    }
   ],
   "source": [
    "square(4) + 2"
   ]
  },
  {
   "cell_type": "code",
   "execution_count": 70,
   "id": "92e77f4e-9feb-4a21-bc88-feed759671cc",
   "metadata": {},
   "outputs": [],
   "source": [
    "#TEST\n",
    "x = 7\n",
    "def f(x):\n",
    "    res=5\n",
    "    res*=res\n",
    "    if x % 2 == 0:\n",
    "        print(\"Sonuc:\",res)\n",
    "        return res\n",
    "    else:\n",
    "        print(\"Sonuc: \",res)\n",
    "\n",
    "        return res + 10"
   ]
  },
  {
   "cell_type": "code",
   "execution_count": 71,
   "id": "1472ef48-096a-4609-8a7b-3f001f50b167",
   "metadata": {},
   "outputs": [
    {
     "name": "stdout",
     "output_type": "stream",
     "text": [
      "Sonuc: 25\n"
     ]
    },
    {
     "data": {
      "text/plain": [
       "25"
      ]
     },
     "execution_count": 71,
     "metadata": {},
     "output_type": "execute_result"
    }
   ],
   "source": [
    "f(4)"
   ]
  },
  {
   "cell_type": "code",
   "execution_count": null,
   "id": "38c3fabd-4927-4355-bdc5-88e33c723257",
   "metadata": {},
   "outputs": [],
   "source": []
  }
 ],
 "metadata": {
  "kernelspec": {
   "display_name": "Python 3 (ipykernel)",
   "language": "python",
   "name": "python3"
  },
  "language_info": {
   "codemirror_mode": {
    "name": "ipython",
    "version": 3
   },
   "file_extension": ".py",
   "mimetype": "text/x-python",
   "name": "python",
   "nbconvert_exporter": "python",
   "pygments_lexer": "ipython3",
   "version": "3.11.4"
  }
 },
 "nbformat": 4,
 "nbformat_minor": 5
}
