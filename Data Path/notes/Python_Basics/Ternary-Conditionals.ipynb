{
 "cells": [
  {
   "cell_type": "markdown",
   "id": "77e4e7ca-a240-4d71-9cdf-0af1521138da",
   "metadata": {},
   "source": [
    "# Ternary Conditionals"
   ]
  },
  {
   "cell_type": "markdown",
   "id": "411d481f-e4b3-4ecb-93b4-dc221d24d50e",
   "metadata": {},
   "source": [
    "Ternary Conditionals aslında daha önce yapamadığımız bir şeyi yapabilmemize olanak sağlamayacak. if-else mantığını tek satırda kullanıp döndürülecek, sonucu ona göre belirlememizi sağlayacak.\n",
    "\n",
    "\n",
    "Diyelim ki belirli bir durumu test edip, x değişkeninin değerini bu testin sonucuna göre belirlemek istiyorum. Soruya cevabım \"y\" olursa değeri 2'ye, yoksa 0'a eşitleyeceğim.\n"
   ]
  },
  {
   "cell_type": "code",
   "execution_count": 3,
   "id": "f5ff4b8d-0cf2-421d-b839-d7ff438a808f",
   "metadata": {},
   "outputs": [
    {
     "name": "stdin",
     "output_type": "stream",
     "text": [
      "x in değeri 2 olsun mu? y/n y\n"
     ]
    },
    {
     "name": "stdout",
     "output_type": "stream",
     "text": [
      "2\n"
     ]
    }
   ],
   "source": [
    "# cevap olarak \"y\" (yes->evet) veya \"n\"(no->hayır) vereceğiz\n",
    "cevap = input(\"x in değeri 2 olsun mu? y/n\")\n",
    "\n",
    "if cevap == \"y\": # cevap == \"y\" testimiz oluyor\n",
    "    x = 2\n",
    "else:\n",
    "    x = 0\n",
    "\n",
    "print(x)"
   ]
  },
  {
   "cell_type": "code",
   "execution_count": 4,
   "id": "1d634cf5-81f1-4233-bfdd-215bccd1a8c0",
   "metadata": {},
   "outputs": [
    {
     "data": {
      "text/plain": [
       "2"
      ]
     },
     "execution_count": 4,
     "metadata": {},
     "output_type": "execute_result"
    }
   ],
   "source": [
    "x"
   ]
  },
  {
   "cell_type": "markdown",
   "id": "6b58e330-fa6d-4e28-ab71-da4625072ad6",
   "metadata": {},
   "source": [
    "Bunun aynısını tek satırda şu şekilde yapabilirdik:"
   ]
  },
  {
   "cell_type": "code",
   "execution_count": 5,
   "id": "f2192478-3681-455e-b534-e79d17168906",
   "metadata": {},
   "outputs": [
    {
     "name": "stdin",
     "output_type": "stream",
     "text": [
      "x in değeri 2 olsun mu? y/n y\n"
     ]
    }
   ],
   "source": [
    "cevap = input(\"x in değeri 2 olsun mu? y/n\")"
   ]
  },
  {
   "cell_type": "code",
   "execution_count": 6,
   "id": "6c0b3c7c-1b58-4336-8933-f85ad7ebd57d",
   "metadata": {},
   "outputs": [],
   "source": [
    "x = 2 if cevap==\"y\" else 0"
   ]
  },
  {
   "cell_type": "code",
   "execution_count": 7,
   "id": "22595805-267d-4af5-98fa-3c724d058f16",
   "metadata": {},
   "outputs": [
    {
     "name": "stdout",
     "output_type": "stream",
     "text": [
      "2\n"
     ]
    }
   ],
   "source": [
    "print(x)"
   ]
  },
  {
   "cell_type": "markdown",
   "id": "cbe84fd6-69f9-4f00-9e68-28e76c0123c2",
   "metadata": {},
   "source": [
    "Hatta daha düzenli bir şekilde:"
   ]
  },
  {
   "cell_type": "code",
   "execution_count": 8,
   "id": "537a81f6-5e21-4aa3-af5c-610238d3c62f",
   "metadata": {},
   "outputs": [
    {
     "name": "stdin",
     "output_type": "stream",
     "text": [
      "x in değeri 2 olsun mu? y/n y\n"
     ]
    }
   ],
   "source": [
    "cevap = input(\"x in değeri 2 olsun mu? y/n\")"
   ]
  },
  {
   "cell_type": "code",
   "execution_count": 9,
   "id": "0977340d-d256-452d-8006-0eafe0ad4b07",
   "metadata": {},
   "outputs": [],
   "source": [
    "condition = cevap == \"y\""
   ]
  },
  {
   "cell_type": "code",
   "execution_count": 10,
   "id": "ee232986-6b4f-4eb0-b8e9-e47a5132d118",
   "metadata": {},
   "outputs": [],
   "source": [
    "x = 2 if condition else 0"
   ]
  },
  {
   "cell_type": "code",
   "execution_count": 11,
   "id": "72ca017c-c288-4ed4-8984-b7c9f5860419",
   "metadata": {},
   "outputs": [
    {
     "data": {
      "text/plain": [
       "2"
      ]
     },
     "execution_count": 11,
     "metadata": {},
     "output_type": "execute_result"
    }
   ],
   "source": [
    "x"
   ]
  },
  {
   "cell_type": "code",
   "execution_count": null,
   "id": "a0cb23a9-7bbd-4038-a3d1-8cce0ee9b73e",
   "metadata": {},
   "outputs": [],
   "source": []
  }
 ],
 "metadata": {
  "kernelspec": {
   "display_name": "Python 3 (ipykernel)",
   "language": "python",
   "name": "python3"
  },
  "language_info": {
   "codemirror_mode": {
    "name": "ipython",
    "version": 3
   },
   "file_extension": ".py",
   "mimetype": "text/x-python",
   "name": "python",
   "nbconvert_exporter": "python",
   "pygments_lexer": "ipython3",
   "version": "3.11.4"
  }
 },
 "nbformat": 4,
 "nbformat_minor": 5
}
