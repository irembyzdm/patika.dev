{
 "cells": [
  {
   "cell_type": "markdown",
   "id": "1de63726-7c16-4e28-a995-4273d29c4859",
   "metadata": {},
   "source": [
    "# Class Method"
   ]
  },
  {
   "cell_type": "markdown",
   "id": "0aa47a0f-3e24-4290-8194-2cc67ae26adf",
   "metadata": {},
   "source": [
    "* @classmethod decorator methodu ilk argüman olarak instance almak yerine class'ı alacak şekilde günceller."
   ]
  },
  {
   "cell_type": "code",
   "execution_count": 2,
   "id": "c0defd02-36d4-4830-8103-5b8c643eaf43",
   "metadata": {},
   "outputs": [],
   "source": [
    "class Employee:\n",
    "    raise_percent = 1.05\n",
    "    num_emp = 0\n",
    "\n",
    "    def __init__(self, name, last, age, pay):\n",
    "        self.name = name\n",
    "        self.last = last\n",
    "        self.age = age\n",
    "        self.pay = pay\n",
    "        Employee.num_emp += 1\n",
    "\n",
    "    def apply_raise(self):\n",
    "        self.pay = self.pay * self.raise_percent\n",
    "\n",
    "    @classmethod\n",
    "    def set_raise(cls, amount):\n",
    "        cls.raise_percent = amount"
   ]
  },
  {
   "cell_type": "code",
   "execution_count": 3,
   "id": "bab34753-6bcf-460e-a0e7-488f3a86bd76",
   "metadata": {},
   "outputs": [],
   "source": [
    "emp_1 = Employee(\"James\", \"Hughes\", \"32\", 5000)"
   ]
  },
  {
   "cell_type": "code",
   "execution_count": 4,
   "id": "8bebefa1-658e-49a5-9203-15bce26f68f1",
   "metadata": {},
   "outputs": [],
   "source": [
    "emp_2 = Employee(\"Charlie\", \"Brown\", \"22\", 3000)"
   ]
  },
  {
   "cell_type": "code",
   "execution_count": 5,
   "id": "9efd41d3-a7db-4ac7-80aa-7292437da706",
   "metadata": {},
   "outputs": [],
   "source": [
    "Employee.set_raise(1.6)"
   ]
  },
  {
   "cell_type": "code",
   "execution_count": 6,
   "id": "d16b80b5-6947-40ae-9722-7998a11b4f86",
   "metadata": {},
   "outputs": [
    {
     "name": "stdout",
     "output_type": "stream",
     "text": [
      "1.6\n",
      "1.6\n",
      "1.6\n"
     ]
    }
   ],
   "source": [
    "print(emp_1.raise_percent)\n",
    "print(emp_2.raise_percent)\n",
    "print(Employee.raise_percent)"
   ]
  },
  {
   "cell_type": "markdown",
   "id": "5a9b0aa2-7d13-4ecc-b1eb-ed2571b74608",
   "metadata": {},
   "source": [
    "# Alternative Constructor"
   ]
  },
  {
   "cell_type": "markdown",
   "id": "903d09f2-0a55-4223-9111-7d9594ba104d",
   "metadata": {},
   "source": [
    "* Diyelim ki bize class'ı oluştururken input olarak string veriyorlar ve bizim bundan name, age gibi bilgileri kendimiz çıkarmamız lazım"
   ]
  },
  {
   "cell_type": "code",
   "execution_count": 7,
   "id": "1d84b857-70c8-469c-aab1-7a11b0ee7050",
   "metadata": {},
   "outputs": [],
   "source": [
    "emp_1_str = \"James-Hughes-32-5000\""
   ]
  },
  {
   "cell_type": "code",
   "execution_count": 8,
   "id": "697b9e11-e252-4cb3-a8be-9d8425cb334a",
   "metadata": {},
   "outputs": [],
   "source": [
    "emp_2_str = \"Charlie-Brown-22-3000\""
   ]
  },
  {
   "cell_type": "code",
   "execution_count": 9,
   "id": "e14f3cf8-2a42-4285-b03f-97d09665b1b2",
   "metadata": {},
   "outputs": [],
   "source": [
    "name, last, age, pay = emp_1_str.split(\"-\")"
   ]
  },
  {
   "cell_type": "code",
   "execution_count": 10,
   "id": "fc17d9b1-488e-4882-a2f1-006a5fcb1b01",
   "metadata": {},
   "outputs": [],
   "source": [
    "emp_1 = Employee(name, last, age, pay)"
   ]
  },
  {
   "cell_type": "markdown",
   "id": "b2179e38-a45d-42e6-8be4-a015a449f2d4",
   "metadata": {},
   "source": [
    "* Ama belki her zaman bu şekilde vermeyeceğiz. String olarak input geldiğinde objenin bu şekilde oluşması için başka nasıl bir mekanizma kullanabiliriz?\n",
    "\n",
    "* Her seferinde kendim parse etmek yerine bunu bir method olarak yazabilirim."
   ]
  },
  {
   "cell_type": "code",
   "execution_count": 11,
   "id": "c7d738fb-c89c-4301-9ab2-8d90e9e0a93b",
   "metadata": {},
   "outputs": [],
   "source": [
    "class Employee:\n",
    "\n",
    "    raise_percent = 1.05\n",
    "    num_emp = 0\n",
    "\n",
    "    def __init__(self, name, last, age, pay):\n",
    "        self.name = name\n",
    "        self.last = last\n",
    "        self.age = age\n",
    "        self.pay = pay\n",
    "        Employee.num_emp += 1\n",
    "\n",
    "    def apply_raise(self):\n",
    "        self.pay = self.pay * self.raise_percent\n",
    "\n",
    "    @classmethod\n",
    "    def set_raise(cls, amount):\n",
    "        cls.raise_percent = amount\n",
    "\n",
    "    @classmethod\n",
    "    def from_string(cls, emp_str):\n",
    "        name, last, age, pay = emp_1_str.split(\"-\")\n",
    "        return cls(name, last, int(age), float(pay)) # yeni çalışan oluşturup döndürecek"
   ]
  },
  {
   "cell_type": "code",
   "execution_count": 12,
   "id": "9a0a6b7b-aa43-4d6e-a31e-1e8f33aec610",
   "metadata": {},
   "outputs": [],
   "source": [
    "emp_1_str = \"James-Hughes-32-5000\""
   ]
  },
  {
   "cell_type": "code",
   "execution_count": 13,
   "id": "bd3f1ec5-8099-40f7-a2aa-6aa3389e4afa",
   "metadata": {},
   "outputs": [],
   "source": [
    "emp_2_str = \"Charlie-Brown-22-3000\""
   ]
  },
  {
   "cell_type": "code",
   "execution_count": 14,
   "id": "94151875-88b8-4dd7-badf-6be09e2fe376",
   "metadata": {},
   "outputs": [],
   "source": [
    "emp_1 = Employee.from_string(emp_1_str)"
   ]
  },
  {
   "cell_type": "code",
   "execution_count": 15,
   "id": "3146f2fa-6ce5-4ac3-af1a-efb8e930ffb2",
   "metadata": {},
   "outputs": [
    {
     "data": {
      "text/plain": [
       "5000.0"
      ]
     },
     "execution_count": 15,
     "metadata": {},
     "output_type": "execute_result"
    }
   ],
   "source": [
    "emp_1.pay"
   ]
  },
  {
   "cell_type": "markdown",
   "id": "035cc828-7bcf-4ced-97dc-0a2d15222c76",
   "metadata": {},
   "source": [
    "# Static Method"
   ]
  },
  {
   "cell_type": "markdown",
   "id": "e6e288f8-6f82-43c0-9a5c-dd96ca89fada",
   "metadata": {},
   "source": [
    "* Regular method'lar (ilk gördüklerimiz), classın instance'ını (oluşturulan objeyi), methodlara otomatik olarak argüman veriyordu(self olarak). Class methodları class'ı otomatik olarak argüman olarak veriyor. *Static methodlar otomatik olarak bir şey vermeyen methodlar olacak.*\n",
    "\n",
    "* Instance veya class'a methodun içerisinde erişim olmuyorsa static olarak tanımlamak daha iyi olabilir."
   ]
  },
  {
   "cell_type": "code",
   "execution_count": 17,
   "id": "a34c6657-e2e6-481a-b0ca-7ef4bd4b76a5",
   "metadata": {},
   "outputs": [],
   "source": [
    "class Employee:\n",
    "\n",
    "    raise_percent = 1.05\n",
    "    num_emp = 0\n",
    "\n",
    "    def __init__(self, name, last, age, pay):\n",
    "        self.name = name\n",
    "        self.last = last\n",
    "        self.age = age\n",
    "        self.pay = pay\n",
    "        Employee.num_emp += 1\n",
    "\n",
    "    def apply_raise(self):\n",
    "        self.pay = self.pay * self.raise_percent\n",
    "\n",
    "    @classmethod\n",
    "    def set_raise(cls, amount):\n",
    "        cls.raise_percent = amount\n",
    "\n",
    "    @classmethod\n",
    "    def from_string(cls, emp_str):\n",
    "        name, last, age, pay = emp_1_str.split(\"-\")\n",
    "        return cls(name, last, int(age), float(pay)) # yeni çalışan oluşturup döndürecek\n",
    "\n",
    "    @staticmethod\n",
    "    def holiday_print(day):\n",
    "        if day == \"weekend\":\n",
    "            print(\"This is an off day.\")\n",
    "        else:\n",
    "            print(\"This is not an off day.\")"
   ]
  },
  {
   "cell_type": "code",
   "execution_count": 18,
   "id": "6aa0ff5d-3445-44a7-901c-0d79ec9c0088",
   "metadata": {},
   "outputs": [
    {
     "name": "stdout",
     "output_type": "stream",
     "text": [
      "This is an off day.\n"
     ]
    }
   ],
   "source": [
    "Employee.holiday_print(\"weekend\")"
   ]
  },
  {
   "cell_type": "code",
   "execution_count": 19,
   "id": "dbf4ba90-51ae-41f3-b8c6-62f6f60ccfde",
   "metadata": {},
   "outputs": [],
   "source": [
    "emp_1 = Employee(\"James\", \"Hughes\", \"32\", 5000)"
   ]
  },
  {
   "cell_type": "code",
   "execution_count": 20,
   "id": "c2273621-9ab8-4139-b668-a2880721189e",
   "metadata": {},
   "outputs": [
    {
     "name": "stdout",
     "output_type": "stream",
     "text": [
      "This is not an off day.\n"
     ]
    }
   ],
   "source": [
    "emp_1.holiday_print(\"working day\")"
   ]
  },
  {
   "cell_type": "code",
   "execution_count": null,
   "id": "9fb02aa6-5ff5-4434-b80d-fe4900f17fae",
   "metadata": {},
   "outputs": [],
   "source": []
  }
 ],
 "metadata": {
  "kernelspec": {
   "display_name": "Python 3 (ipykernel)",
   "language": "python",
   "name": "python3"
  },
  "language_info": {
   "codemirror_mode": {
    "name": "ipython",
    "version": 3
   },
   "file_extension": ".py",
   "mimetype": "text/x-python",
   "name": "python",
   "nbconvert_exporter": "python",
   "pygments_lexer": "ipython3",
   "version": "3.11.4"
  }
 },
 "nbformat": 4,
 "nbformat_minor": 5
}
