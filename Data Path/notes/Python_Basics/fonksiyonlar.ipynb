{
 "cells": [
  {
   "cell_type": "markdown",
   "id": "93258197-d1ae-4fc3-aa6f-5b7eee61ddab",
   "metadata": {},
   "source": [
    "# Fonksiyonlar\n",
    "\n",
    "* Çok kod yazmak her zaman iyi bir şey demek değil.\n",
    "\n",
    "\n",
    "* Minimal ve okunabilir olması daha önemli.\n",
    "\n",
    "\n",
    "* Gereksiz kod tekrarından kaçınmak gerekir.\n",
    "\n",
    "\n",
    "* Bu konularda gayet yardımcı olabilecek bir yapıyı göreceğiz bugün. - fonksiyonlar\n",
    "\n",
    "\n",
    "* Belirli Fonksiyonalite katan kod bloklarını belirli bir yapı altında tutup, o işleme ihtiyaç duyduğum zaman tekrar tekrar kullanabilirim. Bu yapı fonksiyonlar\n",
    "\n",
    "\n",
    "* Fonksiyonlar kodumuzda **abstraction (soyutlama)** ve **decomposition (problemi küçük parçalara ayırma) (modülerlik)** yapmamızı sağlar."
   ]
  },
  {
   "cell_type": "markdown",
   "id": "714fcd78-3449-459f-a8a2-0b2a202b3cab",
   "metadata": {},
   "source": [
    "# Abstraction Nedir?\n",
    "\n",
    "Bir araba düşünün:\n",
    "\n",
    "\n",
    "\n",
    "Araba bizi istediğimiz yere götüren bir araçtır.\n",
    "\n",
    "\n",
    "Arabanın hareketini sağlayan arka planda çokça mekanizma var.\n",
    "\n",
    "\n",
    "Motor, yanma vs gibi...\n",
    "\n",
    "\n",
    "Ama aracı kullanırken bunları hiç düşünmüyoruz, sürmemiz için gerekli olan sadece pedallara basmak ve direksiyonu çevirmek.\n",
    "\n",
    "\n",
    "* *abstraction*'nın temel mantığı ayrıntılardansa bütünü düşünmek. Arabayı kullanmak için, arabanın nasıl çalıştığının ayrıntısını bilmeme gerek yok. Tek bilmem gereken direksiyon ve pedallar ile nasıl kontrol edebileceğim.\n",
    "\n",
    "\n",
    "\n",
    "* Bu mantık yanlış anlaşılmasın. Bu \"Kodun bazı kısımlarını yazmakla ilgilenmeyeceğiz.\" anlamına gelmiyor. İstediğimiz komutlar bütününü bir fonksiyon altında toplayıp (bu örnekte tüm o ateşleme, motorun çalışmasını *pedal* fonksiyonu altına topladığınızı düşünün), artık o eylemi yapmak istediğim zaman sadece o fonksiyonu çağırıyorum ve bu fonksiyonun yaptığını kullanarak daha komplike davranışlar tanımlayabiliyorum. Buradaki en önemli nokta, üst üste koyarak inşa ettiğim yapıda yazdığım fonksiyonların ayrıntılarındansa ne yaptıklarını bilip ona göre üzerilerine, onları yapının bir parçası olarak görerek mantık kurmak.\n",
    "\n",
    "\n",
    "\n",
    "**Özet olarak: Fonksiyonun o işi nasıl yaptığıyla ne yaptığını ayırmak ve ne yaptığına odaklanıp onun üzerine mantık kurmak.**"
   ]
  },
  {
   "cell_type": "markdown",
   "id": "358a4d80-8e91-4481-be3f-45294563d202",
   "metadata": {},
   "source": [
    "# Decomposition Nedir?\n",
    "\n",
    "Elimdeki problemi kendi içerisinde anlamlı, daha küçük problemlere bölmektir. Arabanın çalışması arkada yatan bir çok mekanizmayla gerçekleşir. Motorun ateşlenmesi, havanın motora alınması, yakıtın aktarılması vs... Bunların hepsini aslında ayrı ayrı fonksiyonlar olarak düşünebiliriz. Problemi (arabanın hareket etmesini) alt birimlere ayırıp, tanımlayıp, çözüyoruz. Birden çok alt yapı bir arada çalışıp daha büyük bir sistem oluşturuyor.\n",
    "\n",
    "\n",
    "\n",
    "* Kodumuzun farklı yerlerinde kullanılabilecek, beraber bir mantık oluşturacak kodlarımı fonksiyon tanımlayıp içine yazacağım.\n",
    "\n",
    "* Fonksiyonların adı, parametreleri(0 veya daha fazla), açıklaması(opsiyoneli ama iyi bir pratik), ve kodları bulunur.\n",
    "\n",
    "* Sadece adlarını yazınca çağrılmazlar. () ile çağırmamız lazım (function call veya function invocation olarak geçer.)"
   ]
  },
  {
   "cell_type": "code",
   "execution_count": null,
   "id": "1cebb1de-a7bb-4735-b66f-408a73ec13d5",
   "metadata": {},
   "outputs": [],
   "source": []
  }
 ],
 "metadata": {
  "kernelspec": {
   "display_name": "Python 3 (ipykernel)",
   "language": "python",
   "name": "python3"
  },
  "language_info": {
   "codemirror_mode": {
    "name": "ipython",
    "version": 3
   },
   "file_extension": ".py",
   "mimetype": "text/x-python",
   "name": "python",
   "nbconvert_exporter": "python",
   "pygments_lexer": "ipython3",
   "version": "3.11.4"
  }
 },
 "nbformat": 4,
 "nbformat_minor": 5
}
