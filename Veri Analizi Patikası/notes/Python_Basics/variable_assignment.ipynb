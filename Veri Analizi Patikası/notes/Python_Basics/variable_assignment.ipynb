{
 "cells": [
  {
   "cell_type": "markdown",
   "id": "f04367d5-6f1e-4873-af6b-51f24c3647f6",
   "metadata": {},
   "source": [
    "# Variables // Değişken Atama"
   ]
  },
  {
   "cell_type": "markdown",
   "id": "b05979b5-7e69-4d8a-b488-7242a2d9298b",
   "metadata": {},
   "source": [
    "Bazı değerleri bilgisayarın hafızasında tutmak ve daha sonra bunlara verdiğimiz adlarla erişmek isteyebiliriz. Bunu variable'ler ile gerçekleştireceğiz."
   ]
  },
  {
   "cell_type": "markdown",
   "id": "0f5ac132-bc03-4aa4-8aef-61ce942cc832",
   "metadata": {},
   "source": [
    "İlk olarak yapacağımız şey variable'ye vereceğimiz ismi yazmak. Bu isim penguen, uzunluk, maaş gibi istediğiniz bir isim olabilir (burada dikkat edilmesi gereken yer, verilecek ismin daha önceden Python'un default olarak kullanmadığı isimler olması. Mesela if, continue, for gibi keyword'ler daha önceden ayrıldığı için bunları variable ismi olarak kullanamayız)"
   ]
  },
  {
   "cell_type": "markdown",
   "id": "21962ab9-e13f-48da-b1e4-a50f068c2096",
   "metadata": {},
   "source": [
    "Python'un daha önceden kendisine ayırdığı isimler (reserved words):\n",
    "\n",
    "\n",
    "  and       del       from      not       while    \n",
    "  as        elif      global    or        with     \n",
    "  assert    else      if        pass      yield    \n",
    "  break     except    import    print     True         \n",
    "  class     exec      in        raise     False         \n",
    "  continue  finally   is        return             \n",
    "  def       for       lambda    try"
   ]
  },
  {
   "cell_type": "markdown",
   "id": "657ce7e4-7e69-468c-8bb1-01c0b73fcf17",
   "metadata": {},
   "source": [
    "Variable ismini seçtikten sonra bu ismin değerinin ne olacağını söylemeliyiz. Bu aşamadan sonra Python verdiğimiz ismi gördüğünde aslında verdiğimiz değeri çağırıyor olacak.\n",
    "\n",
    "\n",
    "Bu değer atama işlemini = sembolü ile yapacağız. Normalde bildiğimiz anlamından farklı bu = işareti. Eşitliğin sağındaki değeri solda yazdığımızın değeri olarak ata demiş oluyoruz bununla. Bu işleme variable assignment deniyor."
   ]
  },
  {
   "cell_type": "code",
   "execution_count": 1,
   "id": "bc819e48-194a-466d-a489-76619a28c56e",
   "metadata": {},
   "outputs": [],
   "source": [
    "a = 2"
   ]
  },
  {
   "cell_type": "code",
   "execution_count": 2,
   "id": "387acbd9-32d9-4637-a341-527f5aea459e",
   "metadata": {},
   "outputs": [
    {
     "data": {
      "text/plain": [
       "2"
      ]
     },
     "execution_count": 2,
     "metadata": {},
     "output_type": "execute_result"
    }
   ],
   "source": [
    "a"
   ]
  },
  {
   "cell_type": "code",
   "execution_count": 3,
   "id": "bd535021-a2be-423a-b875-7020f925a660",
   "metadata": {},
   "outputs": [
    {
     "data": {
      "text/plain": [
       "7"
      ]
     },
     "execution_count": 3,
     "metadata": {},
     "output_type": "execute_result"
    }
   ],
   "source": [
    "a + 5"
   ]
  },
  {
   "cell_type": "code",
   "execution_count": 4,
   "id": "6bd8dd6a-fc4a-443a-ba74-35f83d2beabb",
   "metadata": {},
   "outputs": [],
   "source": [
    "b = 2+4"
   ]
  },
  {
   "cell_type": "code",
   "execution_count": 5,
   "id": "a2ba2177-4fe2-41c2-b77c-8002417e8377",
   "metadata": {},
   "outputs": [
    {
     "data": {
      "text/plain": [
       "6"
      ]
     },
     "execution_count": 5,
     "metadata": {},
     "output_type": "execute_result"
    }
   ],
   "source": [
    "b"
   ]
  },
  {
   "cell_type": "code",
   "execution_count": 6,
   "id": "e8f09ef3-8bdc-4562-8388-ab24f0b67e4f",
   "metadata": {},
   "outputs": [
    {
     "data": {
      "text/plain": [
       "10"
      ]
     },
     "execution_count": 6,
     "metadata": {},
     "output_type": "execute_result"
    }
   ],
   "source": [
    "b+4"
   ]
  },
  {
   "cell_type": "code",
   "execution_count": 7,
   "id": "7ba934b5-8ffd-4648-af59-74b62d30b3e8",
   "metadata": {},
   "outputs": [],
   "source": [
    "limon_fiyat = 10"
   ]
  },
  {
   "cell_type": "code",
   "execution_count": 8,
   "id": "89e13cbd-8ae3-42ad-829b-2481a7285e84",
   "metadata": {},
   "outputs": [],
   "source": [
    "s1 = limon_fiyat * 100"
   ]
  },
  {
   "cell_type": "code",
   "execution_count": 9,
   "id": "09c4e736-e859-4dcd-84ba-4e29199b3a49",
   "metadata": {},
   "outputs": [],
   "source": [
    "s2 = limon_fiyat * 70"
   ]
  },
  {
   "cell_type": "code",
   "execution_count": 10,
   "id": "20792dc2-9651-4c17-bccf-24b7e42774a6",
   "metadata": {},
   "outputs": [],
   "source": [
    "s3 = limon_fiyat * 30"
   ]
  },
  {
   "cell_type": "code",
   "execution_count": 11,
   "id": "953e0960-b05b-43c7-b6b1-0be38e1c929b",
   "metadata": {},
   "outputs": [
    {
     "name": "stdout",
     "output_type": "stream",
     "text": [
      "1000\n"
     ]
    }
   ],
   "source": [
    "print(s1)"
   ]
  },
  {
   "cell_type": "code",
   "execution_count": 12,
   "id": "d0449d2f-a9e9-4e4d-91b3-cc183a3f1a1d",
   "metadata": {},
   "outputs": [
    {
     "name": "stdout",
     "output_type": "stream",
     "text": [
      "700\n"
     ]
    }
   ],
   "source": [
    "print(s2)"
   ]
  },
  {
   "cell_type": "code",
   "execution_count": 13,
   "id": "41a449b9-e2de-411e-84d4-81b6cd0ece0d",
   "metadata": {},
   "outputs": [
    {
     "name": "stdout",
     "output_type": "stream",
     "text": [
      "300\n"
     ]
    }
   ],
   "source": [
    "print(s3)"
   ]
  },
  {
   "cell_type": "code",
   "execution_count": null,
   "id": "fcf86e6e-6d0a-4119-88c9-7aecadee6aca",
   "metadata": {},
   "outputs": [],
   "source": []
  }
 ],
 "metadata": {
  "kernelspec": {
   "display_name": "Python 3 (ipykernel)",
   "language": "python",
   "name": "python3"
  },
  "language_info": {
   "codemirror_mode": {
    "name": "ipython",
    "version": 3
   },
   "file_extension": ".py",
   "mimetype": "text/x-python",
   "name": "python",
   "nbconvert_exporter": "python",
   "pygments_lexer": "ipython3",
   "version": "3.11.4"
  }
 },
 "nbformat": 4,
 "nbformat_minor": 5
}
