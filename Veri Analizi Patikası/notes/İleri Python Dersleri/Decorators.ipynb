{
 "cells": [
  {
   "cell_type": "markdown",
   "id": "41696650-2005-4459-aafe-828c67421448",
   "metadata": {},
   "source": [
    "# Decorators\n",
    "\n",
    "* Decorater'lar başka fonksiyonları parametre olarak kabul edip yeni bir fonksiyonalite ile yeni bir fonksiyon döndüren yapılardır."
   ]
  },
  {
   "cell_type": "code",
   "execution_count": 2,
   "id": "a87eaf65-8648-41a5-92f8-19b16d2075ae",
   "metadata": {},
   "outputs": [],
   "source": [
    "def print_func():\n",
    "    print(\"hey\")"
   ]
  },
  {
   "cell_type": "code",
   "execution_count": 4,
   "id": "9d42bbec-6d23-4087-bff1-b5e55f50e25a",
   "metadata": {},
   "outputs": [],
   "source": [
    "def decorator_func(func):\n",
    "    def wrapper_func():\n",
    "        return func()\n",
    "\n",
    "    return wrapper_func   #obje olarak döndürüyor"
   ]
  },
  {
   "cell_type": "code",
   "execution_count": 5,
   "id": "fc4ddf9d-36ac-4810-92a2-2ecc7aee96fb",
   "metadata": {},
   "outputs": [],
   "source": [
    "decorated_print = decorator_func(print_func)"
   ]
  },
  {
   "cell_type": "code",
   "execution_count": 6,
   "id": "55d15a93-7ade-4b45-bfed-e20d00d8d9f9",
   "metadata": {},
   "outputs": [
    {
     "name": "stdout",
     "output_type": "stream",
     "text": [
      "hey\n"
     ]
    }
   ],
   "source": [
    "decorated_print()"
   ]
  },
  {
   "cell_type": "markdown",
   "id": "451a5d90-a9c5-4e8d-84e4-ecef357800f8",
   "metadata": {},
   "source": [
    "* Var olan fonksiyona fonksiyonu değiştirmeden yeni bir davranış kazandıracağız."
   ]
  },
  {
   "cell_type": "code",
   "execution_count": 18,
   "id": "7d719122-7acb-4146-977e-1ff07f57f4c7",
   "metadata": {},
   "outputs": [],
   "source": [
    "def decorator_func(func):\n",
    "    def wrapped_func():\n",
    "        print(f\"the name of the function is {func.__name__}\")\n",
    "        return func()\n",
    "    return wrapped_func  #çalışacak şey her zaman wrapped_func bunu unutma"
   ]
  },
  {
   "cell_type": "code",
   "execution_count": 14,
   "id": "6c322644-944e-4809-9c37-b9864dbf7490",
   "metadata": {},
   "outputs": [],
   "source": [
    "decorated_print = decorator_func(print_func)"
   ]
  },
  {
   "cell_type": "code",
   "execution_count": 15,
   "id": "84e34697-fa10-457f-b47a-63d427be0214",
   "metadata": {},
   "outputs": [
    {
     "name": "stdout",
     "output_type": "stream",
     "text": [
      "the name of the function is print_func\n",
      "hey\n"
     ]
    }
   ],
   "source": [
    "decorated_print()"
   ]
  },
  {
   "cell_type": "raw",
   "id": "181d85f6-4706-4988-932a-956a92a7b6d8",
   "metadata": {},
   "source": [
    " Aynı şeyi şu şekilde de yapabilirdik:"
   ]
  },
  {
   "cell_type": "code",
   "execution_count": 16,
   "id": "5096916a-d365-4999-a6a8-98a24a58a560",
   "metadata": {},
   "outputs": [],
   "source": [
    "# şununla aynı: print_func = decorator_func(print_func)\n",
    "@decorator_func\n",
    "def print_func():\n",
    "    print(\"hey\")"
   ]
  },
  {
   "cell_type": "raw",
   "id": "6f1f5448-8ddc-4a99-b659-d5e709890560",
   "metadata": {},
   "source": [
    "@func yapınca aslında fonksiyonumuzu func'a input olarak veriyoruz"
   ]
  },
  {
   "cell_type": "code",
   "execution_count": 17,
   "id": "60dfa844-0e81-4bcc-9551-5cddbb137cc4",
   "metadata": {},
   "outputs": [
    {
     "name": "stdout",
     "output_type": "stream",
     "text": [
      "the name of the function is print_func\n",
      "hey\n"
     ]
    }
   ],
   "source": [
    "print_func()"
   ]
  },
  {
   "cell_type": "code",
   "execution_count": 19,
   "id": "7759e123-738e-4477-bcba-20f15aaeefab",
   "metadata": {},
   "outputs": [],
   "source": [
    "def func(name, number):\n",
    "    print(f\"Name: {name}, number: {number}\")"
   ]
  },
  {
   "cell_type": "code",
   "execution_count": 20,
   "id": "a272810d-df0d-4f3f-a9d6-ac218be4c60c",
   "metadata": {},
   "outputs": [
    {
     "name": "stdout",
     "output_type": "stream",
     "text": [
      "Name: Jack, number: 101\n"
     ]
    }
   ],
   "source": [
    "func(\"Jack\", 101)"
   ]
  },
  {
   "cell_type": "code",
   "execution_count": 21,
   "id": "3fafafc6-b401-4690-b343-14fd237ad97f",
   "metadata": {},
   "outputs": [],
   "source": [
    "def decaorator_func(func):\n",
    "    def wrapped_func():\n",
    "        print(f\"the name of the function is {func.__name__}\")\n",
    "        return func(*args)\n",
    "\n",
    "    return wrapped_func"
   ]
  },
  {
   "cell_type": "code",
   "execution_count": 22,
   "id": "1e737739-2900-45fc-b04b-85b3fc9c1165",
   "metadata": {},
   "outputs": [],
   "source": [
    "@decorator_func #func = decorator_func(func)\n",
    "def func(name, number):\n",
    "    print(f\"Name: {name}, Number: {number}\")"
   ]
  },
  {
   "cell_type": "code",
   "execution_count": 23,
   "id": "dec76bb9-aa2f-45ff-a5ee-c77074fc9841",
   "metadata": {},
   "outputs": [
    {
     "ename": "TypeError",
     "evalue": "decorator_func.<locals>.wrapped_func() takes 0 positional arguments but 2 were given",
     "output_type": "error",
     "traceback": [
      "\u001b[0;31m---------------------------------------------------------------------------\u001b[0m",
      "\u001b[0;31mTypeError\u001b[0m                                 Traceback (most recent call last)",
      "Cell \u001b[0;32mIn[23], line 2\u001b[0m\n\u001b[1;32m      1\u001b[0m \u001b[38;5;66;03m#wrapper a argüman olarak verir bunları\u001b[39;00m\n\u001b[0;32m----> 2\u001b[0m \u001b[43mfunc\u001b[49m\u001b[43m(\u001b[49m\u001b[38;5;124;43m\"\u001b[39;49m\u001b[38;5;124;43mJack\u001b[39;49m\u001b[38;5;124;43m\"\u001b[39;49m\u001b[43m,\u001b[49m\u001b[43m \u001b[49m\u001b[38;5;241;43m102\u001b[39;49m\u001b[43m)\u001b[49m\n",
      "\u001b[0;31mTypeError\u001b[0m: decorator_func.<locals>.wrapped_func() takes 0 positional arguments but 2 were given"
     ]
    }
   ],
   "source": [
    "#wrapper a argüman olarak verir bunları\n",
    "func(\"Jack\", 102)"
   ]
  },
  {
   "cell_type": "code",
   "execution_count": 27,
   "id": "b40967ed-92b9-4efd-83a8-c64f5bbb65b6",
   "metadata": {},
   "outputs": [],
   "source": [
    "def decorator_func(func):\n",
    "    def wrapped_func(*args):\n",
    "        print(f\"the name of the function is {func.__name__}\")\n",
    "        return func(*args)\n",
    "\n",
    "    return wrapped_func"
   ]
  },
  {
   "cell_type": "code",
   "execution_count": 28,
   "id": "bcadae72-84a2-427e-812a-5726d18288bd",
   "metadata": {},
   "outputs": [],
   "source": [
    "@decorator_func\n",
    "def func(name, number):\n",
    "    print(f\"Name: {name}, Number: {number}\")"
   ]
  },
  {
   "cell_type": "code",
   "execution_count": 29,
   "id": "b936ed82-a372-4c6e-a3ac-a2ae58704f7f",
   "metadata": {},
   "outputs": [
    {
     "name": "stdout",
     "output_type": "stream",
     "text": [
      "the name of the function is func\n",
      "Name: Jack, Number: 102\n"
     ]
    }
   ],
   "source": [
    "func(\"Jack\", 102)"
   ]
  },
  {
   "cell_type": "raw",
   "id": "e86be2f8-0511-4525-9538-25a64ae03243",
   "metadata": {},
   "source": [
    "Genel Decorator mantığı\n",
    "Belli bir fonksiyonumu içerisine input olarak verip, fonksiyonu modifiye etmeden, orijinal halini değiştirmeden, ona fonksiyonaliteler katmamı sağlıyor."
   ]
  },
  {
   "cell_type": "code",
   "execution_count": null,
   "id": "72f9bb4d-32f9-49aa-861b-68d62e24bbe2",
   "metadata": {},
   "outputs": [],
   "source": []
  }
 ],
 "metadata": {
  "kernelspec": {
   "display_name": "Python 3 (ipykernel)",
   "language": "python",
   "name": "python3"
  },
  "language_info": {
   "codemirror_mode": {
    "name": "ipython",
    "version": 3
   },
   "file_extension": ".py",
   "mimetype": "text/x-python",
   "name": "python",
   "nbconvert_exporter": "python",
   "pygments_lexer": "ipython3",
   "version": "3.11.4"
  }
 },
 "nbformat": 4,
 "nbformat_minor": 5
}
