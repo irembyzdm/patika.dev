{
 "cells": [
  {
   "cell_type": "code",
   "execution_count": 1,
   "id": "1c53cd3c-b52c-4ae7-a080-0b01c34c0216",
   "metadata": {},
   "outputs": [],
   "source": [
    "import numpy as np"
   ]
  },
  {
   "cell_type": "markdown",
   "id": "db5cb17d-e522-4095-93fb-38040fdf6d50",
   "metadata": {},
   "source": [
    "# Normal Distribution'dan Çekilmiş Değerler İle Array Oluşturmak"
   ]
  },
  {
   "cell_type": "markdown",
   "id": "adf4a9c9-adff-460e-871d-28c75b752b1e",
   "metadata": {},
   "source": [
    "* (mean, std, array size)   ((mean->ortalama, std->standart sapma, arraysize->boyutu))"
   ]
  },
  {
   "cell_type": "code",
   "execution_count": 2,
   "id": "6768ccce-5721-4615-bc34-0ea3e95e169e",
   "metadata": {},
   "outputs": [
    {
     "data": {
      "text/plain": [
       "array([[-0.81233338, -1.76076605,  0.07060115,  0.28842932, -1.2993042 ],\n",
       "       [ 0.03963054, -0.09562634, -0.73266551,  0.35633386,  0.25755967],\n",
       "       [ 1.34803451,  0.76382809,  0.64965191,  1.20505967,  1.4148408 ],\n",
       "       [ 1.17012726, -0.24506832, -0.75287926,  0.37128256,  0.40337004]])"
      ]
     },
     "execution_count": 2,
     "metadata": {},
     "output_type": "execute_result"
    }
   ],
   "source": [
    "np.random.normal(0, 1, (4,5))"
   ]
  },
  {
   "cell_type": "code",
   "execution_count": 3,
   "id": "4843d239-3903-4202-b2d8-357cf4e64b84",
   "metadata": {},
   "outputs": [
    {
     "data": {
      "text/plain": [
       "array([[  44.51964402,   27.38199042,  -33.89258957,   62.14657167,\n",
       "         115.10482252],\n",
       "       [  16.16294689,  -29.42454623, -167.91967343,   48.67571077,\n",
       "          18.80417928],\n",
       "       [-111.44331312, -108.02035507,  -53.27119247,  -67.21825918,\n",
       "          51.65915241],\n",
       "       [-143.71839076,  -43.15677544,  -37.83809304,  -36.74924422,\n",
       "         -81.05709594]])"
      ]
     },
     "execution_count": 3,
     "metadata": {},
     "output_type": "execute_result"
    }
   ],
   "source": [
    "np.random.normal(0, 100, (4,5))"
   ]
  },
  {
   "cell_type": "code",
   "execution_count": 4,
   "id": "8abbf271-2e19-4123-8eec-4172835df4e9",
   "metadata": {},
   "outputs": [
    {
     "data": {
      "text/plain": [
       "array([[-73.84815639,  44.70056383, -85.34569316,  66.02653941,\n",
       "        156.84353532],\n",
       "       [172.26056047, 101.08152953,  31.96676309,   8.0879912 ,\n",
       "         64.98721923],\n",
       "       [166.40838293,  -8.06729445, 135.15494606,   2.22653039,\n",
       "        114.94027013],\n",
       "       [ 15.38069018, -21.63871674, -96.33187974, -52.24166363,\n",
       "        122.39234881]])"
      ]
     },
     "execution_count": 4,
     "metadata": {},
     "output_type": "execute_result"
    }
   ],
   "source": [
    "np.random.normal(10, 100, (4,5))"
   ]
  },
  {
   "cell_type": "code",
   "execution_count": 5,
   "id": "355f9154-9e9d-47c5-971c-0f2faa0be03a",
   "metadata": {},
   "outputs": [
    {
     "data": {
      "text/plain": [
       "array([[10.39756363,  9.13954397,  8.96038712, 10.42827479,  9.95777099],\n",
       "       [ 9.21415986,  8.43130195,  9.52925386,  9.16848982,  8.4284713 ],\n",
       "       [ 9.24294623, 10.61012245, 10.56034089, 10.38509001, 10.32602284],\n",
       "       [ 8.2617816 , 11.15364532, 11.62768871,  9.85696504,  9.37862586]])"
      ]
     },
     "execution_count": 5,
     "metadata": {},
     "output_type": "execute_result"
    }
   ],
   "source": [
    "np.random.normal(10, 1, (4,5))"
   ]
  },
  {
   "cell_type": "code",
   "execution_count": null,
   "id": "afcef1c7-91c7-4812-928e-c737514642b7",
   "metadata": {},
   "outputs": [],
   "source": []
  }
 ],
 "metadata": {
  "kernelspec": {
   "display_name": "Python 3 (ipykernel)",
   "language": "python",
   "name": "python3"
  },
  "language_info": {
   "codemirror_mode": {
    "name": "ipython",
    "version": 3
   },
   "file_extension": ".py",
   "mimetype": "text/x-python",
   "name": "python",
   "nbconvert_exporter": "python",
   "pygments_lexer": "ipython3",
   "version": "3.11.4"
  }
 },
 "nbformat": 4,
 "nbformat_minor": 5
}
