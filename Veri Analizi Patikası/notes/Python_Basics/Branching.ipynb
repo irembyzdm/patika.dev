{
 "cells": [
  {
   "cell_type": "markdown",
   "id": "eeb52976-5af1-4630-ac11-1246f212a16d",
   "metadata": {},
   "source": [
    "# Programı Dallandırma (Branching)"
   ]
  },
  {
   "cell_type": "markdown",
   "id": "af2e322b-8900-4228-a34b-d537c10f392e",
   "metadata": {},
   "source": [
    "İfadelerin değerlerinin True veya False olduklarını veren karşılaştırmalara ve mantıksal operatörlere baktık.\n",
    "\n",
    "Şimdi bunların sonuçlarına göre programımızı dallandırmaya bakacağız."
   ]
  },
  {
   "cell_type": "markdown",
   "id": "54f2c750-0126-4a3d-9c07-727210bb3527",
   "metadata": {},
   "source": [
    "# if"
   ]
  },
  {
   "cell_type": "markdown",
   "id": "820aa077-f42e-437f-98ee-7de0c8c9d1ff",
   "metadata": {},
   "source": [
    "Eğer testimin değeri True ise if bloğunun içinde yazanı yapacak.\n",
    "\n",
    "Yapılacakların if bloğuna ait olduğunu anlatmak için kodu if in içine yazarız. Python'ın o bloğun içinde olduğumuzu anlaması için boşluk bırakmamız gerekir."
   ]
  },
  {
   "cell_type": "markdown",
   "id": "a55f8111-8cc7-4aac-850d-11d07e770a2d",
   "metadata": {},
   "source": [
    "x = int(input(\"Bir sayı giriniz:\"))\n",
    "\n",
    "if x % 2 == 0:\n",
    "    print(\"Sayınız çift sayıdır.\")\n",
    "\n",
    "print(\"Programınız sona ulaştı.\")"
   ]
  },
  {
   "cell_type": "markdown",
   "id": "8c32636d-d703-4b8f-ab13-16df59bec312",
   "metadata": {},
   "source": [
    "# else"
   ]
  },
  {
   "cell_type": "markdown",
   "id": "f885896b-2beb-4dbc-adae-a012ecc9ec7f",
   "metadata": {},
   "source": [
    "if ile kontrolümüz (veya elseif-elif) False sonucu döndürülürse yapılacak blok:"
   ]
  },
  {
   "cell_type": "code",
   "execution_count": 3,
   "id": "d92dc825-4f68-4e45-9f62-a0eb81fc298d",
   "metadata": {},
   "outputs": [
    {
     "name": "stdin",
     "output_type": "stream",
     "text": [
      "Bir sayı giriniz: 5\n"
     ]
    },
    {
     "name": "stdout",
     "output_type": "stream",
     "text": [
      "Sayınız tek sayıdır.\n",
      "Programınız sona ulaştı.\n"
     ]
    }
   ],
   "source": [
    "x = int(input(\"Bir sayı giriniz:\"))\n",
    "\n",
    "if x % 2 == 0:\n",
    "    print(\"Sayınız çift sayıdır.\")\n",
    "else:\n",
    "    print(\"Sayınız tek sayıdır.\")\n",
    "\n",
    "print(\"Programınız sona ulaştı.\")"
   ]
  },
  {
   "cell_type": "markdown",
   "id": "8556d0ab-1bdb-4c5d-900b-8d5fcb8f12e4",
   "metadata": {},
   "source": [
    "# elif"
   ]
  },
  {
   "cell_type": "markdown",
   "id": "4f9d8ae9-b212-44c7-8650-8591b31b54dc",
   "metadata": {},
   "source": [
    "elif, if ile yaptığımız teste ek olarak başka testlerde yapmak istiyorsak kullanılır."
   ]
  },
  {
   "cell_type": "code",
   "execution_count": 8,
   "id": "013cbf4a-64cd-4d35-874e-0b0893a4e49b",
   "metadata": {},
   "outputs": [
    {
     "name": "stdin",
     "output_type": "stream",
     "text": [
      "Bir sayı giriniz: 2\n"
     ]
    },
    {
     "name": "stdout",
     "output_type": "stream",
     "text": [
      "Sayı 10'dan küçük\n",
      "Programınız sona ulaştı.\n"
     ]
    }
   ],
   "source": [
    "x = int(input(\"Bir sayı giriniz:\"))\n",
    "if x < 10:\n",
    "    print(\"Sayı 10'dan küçük\")\n",
    "\n",
    "elif x == 10:\n",
    "    print(\"Sayı 10'a eşit\")\n",
    "\n",
    "else:\n",
    "    print(\"Sayı 10'dan büyük\")\n",
    "print(\"Programınız sona ulaştı.\")"
   ]
  },
  {
   "cell_type": "markdown",
   "id": "2926f9b6-ef86-4ade-a96f-cf5b60d078b8",
   "metadata": {},
   "source": [
    "x = int(input(\"0 ile 100 arasında bir sayı girin: \"))\n",
    "\n",
    "if x == 100:\n",
    "    print(\"Girdiğiniz sayı 100\")\n",
    "elif x >= 90:\n",
    "    print(\"Girdiğiniz sayı 90 ile 100 arasında\")\n",
    "elif x >= 80:\n",
    "    print(\"Girdiğiniz sayı 80 ile 90 arasında\")\n",
    "\n",
    "else:\n",
    "    print(\"Girdiğiniz sayı 80'den küçük\")\n",
    "\n",
    "print(\"Programınız sona ulaştı.\")"
   ]
  },
  {
   "cell_type": "markdown",
   "id": "34e105d5-bc8c-41da-8f26-930b530e85b1",
   "metadata": {},
   "source": [
    "# Nested if"
   ]
  },
  {
   "cell_type": "markdown",
   "id": "d55af57b-c750-4eff-9878-83e68962b197",
   "metadata": {},
   "source": [
    "if, elif ve else bloğunun içine yazdığımız kod normal koddan farklı değil, o yüzden bunların içine de ayrıca if, elif ve else yazabiliriz."
   ]
  },
  {
   "cell_type": "code",
   "execution_count": 13,
   "id": "769ff767-5b66-450a-8336-61a9068eb509",
   "metadata": {},
   "outputs": [
    {
     "name": "stdin",
     "output_type": "stream",
     "text": [
      "Bir sayı girin:  44\n"
     ]
    },
    {
     "name": "stdout",
     "output_type": "stream",
     "text": [
      "3'e bölünmüyor\n",
      "Programınız sona ulaştı\n"
     ]
    }
   ],
   "source": [
    "x = int(input(\"Bir sayı girin: \"))\n",
    "\n",
    "if x % 3 == 0:\n",
    "    if x % 2 == 0:\n",
    "        print(\"Sayı hem 2'ye hem de 3'e bölünüyor\")\n",
    "    else:\n",
    "        print(\"Sayı 3'e bölünüyor ama 2'ye bölünmüyor\")\n",
    "\n",
    "else:    \n",
    "    print(\"3'e bölünmüyor\")\n",
    "    \n",
    "print(\"Programınız sona ulaştı\")"
   ]
  },
  {
   "cell_type": "markdown",
   "id": "a3d2fb46-f4df-463d-8ed2-5b16d191d094",
   "metadata": {},
   "source": [
    "# Test Olarak Mantıksal Operatörleri Kullanmak"
   ]
  },
  {
   "cell_type": "code",
   "execution_count": 15,
   "id": "ecd1dcbe-869c-4f4d-b9be-84526880d42d",
   "metadata": {},
   "outputs": [
    {
     "name": "stdin",
     "output_type": "stream",
     "text": [
      "Bir sayı girin:  24\n"
     ]
    },
    {
     "name": "stdout",
     "output_type": "stream",
     "text": [
      "Sayı hem 2'ye hem de 3'e bölünüyor\n",
      "Programınız sona ulaştı.\n"
     ]
    }
   ],
   "source": [
    "x = int(input(\"Bir sayı girin: \"))\n",
    "\n",
    "if (x % 3 == 0) and (x % 2 == 0):\n",
    "    print(\"Sayı hem 2'ye hem de 3'e bölünüyor\")\n",
    "print(\"Programınız sona ulaştı.\")"
   ]
  },
  {
   "cell_type": "code",
   "execution_count": 16,
   "id": "8c681541-0504-4eba-a9ed-7b4c929fbc33",
   "metadata": {},
   "outputs": [
    {
     "name": "stdin",
     "output_type": "stream",
     "text": [
      "Bir sayı girin:  9\n"
     ]
    },
    {
     "name": "stdout",
     "output_type": "stream",
     "text": [
      "Sayı 2 veya 3'den en az birine bölünüyor\n",
      "Programınız sona ulaştı\n"
     ]
    }
   ],
   "source": [
    "x = int(input(\"Bir sayı girin: \"))\n",
    "\n",
    "if (x % 3 == 0) or (x % 2 == 0):\n",
    "    print(\"Sayı 2 veya 3'den en az birine bölünüyor\")\n",
    "    \n",
    "print(\"Programınız sona ulaştı\")"
   ]
  },
  {
   "cell_type": "code",
   "execution_count": null,
   "id": "28e3e8ed-77b0-4d36-a863-2815f9dd694f",
   "metadata": {},
   "outputs": [],
   "source": []
  }
 ],
 "metadata": {
  "kernelspec": {
   "display_name": "Python 3 (ipykernel)",
   "language": "python",
   "name": "python3"
  },
  "language_info": {
   "codemirror_mode": {
    "name": "ipython",
    "version": 3
   },
   "file_extension": ".py",
   "mimetype": "text/x-python",
   "name": "python",
   "nbconvert_exporter": "python",
   "pygments_lexer": "ipython3",
   "version": "3.11.4"
  }
 },
 "nbformat": 4,
 "nbformat_minor": 5
}
