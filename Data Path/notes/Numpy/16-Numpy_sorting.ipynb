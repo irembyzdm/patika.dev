{
 "cells": [
  {
   "cell_type": "code",
   "execution_count": 1,
   "id": "7ea719dd-6a85-4db2-ae34-72a475c175af",
   "metadata": {},
   "outputs": [],
   "source": [
    "import numpy as np"
   ]
  },
  {
   "cell_type": "markdown",
   "id": "618da1a4-9fff-4f8a-a4de-5f6bc7d84838",
   "metadata": {},
   "source": [
    "# Sorting"
   ]
  },
  {
   "cell_type": "code",
   "execution_count": 2,
   "id": "415f3bf0-47ff-4ce5-bbb0-8bb50ee73103",
   "metadata": {},
   "outputs": [],
   "source": [
    "a = np.array([20, 32, 5, 30, 10])"
   ]
  },
  {
   "cell_type": "code",
   "execution_count": 3,
   "id": "c483f533-d949-46d7-9e68-8f021774e1cb",
   "metadata": {},
   "outputs": [
    {
     "data": {
      "text/plain": [
       "array([20, 32,  5, 30, 10])"
      ]
     },
     "execution_count": 3,
     "metadata": {},
     "output_type": "execute_result"
    }
   ],
   "source": [
    "a"
   ]
  },
  {
   "cell_type": "code",
   "execution_count": 4,
   "id": "fe4a64a8-653c-4493-81d3-edbb7db48471",
   "metadata": {},
   "outputs": [
    {
     "data": {
      "text/plain": [
       "array([ 5, 10, 20, 30, 32])"
      ]
     },
     "execution_count": 4,
     "metadata": {},
     "output_type": "execute_result"
    }
   ],
   "source": [
    "np.sort(a)"
   ]
  },
  {
   "cell_type": "code",
   "execution_count": 5,
   "id": "60fbeb0e-03e2-40ba-b29e-f8bf6f43d858",
   "metadata": {},
   "outputs": [
    {
     "data": {
      "text/plain": [
       "array([20, 32,  5, 30, 10])"
      ]
     },
     "execution_count": 5,
     "metadata": {},
     "output_type": "execute_result"
    }
   ],
   "source": [
    "a"
   ]
  },
  {
   "cell_type": "code",
   "execution_count": 6,
   "id": "cbbadedd-ed07-4eb2-bf4c-984800898268",
   "metadata": {},
   "outputs": [],
   "source": [
    "# a yı günceller\n",
    "a.sort()  # inplace(a = np.sort(a) ile aynı)"
   ]
  },
  {
   "cell_type": "code",
   "execution_count": 7,
   "id": "52939852-e4d8-4df2-ad11-8a11505c6e65",
   "metadata": {},
   "outputs": [
    {
     "data": {
      "text/plain": [
       "array([ 5, 10, 20, 30, 32])"
      ]
     },
     "execution_count": 7,
     "metadata": {},
     "output_type": "execute_result"
    }
   ],
   "source": [
    "a"
   ]
  },
  {
   "cell_type": "markdown",
   "id": "170ad05f-b071-4225-b66c-744cfbecddaf",
   "metadata": {},
   "source": [
    "# argsort"
   ]
  },
  {
   "cell_type": "code",
   "execution_count": 9,
   "id": "c9ae2dd5-c7cc-4088-8f08-135e41302e10",
   "metadata": {},
   "outputs": [],
   "source": [
    "a = np.array([3,1,6,5,4,2])"
   ]
  },
  {
   "cell_type": "code",
   "execution_count": 10,
   "id": "b067e8b5-e7b2-45d8-be8a-d677d1f6892d",
   "metadata": {},
   "outputs": [],
   "source": [
    "# küçükten büyüğe sıralanmış elemanları indexlerini döndürür\n",
    "idxs = np.argsort(a)"
   ]
  },
  {
   "cell_type": "code",
   "execution_count": 11,
   "id": "6077b927-a318-464a-8567-de196a2cfb63",
   "metadata": {},
   "outputs": [
    {
     "data": {
      "text/plain": [
       "array([1, 5, 0, 4, 3, 2])"
      ]
     },
     "execution_count": 11,
     "metadata": {},
     "output_type": "execute_result"
    }
   ],
   "source": [
    "idxs"
   ]
  },
  {
   "cell_type": "code",
   "execution_count": null,
   "id": "93d60478-239c-431f-a070-8db494101b87",
   "metadata": {},
   "outputs": [],
   "source": []
  }
 ],
 "metadata": {
  "kernelspec": {
   "display_name": "Python 3 (ipykernel)",
   "language": "python",
   "name": "python3"
  },
  "language_info": {
   "codemirror_mode": {
    "name": "ipython",
    "version": 3
   },
   "file_extension": ".py",
   "mimetype": "text/x-python",
   "name": "python",
   "nbconvert_exporter": "python",
   "pygments_lexer": "ipython3",
   "version": "3.11.4"
  }
 },
 "nbformat": 4,
 "nbformat_minor": 5
}
