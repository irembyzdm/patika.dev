{
 "cells": [
  {
   "cell_type": "markdown",
   "id": "1a7e756d-ab8e-4c24-a9c6-7cda6d3e38eb",
   "metadata": {},
   "source": [
    "# Argümanların Değerlerinin Güncellenip Güncellenmediği Durumlar\n"
   ]
  },
  {
   "cell_type": "markdown",
   "id": "21f08db8-2f68-4d9a-9828-bf5a52e9f9dd",
   "metadata": {},
   "source": [
    "# Integer ve Float Değerlerin Değişmez"
   ]
  },
  {
   "cell_type": "code",
   "execution_count": 1,
   "id": "a9200025-7f6d-4b35-851c-9064ad4fd144",
   "metadata": {},
   "outputs": [],
   "source": [
    "a = 2"
   ]
  },
  {
   "cell_type": "code",
   "execution_count": 2,
   "id": "be93a475-5262-482d-ae0d-f1e43a4b27b0",
   "metadata": {},
   "outputs": [],
   "source": [
    "def f(x):\n",
    "    x = 4\n",
    "    return x"
   ]
  },
  {
   "cell_type": "code",
   "execution_count": 3,
   "id": "99501668-2268-4152-a6b2-37d336a90c7d",
   "metadata": {},
   "outputs": [
    {
     "data": {
      "text/plain": [
       "4"
      ]
     },
     "execution_count": 3,
     "metadata": {},
     "output_type": "execute_result"
    }
   ],
   "source": [
    "f(a)"
   ]
  },
  {
   "cell_type": "code",
   "execution_count": 4,
   "id": "e59fdb62-2145-423e-9a51-014a5c0e453a",
   "metadata": {},
   "outputs": [
    {
     "data": {
      "text/plain": [
       "2"
      ]
     },
     "execution_count": 4,
     "metadata": {},
     "output_type": "execute_result"
    }
   ],
   "source": [
    "a"
   ]
  },
  {
   "cell_type": "code",
   "execution_count": 5,
   "id": "09f12a59-bc0f-43bf-a8f3-4af34746e274",
   "metadata": {},
   "outputs": [],
   "source": [
    "b = 3.4"
   ]
  },
  {
   "cell_type": "code",
   "execution_count": 6,
   "id": "66a0f610-1079-43bb-99c8-125de4a73afe",
   "metadata": {},
   "outputs": [
    {
     "data": {
      "text/plain": [
       "4"
      ]
     },
     "execution_count": 6,
     "metadata": {},
     "output_type": "execute_result"
    }
   ],
   "source": [
    "f(b)"
   ]
  },
  {
   "cell_type": "code",
   "execution_count": 7,
   "id": "28a5b3de-ff25-413d-a134-36592d3cba2e",
   "metadata": {},
   "outputs": [
    {
     "data": {
      "text/plain": [
       "3.4"
      ]
     },
     "execution_count": 7,
     "metadata": {},
     "output_type": "execute_result"
    }
   ],
   "source": [
    "b"
   ]
  },
  {
   "cell_type": "markdown",
   "id": "a0814022-36cf-4930-b7e1-767bd6023285",
   "metadata": {},
   "source": [
    "# listler"
   ]
  },
  {
   "cell_type": "code",
   "execution_count": 8,
   "id": "9ad26d55-063c-4895-91b9-ced44fc4f2a4",
   "metadata": {},
   "outputs": [],
   "source": [
    "l = [1,2,3]"
   ]
  },
  {
   "cell_type": "code",
   "execution_count": 9,
   "id": "d1c8e3cb-2cdb-4c03-95bd-a49693256a3f",
   "metadata": {},
   "outputs": [],
   "source": [
    "l2 = l.copy()"
   ]
  },
  {
   "cell_type": "code",
   "execution_count": 10,
   "id": "75a06504-f88e-4a93-a8bc-4d24bc85ee94",
   "metadata": {},
   "outputs": [
    {
     "data": {
      "text/plain": [
       "[1, 2, 3]"
      ]
     },
     "execution_count": 10,
     "metadata": {},
     "output_type": "execute_result"
    }
   ],
   "source": [
    "l2"
   ]
  },
  {
   "cell_type": "code",
   "execution_count": 11,
   "id": "3e5d429d-b7a6-4af0-b2f6-514f0a8654e9",
   "metadata": {},
   "outputs": [
    {
     "data": {
      "text/plain": [
       "[1, 2, 3]"
      ]
     },
     "execution_count": 11,
     "metadata": {},
     "output_type": "execute_result"
    }
   ],
   "source": [
    "l"
   ]
  },
  {
   "cell_type": "code",
   "execution_count": 12,
   "id": "5f103717-cacc-4947-a5d2-6b76e2a70753",
   "metadata": {},
   "outputs": [],
   "source": [
    "l2[0] = 10"
   ]
  },
  {
   "cell_type": "code",
   "execution_count": 13,
   "id": "6aae88e2-5330-4656-9a18-0d32715f1f12",
   "metadata": {},
   "outputs": [
    {
     "data": {
      "text/plain": [
       "[10, 2, 3]"
      ]
     },
     "execution_count": 13,
     "metadata": {},
     "output_type": "execute_result"
    }
   ],
   "source": [
    "l2"
   ]
  },
  {
   "cell_type": "code",
   "execution_count": 14,
   "id": "94765d15-ccf8-41c6-b672-d241c01e6ea4",
   "metadata": {},
   "outputs": [
    {
     "data": {
      "text/plain": [
       "[1, 2, 3]"
      ]
     },
     "execution_count": 14,
     "metadata": {},
     "output_type": "execute_result"
    }
   ],
   "source": [
    "l"
   ]
  },
  {
   "cell_type": "code",
   "execution_count": 15,
   "id": "61343f5e-1b02-46ad-a69e-5be1ee32c1ef",
   "metadata": {},
   "outputs": [],
   "source": [
    "def f(l):\n",
    "    l[0] = \"a\"\n",
    "    return l"
   ]
  },
  {
   "cell_type": "code",
   "execution_count": 16,
   "id": "b295ff3c-bb8b-4579-bd81-e3f704d70143",
   "metadata": {},
   "outputs": [
    {
     "data": {
      "text/plain": [
       "['a', 2, 3]"
      ]
     },
     "execution_count": 16,
     "metadata": {},
     "output_type": "execute_result"
    }
   ],
   "source": [
    "f(l)"
   ]
  },
  {
   "cell_type": "code",
   "execution_count": 17,
   "id": "e6faf6e6-384e-4c39-9802-6cc51f392941",
   "metadata": {},
   "outputs": [],
   "source": [
    "l = [1,2,3]"
   ]
  },
  {
   "cell_type": "code",
   "execution_count": 20,
   "id": "1dcfc082-46b5-4d26-b4e1-333f591f2d33",
   "metadata": {},
   "outputs": [],
   "source": [
    "def f(x):\n",
    "    x[0] = 2\n",
    "    return x"
   ]
  },
  {
   "cell_type": "code",
   "execution_count": 21,
   "id": "3b363f38-f1b1-459c-bea6-57d8fd05397a",
   "metadata": {},
   "outputs": [
    {
     "data": {
      "text/plain": [
       "[2, 2, 3]"
      ]
     },
     "execution_count": 21,
     "metadata": {},
     "output_type": "execute_result"
    }
   ],
   "source": [
    "f(l)"
   ]
  },
  {
   "cell_type": "code",
   "execution_count": 22,
   "id": "140031e5-f4b7-4686-810d-b0cb0bda7a05",
   "metadata": {},
   "outputs": [
    {
     "data": {
      "text/plain": [
       "[2, 2, 3]"
      ]
     },
     "execution_count": 22,
     "metadata": {},
     "output_type": "execute_result"
    }
   ],
   "source": [
    "l"
   ]
  },
  {
   "cell_type": "code",
   "execution_count": 23,
   "id": "c4fd3d4f-26a3-4c74-89de-794045806c8a",
   "metadata": {},
   "outputs": [],
   "source": [
    "l = [1,2,3]"
   ]
  },
  {
   "cell_type": "code",
   "execution_count": 24,
   "id": "b5085a0d-eff1-48a4-abfd-3a10a0ac135f",
   "metadata": {},
   "outputs": [],
   "source": [
    "def f(x):\n",
    "\n",
    "    l2 = l.copy()\n",
    "    l2[0] = 2\n",
    "\n",
    "    return l2"
   ]
  },
  {
   "cell_type": "code",
   "execution_count": 25,
   "id": "d4133ca1-2712-44b1-85dd-8f31da65e0b1",
   "metadata": {},
   "outputs": [
    {
     "data": {
      "text/plain": [
       "[2, 2, 3]"
      ]
     },
     "execution_count": 25,
     "metadata": {},
     "output_type": "execute_result"
    }
   ],
   "source": [
    "f(l)"
   ]
  },
  {
   "cell_type": "code",
   "execution_count": 26,
   "id": "fcaa0c96-f52a-4e7b-8b03-4f49e6e5db86",
   "metadata": {},
   "outputs": [
    {
     "data": {
      "text/plain": [
       "[1, 2, 3]"
      ]
     },
     "execution_count": 26,
     "metadata": {},
     "output_type": "execute_result"
    }
   ],
   "source": [
    "l"
   ]
  },
  {
   "cell_type": "code",
   "execution_count": 27,
   "id": "5be11f01-0369-488f-9b4d-a14e9a56ed7c",
   "metadata": {},
   "outputs": [
    {
     "name": "stdout",
     "output_type": "stream",
     "text": [
      "['limon', 'portakal', 'armut']\n"
     ]
    }
   ],
   "source": [
    "l=[\"elma\",\"portakal\",\"armut\"]\n",
    "m=l\n",
    "def f(y):\n",
    "    y[0]=\"limon\"\n",
    "    return y\n",
    "f(l)\n",
    "print(m)"
   ]
  },
  {
   "cell_type": "code",
   "execution_count": null,
   "id": "3858caa1-ef30-45a2-bb79-e1492411b454",
   "metadata": {},
   "outputs": [],
   "source": []
  }
 ],
 "metadata": {
  "kernelspec": {
   "display_name": "Python 3 (ipykernel)",
   "language": "python",
   "name": "python3"
  },
  "language_info": {
   "codemirror_mode": {
    "name": "ipython",
    "version": 3
   },
   "file_extension": ".py",
   "mimetype": "text/x-python",
   "name": "python",
   "nbconvert_exporter": "python",
   "pygments_lexer": "ipython3",
   "version": "3.11.4"
  }
 },
 "nbformat": 4,
 "nbformat_minor": 5
}
