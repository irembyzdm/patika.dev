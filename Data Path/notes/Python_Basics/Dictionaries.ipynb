{
 "cells": [
  {
   "cell_type": "markdown",
   "id": "72dd39cf-1916-455c-ab3c-82a93cefdb1b",
   "metadata": {},
   "source": [
    "# Dictionaries"
   ]
  },
  {
   "cell_type": "markdown",
   "id": "e8452876-45c5-44a8-ae82-6467ad8382d7",
   "metadata": {},
   "source": [
    "* Listeler bize bir arada tutulması anlamlı olacak verileri bir arada tutma gücü verir.\n",
    "\n",
    "* Mesela bir sınıftaki 3 öğrencinin sınavdan aldıkları notlar"
   ]
  },
  {
   "cell_type": "code",
   "execution_count": 1,
   "id": "cf67afa8-ed54-419a-90b6-b241176b9ac1",
   "metadata": {},
   "outputs": [],
   "source": [
    "notlar = [80, 72, 95]"
   ]
  },
  {
   "cell_type": "markdown",
   "id": "3d312b35-d081-410b-9d47-b2d0c1b14788",
   "metadata": {},
   "source": [
    "* Ben aynı zamanda bu öğrencilerin isimlerini de tutmak istiyorsam, isimleri için ayrı bir liste oluşturmam lazım. Kuracağım mantık için bu iki listenin elemanları sayısı aynı olmalı. notlar[0] bana ilk öğrencinin notunu, isim[0] bana ilk öğrencinin ismini verecek."
   ]
  },
  {
   "cell_type": "code",
   "execution_count": 2,
   "id": "8eda4e77-59d3-4976-a505-8f874131106b",
   "metadata": {},
   "outputs": [],
   "source": [
    "isim = [\"Deniz\", \"Ege\", \"Gizem\"]"
   ]
  },
  {
   "cell_type": "code",
   "execution_count": 3,
   "id": "3a80eeca-450a-45f1-8d29-c53fdc98d04c",
   "metadata": {},
   "outputs": [
    {
     "data": {
      "text/plain": [
       "'Deniz'"
      ]
     },
     "execution_count": 3,
     "metadata": {},
     "output_type": "execute_result"
    }
   ],
   "source": [
    "isim[0]"
   ]
  },
  {
   "cell_type": "code",
   "execution_count": 4,
   "id": "9d389be4-b1a9-4e3d-a2cf-8fe170d55226",
   "metadata": {},
   "outputs": [
    {
     "data": {
      "text/plain": [
       "80"
      ]
     },
     "execution_count": 4,
     "metadata": {},
     "output_type": "execute_result"
    }
   ],
   "source": [
    "notlar[0]"
   ]
  },
  {
   "cell_type": "code",
   "execution_count": 5,
   "id": "cd4db47c-daf9-479b-8bb1-c1191d18be8d",
   "metadata": {},
   "outputs": [
    {
     "name": "stdout",
     "output_type": "stream",
     "text": [
      "Deniz adlı öğrencinin notu 80\n"
     ]
    }
   ],
   "source": [
    "print(isim[0], \"adlı öğrencinin notu\", notlar[0])"
   ]
  },
  {
   "cell_type": "markdown",
   "id": "b8c27b56-7a98-4276-8192-4a324eef460e",
   "metadata": {},
   "source": [
    "* Öğrenci numaralarını tutmak istiyorsam bunun için de ayrı liste oluşturmam lazım."
   ]
  },
  {
   "cell_type": "code",
   "execution_count": 6,
   "id": "76890e4d-53e6-4ab5-aa84-f84881f9dd07",
   "metadata": {},
   "outputs": [],
   "source": [
    "no = [703, 408, 690]"
   ]
  },
  {
   "cell_type": "code",
   "execution_count": 7,
   "id": "ed1df7e0-0fe5-40dc-94d7-0ed768d252aa",
   "metadata": {},
   "outputs": [
    {
     "data": {
      "text/plain": [
       "'Deniz'"
      ]
     },
     "execution_count": 7,
     "metadata": {},
     "output_type": "execute_result"
    }
   ],
   "source": [
    "isim[0]"
   ]
  },
  {
   "cell_type": "code",
   "execution_count": 8,
   "id": "9be181d3-08b6-4179-9af3-fa28f818d9fb",
   "metadata": {},
   "outputs": [
    {
     "data": {
      "text/plain": [
       "80"
      ]
     },
     "execution_count": 8,
     "metadata": {},
     "output_type": "execute_result"
    }
   ],
   "source": [
    "notlar[0]"
   ]
  },
  {
   "cell_type": "code",
   "execution_count": 9,
   "id": "c9f5dd87-cb6e-4ea5-b69c-ceacfba624c3",
   "metadata": {},
   "outputs": [
    {
     "data": {
      "text/plain": [
       "703"
      ]
     },
     "execution_count": 9,
     "metadata": {},
     "output_type": "execute_result"
    }
   ],
   "source": [
    "no[0]"
   ]
  },
  {
   "cell_type": "markdown",
   "id": "b560d0c3-a69a-4388-a4a9-283944dfce1b",
   "metadata": {},
   "source": [
    "* Her farklı bilgi için yeni bir liste oluşturmam gerekiyor.\n",
    "\n",
    "\n",
    "* Aynı elemanı ifade eden mantıklar listeler arası aynı indexte tutuluyor. (isim[0]'ın notu notlar[0])\n",
    "\n",
    "\n",
    "* Bu yapılabilir ama optimal olmayan bir yaklaşım. Karışıklık çıkması çok muhtemel.\n",
    "\n",
    "\n",
    "* İstediğim kısmı almanın daha kolay bir yolu? Ayrı ayrı listeler kullanmasam...\n",
    "\n",
    "\n",
    "* Bunun için dictionary veri yapısını göreceğiz.\n",
    "\n",
    "\n",
    "* Dictionary yapısının elemanlarına erişmek için belirli keyler kullanacağız ve o da bize value'lar verecek.\n",
    "\n",
    "\n",
    "* dictionary'leri süslü parantez {} ile belirteceğiz.\n",
    "\n",
    "\n",
    "* Formumuz {key1:value1, key2:value2...} şeklinde olacak.\n",
    "\n",
    "\n",
    "* Elemanlarına ulaşmak için öbür non-scalar veri tiplerinde yaptığımız gibi [] kullanacağız. Ama - dictionary'lerin elemanlarına ulaşmak için belirlediğimiz keyleri kullanacağız, integer indexing değil.\n",
    "\n",
    "\n",
    "* dictionary'lerin keyleri immutable herhangi bir yapıda olabilir. value'lar mutable da immutable da olabilir. int, float, bool, string, list, tuple, set, even dictionaries itself!"
   ]
  },
  {
   "cell_type": "code",
   "execution_count": 10,
   "id": "09e2732c-dbc4-4af3-a39e-fdef61076117",
   "metadata": {},
   "outputs": [],
   "source": [
    "notlar = {\"Deniz\": 80, \"Ege\":72, \"Gizem\": 95}"
   ]
  },
  {
   "cell_type": "code",
   "execution_count": 11,
   "id": "c13373dd-7bf0-4065-ab57-3dd8b6e7bdcc",
   "metadata": {},
   "outputs": [
    {
     "data": {
      "text/plain": [
       "72"
      ]
     },
     "execution_count": 11,
     "metadata": {},
     "output_type": "execute_result"
    }
   ],
   "source": [
    "notlar[\"Ege\"]"
   ]
  },
  {
   "cell_type": "code",
   "execution_count": 12,
   "id": "3906364b-87f2-4f63-b750-17c8aca87535",
   "metadata": {},
   "outputs": [
    {
     "data": {
      "text/plain": [
       "95"
      ]
     },
     "execution_count": 12,
     "metadata": {},
     "output_type": "execute_result"
    }
   ],
   "source": [
    "notlar[\"Gizem\"]"
   ]
  },
  {
   "cell_type": "code",
   "execution_count": 13,
   "id": "d88172ca-4e11-498a-ae83-7e3621ab5bbc",
   "metadata": {},
   "outputs": [],
   "source": [
    "ogrenciler = {\"Deniz\": {\"not\":80, \"ogrenci_no\":703}, \"Ege\":{\"not\":72, \"ogrenci_no\":408}, \"Gizem\": {\"not\":95, \"ogrenci_no\":690}}"
   ]
  },
  {
   "cell_type": "code",
   "execution_count": 15,
   "id": "751b96ba-e79b-47a0-83b7-6ba4a1155710",
   "metadata": {},
   "outputs": [
    {
     "data": {
      "text/plain": [
       "{'not': 72, 'ogrenci_no': 408}"
      ]
     },
     "execution_count": 15,
     "metadata": {},
     "output_type": "execute_result"
    }
   ],
   "source": [
    "ogrenciler[\"Ege\"]"
   ]
  },
  {
   "cell_type": "code",
   "execution_count": 16,
   "id": "482ea7c0-62a9-4461-a77b-4e51f166f793",
   "metadata": {},
   "outputs": [
    {
     "data": {
      "text/plain": [
       "72"
      ]
     },
     "execution_count": 16,
     "metadata": {},
     "output_type": "execute_result"
    }
   ],
   "source": [
    "ogrenciler[\"Ege\"][\"not\"]"
   ]
  },
  {
   "cell_type": "code",
   "execution_count": 17,
   "id": "61d6d892-cd09-4cb2-af02-42df2a6b4fb2",
   "metadata": {},
   "outputs": [
    {
     "data": {
      "text/plain": [
       "408"
      ]
     },
     "execution_count": 17,
     "metadata": {},
     "output_type": "execute_result"
    }
   ],
   "source": [
    "ogrenciler[\"Ege\"][\"ogrenci_no\"]"
   ]
  },
  {
   "cell_type": "markdown",
   "id": "f51ed6bc-4f14-497d-85e7-7012c531bea4",
   "metadata": {},
   "source": [
    "# Olmayan Bir Eleman Sorgulamak\n",
    "\n",
    "\n",
    "* Olmayan bir key ile eleman sorgusu yaparsak hata alırız."
   ]
  },
  {
   "cell_type": "code",
   "execution_count": 18,
   "id": "857a833f-ba86-4557-8c73-fb7ac6760d25",
   "metadata": {},
   "outputs": [
    {
     "data": {
      "text/plain": [
       "{'Deniz': 80, 'Ege': 72, 'Gizem': 95}"
      ]
     },
     "execution_count": 18,
     "metadata": {},
     "output_type": "execute_result"
    }
   ],
   "source": [
    "notlar"
   ]
  },
  {
   "cell_type": "code",
   "execution_count": 19,
   "id": "bfd97b4f-13b6-49d6-83cb-f9e1e58ac52e",
   "metadata": {},
   "outputs": [
    {
     "ename": "KeyError",
     "evalue": "'Mert'",
     "output_type": "error",
     "traceback": [
      "\u001b[0;31m---------------------------------------------------------------------------\u001b[0m",
      "\u001b[0;31mKeyError\u001b[0m                                  Traceback (most recent call last)",
      "Cell \u001b[0;32mIn[19], line 1\u001b[0m\n\u001b[0;32m----> 1\u001b[0m \u001b[43mnotlar\u001b[49m\u001b[43m[\u001b[49m\u001b[38;5;124;43m\"\u001b[39;49m\u001b[38;5;124;43mMert\u001b[39;49m\u001b[38;5;124;43m\"\u001b[39;49m\u001b[43m]\u001b[49m\n",
      "\u001b[0;31mKeyError\u001b[0m: 'Mert'"
     ]
    }
   ],
   "source": [
    "notlar[\"Mert\"]"
   ]
  },
  {
   "cell_type": "markdown",
   "id": "7cf7a5ee-f992-4493-9926-f52c985137c0",
   "metadata": {},
   "source": [
    "# Integer Indexing ile Eleman Sorgusu Yapmak\n",
    "\n",
    "\n",
    "* Dictionary'ler key-value mantığı ile çalışıyor. O yüzden biz notlar[0] gibi bir sorgu yaptığımızda, 0 diye bir key var mı diye bakıyor yoksa hata veriyor."
   ]
  },
  {
   "cell_type": "code",
   "execution_count": 20,
   "id": "936f0de8-af1b-40a3-ab98-ff51b7cf7800",
   "metadata": {},
   "outputs": [
    {
     "ename": "KeyError",
     "evalue": "0",
     "output_type": "error",
     "traceback": [
      "\u001b[0;31m---------------------------------------------------------------------------\u001b[0m",
      "\u001b[0;31mKeyError\u001b[0m                                  Traceback (most recent call last)",
      "Cell \u001b[0;32mIn[20], line 1\u001b[0m\n\u001b[0;32m----> 1\u001b[0m \u001b[43mnotlar\u001b[49m\u001b[43m[\u001b[49m\u001b[38;5;241;43m0\u001b[39;49m\u001b[43m]\u001b[49m\n",
      "\u001b[0;31mKeyError\u001b[0m: 0"
     ]
    }
   ],
   "source": [
    "notlar[0]"
   ]
  },
  {
   "cell_type": "markdown",
   "id": "e64c27bc-bdb2-43a7-bc8b-2369d33b6de9",
   "metadata": {},
   "source": [
    "# Value Değerlerini Değiştirmek\n",
    "\n",
    "\n",
    "Diyelim ki Ege'nin notu yanlış okunmuş, notunu 5 puan arttıracağız."
   ]
  },
  {
   "cell_type": "code",
   "execution_count": 21,
   "id": "ac132a9c-5897-45b2-95b0-965a11030fc2",
   "metadata": {},
   "outputs": [
    {
     "data": {
      "text/plain": [
       "{'Deniz': 80, 'Ege': 72, 'Gizem': 95}"
      ]
     },
     "execution_count": 21,
     "metadata": {},
     "output_type": "execute_result"
    }
   ],
   "source": [
    "notlar"
   ]
  },
  {
   "cell_type": "code",
   "execution_count": 22,
   "id": "f54fbbef-38fe-4f44-b17f-5e52c13f5519",
   "metadata": {},
   "outputs": [],
   "source": [
    "notlar[\"Ege\"] = notlar[\"Ege\"] + 5"
   ]
  },
  {
   "cell_type": "code",
   "execution_count": 23,
   "id": "638a2f85-a084-4b97-898a-73f689692755",
   "metadata": {},
   "outputs": [
    {
     "data": {
      "text/plain": [
       "77"
      ]
     },
     "execution_count": 23,
     "metadata": {},
     "output_type": "execute_result"
    }
   ],
   "source": [
    "notlar[\"Ege\"]"
   ]
  },
  {
   "cell_type": "code",
   "execution_count": 24,
   "id": "6b115443-be77-4829-aa40-2b4da0a79ec5",
   "metadata": {},
   "outputs": [
    {
     "data": {
      "text/plain": [
       "{'Deniz': 80, 'Ege': 77, 'Gizem': 95}"
      ]
     },
     "execution_count": 24,
     "metadata": {},
     "output_type": "execute_result"
    }
   ],
   "source": [
    "notlar"
   ]
  },
  {
   "cell_type": "markdown",
   "id": "3c45fd09-764c-4c65-bb0f-e94a16a5c5b8",
   "metadata": {},
   "source": [
    "# len()\n",
    "\n",
    "* len() fonksiyonunu dictionary'lerde kullandığımız zaman bize kaç tane key varsa onun sayısını veriyor."
   ]
  },
  {
   "cell_type": "code",
   "execution_count": 25,
   "id": "81879ef3-4f2a-4a92-b2ee-68edb3c8ca53",
   "metadata": {},
   "outputs": [
    {
     "data": {
      "text/plain": [
       "{'Deniz': 80, 'Ege': 77, 'Gizem': 95}"
      ]
     },
     "execution_count": 25,
     "metadata": {},
     "output_type": "execute_result"
    }
   ],
   "source": [
    "notlar"
   ]
  },
  {
   "cell_type": "code",
   "execution_count": 26,
   "id": "4dae100c-6872-4102-81db-b6356561c492",
   "metadata": {},
   "outputs": [
    {
     "data": {
      "text/plain": [
       "3"
      ]
     },
     "execution_count": 26,
     "metadata": {},
     "output_type": "execute_result"
    }
   ],
   "source": [
    "len(notlar)"
   ]
  },
  {
   "cell_type": "markdown",
   "id": "cf5d7071-f430-4082-af3c-0a0ce7f5f253",
   "metadata": {},
   "source": [
    "# Eleman Eklemek"
   ]
  },
  {
   "cell_type": "code",
   "execution_count": 27,
   "id": "5ef3559e-9221-4cf2-988f-daca600370cc",
   "metadata": {},
   "outputs": [
    {
     "data": {
      "text/plain": [
       "{'Deniz': 80, 'Ege': 77, 'Gizem': 95}"
      ]
     },
     "execution_count": 27,
     "metadata": {},
     "output_type": "execute_result"
    }
   ],
   "source": [
    "notlar"
   ]
  },
  {
   "cell_type": "code",
   "execution_count": 28,
   "id": "e18177a2-e768-46d9-a26e-079c81d08b7a",
   "metadata": {},
   "outputs": [],
   "source": [
    "notlar[\"Mert\"] = 58"
   ]
  },
  {
   "cell_type": "code",
   "execution_count": 29,
   "id": "c7ae7234-cb25-4852-ab53-37c90bf21610",
   "metadata": {},
   "outputs": [
    {
     "data": {
      "text/plain": [
       "{'Deniz': 80, 'Ege': 77, 'Gizem': 95, 'Mert': 58}"
      ]
     },
     "execution_count": 29,
     "metadata": {},
     "output_type": "execute_result"
    }
   ],
   "source": [
    "notlar"
   ]
  },
  {
   "cell_type": "raw",
   "id": "a882657b-ed8d-4943-aa70-ec6067b8825a",
   "metadata": {},
   "source": [
    "Dictionary'ye sorgu yapıyor gibi yazıyoruz, ve value'si olmasını istediğimiz değeri de soluna yazıyoruz."
   ]
  },
  {
   "cell_type": "markdown",
   "id": "1ba7adb7-e265-40bf-96a4-652b2a087b94",
   "metadata": {},
   "source": [
    "# Eleman Silmek"
   ]
  },
  {
   "cell_type": "code",
   "execution_count": 30,
   "id": "ec62f0b3-ffb0-4992-819d-94da13c1ad6d",
   "metadata": {},
   "outputs": [
    {
     "data": {
      "text/plain": [
       "{'Deniz': 80, 'Ege': 77, 'Gizem': 95, 'Mert': 58}"
      ]
     },
     "execution_count": 30,
     "metadata": {},
     "output_type": "execute_result"
    }
   ],
   "source": [
    "notlar"
   ]
  },
  {
   "cell_type": "markdown",
   "id": "65eb4db2-ce5c-4238-8b79-410694cb5a20",
   "metadata": {},
   "source": [
    "* Eleman silmeyi del keyword'ü ile yapabiliriz."
   ]
  },
  {
   "cell_type": "code",
   "execution_count": 31,
   "id": "5d0f0554-621d-4800-804e-c14fd571e167",
   "metadata": {},
   "outputs": [],
   "source": [
    "del notlar[\"Mert\"]"
   ]
  },
  {
   "cell_type": "code",
   "execution_count": 32,
   "id": "d6fe0118-557c-49f2-befa-b8daf7160b6e",
   "metadata": {},
   "outputs": [
    {
     "data": {
      "text/plain": [
       "{'Deniz': 80, 'Ege': 77, 'Gizem': 95}"
      ]
     },
     "execution_count": 32,
     "metadata": {},
     "output_type": "execute_result"
    }
   ],
   "source": [
    "notlar"
   ]
  },
  {
   "cell_type": "markdown",
   "id": "4da95093-a8ce-4213-b4ee-4d0b5dab1b33",
   "metadata": {},
   "source": [
    "# Sadece Immutable Tipindeki Veriler *key* Olabilir"
   ]
  },
  {
   "cell_type": "code",
   "execution_count": 33,
   "id": "edb83469-4ccd-4e8d-8fd6-48911320847e",
   "metadata": {},
   "outputs": [],
   "source": [
    "d = {1:2, 3:\"b\"}"
   ]
  },
  {
   "cell_type": "code",
   "execution_count": 34,
   "id": "eaf99235-4aab-413b-a88b-97ca31803db6",
   "metadata": {},
   "outputs": [
    {
     "data": {
      "text/plain": [
       "2"
      ]
     },
     "execution_count": 34,
     "metadata": {},
     "output_type": "execute_result"
    }
   ],
   "source": [
    "d[1]"
   ]
  },
  {
   "cell_type": "code",
   "execution_count": 35,
   "id": "2901d548-2128-448c-8e9d-18f5d1071873",
   "metadata": {},
   "outputs": [
    {
     "data": {
      "text/plain": [
       "'b'"
      ]
     },
     "execution_count": 35,
     "metadata": {},
     "output_type": "execute_result"
    }
   ],
   "source": [
    "d[3]"
   ]
  },
  {
   "cell_type": "code",
   "execution_count": 36,
   "id": "b80d3e31-230c-4fb4-95e3-8928da49e489",
   "metadata": {},
   "outputs": [],
   "source": [
    "d2 = {(1,2):\"a\", (4,5): [1,2,3]}"
   ]
  },
  {
   "cell_type": "code",
   "execution_count": 37,
   "id": "d9e0e6c5-4be1-48f1-aecd-a8d4660059be",
   "metadata": {},
   "outputs": [
    {
     "data": {
      "text/plain": [
       "'a'"
      ]
     },
     "execution_count": 37,
     "metadata": {},
     "output_type": "execute_result"
    }
   ],
   "source": [
    "d2[(1,2)]"
   ]
  },
  {
   "cell_type": "code",
   "execution_count": 38,
   "id": "036c0977-10dd-4abd-adc3-1a29245a45ff",
   "metadata": {},
   "outputs": [
    {
     "data": {
      "text/plain": [
       "[1, 2, 3]"
      ]
     },
     "execution_count": 38,
     "metadata": {},
     "output_type": "execute_result"
    }
   ],
   "source": [
    "d2[(4,5)]"
   ]
  },
  {
   "cell_type": "code",
   "execution_count": 40,
   "id": "fb824d23-35b0-47f6-a05f-902b0e505db7",
   "metadata": {},
   "outputs": [
    {
     "ename": "TypeError",
     "evalue": "unhashable type: 'list'",
     "output_type": "error",
     "traceback": [
      "\u001b[0;31m---------------------------------------------------------------------------\u001b[0m",
      "\u001b[0;31mTypeError\u001b[0m                                 Traceback (most recent call last)",
      "Cell \u001b[0;32mIn[40], line 1\u001b[0m\n\u001b[0;32m----> 1\u001b[0m d3 \u001b[38;5;241m=\u001b[39m {[\u001b[38;5;241m1\u001b[39m,\u001b[38;5;241m2\u001b[39m]:\u001b[38;5;241m4\u001b[39m} \u001b[38;5;66;03m#key olarak list veremezsin çünkü mutable\u001b[39;00m\n",
      "\u001b[0;31mTypeError\u001b[0m: unhashable type: 'list'"
     ]
    }
   ],
   "source": [
    "d3 = {[1,2]:4} #key olarak list veremezsin çünkü mutable"
   ]
  },
  {
   "cell_type": "markdown",
   "id": "097e69ce-e34d-42b9-a8b6-7a48f084d225",
   "metadata": {},
   "source": [
    "# Boş Bir Dictionary"
   ]
  },
  {
   "cell_type": "code",
   "execution_count": 41,
   "id": "653ffb9c-bfac-4b00-8da6-945f94bce508",
   "metadata": {},
   "outputs": [],
   "source": [
    "d = {}"
   ]
  },
  {
   "cell_type": "code",
   "execution_count": 42,
   "id": "84907b3c-9606-4404-aed1-c68b9aa6d0f8",
   "metadata": {},
   "outputs": [
    {
     "data": {
      "text/plain": [
       "{}"
      ]
     },
     "execution_count": 42,
     "metadata": {},
     "output_type": "execute_result"
    }
   ],
   "source": [
    "d"
   ]
  },
  {
   "cell_type": "code",
   "execution_count": 43,
   "id": "479193e7-97f5-410a-a312-dea6bca6d6b5",
   "metadata": {},
   "outputs": [],
   "source": [
    "d[1] = \"a\""
   ]
  },
  {
   "cell_type": "code",
   "execution_count": 44,
   "id": "2137b26d-f07d-4b65-845d-e6261942fec9",
   "metadata": {},
   "outputs": [
    {
     "data": {
      "text/plain": [
       "{1: 'a'}"
      ]
     },
     "execution_count": 44,
     "metadata": {},
     "output_type": "execute_result"
    }
   ],
   "source": [
    "d"
   ]
  },
  {
   "cell_type": "markdown",
   "id": "a54ef201-93a8-4185-9121-f11ba27302d5",
   "metadata": {},
   "source": [
    "# Bir Değer Keyler Arasında Var mı Sorgusu Yapmak\n",
    "\n",
    "\n",
    "Bir elemanın dictionary içinde olup olmadığını sorgulamak, list ve tuple'lerde sorgulamaktan daha hızlıdır."
   ]
  },
  {
   "cell_type": "code",
   "execution_count": 45,
   "id": "3ce79a42-71c3-4b93-b8fe-a52a022f820c",
   "metadata": {},
   "outputs": [
    {
     "data": {
      "text/plain": [
       "{'Deniz': 80, 'Ege': 77, 'Gizem': 95}"
      ]
     },
     "execution_count": 45,
     "metadata": {},
     "output_type": "execute_result"
    }
   ],
   "source": [
    "notlar"
   ]
  },
  {
   "cell_type": "code",
   "execution_count": 46,
   "id": "36ef4d28-609b-4a46-8fa2-6ba3d52fcde1",
   "metadata": {},
   "outputs": [
    {
     "data": {
      "text/plain": [
       "False"
      ]
     },
     "execution_count": 46,
     "metadata": {},
     "output_type": "execute_result"
    }
   ],
   "source": [
    "\"Mert\" in notlar"
   ]
  },
  {
   "cell_type": "code",
   "execution_count": 47,
   "id": "a9212553-6862-4875-b3b2-cdecdfebc1f9",
   "metadata": {},
   "outputs": [
    {
     "data": {
      "text/plain": [
       "True"
      ]
     },
     "execution_count": 47,
     "metadata": {},
     "output_type": "execute_result"
    }
   ],
   "source": [
    "\"Deniz\" in notlar"
   ]
  },
  {
   "cell_type": "code",
   "execution_count": 48,
   "id": "8580121e-3cc8-4a6c-a9f2-e46f9446785f",
   "metadata": {},
   "outputs": [],
   "source": [
    "d={\"i\":{2}}"
   ]
  },
  {
   "cell_type": "code",
   "execution_count": 49,
   "id": "0e9c9e69-081d-4930-ba91-2b0b56d61682",
   "metadata": {},
   "outputs": [
    {
     "data": {
      "text/plain": [
       "{'i': {2}}"
      ]
     },
     "execution_count": 49,
     "metadata": {},
     "output_type": "execute_result"
    }
   ],
   "source": [
    "d"
   ]
  },
  {
   "cell_type": "code",
   "execution_count": null,
   "id": "2e53bd31-505a-41bf-8527-c20d14acec21",
   "metadata": {},
   "outputs": [],
   "source": []
  }
 ],
 "metadata": {
  "kernelspec": {
   "display_name": "Python 3 (ipykernel)",
   "language": "python",
   "name": "python3"
  },
  "language_info": {
   "codemirror_mode": {
    "name": "ipython",
    "version": 3
   },
   "file_extension": ".py",
   "mimetype": "text/x-python",
   "name": "python",
   "nbconvert_exporter": "python",
   "pygments_lexer": "ipython3",
   "version": "3.11.4"
  }
 },
 "nbformat": 4,
 "nbformat_minor": 5
}
