{
 "cells": [
  {
   "cell_type": "markdown",
   "id": "583df43c-b0f8-4f5a-afb7-d75216677dad",
   "metadata": {},
   "source": [
    "# Variable Unpacking"
   ]
  },
  {
   "cell_type": "markdown",
   "id": "6255029f-fc85-4c67-a491-ae1977c46e3f",
   "metadata": {},
   "source": [
    "* Birden çok değişkene değer vermek için ne yaparız?\n",
    "\n",
    "* Aşağıdaki kodun sonucu\n",
    "  \n",
    "**x=4**\n",
    "\n",
    "\n",
    "**y=7**   ile aynıdır"
   ]
  },
  {
   "cell_type": "code",
   "execution_count": 1,
   "id": "5a0e5724-70ac-46ed-a937-820924174e15",
   "metadata": {},
   "outputs": [],
   "source": [
    "x, y = (4,7)"
   ]
  },
  {
   "cell_type": "code",
   "execution_count": 2,
   "id": "967faad2-6849-4b77-a168-bd3e6b69e016",
   "metadata": {},
   "outputs": [
    {
     "data": {
      "text/plain": [
       "4"
      ]
     },
     "execution_count": 2,
     "metadata": {},
     "output_type": "execute_result"
    }
   ],
   "source": [
    "x"
   ]
  },
  {
   "cell_type": "code",
   "execution_count": 3,
   "id": "f648c59c-f358-4467-89fa-679649a0d79f",
   "metadata": {},
   "outputs": [
    {
     "data": {
      "text/plain": [
       "7"
      ]
     },
     "execution_count": 3,
     "metadata": {},
     "output_type": "execute_result"
    }
   ],
   "source": [
    "y"
   ]
  },
  {
   "cell_type": "markdown",
   "id": "2051d4fc-e8dc-4a87-8fd5-b92aa0c5ca7d",
   "metadata": {},
   "source": [
    "* 2'den çok değere de bunu yapabiliriz."
   ]
  },
  {
   "cell_type": "code",
   "execution_count": 4,
   "id": "81afa985-43d8-438f-9d46-de5b6ead72e6",
   "metadata": {},
   "outputs": [],
   "source": [
    "x, y, z = (4,7,11)"
   ]
  },
  {
   "cell_type": "code",
   "execution_count": 5,
   "id": "f221731a-655f-4231-b9d6-db3c5e131fe0",
   "metadata": {},
   "outputs": [
    {
     "name": "stdout",
     "output_type": "stream",
     "text": [
      "4 7 11\n"
     ]
    }
   ],
   "source": [
    "print(x,y,z)"
   ]
  },
  {
   "cell_type": "markdown",
   "id": "51ceec0b-640e-454b-aea5-a04ef981f8eb",
   "metadata": {},
   "source": [
    "**Bazı Değerlere İhtiyacım Yoksa:**\n",
    "\n",
    "* Diyelim ki soldaki yapının sadece birinci elemanına bir değer eşitleyip kullanmak istiyorum. Daha önce döngülerde yaptığımız gibi kulllanmayacağımız değişkene _ diyebiliriz."
   ]
  },
  {
   "cell_type": "code",
   "execution_count": 6,
   "id": "889b2e1e-e4fd-48ee-8dd3-3cd7659e22a4",
   "metadata": {},
   "outputs": [],
   "source": [
    "x, _ = (4,7)"
   ]
  },
  {
   "cell_type": "markdown",
   "id": "a956d0bf-90c4-4893-975f-7e45d92402e3",
   "metadata": {},
   "source": [
    "**Sol ve Sağdaki Yapı Farklı Sayıdaysa:**"
   ]
  },
  {
   "cell_type": "code",
   "execution_count": 7,
   "id": "89d79223-0900-4ced-aa1a-baa13c73d48c",
   "metadata": {},
   "outputs": [
    {
     "ename": "ValueError",
     "evalue": "too many values to unpack (expected 3)",
     "output_type": "error",
     "traceback": [
      "\u001b[0;31m---------------------------------------------------------------------------\u001b[0m",
      "\u001b[0;31mValueError\u001b[0m                                Traceback (most recent call last)",
      "Cell \u001b[0;32mIn[7], line 1\u001b[0m\n\u001b[0;32m----> 1\u001b[0m x, y, z \u001b[38;5;241m=\u001b[39m (\u001b[38;5;241m4\u001b[39m,\u001b[38;5;241m7\u001b[39m,\u001b[38;5;241m11\u001b[39m,\u001b[38;5;241m4\u001b[39m,\u001b[38;5;241m21\u001b[39m)\n",
      "\u001b[0;31mValueError\u001b[0m: too many values to unpack (expected 3)"
     ]
    }
   ],
   "source": [
    "x, y, z = (4,7,11,4,21)"
   ]
  },
  {
   "cell_type": "markdown",
   "id": "bf7a20ed-a583-480e-ae35-ec3158e59bfd",
   "metadata": {},
   "source": [
    "**Bunu gidermek için** '*' yapısını kullanacağız. Aşağıdaki kod şu demek oluyor: İlk iki elemanı x ve y'ye eşitle, sonuna kadar kalan diğer tüm elemanları z'ye eşitle. Bunun sonunda z 11,2,21'den oluşacak, tipi list olacak"
   ]
  },
  {
   "cell_type": "code",
   "execution_count": 8,
   "id": "cfef737d-1c2e-4c3d-b326-859e31374db1",
   "metadata": {},
   "outputs": [],
   "source": [
    "x, y, *z = (4, 7, 11, 4, 21)"
   ]
  },
  {
   "cell_type": "code",
   "execution_count": 9,
   "id": "03faa927-199c-436a-9306-c63ba6bd1b44",
   "metadata": {},
   "outputs": [
    {
     "data": {
      "text/plain": [
       "4"
      ]
     },
     "execution_count": 9,
     "metadata": {},
     "output_type": "execute_result"
    }
   ],
   "source": [
    "x"
   ]
  },
  {
   "cell_type": "code",
   "execution_count": 10,
   "id": "fb94d53a-afd1-4feb-9176-86a6ff9fcf00",
   "metadata": {},
   "outputs": [
    {
     "data": {
      "text/plain": [
       "7"
      ]
     },
     "execution_count": 10,
     "metadata": {},
     "output_type": "execute_result"
    }
   ],
   "source": [
    "y"
   ]
  },
  {
   "cell_type": "code",
   "execution_count": 11,
   "id": "3bae62c0-3e73-41ca-871f-a68ec87305e5",
   "metadata": {},
   "outputs": [
    {
     "data": {
      "text/plain": [
       "[11, 4, 21]"
      ]
     },
     "execution_count": 11,
     "metadata": {},
     "output_type": "execute_result"
    }
   ],
   "source": [
    "z"
   ]
  },
  {
   "cell_type": "code",
   "execution_count": 12,
   "id": "9d4fe0d4-6d2b-462e-aca5-511c571063fd",
   "metadata": {},
   "outputs": [
    {
     "data": {
      "text/plain": [
       "list"
      ]
     },
     "execution_count": 12,
     "metadata": {},
     "output_type": "execute_result"
    }
   ],
   "source": [
    "type(z)"
   ]
  },
  {
   "cell_type": "markdown",
   "id": "8e12bf37-1750-4652-a968-6fdfad6a864e",
   "metadata": {},
   "source": [
    "* Diyelim ki ilk 2 'sini eşitleyip kalan hepsini görmezden gelmek istiyorum."
   ]
  },
  {
   "cell_type": "code",
   "execution_count": 13,
   "id": "27153e1f-fc7a-43be-a1a4-f13e4e413f1e",
   "metadata": {},
   "outputs": [],
   "source": [
    "x, y, *_ = (4, 7, 11, 12, 13)"
   ]
  },
  {
   "cell_type": "code",
   "execution_count": 14,
   "id": "f17db489-1f96-44fd-9564-e8599c1eccad",
   "metadata": {},
   "outputs": [
    {
     "data": {
      "text/plain": [
       "4"
      ]
     },
     "execution_count": 14,
     "metadata": {},
     "output_type": "execute_result"
    }
   ],
   "source": [
    "x"
   ]
  },
  {
   "cell_type": "code",
   "execution_count": 15,
   "id": "572ba7c7-255f-45c6-ba1a-58eb1bf36425",
   "metadata": {},
   "outputs": [
    {
     "data": {
      "text/plain": [
       "7"
      ]
     },
     "execution_count": 15,
     "metadata": {},
     "output_type": "execute_result"
    }
   ],
   "source": [
    "y"
   ]
  },
  {
   "cell_type": "markdown",
   "id": "c0f12817-6ddd-486f-b8e1-2035f5183dcd",
   "metadata": {},
   "source": [
    "* İlk 2 ve son değeri belirli bir değişkene, arada kalanların hepsini başka bir değişkene eşitlemek istiyorsam:"
   ]
  },
  {
   "cell_type": "code",
   "execution_count": 17,
   "id": "444bf7ed-8d53-41b3-a38b-24fb33c7d5b8",
   "metadata": {},
   "outputs": [],
   "source": [
    "x, y, *z, t = (4, 7, 11, 4, 21)"
   ]
  },
  {
   "cell_type": "code",
   "execution_count": 18,
   "id": "3bf49d54-c30e-417d-bdaf-a6d681a0a074",
   "metadata": {},
   "outputs": [
    {
     "data": {
      "text/plain": [
       "4"
      ]
     },
     "execution_count": 18,
     "metadata": {},
     "output_type": "execute_result"
    }
   ],
   "source": [
    "x"
   ]
  },
  {
   "cell_type": "code",
   "execution_count": 19,
   "id": "9f06c0a9-48c9-4151-aca4-b971bcddb281",
   "metadata": {},
   "outputs": [
    {
     "data": {
      "text/plain": [
       "7"
      ]
     },
     "execution_count": 19,
     "metadata": {},
     "output_type": "execute_result"
    }
   ],
   "source": [
    "y"
   ]
  },
  {
   "cell_type": "code",
   "execution_count": 20,
   "id": "974e5daf-733d-4f25-83e0-28ea56affb11",
   "metadata": {},
   "outputs": [
    {
     "data": {
      "text/plain": [
       "[11, 4]"
      ]
     },
     "execution_count": 20,
     "metadata": {},
     "output_type": "execute_result"
    }
   ],
   "source": [
    "z"
   ]
  },
  {
   "cell_type": "code",
   "execution_count": 21,
   "id": "7da77899-c32e-41df-b4b7-92a4bd85227a",
   "metadata": {},
   "outputs": [
    {
     "data": {
      "text/plain": [
       "21"
      ]
     },
     "execution_count": 21,
     "metadata": {},
     "output_type": "execute_result"
    }
   ],
   "source": [
    "t"
   ]
  },
  {
   "cell_type": "markdown",
   "id": "73c1d9fc-9344-45b8-8663-3b0fc66272f0",
   "metadata": {},
   "source": [
    "* Aynı şekilde son 2'yi de belirtebiliriz."
   ]
  },
  {
   "cell_type": "code",
   "execution_count": 22,
   "id": "729b2e51-b3ee-4046-b0d0-55af73c79be2",
   "metadata": {},
   "outputs": [],
   "source": [
    "x, y, *z, t, u = (4, 7, 11, 4, 21, 32, 2)"
   ]
  },
  {
   "cell_type": "code",
   "execution_count": 23,
   "id": "6b0bc2c1-99cc-42cf-afaa-5407bc6f27a3",
   "metadata": {},
   "outputs": [
    {
     "data": {
      "text/plain": [
       "[11, 4, 21]"
      ]
     },
     "execution_count": 23,
     "metadata": {},
     "output_type": "execute_result"
    }
   ],
   "source": [
    "z"
   ]
  },
  {
   "cell_type": "code",
   "execution_count": 24,
   "id": "d7cf880f-0be1-4621-8426-b1b08235e45d",
   "metadata": {},
   "outputs": [
    {
     "data": {
      "text/plain": [
       "32"
      ]
     },
     "execution_count": 24,
     "metadata": {},
     "output_type": "execute_result"
    }
   ],
   "source": [
    "t"
   ]
  },
  {
   "cell_type": "code",
   "execution_count": 25,
   "id": "f20dd8d9-72a1-4409-813d-55921d6afdc6",
   "metadata": {},
   "outputs": [
    {
     "data": {
      "text/plain": [
       "2"
      ]
     },
     "execution_count": 25,
     "metadata": {},
     "output_type": "execute_result"
    }
   ],
   "source": [
    "u"
   ]
  },
  {
   "cell_type": "markdown",
   "id": "3ff3e653-6bb8-436b-8ebb-1c23288e5ece",
   "metadata": {},
   "source": [
    "* Ama aşağıdaki kod error verir, çünkü y ve t için kaç tane alacağını bilmiyor."
   ]
  },
  {
   "cell_type": "code",
   "execution_count": 26,
   "id": "3f10cdd8-090a-4798-999f-00271a69e20c",
   "metadata": {},
   "outputs": [
    {
     "ename": "SyntaxError",
     "evalue": "multiple starred expressions in assignment (928660696.py, line 2)",
     "output_type": "error",
     "traceback": [
      "\u001b[0;36m  Cell \u001b[0;32mIn[26], line 2\u001b[0;36m\u001b[0m\n\u001b[0;31m    x, *y, *t = (4, 7, 11, 4)\u001b[0m\n\u001b[0m    ^\u001b[0m\n\u001b[0;31mSyntaxError\u001b[0m\u001b[0;31m:\u001b[0m multiple starred expressions in assignment\n"
     ]
    }
   ],
   "source": [
    "# It will give an error\n",
    "x, *y, *t = (4, 7, 11, 4)"
   ]
  },
  {
   "cell_type": "code",
   "execution_count": 27,
   "id": "7b0401ae-6ac8-46f0-88c8-eec0902dd23c",
   "metadata": {},
   "outputs": [],
   "source": [
    "*x,y,z=(4,8,15,16,23,42)"
   ]
  },
  {
   "cell_type": "code",
   "execution_count": 28,
   "id": "3a389930-cdec-4b16-9bd6-7a0530eca246",
   "metadata": {},
   "outputs": [
    {
     "name": "stdout",
     "output_type": "stream",
     "text": [
      "[4, 8, 15, 16]\n"
     ]
    }
   ],
   "source": [
    "print(x)"
   ]
  },
  {
   "cell_type": "code",
   "execution_count": null,
   "id": "56a56a5e-b2cd-4037-a75a-0e3d7fe8b385",
   "metadata": {},
   "outputs": [],
   "source": []
  }
 ],
 "metadata": {
  "kernelspec": {
   "display_name": "Python 3 (ipykernel)",
   "language": "python",
   "name": "python3"
  },
  "language_info": {
   "codemirror_mode": {
    "name": "ipython",
    "version": 3
   },
   "file_extension": ".py",
   "mimetype": "text/x-python",
   "name": "python",
   "nbconvert_exporter": "python",
   "pygments_lexer": "ipython3",
   "version": "3.11.4"
  }
 },
 "nbformat": 4,
 "nbformat_minor": 5
}
