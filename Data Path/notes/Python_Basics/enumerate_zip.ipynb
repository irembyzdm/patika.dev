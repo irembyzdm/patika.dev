{
 "cells": [
  {
   "cell_type": "markdown",
   "id": "d74c5fcc-ed1c-40e7-879f-29fd2892477f",
   "metadata": {},
   "source": [
    "# Enumerate: \n",
    "\n",
    "* *for* ile non-scaler yapılar içerisinde dolaşırken ya elemanları yada indexleri üzerinde dolaşmıştık, neden ikisi aynı anda olmasın?\n",
    "\n",
    "* Variable unpacking konusunda bir tuple, liste gibi yapıların değerlerini birden çok değişkene bir seferde eşitlemeyi gördük.\n",
    "\n",
    "* Bunun aynısını iterasyonda da yapabiliriz."
   ]
  },
  {
   "cell_type": "code",
   "execution_count": 1,
   "id": "384491f6-9d3a-4a1d-9731-fa5588de237c",
   "metadata": {},
   "outputs": [],
   "source": [
    "l = [(1,2), (10,20)]"
   ]
  },
  {
   "cell_type": "code",
   "execution_count": 2,
   "id": "073d5620-389a-4788-939b-67711a7beca0",
   "metadata": {},
   "outputs": [
    {
     "name": "stdout",
     "output_type": "stream",
     "text": [
      "(1, 2)\n",
      "(10, 20)\n"
     ]
    }
   ],
   "source": [
    "for e in l:\n",
    "    print(e)"
   ]
  },
  {
   "cell_type": "code",
   "execution_count": 3,
   "id": "13c0a228-05fa-4a94-9f4f-77298571f06c",
   "metadata": {},
   "outputs": [
    {
     "data": {
      "text/plain": [
       "tuple"
      ]
     },
     "execution_count": 3,
     "metadata": {},
     "output_type": "execute_result"
    }
   ],
   "source": [
    "type(l[0])"
   ]
  },
  {
   "cell_type": "code",
   "execution_count": 4,
   "id": "c7686bd2-35b1-4b6d-93c5-bc079ea79a34",
   "metadata": {},
   "outputs": [
    {
     "data": {
      "text/plain": [
       "list"
      ]
     },
     "execution_count": 4,
     "metadata": {},
     "output_type": "execute_result"
    }
   ],
   "source": [
    "type(l)"
   ]
  },
  {
   "cell_type": "code",
   "execution_count": 6,
   "id": "4fd8eae7-3676-426c-ac9a-40faeedcbd39",
   "metadata": {},
   "outputs": [
    {
     "name": "stdout",
     "output_type": "stream",
     "text": [
      "1\n",
      "2\n",
      "*********\n",
      "10\n",
      "20\n",
      "*********\n"
     ]
    }
   ],
   "source": [
    "for e in l:\n",
    "    a, b = e\n",
    "    print(a)\n",
    "    print(b)\n",
    "    print(\"*********\")"
   ]
  },
  {
   "cell_type": "code",
   "execution_count": 8,
   "id": "cb49be9e-718e-49b6-a397-c6836a6043c7",
   "metadata": {},
   "outputs": [
    {
     "name": "stdout",
     "output_type": "stream",
     "text": [
      "tuple'ın ilk elemanı 1\n",
      "tuple'ın ikinci elemanı 2\n",
      "--------------------------\n",
      "tuple'ın ilk elemanı 10\n",
      "tuple'ın ikinci elemanı 20\n",
      "--------------------------\n"
     ]
    }
   ],
   "source": [
    "for a, b in l:\n",
    "    print(\"tuple'ın ilk elemanı\", a)\n",
    "    print(\"tuple'ın ikinci elemanı\", b)\n",
    "    print(\"--------------------------\")"
   ]
  },
  {
   "cell_type": "markdown",
   "id": "a2eb1475-d2a7-4c0d-94f8-1fc6772c5d84",
   "metadata": {},
   "source": [
    "* enumerate() bize (index, element) olarak verecek."
   ]
  },
  {
   "cell_type": "code",
   "execution_count": 9,
   "id": "f36d9497-899d-44f7-b8a7-4fcc3949ef5f",
   "metadata": {},
   "outputs": [],
   "source": [
    "adlar = ['Tyler', 'Blake', 'Cory', 'Cameron']"
   ]
  },
  {
   "cell_type": "code",
   "execution_count": 10,
   "id": "639783c6-795a-4b64-9856-1c524909218e",
   "metadata": {},
   "outputs": [
    {
     "name": "stdout",
     "output_type": "stream",
     "text": [
      "Tyler\n",
      "Blake\n",
      "Cory\n",
      "Cameron\n"
     ]
    }
   ],
   "source": [
    "for e in adlar:\n",
    "    print(e)"
   ]
  },
  {
   "cell_type": "code",
   "execution_count": 11,
   "id": "99846761-3f95-4cb5-a06d-768dd3acee57",
   "metadata": {},
   "outputs": [
    {
     "name": "stdout",
     "output_type": "stream",
     "text": [
      "0 indexindeki eleman: Tyler\n",
      "1 indexindeki eleman: Blake\n",
      "2 indexindeki eleman: Cory\n",
      "3 indexindeki eleman: Cameron\n"
     ]
    }
   ],
   "source": [
    "for i, e in enumerate(adlar):\n",
    "    print(i, \"indexindeki eleman:\", e)"
   ]
  },
  {
   "cell_type": "raw",
   "id": "0f9b37bd-aca6-4cc8-80d8-07997210c7c8",
   "metadata": {},
   "source": [
    "(0, 'Tyler'), (1, 'Blake'), (2, 'Cory') (3, 'Cameron')"
   ]
  },
  {
   "cell_type": "markdown",
   "id": "ce80e4d8-583c-49f8-ac75-111f486ccf87",
   "metadata": {},
   "source": [
    "* enumerate() 0'dan başlamak zorunda değil, özellikler kaçtan başlayacağını belirtebiliriz."
   ]
  },
  {
   "cell_type": "code",
   "execution_count": 12,
   "id": "4ea5cab5-5e86-4a96-a33c-34b10bb5f02c",
   "metadata": {},
   "outputs": [
    {
     "name": "stdout",
     "output_type": "stream",
     "text": [
      "1 lokasyonunda bulunan eleman: Tyler\n",
      "2 lokasyonunda bulunan eleman: Blake\n",
      "3 lokasyonunda bulunan eleman: Cory\n",
      "4 lokasyonunda bulunan eleman: Cameron\n"
     ]
    }
   ],
   "source": [
    "for i, e in enumerate(adlar, start = 1):\n",
    "    print(i, \"lokasyonunda bulunan eleman:\",e)"
   ]
  },
  {
   "cell_type": "markdown",
   "id": "6cfdd0ae-190e-4801-9a8d-d3eee0fb4d9d",
   "metadata": {},
   "source": [
    "# zip()\n",
    "\n",
    "* Farklı yapıların içinde paralel iterasyon yapmamızı sağlar."
   ]
  },
  {
   "cell_type": "code",
   "execution_count": 13,
   "id": "c2ee62ae-99be-4d44-81d7-59297c0b77f6",
   "metadata": {},
   "outputs": [],
   "source": [
    "ogrenciler = [\"ogrenci_1\", \"ogrenci_2\", \"ogrenci_3\"]"
   ]
  },
  {
   "cell_type": "code",
   "execution_count": 14,
   "id": "ab497026-f130-4987-be6b-b534c8af52ad",
   "metadata": {},
   "outputs": [],
   "source": [
    "notlar = [90, 80, 72]"
   ]
  },
  {
   "cell_type": "code",
   "execution_count": 15,
   "id": "31914734-b1e7-4e57-9d26-a60aafda9305",
   "metadata": {},
   "outputs": [
    {
     "name": "stdout",
     "output_type": "stream",
     "text": [
      "ogrenci_1 90\n",
      "ogrenci_2 80\n",
      "ogrenci_3 72\n"
     ]
    }
   ],
   "source": [
    "for i in range(len(ogrenciler)):\n",
    "    s = ogrenciler[i]\n",
    "    g = notlar[i]\n",
    "\n",
    "    print(s,g)"
   ]
  },
  {
   "cell_type": "code",
   "execution_count": 16,
   "id": "8a5d6d4b-2a8b-4bfb-8573-4bd3ae92cbd5",
   "metadata": {},
   "outputs": [
    {
     "name": "stdout",
     "output_type": "stream",
     "text": [
      "ogrenci_1 90\n",
      "ogrenci_2 80\n",
      "ogrenci_3 72\n"
     ]
    }
   ],
   "source": [
    "for s, g in zip(ogrenciler, notlar):\n",
    "    print(s, g)"
   ]
  },
  {
   "cell_type": "raw",
   "id": "52153688-c759-4d8a-b3ab-de289cffc279",
   "metadata": {},
   "source": [
    "('ogrenci_1', 90)......"
   ]
  },
  {
   "cell_type": "markdown",
   "id": "6b7e8aa7-9ab9-4d6e-b9a1-f567d3af6357",
   "metadata": {},
   "source": [
    "# zip() örnek:"
   ]
  },
  {
   "cell_type": "code",
   "execution_count": 19,
   "id": "952334f0-2522-4894-9e93-031e1bb80048",
   "metadata": {},
   "outputs": [
    {
     "name": "stdout",
     "output_type": "stream",
     "text": [
      "Total profit: -53200.0\n",
      "Total profit: 54400.0\n",
      "Total profit: 55100.0\n"
     ]
    }
   ],
   "source": [
    "# Her ayki karı hesaplamak.\n",
    "satis = [3500.00, 76300.00, 67200.00]\n",
    "maliyet = [56700.00, 21900.00, 12100.00]\n",
    "for i in range(len(maliyet)):\n",
    "    s = satis[i]\n",
    "    c = maliyet[i]\n",
    "    \n",
    "    kar = s - c\n",
    "    print(f'Total profit: {kar}')"
   ]
  },
  {
   "cell_type": "code",
   "execution_count": 21,
   "id": "53bf71ab-94f6-41eb-b583-ef95aba363f2",
   "metadata": {},
   "outputs": [
    {
     "name": "stdout",
     "output_type": "stream",
     "text": [
      "Total profit: -53200.0\n",
      "Total profit: 54400.0\n",
      "Total profit: 55100.0\n"
     ]
    }
   ],
   "source": [
    "satis = [3500.00, 76300.00, 67200.00]\n",
    "maliyet = [56700.00, 21900.00, 12100.00]\n",
    "for s, c in zip(satis, maliyet):\n",
    "    kar = s - c\n",
    "    print(f'Total profit: {kar}')"
   ]
  },
  {
   "cell_type": "markdown",
   "id": "cd34405f-3ecb-4965-8f88-4d412dd24ede",
   "metadata": {},
   "source": [
    "# zip() ile Dictionary Oluşturmak:"
   ]
  },
  {
   "cell_type": "code",
   "execution_count": 22,
   "id": "2de96d78-87d9-45d4-b3cc-36e1ea5c7e27",
   "metadata": {},
   "outputs": [],
   "source": [
    "keys  = ['isim', 'soyad', 'ulke', 'is']\n",
    "values = ['Denis', 'Walker', 'Turkey', 'Data Scientist']"
   ]
  },
  {
   "cell_type": "code",
   "execution_count": 23,
   "id": "5254c271-873c-4639-82fa-95f7981472c3",
   "metadata": {},
   "outputs": [],
   "source": [
    "d = {}\n",
    "for k, v in zip(keys,values):\n",
    "    d[k] = v"
   ]
  },
  {
   "cell_type": "code",
   "execution_count": 24,
   "id": "ca87b7eb-b187-4dd3-862d-6af828a7edd1",
   "metadata": {},
   "outputs": [
    {
     "data": {
      "text/plain": [
       "{'isim': 'Denis', 'soyad': 'Walker', 'ulke': 'Turkey', 'is': 'Data Scientist'}"
      ]
     },
     "execution_count": 24,
     "metadata": {},
     "output_type": "execute_result"
    }
   ],
   "source": [
    "d"
   ]
  },
  {
   "cell_type": "raw",
   "id": "b39a80b3-b28b-497a-9b8a-dbf470819b27",
   "metadata": {},
   "source": [
    "illa böyle yapmaya gerek yoktu tabii ki "
   ]
  },
  {
   "cell_type": "code",
   "execution_count": 25,
   "id": "9d43ea20-7878-4d40-acf3-18aa79d7c71c",
   "metadata": {},
   "outputs": [],
   "source": [
    "d = {}\n",
    "for i in range(len(keys)):\n",
    "    k = keys[i]\n",
    "    v = values[i]\n",
    "\n",
    "    d[k] = v"
   ]
  },
  {
   "cell_type": "code",
   "execution_count": 26,
   "id": "8e3b4360-a904-4220-a960-3054d3e2dd0e",
   "metadata": {},
   "outputs": [
    {
     "data": {
      "text/plain": [
       "{'isim': 'Denis', 'soyad': 'Walker', 'ulke': 'Turkey', 'is': 'Data Scientist'}"
      ]
     },
     "execution_count": 26,
     "metadata": {},
     "output_type": "execute_result"
    }
   ],
   "source": [
    "d"
   ]
  },
  {
   "cell_type": "code",
   "execution_count": 27,
   "id": "1d4cf47b-938f-411b-9667-49742f4bb980",
   "metadata": {},
   "outputs": [
    {
     "data": {
      "text/plain": [
       "'Denis'"
      ]
     },
     "execution_count": 27,
     "metadata": {},
     "output_type": "execute_result"
    }
   ],
   "source": [
    "d[\"isim\"]"
   ]
  },
  {
   "cell_type": "code",
   "execution_count": null,
   "id": "14b9e9b5-bf2f-4ba4-be96-02dc9caa3ccc",
   "metadata": {},
   "outputs": [],
   "source": []
  }
 ],
 "metadata": {
  "kernelspec": {
   "display_name": "Python 3 (ipykernel)",
   "language": "python",
   "name": "python3"
  },
  "language_info": {
   "codemirror_mode": {
    "name": "ipython",
    "version": 3
   },
   "file_extension": ".py",
   "mimetype": "text/x-python",
   "name": "python",
   "nbconvert_exporter": "python",
   "pygments_lexer": "ipython3",
   "version": "3.11.4"
  }
 },
 "nbformat": 4,
 "nbformat_minor": 5
}
