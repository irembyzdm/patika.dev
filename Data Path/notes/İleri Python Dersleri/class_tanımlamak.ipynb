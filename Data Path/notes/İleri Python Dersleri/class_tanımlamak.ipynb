{
 "cells": [
  {
   "cell_type": "markdown",
   "id": "069c9868-9d93-4306-acf5-ea732ccf9255",
   "metadata": {},
   "source": [
    "# Class Tanımlamak"
   ]
  },
  {
   "cell_type": "markdown",
   "id": "eb1f55ec-be9e-4e6e-98e0-445d5e95f38c",
   "metadata": {},
   "source": [
    "* Fonksiyonlarda belli bir fonksiyonalite ifade eden kodları bir araya getirmeyi görmüştük. Class mantığında hem fonksiyonalite hem de veriyi bir arada tutma yoluna bakacağız.\n",
    "\n",
    "* Class'ın içerisindeki verilere(datalara) **atribute**, fonksiyonlara **method** diyeceğiz.\n",
    "\n",
    "* Diyelim ki bir iş yeri çalışanları kodumuzda ifade etmek istiyoruz. Sanki bu **class** mantığı ile uyulu. Her çalışanın farklı farklı özellikleri (attributeları) ve yaptıkları şeyler (methodları) olacak.\n",
    "\n",
    "* Fonksiyon tanımlarken **def** kullanıyorduk, class oluştururken **class** ile tanımlayacağız.\n",
    "\n",
    "* Class'ın içerisinde method oluştururken, classtan oluşan objeyi methodlar ilk argüman olarak alırlar. İstediğimiz adı verebiliriz ama genellikle **self** diye geçer."
   ]
  },
  {
   "cell_type": "markdown",
   "id": "01886f2d-3819-4166-945b-c3c85a3e46fe",
   "metadata": {},
   "source": [
    "# Attribute"
   ]
  },
  {
   "cell_type": "code",
   "execution_count": 1,
   "id": "da8486a7-1933-4bbb-9d0b-78ac48b1bcf0",
   "metadata": {},
   "outputs": [
    {
     "ename": "SyntaxError",
     "evalue": "incomplete input (3505898793.py, line 1)",
     "output_type": "error",
     "traceback": [
      "\u001b[0;36m  Cell \u001b[0;32mIn[1], line 1\u001b[0;36m\u001b[0m\n\u001b[0;31m    class Employee:\u001b[0m\n\u001b[0m                   ^\u001b[0m\n\u001b[0;31mSyntaxError\u001b[0m\u001b[0;31m:\u001b[0m incomplete input\n"
     ]
    }
   ],
   "source": [
    "class Employee:"
   ]
  },
  {
   "cell_type": "code",
   "execution_count": 2,
   "id": "d2746817-8d1f-47c0-9104-feda22c04831",
   "metadata": {},
   "outputs": [],
   "source": [
    "class Employee:\n",
    "    pass"
   ]
  },
  {
   "cell_type": "code",
   "execution_count": 3,
   "id": "789b6270-252c-46b8-823c-565b171b8bce",
   "metadata": {},
   "outputs": [],
   "source": [
    "e = Employee()"
   ]
  },
  {
   "cell_type": "code",
   "execution_count": 4,
   "id": "57f5b9a1-fb62-4fd3-b18f-daab18125984",
   "metadata": {},
   "outputs": [],
   "source": [
    "# e objesine \"a\" attribute'u ekledik.\n",
    "e.a = 4"
   ]
  },
  {
   "cell_type": "code",
   "execution_count": 5,
   "id": "e70b5761-eaae-4f9e-914f-93f8bd3c67da",
   "metadata": {},
   "outputs": [
    {
     "data": {
      "text/plain": [
       "4"
      ]
     },
     "execution_count": 5,
     "metadata": {},
     "output_type": "execute_result"
    }
   ],
   "source": [
    "e.a"
   ]
  },
  {
   "cell_type": "markdown",
   "id": "4ebb6a5e-5019-4262-8317-4198a789a552",
   "metadata": {},
   "source": [
    "* Böyle tek tek belirtmek yerine en başta oluştururken de attribute'ları verebiliriz."
   ]
  },
  {
   "cell_type": "code",
   "execution_count": 10,
   "id": "f6e14078-3886-477a-8ebd-02da613627d6",
   "metadata": {},
   "outputs": [],
   "source": [
    "class Employee:\n",
    "    def __init__(self, name, last, age, pay):\n",
    "        self.name = name\n",
    "        self.last = last\n",
    "        self.age = age\n",
    "        self.pay = pay"
   ]
  },
  {
   "cell_type": "markdown",
   "id": "38156594-07d0-4732-a1e4-0b6da0de1ac1",
   "metadata": {},
   "source": [
    "* Class sadece bunlardan **obje**ler oluşturmak için bir kalıptır"
   ]
  },
  {
   "cell_type": "code",
   "execution_count": 12,
   "id": "92aa436b-d34c-48fe-b33a-1b8dc2bb020f",
   "metadata": {},
   "outputs": [],
   "source": [
    "emp_1 = Employee(\"James\", \"Hughes\", \"32\" , 5000)"
   ]
  },
  {
   "cell_type": "code",
   "execution_count": 13,
   "id": "75a46c9c-3227-4890-84bc-237da81782bd",
   "metadata": {},
   "outputs": [],
   "source": [
    "emp_2 = Employee(\"Charlie\", \"Brown\", \"22\", 3000)"
   ]
  },
  {
   "cell_type": "code",
   "execution_count": 14,
   "id": "3a4f950f-457f-4f1e-a0c9-fa9c9e0c3b48",
   "metadata": {},
   "outputs": [
    {
     "data": {
      "text/plain": [
       "'James'"
      ]
     },
     "execution_count": 14,
     "metadata": {},
     "output_type": "execute_result"
    }
   ],
   "source": [
    "emp_1.name"
   ]
  },
  {
   "cell_type": "markdown",
   "id": "80a71008-1ce8-42a9-b328-a0aa3bc995b9",
   "metadata": {},
   "source": [
    "* Burada oluşturduğumuz bütün attributelar **instance variable**. Her obje (classtan oluşan instance) kendine özel attribute'a sahip (iki kişinin adı aynı olabilir, ama hepsi için ayrı bir variable var ve hepsi kendi *age* attribute'unda tutuyor.)"
   ]
  },
  {
   "cell_type": "markdown",
   "id": "382ca7b3-21a5-468d-a55e-e04e716c1704",
   "metadata": {},
   "source": [
    "# Method"
   ]
  },
  {
   "cell_type": "code",
   "execution_count": 15,
   "id": "bd42d3f7-63bc-451e-8134-204705541ae5",
   "metadata": {},
   "outputs": [],
   "source": [
    "class Employee:\n",
    "    def __init__(self, name, last, age, pay):\n",
    "        self.name = name\n",
    "        self.last = last\n",
    "        self.age = age\n",
    "        self.pay = pay\n",
    "\n",
    "    def fullname(self):\n",
    "        print(f\"{self.name} {self.last}\")"
   ]
  },
  {
   "cell_type": "code",
   "execution_count": 16,
   "id": "afc901ab-0785-4d84-8fb1-4ea19ca53a5a",
   "metadata": {},
   "outputs": [],
   "source": [
    "emp_1 = Employee(\"James\", \"Hughes\", \"32\" , 5000)"
   ]
  },
  {
   "cell_type": "code",
   "execution_count": 17,
   "id": "e71743ab-c60c-4d85-9e70-37434340f85c",
   "metadata": {},
   "outputs": [],
   "source": [
    "emp_2 = Employee(\"Charlie\", \"Brown\", \"22\", 3000)"
   ]
  },
  {
   "cell_type": "code",
   "execution_count": 18,
   "id": "3707972d-fbfc-487f-b6d4-f0a2c67decab",
   "metadata": {},
   "outputs": [
    {
     "name": "stdout",
     "output_type": "stream",
     "text": [
      "James Hughes\n"
     ]
    }
   ],
   "source": [
    "emp_1.fullname()"
   ]
  },
  {
   "cell_type": "code",
   "execution_count": 19,
   "id": "e06db731-ba8b-4e75-b7fb-87de87d50e30",
   "metadata": {},
   "outputs": [
    {
     "name": "stdout",
     "output_type": "stream",
     "text": [
      "Charlie Brown\n"
     ]
    }
   ],
   "source": [
    "emp_2.fullname()"
   ]
  },
  {
   "cell_type": "markdown",
   "id": "0d24f3dc-d6c4-487e-b96d-ca95a24e9e52",
   "metadata": {},
   "source": [
    "*self* otomatik olarak aktarılıyor demiştik, eğer *self*i arguman olarak vermezsek:"
   ]
  },
  {
   "cell_type": "code",
   "execution_count": 21,
   "id": "4f321d64-2b11-45a2-a67c-4fa51f339bd7",
   "metadata": {},
   "outputs": [],
   "source": [
    "class Employee:\n",
    "    def __init__(self, name, last, age, pay):\n",
    "        self.name = name\n",
    "        self.last = last\n",
    "        self.age = age\n",
    "        self.pay = pay\n",
    "\n",
    "    def fullname():\n",
    "        print(f\"{self.name} {self.last}\")"
   ]
  },
  {
   "cell_type": "code",
   "execution_count": 22,
   "id": "9fba7a7e-856a-4c08-a86c-835f9131a34c",
   "metadata": {},
   "outputs": [],
   "source": [
    "emp_1 = Employee(\"James\", \"Hughes\", \"32\" , 5000)"
   ]
  },
  {
   "cell_type": "code",
   "execution_count": 23,
   "id": "5b372728-5e51-4a96-bdd3-803d64054fcb",
   "metadata": {},
   "outputs": [],
   "source": [
    "emp_2 = Employee(\"Charlie\", \"Brown\", \"22\", 3000)"
   ]
  },
  {
   "cell_type": "code",
   "execution_count": 24,
   "id": "86f78ac7-1aae-4f55-ab0f-93163961a7b9",
   "metadata": {},
   "outputs": [
    {
     "ename": "TypeError",
     "evalue": "Employee.fullname() takes 0 positional arguments but 1 was given",
     "output_type": "error",
     "traceback": [
      "\u001b[0;31m---------------------------------------------------------------------------\u001b[0m",
      "\u001b[0;31mTypeError\u001b[0m                                 Traceback (most recent call last)",
      "Cell \u001b[0;32mIn[24], line 1\u001b[0m\n\u001b[0;32m----> 1\u001b[0m \u001b[43memp_1\u001b[49m\u001b[38;5;241;43m.\u001b[39;49m\u001b[43mfullname\u001b[49m\u001b[43m(\u001b[49m\u001b[43m)\u001b[49m\n",
      "\u001b[0;31mTypeError\u001b[0m: Employee.fullname() takes 0 positional arguments but 1 was given"
     ]
    }
   ],
   "source": [
    "emp_1.fullname()"
   ]
  },
  {
   "cell_type": "markdown",
   "id": "80d8964d-e62e-4595-b6d5-aefa735771d2",
   "metadata": {},
   "source": [
    "**self** otomatik olarak verildiği için method tanımında onu belirtmezsek hata alıyoruz."
   ]
  },
  {
   "cell_type": "code",
   "execution_count": null,
   "id": "01587d26-c55f-4858-bca6-790442ac1abe",
   "metadata": {},
   "outputs": [],
   "source": []
  }
 ],
 "metadata": {
  "kernelspec": {
   "display_name": "Python 3 (ipykernel)",
   "language": "python",
   "name": "python3"
  },
  "language_info": {
   "codemirror_mode": {
    "name": "ipython",
    "version": 3
   },
   "file_extension": ".py",
   "mimetype": "text/x-python",
   "name": "python",
   "nbconvert_exporter": "python",
   "pygments_lexer": "ipython3",
   "version": "3.11.4"
  }
 },
 "nbformat": 4,
 "nbformat_minor": 5
}
