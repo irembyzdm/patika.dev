{
 "cells": [
  {
   "cell_type": "markdown",
   "id": "6fc76234-5bbd-4046-86fc-e4540f938b29",
   "metadata": {},
   "source": [
    "# while"
   ]
  },
  {
   "cell_type": "markdown",
   "id": "aad2b0df-21c0-4aed-9960-7ef10f19cfc7",
   "metadata": {},
   "source": [
    "* while döngüsünün içine yazdığım yapı belirttiğim ifade doğru olduğu sürece çalışacak.\n",
    "\n",
    "* while'da da if'te olduğu gibi bir test mantığı var aslında. Testimiz doğru çıktığı sürece while bloğunun içindeki kodları tekrarlıyorum.\n",
    "\n",
    "* while içindeki kodu python anlasın diye, if te yaptığımız gibi iç kısmına boşluk bırakarak yazacağız.\n",
    "\n",
    "* Örnek olarak kullanıcıdan pozitif bir sayı bekleyen, begatif sayı girildikçe bir daha soran bir yapıyı düşünelim. Burada bir döngü mantığına ihtiyacımız var çünkü kullanıcının kaç defa negatif sayı gireceğini önceden bilmiyoruz."
   ]
  },
  {
   "cell_type": "code",
   "execution_count": 1,
   "id": "ab267838-a522-4ea6-b211-4fb05b0ae205",
   "metadata": {},
   "outputs": [
    {
     "name": "stdin",
     "output_type": "stream",
     "text": [
      "Bir sayı girin:  -9\n"
     ]
    },
    {
     "name": "stdout",
     "output_type": "stream",
     "text": [
      "Sayı negatif, lütfen pozitif bir sayı girin.\n"
     ]
    },
    {
     "name": "stdin",
     "output_type": "stream",
     "text": [
      "Bir sayı girin:  12\n"
     ]
    },
    {
     "name": "stdout",
     "output_type": "stream",
     "text": [
      "Sayınız pozitif ve 12\n"
     ]
    }
   ],
   "source": [
    "x = int(input(\"Bir sayı girin: \"))\n",
    "\n",
    "while x < 0:\n",
    "    print(\"Sayı negatif, lütfen pozitif bir sayı girin.\")\n",
    "    x = int(input(\"Bir sayı girin: \"))\n",
    "\n",
    "print(\"Sayınız pozitif ve\", x)"
   ]
  },
  {
   "cell_type": "code",
   "execution_count": 3,
   "id": "188ef461-0098-4e0a-9d34-63cbc1842c04",
   "metadata": {},
   "outputs": [
    {
     "name": "stdout",
     "output_type": "stream",
     "text": [
      "0\n",
      "1\n",
      "2\n"
     ]
    }
   ],
   "source": [
    "x = 0\n",
    "\n",
    "while x < 3:\n",
    "    print(x)\n",
    "    x = x  + 1"
   ]
  },
  {
   "cell_type": "markdown",
   "id": "49fea232-e2cd-4cb2-91c0-0bb8fbeccc5b",
   "metadata": {},
   "source": [
    "Diyelim ki 0'dan 100'e kadar olan sayıların toplamını bulmak istiyorum."
   ]
  },
  {
   "cell_type": "code",
   "execution_count": 4,
   "id": "482b2799-9fbd-4e21-bbf9-3e77b75a0f5a",
   "metadata": {},
   "outputs": [
    {
     "name": "stdout",
     "output_type": "stream",
     "text": [
      "5050\n"
     ]
    }
   ],
   "source": [
    "toplam = 0\n",
    "x = 0\n",
    "\n",
    "while x <= 100:\n",
    "    toplam = toplam + x\n",
    "    x = x + 1\n",
    "print(toplam)"
   ]
  },
  {
   "cell_type": "code",
   "execution_count": null,
   "id": "da3aa736-c04d-48ad-8eb1-716ddbae6ccd",
   "metadata": {},
   "outputs": [],
   "source": []
  }
 ],
 "metadata": {
  "kernelspec": {
   "display_name": "Python 3 (ipykernel)",
   "language": "python",
   "name": "python3"
  },
  "language_info": {
   "codemirror_mode": {
    "name": "ipython",
    "version": 3
   },
   "file_extension": ".py",
   "mimetype": "text/x-python",
   "name": "python",
   "nbconvert_exporter": "python",
   "pygments_lexer": "ipython3",
   "version": "3.11.4"
  }
 },
 "nbformat": 4,
 "nbformat_minor": 5
}
